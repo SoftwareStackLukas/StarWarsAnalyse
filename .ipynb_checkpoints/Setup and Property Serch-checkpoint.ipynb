{
 "cells": [
  {
   "cell_type": "code",
   "execution_count": 6,
   "id": "69b205a5",
   "metadata": {},
   "outputs": [
    {
     "name": "stdout",
     "output_type": "stream",
     "text": [
      "Collecting neo4j-driver\n",
      "  Downloading neo4j-driver-4.4.2.tar.gz (89 kB)\n",
      "Requirement already satisfied: pytz in c:\\users\\lukas\\anaconda3\\lib\\site-packages (from neo4j-driver) (2021.3)\n",
      "Building wheels for collected packages: neo4j-driver\n",
      "  Building wheel for neo4j-driver (setup.py): started\n",
      "  Building wheel for neo4j-driver (setup.py): finished with status 'done'\n",
      "  Created wheel for neo4j-driver: filename=neo4j_driver-4.4.2-py3-none-any.whl size=115477 sha256=ed0cec7d50b6b48b73bead7162331890dc7092f0ab2acac3b7184d54281d2d1d\n",
      "  Stored in directory: c:\\users\\lukas\\appdata\\local\\pip\\cache\\wheels\\c3\\37\\26\\5612011c67d68e7f8cfb43f7f734d60ff689d7b1045cd829c3\n",
      "Successfully built neo4j-driver\n",
      "Installing collected packages: neo4j-driver\n",
      "Successfully installed neo4j-driver-4.4.2\n"
     ]
    }
   ],
   "source": [
    "#If connector is not installed yet\n",
    "#!pip install neo4j-driver"
   ]
  },
  {
   "cell_type": "code",
   "execution_count": 36,
   "id": "b77fc713",
   "metadata": {},
   "outputs": [],
   "source": [
    "#Imports\n",
    "from neo4j import GraphDatabase, basic_auth"
   ]
  },
  {
   "cell_type": "code",
   "execution_count": 37,
   "id": "1b4ef265",
   "metadata": {},
   "outputs": [],
   "source": [
    "#Create db connector\n",
    "login = open(\"Login.txt\", \"r\")\n",
    "uri = login.readline()\n",
    "user = login.readline()\n",
    "password = \"XXX\"\n",
    "login.close()\n",
    "\n",
    "driver = GraphDatabase.driver(uri, auth=basic_auth(user, password))\n",
    "session = driver.session(database=\"neo4j\")"
   ]
  },
  {
   "cell_type": "markdown",
   "id": "7ef51660",
   "metadata": {},
   "source": [
    "# Introduction"
   ]
  },
  {
   "cell_type": "markdown",
   "id": "d3f8c558",
   "metadata": {},
   "source": [
    "This notebook is for the set up of the database and getting the data into it."
   ]
  },
  {
   "cell_type": "code",
   "execution_count": 9,
   "id": "1fd7d874",
   "metadata": {},
   "outputs": [],
   "source": [
    "#Reset database\n",
    "delete_nodes_with_relationship = \"match (a) -[r] -> () delete a, r\"\n",
    "delete_nodes_without_relationships = \"match (a) delete a\"\n",
    "# All indexes and constraints.\n",
    "delete_all_index = \"CALL apoc.schema.assert({},{},true) YIELD label, key RETURN *\""
   ]
  },
  {
   "cell_type": "code",
   "execution_count": 28,
   "id": "451bc6ac",
   "metadata": {},
   "outputs": [
    {
     "name": "stdout",
     "output_type": "stream",
     "text": [
      "CREATE\n",
      "  (Episode1:Movie {name: 'Episode I: The Phantom Menace'}),\n",
      "  (Episode2:Movie {name: 'Episode II: Attack of the Clones'}),\n",
      "  (Episode3:Movie {name: 'Episode III: Revenge of the Sith'}),\n",
      "  \n"
     ]
    }
   ],
   "source": [
    "#Load nodes and relations from file\n",
    "nodes_relation_open = open(\"nodes_relations.txt\", \"r\")\n",
    "nodes_relations = nodes_relation_open.read()\n",
    "nodes_relation_open.close()\n",
    "print(nodes_relations[:195])"
   ]
  },
  {
   "cell_type": "code",
   "execution_count": null,
   "id": "4f6fcaa6",
   "metadata": {},
   "outputs": [],
   "source": [
    "#Filldatabase with nodes and relationships\n"
   ]
  },
  {
   "cell_type": "code",
   "execution_count": 38,
   "id": "e81117b9",
   "metadata": {},
   "outputs": [
    {
     "name": "stdout",
     "output_type": "stream",
     "text": [
      "[{'n': {'name': 'R2-D2'}}, {'n': {'name': 'BB-8'}}, {'n': {'name': 'C-3PO'}}]\n"
     ]
    }
   ],
   "source": [
    "#Test database - droids\n",
    "test_querys = ['''MATCH (n:Droid) RETURN n LIMIT 25''']\n",
    "\n",
    "for test_query in test_querys:\n",
    "    results = session.read_transaction(\n",
    "        lambda tx: tx.run(test_query_d).data())\n",
    "    print(results)"
   ]
  },
  {
   "cell_type": "code",
   "execution_count": 39,
   "id": "f625e7f4",
   "metadata": {},
   "outputs": [],
   "source": [
    "#Close all connections\n",
    "driver.close()\n",
    "session.close()\n",
    "drive = None\n",
    "session = None"
   ]
  }
 ],
 "metadata": {
  "kernelspec": {
   "display_name": "Python 3 (ipykernel)",
   "language": "python",
   "name": "python3"
  },
  "language_info": {
   "codemirror_mode": {
    "name": "ipython",
    "version": 3
   },
   "file_extension": ".py",
   "mimetype": "text/x-python",
   "name": "python",
   "nbconvert_exporter": "python",
   "pygments_lexer": "ipython3",
   "version": "3.9.7"
  }
 },
 "nbformat": 4,
 "nbformat_minor": 5
}
