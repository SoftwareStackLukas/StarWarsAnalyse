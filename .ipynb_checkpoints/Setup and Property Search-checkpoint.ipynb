{
 "cells": [
  {
   "cell_type": "code",
   "execution_count": 1,
   "id": "69b205a5",
   "metadata": {},
   "outputs": [],
   "source": [
    "#If connector is not installed yet\n",
    "#!pip install neo4j-driver"
   ]
  },
  {
   "cell_type": "code",
   "execution_count": 2,
   "id": "b77fc713",
   "metadata": {},
   "outputs": [],
   "source": [
    "#Imports\n",
    "from neo4j import GraphDatabase, basic_auth\n",
    "import pandas as pd"
   ]
  },
  {
   "cell_type": "code",
   "execution_count": 3,
   "id": "1b4ef265",
   "metadata": {},
   "outputs": [],
   "source": [
    "#Create db connector\n",
    "login = open(\"Login.txt\", \"r\")\n",
    "uri = login.readline()\n",
    "user = login.readline()\n",
    "password = \"RgC0_tAy1f8T_-_d1FnszgwXo1VafPO7h5gme7fJHlI\"\n",
    "login.close()\n",
    "\n",
    "driver = GraphDatabase.driver(uri, auth=basic_auth(user, password))\n",
    "session = driver.session(database=\"neo4j\")"
   ]
  },
  {
   "cell_type": "markdown",
   "id": "7ef51660",
   "metadata": {},
   "source": [
    "# Introduction"
   ]
  },
  {
   "cell_type": "markdown",
   "id": "d3f8c558",
   "metadata": {},
   "source": [
    "This notebook is for the set up of the database and getting the data into it."
   ]
  },
  {
   "cell_type": "code",
   "execution_count": 4,
   "id": "1fd7d874",
   "metadata": {},
   "outputs": [
    {
     "data": {
      "text/plain": [
       "<neo4j.work.result.Result at 0x17105adff40>"
      ]
     },
     "execution_count": 4,
     "metadata": {},
     "output_type": "execute_result"
    }
   ],
   "source": [
    "#Reset database\n",
    "delete_nodes_with_relationship = \"match (a) -[r] -> () delete a, r\"\n",
    "delete_nodes_without_relationships = \"match (a) delete a\"\n",
    "# All indexes and constraints.\n",
    "delete_all_index = \"CALL apoc.schema.assert({},{},true) YIELD label, key RETURN *\"\n",
    "\n",
    "session.run(delete_nodes_with_relationship)\n",
    "session.run(delete_nodes_without_relationships)\n",
    "session.run(delete_all_index)"
   ]
  },
  {
   "cell_type": "code",
   "execution_count": 5,
   "id": "451bc6ac",
   "metadata": {},
   "outputs": [
    {
     "name": "stdout",
     "output_type": "stream",
     "text": [
      "CREATE\n",
      "  (Episode1:Movie {name: 'Episode I: The Phantom Menace'}),\n",
      "  (Episode2:Movie {name: 'Episode II: Attack of the Clones'}),\n",
      "  (Episode3:Movie {name: 'Episode III: Revenge of the Sith'}),\n",
      "  \n"
     ]
    }
   ],
   "source": [
    "#Load nodes and relations from file\n",
    "nodes_relation_open = open(\"nodes_relations.txt\", \"r\")\n",
    "nodes_relations = nodes_relation_open.read()\n",
    "nodes_relation_open.close()\n",
    "print(nodes_relations[:195])"
   ]
  },
  {
   "cell_type": "code",
   "execution_count": 6,
   "id": "4f6fcaa6",
   "metadata": {},
   "outputs": [
    {
     "data": {
      "text/plain": [
       "<neo4j.work.result.Result at 0x17105afbc10>"
      ]
     },
     "execution_count": 6,
     "metadata": {},
     "output_type": "execute_result"
    }
   ],
   "source": [
    "#Filldatabase with nodes and relationships\n",
    "session.run(nodes_relations)"
   ]
  },
  {
   "cell_type": "code",
   "execution_count": 7,
   "id": "e81117b9",
   "metadata": {},
   "outputs": [
    {
     "name": "stdout",
     "output_type": "stream",
     "text": [
      "[{'n': {'name': 'R2-D2'}}, {'n': {'name': 'BB-8'}}, {'n': {'name': 'C-3PO'}}]\n",
      "[{'n': {'name': 'Episode I: The Phantom Menace'}}, {'n': {'name': 'Episode II: Attack of the Clones'}}, {'n': {'name': 'Episode III: Revenge of the Sith'}}, {'n': {'name': 'Episode IV: A New Hope'}}, {'n': {'name': 'Episode V: The Empire Strikes Back'}}, {'n': {'name': 'Episode VI: Return of the Jedi'}}, {'n': {'name': 'Episode VII: The Force Awakens'}}]\n",
      "[{'n': {'name': 'CHEWBACCA'}}, {'n': {'name': 'QUI-GON'}}, {'n': {'name': 'NUTE GUNRAY'}}, {'n': {'name': 'PK-4'}}, {'n': {'name': 'TC-14'}}, {'n': {'name': 'OBI-WAN'}}, {'n': {'name': 'DOFINE'}}, {'n': {'name': 'RUNE'}}, {'n': {'name': 'TEY HOW'}}, {'n': {'name': 'EMPEROR'}}, {'n': {'name': 'CAPTAIN PANAKA'}}, {'n': {'name': 'SIO BIBBLE'}}, {'n': {'name': 'JAR JAR'}}, {'n': {'name': 'TARPALS'}}, {'n': {'name': 'BOSS NASS'}}, {'n': {'name': 'PADME'}}, {'n': {'name': 'RIC OLIE'}}, {'n': {'name': 'WATTO'}}, {'n': {'name': 'ANAKIN'}}, {'n': {'name': 'SEBULBA'}}, {'n': {'name': 'JIRA'}}, {'n': {'name': 'SHMI'}}, {'n': {'name': 'DARTH MAUL'}}, {'n': {'name': 'KITSTER'}}, {'n': {'name': 'WALD'}}]\n"
     ]
    }
   ],
   "source": [
    "#Show nodes of Droid, Movies, Person \n",
    "test_querys = ['''MATCH (n:Droid) RETURN n LIMIT 25''', '''MATCH (n:Movie) RETURN n LIMIT 25''', '''MATCH (n:Person) RETURN n LIMIT 25''']\n",
    "\n",
    "for test_query in test_querys:\n",
    "    results = session.read_transaction(\n",
    "        lambda tx: tx.run(test_query).data())\n",
    "    print(results)"
   ]
  },
  {
   "cell_type": "code",
   "execution_count": 8,
   "id": "1b3c11d9",
   "metadata": {},
   "outputs": [
    {
     "data": {
      "text/html": [
       "<div>\n",
       "<style scoped>\n",
       "    .dataframe tbody tr th:only-of-type {\n",
       "        vertical-align: middle;\n",
       "    }\n",
       "\n",
       "    .dataframe tbody tr th {\n",
       "        vertical-align: top;\n",
       "    }\n",
       "\n",
       "    .dataframe thead th {\n",
       "        text-align: right;\n",
       "    }\n",
       "</style>\n",
       "<table border=\"1\" class=\"dataframe\">\n",
       "  <thead>\n",
       "    <tr style=\"text-align: right;\">\n",
       "      <th></th>\n",
       "      <th>ID</th>\n",
       "      <th>label</th>\n",
       "      <th>name</th>\n",
       "    </tr>\n",
       "  </thead>\n",
       "  <tbody>\n",
       "    <tr>\n",
       "      <th>0</th>\n",
       "      <td>126</td>\n",
       "      <td>[Droid]</td>\n",
       "      <td>R2-D2</td>\n",
       "    </tr>\n",
       "    <tr>\n",
       "      <th>1</th>\n",
       "      <td>128</td>\n",
       "      <td>[Droid]</td>\n",
       "      <td>BB-8</td>\n",
       "    </tr>\n",
       "    <tr>\n",
       "      <th>2</th>\n",
       "      <td>150</td>\n",
       "      <td>[Droid]</td>\n",
       "      <td>C-3PO</td>\n",
       "    </tr>\n",
       "    <tr>\n",
       "      <th>3</th>\n",
       "      <td>119</td>\n",
       "      <td>[Movie]</td>\n",
       "      <td>Episode I: The Phantom Menace</td>\n",
       "    </tr>\n",
       "    <tr>\n",
       "      <th>4</th>\n",
       "      <td>120</td>\n",
       "      <td>[Movie]</td>\n",
       "      <td>Episode II: Attack of the Clones</td>\n",
       "    </tr>\n",
       "    <tr>\n",
       "      <th>...</th>\n",
       "      <td>...</td>\n",
       "      <td>...</td>\n",
       "      <td>...</td>\n",
       "    </tr>\n",
       "    <tr>\n",
       "      <th>114</th>\n",
       "      <td>233</td>\n",
       "      <td>[Person]</td>\n",
       "      <td>YOLO ZIFF</td>\n",
       "    </tr>\n",
       "    <tr>\n",
       "      <th>115</th>\n",
       "      <td>234</td>\n",
       "      <td>[Person]</td>\n",
       "      <td>COLONEL DATOO</td>\n",
       "    </tr>\n",
       "    <tr>\n",
       "      <th>116</th>\n",
       "      <td>235</td>\n",
       "      <td>[Person]</td>\n",
       "      <td>ELLO ASTY</td>\n",
       "    </tr>\n",
       "    <tr>\n",
       "      <th>117</th>\n",
       "      <td>236</td>\n",
       "      <td>[Person]</td>\n",
       "      <td>JESS</td>\n",
       "    </tr>\n",
       "    <tr>\n",
       "      <th>118</th>\n",
       "      <td>237</td>\n",
       "      <td>[Person]</td>\n",
       "      <td>NIV LEK</td>\n",
       "    </tr>\n",
       "  </tbody>\n",
       "</table>\n",
       "<p>119 rows × 3 columns</p>\n",
       "</div>"
      ],
      "text/plain": [
       "      ID     label                              name\n",
       "0    126   [Droid]                             R2-D2\n",
       "1    128   [Droid]                              BB-8\n",
       "2    150   [Droid]                             C-3PO\n",
       "3    119   [Movie]     Episode I: The Phantom Menace\n",
       "4    120   [Movie]  Episode II: Attack of the Clones\n",
       "..   ...       ...                               ...\n",
       "114  233  [Person]                         YOLO ZIFF\n",
       "115  234  [Person]                     COLONEL DATOO\n",
       "116  235  [Person]                         ELLO ASTY\n",
       "117  236  [Person]                              JESS\n",
       "118  237  [Person]                           NIV LEK\n",
       "\n",
       "[119 rows x 3 columns]"
      ]
     },
     "execution_count": 8,
     "metadata": {},
     "output_type": "execute_result"
    }
   ],
   "source": [
    "get_labels = \"MATCH (n) WHERE EXISTS(n.name) RETURN ID(n) AS ID, labels(n) AS label, n.name AS name ORDER BY labels(n)\"\n",
    "df = pd.DataFrame (session.read_transaction(\n",
    "                    lambda tx: tx.run(get_labels).data()), columns = ['ID','label', 'name'])\n",
    "df"
   ]
  },
  {
   "cell_type": "code",
   "execution_count": 9,
   "id": "997d2204",
   "metadata": {},
   "outputs": [
    {
     "data": {
      "text/html": [
       "<div>\n",
       "<style scoped>\n",
       "    .dataframe tbody tr th:only-of-type {\n",
       "        vertical-align: middle;\n",
       "    }\n",
       "\n",
       "    .dataframe tbody tr th {\n",
       "        vertical-align: top;\n",
       "    }\n",
       "\n",
       "    .dataframe thead th {\n",
       "        text-align: right;\n",
       "    }\n",
       "</style>\n",
       "<table border=\"1\" class=\"dataframe\">\n",
       "  <thead>\n",
       "    <tr style=\"text-align: right;\">\n",
       "      <th></th>\n",
       "      <th>relationshipType</th>\n",
       "    </tr>\n",
       "  </thead>\n",
       "  <tbody>\n",
       "    <tr>\n",
       "      <th>0</th>\n",
       "      <td>SPEAKS_WITH</td>\n",
       "    </tr>\n",
       "    <tr>\n",
       "      <th>1</th>\n",
       "      <td>APPEARS_IN</td>\n",
       "    </tr>\n",
       "  </tbody>\n",
       "</table>\n",
       "</div>"
      ],
      "text/plain": [
       "  relationshipType\n",
       "0      SPEAKS_WITH\n",
       "1       APPEARS_IN"
      ]
     },
     "execution_count": 9,
     "metadata": {},
     "output_type": "execute_result"
    }
   ],
   "source": [
    "relationships = \"CALL db.relationshipTypes()\"\n",
    "df = pd.DataFrame(session.read_transaction(\n",
    "            lambda tx: tx.run(relationships).data()), columns = ['relationshipType'])\n",
    "df"
   ]
  },
  {
   "cell_type": "code",
   "execution_count": 10,
   "id": "29beee96",
   "metadata": {},
   "outputs": [
    {
     "name": "stdout",
     "output_type": "stream",
     "text": [
      "[{'Name': {'name': 'Episode I: The Phantom Menace'}}]\n"
     ]
    }
   ],
   "source": [
    "#Get specific character\n",
    "get_v_one = \"MATCH (r) WHERE r.name=\\\"Episode I: The Phantom Menace\\\" RETURN r As Name\"\n",
    "print(session.read_transaction(\n",
    "        lambda tx: tx.run(get_v_one).data()))"
   ]
  },
  {
   "cell_type": "code",
   "execution_count": 11,
   "id": "f625e7f4",
   "metadata": {},
   "outputs": [],
   "source": [
    "#Close all connections\n",
    "driver.close()\n",
    "session.close()\n",
    "drive = None\n",
    "session = None"
   ]
  }
 ],
 "metadata": {
  "kernelspec": {
   "display_name": "Python 3 (ipykernel)",
   "language": "python",
   "name": "python3"
  },
  "language_info": {
   "codemirror_mode": {
    "name": "ipython",
    "version": 3
   },
   "file_extension": ".py",
   "mimetype": "text/x-python",
   "name": "python",
   "nbconvert_exporter": "python",
   "pygments_lexer": "ipython3",
   "version": "3.9.7"
  }
 },
 "nbformat": 4,
 "nbformat_minor": 5
}
