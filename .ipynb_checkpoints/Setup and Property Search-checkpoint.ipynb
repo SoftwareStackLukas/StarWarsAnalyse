{
 "cells": [
  {
   "cell_type": "code",
   "execution_count": 1,
   "id": "69b205a5",
   "metadata": {},
   "outputs": [],
   "source": [
    "#If connector is not installed yet\n",
    "#!pip install neo4j-driver\n",
    "#!pip install neo4jupyter"
   ]
  },
  {
   "cell_type": "code",
   "execution_count": 2,
   "id": "b77fc713",
   "metadata": {},
   "outputs": [],
   "source": [
    "#Imports\n",
    "from neo4j import GraphDatabase, basic_auth\n",
    "import neo4jupyter\n",
    "import pandas as pd\n",
    "from vis_class import vis_class"
   ]
  },
  {
   "cell_type": "code",
   "execution_count": 5,
   "id": "1b4ef265",
   "metadata": {},
   "outputs": [
    {
     "data": {
      "application/javascript": [
       "var link = document.createElement(\"link\");\n",
       "\tlink.ref = \"stylesheet\";\n",
       "\tlink.type = \"text/css\";\n",
       "\tlink.href = \"https://cdnjs.cloudflare.com/ajax/libs/vis/4.8.2/vis.css\";\n",
       "\tdocument.head.appendChild(link);\n",
       "require.config({     paths: {         vis: '//cdnjs.cloudflare.com/ajax/libs/vis/4.8.2/vis.min'     } }); require(['vis'], function(vis) {  window.vis = vis; }); "
      ],
      "text/plain": [
       "<IPython.core.display.Javascript object>"
      ]
     },
     "metadata": {},
     "output_type": "display_data"
    },
    {
     "name": "stdout",
     "output_type": "stream",
     "text": [
      "Vis class was created\n"
     ]
    }
   ],
   "source": [
    "#Create db connector\n",
    "login = open(\"Login.txt\", \"r\")\n",
    "uri = login.readline()\n",
    "user = login.readline()\n",
    "password = login.readline()\n",
    "login.close()\n",
    "\n",
    "driver = GraphDatabase.driver(uri, auth=basic_auth(user, password))\n",
    "session = driver.session(database=\"neo4j\")\n",
    "visualizer = vis_class()"
   ]
  },
  {
   "cell_type": "markdown",
   "id": "7ef51660",
   "metadata": {},
   "source": [
    "# Setup the database"
   ]
  },
  {
   "cell_type": "markdown",
   "id": "d3f8c558",
   "metadata": {},
   "source": [
    "This notebook is for the set up of the database and getting the data into it."
   ]
  },
  {
   "cell_type": "code",
   "execution_count": 6,
   "id": "1fd7d874",
   "metadata": {},
   "outputs": [
    {
     "ename": "AuthError",
     "evalue": "{code: Neo.ClientError.Security.Unauthorized} {message: The client is unauthorized due to authentication failure.}",
     "output_type": "error",
     "traceback": [
      "\u001b[1;31m---------------------------------------------------------------------------\u001b[0m",
      "\u001b[1;31mAuthError\u001b[0m                                 Traceback (most recent call last)",
      "\u001b[1;32m~\\AppData\\Local\\Temp/ipykernel_12368/1686932759.py\u001b[0m in \u001b[0;36m<module>\u001b[1;34m\u001b[0m\n\u001b[0;32m      5\u001b[0m \u001b[0mdelete_all_index\u001b[0m \u001b[1;33m=\u001b[0m \u001b[1;34m\"CALL apoc.schema.assert({},{},true) YIELD label, key RETURN *\"\u001b[0m\u001b[1;33m\u001b[0m\u001b[1;33m\u001b[0m\u001b[0m\n\u001b[0;32m      6\u001b[0m \u001b[1;33m\u001b[0m\u001b[0m\n\u001b[1;32m----> 7\u001b[1;33m \u001b[0msession\u001b[0m\u001b[1;33m.\u001b[0m\u001b[0mrun\u001b[0m\u001b[1;33m(\u001b[0m\u001b[0mdelete_nodes_with_relationship\u001b[0m\u001b[1;33m)\u001b[0m\u001b[1;33m\u001b[0m\u001b[1;33m\u001b[0m\u001b[0m\n\u001b[0m\u001b[0;32m      8\u001b[0m \u001b[0msession\u001b[0m\u001b[1;33m.\u001b[0m\u001b[0mrun\u001b[0m\u001b[1;33m(\u001b[0m\u001b[0mdelete_nodes_without_relationships\u001b[0m\u001b[1;33m)\u001b[0m\u001b[1;33m\u001b[0m\u001b[1;33m\u001b[0m\u001b[0m\n\u001b[0;32m      9\u001b[0m \u001b[0msession\u001b[0m\u001b[1;33m.\u001b[0m\u001b[0mrun\u001b[0m\u001b[1;33m(\u001b[0m\u001b[0mdelete_all_index\u001b[0m\u001b[1;33m)\u001b[0m\u001b[1;33m\u001b[0m\u001b[1;33m\u001b[0m\u001b[0m\n",
      "\u001b[1;32m~\\anaconda3\\lib\\site-packages\\neo4j\\work\\simple.py\u001b[0m in \u001b[0;36mrun\u001b[1;34m(self, query, parameters, **kwparameters)\u001b[0m\n\u001b[0;32m    202\u001b[0m \u001b[1;33m\u001b[0m\u001b[0m\n\u001b[0;32m    203\u001b[0m         \u001b[1;32mif\u001b[0m \u001b[1;32mnot\u001b[0m \u001b[0mself\u001b[0m\u001b[1;33m.\u001b[0m\u001b[0m_connection\u001b[0m\u001b[1;33m:\u001b[0m\u001b[1;33m\u001b[0m\u001b[1;33m\u001b[0m\u001b[0m\n\u001b[1;32m--> 204\u001b[1;33m             \u001b[0mself\u001b[0m\u001b[1;33m.\u001b[0m\u001b[0m_connect\u001b[0m\u001b[1;33m(\u001b[0m\u001b[0mself\u001b[0m\u001b[1;33m.\u001b[0m\u001b[0m_config\u001b[0m\u001b[1;33m.\u001b[0m\u001b[0mdefault_access_mode\u001b[0m\u001b[1;33m)\u001b[0m\u001b[1;33m\u001b[0m\u001b[1;33m\u001b[0m\u001b[0m\n\u001b[0m\u001b[0;32m    205\u001b[0m         \u001b[0mcx\u001b[0m \u001b[1;33m=\u001b[0m \u001b[0mself\u001b[0m\u001b[1;33m.\u001b[0m\u001b[0m_connection\u001b[0m\u001b[1;33m\u001b[0m\u001b[1;33m\u001b[0m\u001b[0m\n\u001b[0;32m    206\u001b[0m         \u001b[0mprotocol_version\u001b[0m \u001b[1;33m=\u001b[0m \u001b[0mcx\u001b[0m\u001b[1;33m.\u001b[0m\u001b[0mPROTOCOL_VERSION\u001b[0m\u001b[1;33m\u001b[0m\u001b[1;33m\u001b[0m\u001b[0m\n",
      "\u001b[1;32m~\\anaconda3\\lib\\site-packages\\neo4j\\work\\simple.py\u001b[0m in \u001b[0;36m_connect\u001b[1;34m(self, access_mode)\u001b[0m\n\u001b[0;32m    106\u001b[0m         \u001b[1;32mif\u001b[0m \u001b[0maccess_mode\u001b[0m \u001b[1;32mis\u001b[0m \u001b[1;32mNone\u001b[0m\u001b[1;33m:\u001b[0m\u001b[1;33m\u001b[0m\u001b[1;33m\u001b[0m\u001b[0m\n\u001b[0;32m    107\u001b[0m             \u001b[0maccess_mode\u001b[0m \u001b[1;33m=\u001b[0m \u001b[0mself\u001b[0m\u001b[1;33m.\u001b[0m\u001b[0m_config\u001b[0m\u001b[1;33m.\u001b[0m\u001b[0mdefault_access_mode\u001b[0m\u001b[1;33m\u001b[0m\u001b[1;33m\u001b[0m\u001b[0m\n\u001b[1;32m--> 108\u001b[1;33m         \u001b[0msuper\u001b[0m\u001b[1;33m(\u001b[0m\u001b[1;33m)\u001b[0m\u001b[1;33m.\u001b[0m\u001b[0m_connect\u001b[0m\u001b[1;33m(\u001b[0m\u001b[0maccess_mode\u001b[0m\u001b[1;33m)\u001b[0m\u001b[1;33m\u001b[0m\u001b[1;33m\u001b[0m\u001b[0m\n\u001b[0m\u001b[0;32m    109\u001b[0m \u001b[1;33m\u001b[0m\u001b[0m\n\u001b[0;32m    110\u001b[0m     \u001b[1;32mdef\u001b[0m \u001b[0m_collect_bookmark\u001b[0m\u001b[1;33m(\u001b[0m\u001b[0mself\u001b[0m\u001b[1;33m,\u001b[0m \u001b[0mbookmark\u001b[0m\u001b[1;33m)\u001b[0m\u001b[1;33m:\u001b[0m\u001b[1;33m\u001b[0m\u001b[1;33m\u001b[0m\u001b[0m\n",
      "\u001b[1;32m~\\anaconda3\\lib\\site-packages\\neo4j\\work\\__init__.py\u001b[0m in \u001b[0;36m_connect\u001b[1;34m(self, access_mode)\u001b[0m\n\u001b[0;32m     77\u001b[0m                     \u001b[0mdatabase_callback\u001b[0m\u001b[1;33m=\u001b[0m\u001b[0mself\u001b[0m\u001b[1;33m.\u001b[0m\u001b[0m_set_cached_database\u001b[0m\u001b[1;33m\u001b[0m\u001b[1;33m\u001b[0m\u001b[0m\n\u001b[0;32m     78\u001b[0m                 )\n\u001b[1;32m---> 79\u001b[1;33m         self._connection = self._pool.acquire(\n\u001b[0m\u001b[0;32m     80\u001b[0m             \u001b[0maccess_mode\u001b[0m\u001b[1;33m=\u001b[0m\u001b[0maccess_mode\u001b[0m\u001b[1;33m,\u001b[0m\u001b[1;33m\u001b[0m\u001b[1;33m\u001b[0m\u001b[0m\n\u001b[0;32m     81\u001b[0m             \u001b[0mtimeout\u001b[0m\u001b[1;33m=\u001b[0m\u001b[0mself\u001b[0m\u001b[1;33m.\u001b[0m\u001b[0m_config\u001b[0m\u001b[1;33m.\u001b[0m\u001b[0mconnection_acquisition_timeout\u001b[0m\u001b[1;33m,\u001b[0m\u001b[1;33m\u001b[0m\u001b[1;33m\u001b[0m\u001b[0m\n",
      "\u001b[1;32m~\\anaconda3\\lib\\site-packages\\neo4j\\io\\__init__.py\u001b[0m in \u001b[0;36macquire\u001b[1;34m(self, access_mode, timeout, database, bookmarks)\u001b[0m\n\u001b[0;32m   1184\u001b[0m             log.debug(\"[#0000]  C: <ROUTING TABLE ENSURE FRESH> %r\",\n\u001b[0;32m   1185\u001b[0m                       self.routing_tables)\n\u001b[1;32m-> 1186\u001b[1;33m             self.ensure_routing_table_is_fresh(\n\u001b[0m\u001b[0;32m   1187\u001b[0m                 \u001b[0maccess_mode\u001b[0m\u001b[1;33m=\u001b[0m\u001b[0maccess_mode\u001b[0m\u001b[1;33m,\u001b[0m \u001b[0mdatabase\u001b[0m\u001b[1;33m=\u001b[0m\u001b[0mdatabase\u001b[0m\u001b[1;33m,\u001b[0m \u001b[0mimp_user\u001b[0m\u001b[1;33m=\u001b[0m\u001b[1;32mNone\u001b[0m\u001b[1;33m,\u001b[0m\u001b[1;33m\u001b[0m\u001b[1;33m\u001b[0m\u001b[0m\n\u001b[0;32m   1188\u001b[0m                 \u001b[0mbookmarks\u001b[0m\u001b[1;33m=\u001b[0m\u001b[0mbookmarks\u001b[0m\u001b[1;33m\u001b[0m\u001b[1;33m\u001b[0m\u001b[0m\n",
      "\u001b[1;32m~\\anaconda3\\lib\\site-packages\\neo4j\\io\\__init__.py\u001b[0m in \u001b[0;36mensure_routing_table_is_fresh\u001b[1;34m(self, access_mode, database, imp_user, bookmarks, database_callback)\u001b[0m\n\u001b[0;32m   1130\u001b[0m                 \u001b[1;32mreturn\u001b[0m \u001b[1;32mFalse\u001b[0m\u001b[1;33m\u001b[0m\u001b[1;33m\u001b[0m\u001b[0m\n\u001b[0;32m   1131\u001b[0m \u001b[1;33m\u001b[0m\u001b[0m\n\u001b[1;32m-> 1132\u001b[1;33m             self.update_routing_table(\n\u001b[0m\u001b[0;32m   1133\u001b[0m                 \u001b[0mdatabase\u001b[0m\u001b[1;33m=\u001b[0m\u001b[0mdatabase\u001b[0m\u001b[1;33m,\u001b[0m \u001b[0mimp_user\u001b[0m\u001b[1;33m=\u001b[0m\u001b[0mimp_user\u001b[0m\u001b[1;33m,\u001b[0m \u001b[0mbookmarks\u001b[0m\u001b[1;33m=\u001b[0m\u001b[0mbookmarks\u001b[0m\u001b[1;33m,\u001b[0m\u001b[1;33m\u001b[0m\u001b[1;33m\u001b[0m\u001b[0m\n\u001b[0;32m   1134\u001b[0m                 \u001b[0mdatabase_callback\u001b[0m\u001b[1;33m=\u001b[0m\u001b[0mdatabase_callback\u001b[0m\u001b[1;33m\u001b[0m\u001b[1;33m\u001b[0m\u001b[0m\n",
      "\u001b[1;32m~\\anaconda3\\lib\\site-packages\\neo4j\\io\\__init__.py\u001b[0m in \u001b[0;36mupdate_routing_table\u001b[1;34m(self, database, imp_user, bookmarks, database_callback)\u001b[0m\n\u001b[0;32m   1076\u001b[0m             \u001b[1;32mif\u001b[0m \u001b[0mprefer_initial_routing_address\u001b[0m\u001b[1;33m:\u001b[0m\u001b[1;33m\u001b[0m\u001b[1;33m\u001b[0m\u001b[0m\n\u001b[0;32m   1077\u001b[0m                 \u001b[1;31m# TODO: Test this state\u001b[0m\u001b[1;33m\u001b[0m\u001b[1;33m\u001b[0m\u001b[0m\n\u001b[1;32m-> 1078\u001b[1;33m                 if self._update_routing_table_from(\n\u001b[0m\u001b[0;32m   1079\u001b[0m                         \u001b[0mself\u001b[0m\u001b[1;33m.\u001b[0m\u001b[0mfirst_initial_routing_address\u001b[0m\u001b[1;33m,\u001b[0m \u001b[0mdatabase\u001b[0m\u001b[1;33m=\u001b[0m\u001b[0mdatabase\u001b[0m\u001b[1;33m,\u001b[0m\u001b[1;33m\u001b[0m\u001b[1;33m\u001b[0m\u001b[0m\n\u001b[0;32m   1080\u001b[0m                         \u001b[0mimp_user\u001b[0m\u001b[1;33m=\u001b[0m\u001b[0mimp_user\u001b[0m\u001b[1;33m,\u001b[0m \u001b[0mbookmarks\u001b[0m\u001b[1;33m=\u001b[0m\u001b[0mbookmarks\u001b[0m\u001b[1;33m,\u001b[0m\u001b[1;33m\u001b[0m\u001b[1;33m\u001b[0m\u001b[0m\n",
      "\u001b[1;32m~\\anaconda3\\lib\\site-packages\\neo4j\\io\\__init__.py\u001b[0m in \u001b[0;36m_update_routing_table_from\u001b[1;34m(self, database, imp_user, bookmarks, database_callback, *routers)\u001b[0m\n\u001b[0;32m   1028\u001b[0m         \u001b[1;32mfor\u001b[0m \u001b[0mrouter\u001b[0m \u001b[1;32min\u001b[0m \u001b[0mrouters\u001b[0m\u001b[1;33m:\u001b[0m\u001b[1;33m\u001b[0m\u001b[1;33m\u001b[0m\u001b[0m\n\u001b[0;32m   1029\u001b[0m             \u001b[1;32mfor\u001b[0m \u001b[0maddress\u001b[0m \u001b[1;32min\u001b[0m \u001b[0mrouter\u001b[0m\u001b[1;33m.\u001b[0m\u001b[0mresolve\u001b[0m\u001b[1;33m(\u001b[0m\u001b[0mresolver\u001b[0m\u001b[1;33m=\u001b[0m\u001b[0mself\u001b[0m\u001b[1;33m.\u001b[0m\u001b[0mpool_config\u001b[0m\u001b[1;33m.\u001b[0m\u001b[0mresolver\u001b[0m\u001b[1;33m)\u001b[0m\u001b[1;33m:\u001b[0m\u001b[1;33m\u001b[0m\u001b[1;33m\u001b[0m\u001b[0m\n\u001b[1;32m-> 1030\u001b[1;33m                 new_routing_table = self.fetch_routing_table(\n\u001b[0m\u001b[0;32m   1031\u001b[0m                     \u001b[0maddress\u001b[0m\u001b[1;33m=\u001b[0m\u001b[0maddress\u001b[0m\u001b[1;33m,\u001b[0m\u001b[1;33m\u001b[0m\u001b[1;33m\u001b[0m\u001b[0m\n\u001b[0;32m   1032\u001b[0m                     \u001b[0mtimeout\u001b[0m\u001b[1;33m=\u001b[0m\u001b[0mself\u001b[0m\u001b[1;33m.\u001b[0m\u001b[0mpool_config\u001b[0m\u001b[1;33m.\u001b[0m\u001b[0mconnection_timeout\u001b[0m\u001b[1;33m,\u001b[0m\u001b[1;33m\u001b[0m\u001b[1;33m\u001b[0m\u001b[0m\n",
      "\u001b[1;32m~\\anaconda3\\lib\\site-packages\\neo4j\\io\\__init__.py\u001b[0m in \u001b[0;36mfetch_routing_table\u001b[1;34m(self, address, timeout, database, imp_user, bookmarks)\u001b[0m\n\u001b[0;32m    975\u001b[0m         \u001b[0mnew_routing_info\u001b[0m \u001b[1;33m=\u001b[0m \u001b[1;32mNone\u001b[0m\u001b[1;33m\u001b[0m\u001b[1;33m\u001b[0m\u001b[0m\n\u001b[0;32m    976\u001b[0m         \u001b[1;32mtry\u001b[0m\u001b[1;33m:\u001b[0m\u001b[1;33m\u001b[0m\u001b[1;33m\u001b[0m\u001b[0m\n\u001b[1;32m--> 977\u001b[1;33m             new_routing_info = self.fetch_routing_info(\n\u001b[0m\u001b[0;32m    978\u001b[0m                 \u001b[0maddress\u001b[0m\u001b[1;33m,\u001b[0m \u001b[0mdatabase\u001b[0m\u001b[1;33m,\u001b[0m \u001b[0mimp_user\u001b[0m\u001b[1;33m,\u001b[0m \u001b[0mbookmarks\u001b[0m\u001b[1;33m,\u001b[0m \u001b[0mtimeout\u001b[0m\u001b[1;33m\u001b[0m\u001b[1;33m\u001b[0m\u001b[0m\n\u001b[0;32m    979\u001b[0m             )\n",
      "\u001b[1;32m~\\anaconda3\\lib\\site-packages\\neo4j\\io\\__init__.py\u001b[0m in \u001b[0;36mfetch_routing_info\u001b[1;34m(self, address, database, imp_user, bookmarks, timeout)\u001b[0m\n\u001b[0;32m    946\u001b[0m             \u001b[0mrouting\u001b[0m\u001b[1;33m,\u001b[0m \u001b[1;32mor\u001b[0m \u001b[1;32mif\u001b[0m \u001b[0mrouting\u001b[0m \u001b[0msupport\u001b[0m \u001b[1;32mis\u001b[0m \u001b[0mbroken\u001b[0m \u001b[1;32mor\u001b[0m \u001b[0moutdated\u001b[0m\u001b[1;33m\u001b[0m\u001b[1;33m\u001b[0m\u001b[0m\n\u001b[0;32m    947\u001b[0m         \"\"\"\n\u001b[1;32m--> 948\u001b[1;33m         \u001b[0mcx\u001b[0m \u001b[1;33m=\u001b[0m \u001b[0mself\u001b[0m\u001b[1;33m.\u001b[0m\u001b[0m_acquire\u001b[0m\u001b[1;33m(\u001b[0m\u001b[0maddress\u001b[0m\u001b[1;33m,\u001b[0m \u001b[0mtimeout\u001b[0m\u001b[1;33m)\u001b[0m\u001b[1;33m\u001b[0m\u001b[1;33m\u001b[0m\u001b[0m\n\u001b[0m\u001b[0;32m    949\u001b[0m         \u001b[1;32mtry\u001b[0m\u001b[1;33m:\u001b[0m\u001b[1;33m\u001b[0m\u001b[1;33m\u001b[0m\u001b[0m\n\u001b[0;32m    950\u001b[0m             routing_table = cx.route(\n",
      "\u001b[1;32m~\\anaconda3\\lib\\site-packages\\neo4j\\io\\__init__.py\u001b[0m in \u001b[0;36m_acquire\u001b[1;34m(self, address, timeout)\u001b[0m\n\u001b[0;32m    694\u001b[0m                                   time_remaining())\n\u001b[0;32m    695\u001b[0m                     \u001b[1;32mtry\u001b[0m\u001b[1;33m:\u001b[0m\u001b[1;33m\u001b[0m\u001b[1;33m\u001b[0m\u001b[0m\n\u001b[1;32m--> 696\u001b[1;33m                         \u001b[0mconnection\u001b[0m \u001b[1;33m=\u001b[0m \u001b[0mself\u001b[0m\u001b[1;33m.\u001b[0m\u001b[0mopener\u001b[0m\u001b[1;33m(\u001b[0m\u001b[0maddress\u001b[0m\u001b[1;33m,\u001b[0m \u001b[0mtimeout\u001b[0m\u001b[1;33m)\u001b[0m\u001b[1;33m\u001b[0m\u001b[1;33m\u001b[0m\u001b[0m\n\u001b[0m\u001b[0;32m    697\u001b[0m                     \u001b[1;32mexcept\u001b[0m \u001b[0mServiceUnavailable\u001b[0m\u001b[1;33m:\u001b[0m\u001b[1;33m\u001b[0m\u001b[1;33m\u001b[0m\u001b[0m\n\u001b[0;32m    698\u001b[0m                         \u001b[0mself\u001b[0m\u001b[1;33m.\u001b[0m\u001b[0mremove\u001b[0m\u001b[1;33m(\u001b[0m\u001b[0maddress\u001b[0m\u001b[1;33m)\u001b[0m\u001b[1;33m\u001b[0m\u001b[1;33m\u001b[0m\u001b[0m\n",
      "\u001b[1;32m~\\anaconda3\\lib\\site-packages\\neo4j\\io\\__init__.py\u001b[0m in \u001b[0;36mopener\u001b[1;34m(addr, timeout)\u001b[0m\n\u001b[0;32m    867\u001b[0m \u001b[1;33m\u001b[0m\u001b[0m\n\u001b[0;32m    868\u001b[0m         \u001b[1;32mdef\u001b[0m \u001b[0mopener\u001b[0m\u001b[1;33m(\u001b[0m\u001b[0maddr\u001b[0m\u001b[1;33m,\u001b[0m \u001b[0mtimeout\u001b[0m\u001b[1;33m)\u001b[0m\u001b[1;33m:\u001b[0m\u001b[1;33m\u001b[0m\u001b[1;33m\u001b[0m\u001b[0m\n\u001b[1;32m--> 869\u001b[1;33m             return Bolt.open(addr, auth=auth, timeout=timeout,\n\u001b[0m\u001b[0;32m    870\u001b[0m                              routing_context=routing_context, **pool_config)\n\u001b[0;32m    871\u001b[0m \u001b[1;33m\u001b[0m\u001b[0m\n",
      "\u001b[1;32m~\\anaconda3\\lib\\site-packages\\neo4j\\io\\__init__.py\u001b[0m in \u001b[0;36mopen\u001b[1;34m(cls, address, auth, timeout, routing_context, **pool_config)\u001b[0m\n\u001b[0;32m    357\u001b[0m \u001b[1;33m\u001b[0m\u001b[0m\n\u001b[0;32m    358\u001b[0m         \u001b[1;32mtry\u001b[0m\u001b[1;33m:\u001b[0m\u001b[1;33m\u001b[0m\u001b[1;33m\u001b[0m\u001b[0m\n\u001b[1;32m--> 359\u001b[1;33m             \u001b[0mconnection\u001b[0m\u001b[1;33m.\u001b[0m\u001b[0mhello\u001b[0m\u001b[1;33m(\u001b[0m\u001b[1;33m)\u001b[0m\u001b[1;33m\u001b[0m\u001b[1;33m\u001b[0m\u001b[0m\n\u001b[0m\u001b[0;32m    360\u001b[0m         \u001b[1;32mexcept\u001b[0m \u001b[0mException\u001b[0m\u001b[1;33m:\u001b[0m\u001b[1;33m\u001b[0m\u001b[1;33m\u001b[0m\u001b[0m\n\u001b[0;32m    361\u001b[0m             \u001b[0mconnection\u001b[0m\u001b[1;33m.\u001b[0m\u001b[0mclose\u001b[0m\u001b[1;33m(\u001b[0m\u001b[1;33m)\u001b[0m\u001b[1;33m\u001b[0m\u001b[1;33m\u001b[0m\u001b[0m\n",
      "\u001b[1;32m~\\anaconda3\\lib\\site-packages\\neo4j\\io\\_bolt4.py\u001b[0m in \u001b[0;36mhello\u001b[1;34m(self)\u001b[0m\n\u001b[0;32m    441\u001b[0m                                            on_success=on_success))\n\u001b[0;32m    442\u001b[0m         \u001b[0mself\u001b[0m\u001b[1;33m.\u001b[0m\u001b[0msend_all\u001b[0m\u001b[1;33m(\u001b[0m\u001b[1;33m)\u001b[0m\u001b[1;33m\u001b[0m\u001b[1;33m\u001b[0m\u001b[0m\n\u001b[1;32m--> 443\u001b[1;33m         \u001b[0mself\u001b[0m\u001b[1;33m.\u001b[0m\u001b[0mfetch_all\u001b[0m\u001b[1;33m(\u001b[0m\u001b[1;33m)\u001b[0m\u001b[1;33m\u001b[0m\u001b[1;33m\u001b[0m\u001b[0m\n\u001b[0m\u001b[0;32m    444\u001b[0m         \u001b[0mcheck_supported_server_product\u001b[0m\u001b[1;33m(\u001b[0m\u001b[0mself\u001b[0m\u001b[1;33m.\u001b[0m\u001b[0mserver_info\u001b[0m\u001b[1;33m.\u001b[0m\u001b[0magent\u001b[0m\u001b[1;33m)\u001b[0m\u001b[1;33m\u001b[0m\u001b[1;33m\u001b[0m\u001b[0m\n\u001b[0;32m    445\u001b[0m \u001b[1;33m\u001b[0m\u001b[0m\n",
      "\u001b[1;32m~\\anaconda3\\lib\\site-packages\\neo4j\\io\\__init__.py\u001b[0m in \u001b[0;36mfetch_all\u001b[1;34m(self)\u001b[0m\n\u001b[0;32m    534\u001b[0m             \u001b[0mresponse\u001b[0m \u001b[1;33m=\u001b[0m \u001b[0mself\u001b[0m\u001b[1;33m.\u001b[0m\u001b[0mresponses\u001b[0m\u001b[1;33m[\u001b[0m\u001b[1;36m0\u001b[0m\u001b[1;33m]\u001b[0m\u001b[1;33m\u001b[0m\u001b[1;33m\u001b[0m\u001b[0m\n\u001b[0;32m    535\u001b[0m             \u001b[1;32mwhile\u001b[0m \u001b[1;32mnot\u001b[0m \u001b[0mresponse\u001b[0m\u001b[1;33m.\u001b[0m\u001b[0mcomplete\u001b[0m\u001b[1;33m:\u001b[0m\u001b[1;33m\u001b[0m\u001b[1;33m\u001b[0m\u001b[0m\n\u001b[1;32m--> 536\u001b[1;33m                 \u001b[0mdetail_delta\u001b[0m\u001b[1;33m,\u001b[0m \u001b[0msummary_delta\u001b[0m \u001b[1;33m=\u001b[0m \u001b[0mself\u001b[0m\u001b[1;33m.\u001b[0m\u001b[0mfetch_message\u001b[0m\u001b[1;33m(\u001b[0m\u001b[1;33m)\u001b[0m\u001b[1;33m\u001b[0m\u001b[1;33m\u001b[0m\u001b[0m\n\u001b[0m\u001b[0;32m    537\u001b[0m                 \u001b[0mdetail_count\u001b[0m \u001b[1;33m+=\u001b[0m \u001b[0mdetail_delta\u001b[0m\u001b[1;33m\u001b[0m\u001b[1;33m\u001b[0m\u001b[0m\n\u001b[0;32m    538\u001b[0m                 \u001b[0msummary_count\u001b[0m \u001b[1;33m+=\u001b[0m \u001b[0msummary_delta\u001b[0m\u001b[1;33m\u001b[0m\u001b[1;33m\u001b[0m\u001b[0m\n",
      "\u001b[1;32m~\\anaconda3\\lib\\site-packages\\neo4j\\io\\_bolt4.py\u001b[0m in \u001b[0;36mfetch_message\u001b[1;34m(self)\u001b[0m\n\u001b[0;32m    307\u001b[0m             \u001b[0mself\u001b[0m\u001b[1;33m.\u001b[0m\u001b[0m_server_state_manager\u001b[0m\u001b[1;33m.\u001b[0m\u001b[0mstate\u001b[0m \u001b[1;33m=\u001b[0m \u001b[0mServerStates\u001b[0m\u001b[1;33m.\u001b[0m\u001b[0mFAILED\u001b[0m\u001b[1;33m\u001b[0m\u001b[1;33m\u001b[0m\u001b[0m\n\u001b[0;32m    308\u001b[0m             \u001b[1;32mtry\u001b[0m\u001b[1;33m:\u001b[0m\u001b[1;33m\u001b[0m\u001b[1;33m\u001b[0m\u001b[0m\n\u001b[1;32m--> 309\u001b[1;33m                 \u001b[0mresponse\u001b[0m\u001b[1;33m.\u001b[0m\u001b[0mon_failure\u001b[0m\u001b[1;33m(\u001b[0m\u001b[0msummary_metadata\u001b[0m \u001b[1;32mor\u001b[0m \u001b[1;33m{\u001b[0m\u001b[1;33m}\u001b[0m\u001b[1;33m)\u001b[0m\u001b[1;33m\u001b[0m\u001b[1;33m\u001b[0m\u001b[0m\n\u001b[0m\u001b[0;32m    310\u001b[0m             \u001b[1;32mexcept\u001b[0m \u001b[1;33m(\u001b[0m\u001b[0mServiceUnavailable\u001b[0m\u001b[1;33m,\u001b[0m \u001b[0mDatabaseUnavailable\u001b[0m\u001b[1;33m)\u001b[0m\u001b[1;33m:\u001b[0m\u001b[1;33m\u001b[0m\u001b[1;33m\u001b[0m\u001b[0m\n\u001b[0;32m    311\u001b[0m                 \u001b[1;32mif\u001b[0m \u001b[0mself\u001b[0m\u001b[1;33m.\u001b[0m\u001b[0mpool\u001b[0m\u001b[1;33m:\u001b[0m\u001b[1;33m\u001b[0m\u001b[1;33m\u001b[0m\u001b[0m\n",
      "\u001b[1;32m~\\anaconda3\\lib\\site-packages\\neo4j\\io\\_common.py\u001b[0m in \u001b[0;36mon_failure\u001b[1;34m(self, metadata)\u001b[0m\n\u001b[0;32m    260\u001b[0m         \u001b[0mcode\u001b[0m \u001b[1;33m=\u001b[0m \u001b[0mmetadata\u001b[0m\u001b[1;33m.\u001b[0m\u001b[0mget\u001b[0m\u001b[1;33m(\u001b[0m\u001b[1;34m\"code\"\u001b[0m\u001b[1;33m)\u001b[0m\u001b[1;33m\u001b[0m\u001b[1;33m\u001b[0m\u001b[0m\n\u001b[0;32m    261\u001b[0m         \u001b[1;32mif\u001b[0m \u001b[0mcode\u001b[0m \u001b[1;33m==\u001b[0m \u001b[1;34m\"Neo.ClientError.Security.Unauthorized\"\u001b[0m\u001b[1;33m:\u001b[0m\u001b[1;33m\u001b[0m\u001b[1;33m\u001b[0m\u001b[0m\n\u001b[1;32m--> 262\u001b[1;33m             \u001b[1;32mraise\u001b[0m \u001b[0mNeo4jError\u001b[0m\u001b[1;33m.\u001b[0m\u001b[0mhydrate\u001b[0m\u001b[1;33m(\u001b[0m\u001b[1;33m**\u001b[0m\u001b[0mmetadata\u001b[0m\u001b[1;33m)\u001b[0m\u001b[1;33m\u001b[0m\u001b[1;33m\u001b[0m\u001b[0m\n\u001b[0m\u001b[0;32m    263\u001b[0m         \u001b[1;32melse\u001b[0m\u001b[1;33m:\u001b[0m\u001b[1;33m\u001b[0m\u001b[1;33m\u001b[0m\u001b[0m\n\u001b[0;32m    264\u001b[0m             raise ServiceUnavailable(\n",
      "\u001b[1;31mAuthError\u001b[0m: {code: Neo.ClientError.Security.Unauthorized} {message: The client is unauthorized due to authentication failure.}"
     ]
    }
   ],
   "source": [
    "#Reset database\n",
    "delete_nodes_with_relationship = \"match (a) -[r] -> () delete a, r\"\n",
    "delete_nodes_without_relationships = \"match (a) delete a\"\n",
    "# All indexes and constraints.\n",
    "delete_all_index = \"CALL apoc.schema.assert({},{},true) YIELD label, key RETURN *\"\n",
    "\n",
    "session.run(delete_nodes_with_relationship)\n",
    "session.run(delete_nodes_without_relationships)\n",
    "session.run(delete_all_index)"
   ]
  },
  {
   "cell_type": "code",
   "execution_count": null,
   "id": "451bc6ac",
   "metadata": {
    "scrolled": true
   },
   "outputs": [],
   "source": [
    "#Load nodes and relations from file\n",
    "nodes_relation_open = open(\"nodes_relations.txt\", \"r\")\n",
    "nodes_relations = nodes_relation_open.read()\n",
    "nodes_relation_open.close()\n",
    "print(nodes_relations[:195])"
   ]
  },
  {
   "cell_type": "code",
   "execution_count": null,
   "id": "4f6fcaa6",
   "metadata": {},
   "outputs": [],
   "source": [
    "#Filldatabase with nodes and relationships\n",
    "session.run(nodes_relations)"
   ]
  },
  {
   "cell_type": "markdown",
   "id": "0b1a8512",
   "metadata": {},
   "source": [
    "# Get the first informations from the database"
   ]
  },
  {
   "cell_type": "code",
   "execution_count": null,
   "id": "1b57214e",
   "metadata": {
    "scrolled": true
   },
   "outputs": [],
   "source": [
    "#Get the graph structure\n",
    "results = session.read_transaction(\n",
    "    lambda tx: tx.run(\"CALL db.schema.visualization()\").data())\n",
    "dic = {\"Movie\": \"title\", \"Person\": \"name\"}\n",
    "results"
   ]
  },
  {
   "cell_type": "code",
   "execution_count": null,
   "id": "467ddd80",
   "metadata": {},
   "outputs": [],
   "source": [
    "vis_class.power_drawGraph(driver, \"CALL db.schema.visualization()\", font_size=8, width=14, height=6)"
   ]
  },
  {
   "cell_type": "markdown",
   "id": "15208586",
   "metadata": {},
   "source": [
    "Diffrent way to visualize from Neo4J\n",
    "\n",
    "![title](img/graphschema.png)"
   ]
  },
  {
   "cell_type": "code",
   "execution_count": null,
   "id": "e81117b9",
   "metadata": {},
   "outputs": [],
   "source": [
    "#Show nodes of Droid, Movies, Person \n",
    "test_querys = ['''MATCH (n:Droid) RETURN n LIMIT 25''', '''MATCH (n:Movie) RETURN n LIMIT 25''', '''MATCH (n:Person) RETURN n LIMIT 25''']\n",
    "\n",
    "i = 1\n",
    "for test_query in test_querys:\n",
    "    print('next dataset: ' + str(i))\n",
    "    results = session.read_transaction(\n",
    "        lambda tx: tx.run(test_query).data())\n",
    "    print(results) #Change to a visualisation\n",
    "    print('')\n",
    "    i += 1"
   ]
  },
  {
   "cell_type": "code",
   "execution_count": null,
   "id": "6d7a08a1",
   "metadata": {},
   "outputs": [],
   "source": [
    "test_query_vis_d = \"\"\"MATCH (n:Droid) RETURN n AS source_node, \n",
    "                                id(n) AS source_id,\n",
    "                                null,\n",
    "                                null AS target_node,\n",
    "                                null AS target_id\"\"\""
   ]
  },
  {
   "cell_type": "code",
   "execution_count": null,
   "id": "4fde8230",
   "metadata": {},
   "outputs": [],
   "source": [
    "vis_class.drawGraph(session, {'Droid': 'name'}, test_query_vis_d)  "
   ]
  },
  {
   "cell_type": "code",
   "execution_count": null,
   "id": "821f6911",
   "metadata": {},
   "outputs": [],
   "source": [
    "test_query_vis_d = \"\"\"MATCH (n:Droid)-[s:SPEAKS_WITH]-(m:Droid) RETURN n AS source_node, \n",
    "                                id(n) AS source_id,\n",
    "                                s,\n",
    "                                m AS target_node,\n",
    "                                id(m) AS target_id\"\"\""
   ]
  },
  {
   "cell_type": "code",
   "execution_count": null,
   "id": "c1805b5c",
   "metadata": {},
   "outputs": [],
   "source": [
    "vis_class.drawGraph(session, {'Droid': 'name'}, test_query_vis_d)  "
   ]
  },
  {
   "cell_type": "code",
   "execution_count": null,
   "id": "05198bce",
   "metadata": {},
   "outputs": [],
   "source": [
    "test_query_vis_m = '''MATCH (n:Movie) RETURN n AS source_node, \n",
    "                                id(n) AS source_id,\n",
    "                                null,\n",
    "                                null AS target_node,\n",
    "                                null AS target_id'''"
   ]
  },
  {
   "cell_type": "code",
   "execution_count": null,
   "id": "650d8b1e",
   "metadata": {},
   "outputs": [],
   "source": [
    "vis_class.drawGraph(session, {'Movie': 'name'}, test_query_vis_m)  "
   ]
  },
  {
   "cell_type": "code",
   "execution_count": null,
   "id": "4154041f",
   "metadata": {},
   "outputs": [],
   "source": [
    "test_query_vis_p =  '''MATCH (n:Person) RETURN n AS source_node, \n",
    "                                id(n) AS source_id,\n",
    "                                null,\n",
    "                                null AS target_node,\n",
    "                                null AS target_id'''"
   ]
  },
  {
   "cell_type": "code",
   "execution_count": null,
   "id": "ecf2c1b0",
   "metadata": {
    "scrolled": true
   },
   "outputs": [],
   "source": [
    "vis_class.drawGraph(session, {'Person': 'name'}, test_query_vis_p)  "
   ]
  },
  {
   "cell_type": "code",
   "execution_count": null,
   "id": "5f96a343",
   "metadata": {},
   "outputs": [],
   "source": [
    "test_query_vis_p =  '''MATCH (n:Person) -[r:SPEAKS_WITH]-(m:Person) \n",
    "                        RETURN n AS source_node, \n",
    "                                id(n) AS source_id,\n",
    "                                r,\n",
    "                                m AS target_node,\n",
    "                                id(m) AS target_id\n",
    "                                LIMIT 100'''"
   ]
  },
  {
   "cell_type": "code",
   "execution_count": null,
   "id": "5a6267f5",
   "metadata": {},
   "outputs": [],
   "source": [
    "#Here we already see a Clustering\n",
    "#General are Qui-Gon, Chewbacca, Obi-Wan, Nute Gunray central characters\n",
    "vis_class.drawGraph(session, {'Person': 'name'}, test_query_vis_p)  "
   ]
  },
  {
   "cell_type": "code",
   "execution_count": null,
   "id": "151eb529",
   "metadata": {},
   "outputs": [],
   "source": [
    "get_labels = \"MATCH (n) WHERE EXISTS(n.name) RETURN ID(n) AS ID, labels(n) AS label, n.name AS name ORDER BY labels(n)\"\n",
    "df = pd.DataFrame(session.read_transaction(\n",
    "                    lambda tx: tx.run(get_labels).data()), columns = ['ID','label', 'name'])\n",
    "df.head()"
   ]
  },
  {
   "cell_type": "code",
   "execution_count": null,
   "id": "eadc07d5",
   "metadata": {},
   "outputs": [],
   "source": [
    "relationships = \"CALL db.relationshipTypes()\"\n",
    "df = pd.DataFrame(session.read_transaction(\n",
    "            lambda tx: tx.run(relationships).data()), columns = ['relationshipType'])\n",
    "df.head()"
   ]
  },
  {
   "cell_type": "code",
   "execution_count": null,
   "id": "cf2f83e8",
   "metadata": {},
   "outputs": [],
   "source": [
    "#Get specific character\n",
    "get_v_one = \"MATCH (n) WHERE n.name=\\\"Episode I: The Phantom Menace\\\" RETURN n.name As Name\"\n",
    "print(session.read_transaction(\n",
    "        lambda tx: tx.run(get_v_one).data()))"
   ]
  },
  {
   "cell_type": "code",
   "execution_count": null,
   "id": "6096be42",
   "metadata": {},
   "outputs": [],
   "source": [
    "#First simple connection between characters\n",
    "c_knows_c = '''MATCH (p1:Person)-[r:SPEAKS_WITH]->(p2:Person) WHERE (p1.name = \\\"ANAKIN\\\" AND p2.name = \\\"PADME\\\") \n",
    "                OR (p2.name = \\\"PADME\\\" AND p1.name = \\\"ANAKIN\\\") \n",
    "                RETURN p1.name As name, type(r) As relation, p2.name As whom'''  \n",
    "\n",
    "print(session.read_transaction(\n",
    "        lambda tx: tx.run(c_knows_c).data())) #Change to a visualisation"
   ]
  },
  {
   "cell_type": "code",
   "execution_count": null,
   "id": "f74e5640",
   "metadata": {},
   "outputs": [],
   "source": [
    "c_knows_c =  '''MATCH (p1:Person)-[r:SPEAKS_WITH]->(p2:Person) \n",
    "                       WHERE (p1.name = \\\"ANAKIN\\\" AND p2.name = \\\"PADME\\\") OR (p2.name = \\\"PADME\\\" AND p1.name = \\\"ANAKIN\\\") \n",
    "                       RETURN p1 AS source_node, \n",
    "                                id(p1) AS source_id,\n",
    "                                r,\n",
    "                                p2 AS target_node,\n",
    "                                id(p2) AS target_id'''"
   ]
  },
  {
   "cell_type": "code",
   "execution_count": null,
   "id": "1d4e41d3",
   "metadata": {},
   "outputs": [],
   "source": [
    "vis_class.drawGraph(session, {'Person': 'name'}, c_knows_c)  "
   ]
  },
  {
   "cell_type": "code",
   "execution_count": null,
   "id": "4224c6c2",
   "metadata": {},
   "outputs": [],
   "source": [
    "#First simple playtime \n",
    "c_plays_in_m = '''MATCH (p:Person)-[r:APPEARS_IN]->(m:Movie) WHERE (p.name = \\\"YODA\\\" AND m.name =~\\\".*Episode I:.*\\\") \n",
    "                RETURN p.name As name, type(r) As relation, m.name As movie''' \n",
    "print(session.read_transaction(\n",
    "        lambda tx: tx.run(c_plays_in_m).data())) #Change to a visualisation"
   ]
  },
  {
   "cell_type": "code",
   "execution_count": null,
   "id": "001e1a26",
   "metadata": {},
   "outputs": [],
   "source": [
    "c_knows_c =  '''MATCH (p:Person)-[r:APPEARS_IN]->(m:Movie)\n",
    "                WHERE (p.name = \\\"YODA\\\" AND m.name =~\\\".*Episode I:.*\\\") \n",
    "                RETURN p AS source_node, \n",
    "                        id(p) AS source_id,\n",
    "                        r,\n",
    "                        m AS target_node,\n",
    "                        id(m) AS target_id'''"
   ]
  },
  {
   "cell_type": "code",
   "execution_count": null,
   "id": "e82b67ff",
   "metadata": {
    "scrolled": true
   },
   "outputs": [],
   "source": [
    "vis_class.drawGraph(session, {'Movie':'name','Person': 'name'}, c_knows_c)  "
   ]
  },
  {
   "cell_type": "code",
   "execution_count": null,
   "id": "f625e7f4",
   "metadata": {},
   "outputs": [],
   "source": [
    "#Close all connections\n",
    "driver.close()\n",
    "session.close()\n",
    "drive = None\n",
    "session = None"
   ]
  }
 ],
 "metadata": {
  "kernelspec": {
   "display_name": "Python 3 (ipykernel)",
   "language": "python",
   "name": "python3"
  },
  "language_info": {
   "codemirror_mode": {
    "name": "ipython",
    "version": 3
   },
   "file_extension": ".py",
   "mimetype": "text/x-python",
   "name": "python",
   "nbconvert_exporter": "python",
   "pygments_lexer": "ipython3",
   "version": "3.9.7"
  }
 },
 "nbformat": 4,
 "nbformat_minor": 5
}
