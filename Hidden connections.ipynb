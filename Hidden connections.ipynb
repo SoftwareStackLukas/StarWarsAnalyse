{
 "cells": [
  {
   "cell_type": "markdown",
   "id": "01ddf06d",
   "metadata": {},
   "source": [
    "# Pathfinder for Hidden connections \n",
    "\n",
    "#https://neo4j.com/docs/cypher-manual/current/introduction/uniqueness/ \n",
    "#https://stackoverflow.com/questions/14345555/return-unique-nodes-in-cypher-path-query\n",
    "#https://github.com/neo4j/neo4j/issues/12628\n",
    "#How to improve it to just get once Episode I: The Phantom Menace?"
   ]
  },
  {
   "cell_type": "code",
   "execution_count": 1,
   "id": "d141184c",
   "metadata": {},
   "outputs": [],
   "source": [
    "#Imports\n",
    "from neo4j import GraphDatabase, basic_auth\n",
    "import neo4jupyter\n",
    "import pandas as pd\n",
    "from vis_class import vis_class"
   ]
  },
  {
   "cell_type": "code",
   "execution_count": 2,
   "id": "52a575c1",
   "metadata": {},
   "outputs": [],
   "source": [
    "#Create db connector\n",
    "login = open(\"Login.txt\", \"r\")\n",
    "uri = login.readline()\n",
    "user = login.readline()\n",
    "password = login.readline()\n",
    "login.close()\n",
    "\n",
    "driver = GraphDatabase.driver(uri, auth=basic_auth(user, password))\n",
    "session = driver.session(database=\"neo4j\")"
   ]
  },
  {
   "cell_type": "markdown",
   "id": "c5802a08",
   "metadata": {},
   "source": [
    "## General Path finding / matching\n"
   ]
  },
  {
   "cell_type": "markdown",
   "id": "7e116c0d",
   "metadata": {},
   "source": [
    "Here we get an short overview how characters are connected over max. 5 diffrent relations"
   ]
  },
  {
   "cell_type": "code",
   "execution_count": 3,
   "id": "028eb6dd",
   "metadata": {},
   "outputs": [
    {
     "data": {
      "text/plain": [
       "[{'nodes(p)': [{'name': 'Episode I: The Phantom Menace'},\n",
       "   {'name': 'JAR JAR'},\n",
       "   {'name': 'JABBA'},\n",
       "   {'name': 'FODE/BEED'},\n",
       "   {'name': 'Episode I: The Phantom Menace'},\n",
       "   {'name': 'BRAVO THREE'}]},\n",
       " {'nodes(p)': [{'name': 'Episode I: The Phantom Menace'},\n",
       "   {'name': 'JAR JAR'},\n",
       "   {'name': 'JABBA'},\n",
       "   {'name': 'FODE/BEED'},\n",
       "   {'name': 'Episode I: The Phantom Menace'},\n",
       "   {'name': 'GREEDO'}]},\n",
       " {'nodes(p)': [{'name': 'Episode I: The Phantom Menace'},\n",
       "   {'name': 'JAR JAR'},\n",
       "   {'name': 'JABBA'},\n",
       "   {'name': 'FODE/BEED'},\n",
       "   {'name': 'Episode I: The Phantom Menace'},\n",
       "   {'name': 'OBI-WAN'}]},\n",
       " {'nodes(p)': [{'name': 'Episode I: The Phantom Menace'},\n",
       "   {'name': 'JAR JAR'},\n",
       "   {'name': 'JABBA'},\n",
       "   {'name': 'FODE/BEED'},\n",
       "   {'name': 'Episode I: The Phantom Menace'},\n",
       "   {'name': 'EMPEROR'}]},\n",
       " {'nodes(p)': [{'name': 'Episode I: The Phantom Menace'},\n",
       "   {'name': 'JAR JAR'},\n",
       "   {'name': 'JABBA'},\n",
       "   {'name': 'FODE/BEED'},\n",
       "   {'name': 'Episode I: The Phantom Menace'},\n",
       "   {'name': 'BAIL ORGANA'}]}]"
      ]
     },
     "execution_count": 3,
     "metadata": {},
     "output_type": "execute_result"
    }
   ],
   "source": [
    "five_path = '''MATCH p = ()-[*5]-() RETURN nodes(p) Limit 5'''\n",
    "results = session.read_transaction(\n",
    "    lambda tx: tx.run(five_path).data())\n",
    "results"
   ]
  },
  {
   "cell_type": "markdown",
   "id": "443396f9",
   "metadata": {},
   "source": [
    "## Finding hidden path"
   ]
  },
  {
   "cell_type": "markdown",
   "id": "c506e266",
   "metadata": {},
   "source": [
    "Something like that should it be\n",
    "match (m:Movie) \n",
    "where m.name=\"Episode VI: Return of the Jedi\" \n",
    "match (p:Person) \n",
    "where p.name=\"KI-ADI-MUNDI\" \n",
    "match  \n",
    "searchPath=(Movie)<-[*]-(Person)-[*]->(Movie)-[*]-(Person)-[*]->(Person) \n",
    "return distinct m.name,searchPath \n",
    "\n",
    "\n",
    "'''match (m:Movie) \n",
    "                    where m.name=\"Episode II: Attack of the Clones\" \n",
    "                  match (p:Person) \n",
    "                    where p.name=\"KI-ADI-MUNDI\" \n",
    "                  match searchPath=(Movie)<-[*]-(Person)-[*]->(Movie)-[*]-(Person)-[*]->(Person) \n",
    "                    return searchPath'''"
   ]
  },
  {
   "cell_type": "code",
   "execution_count": null,
   "id": "b0969417",
   "metadata": {},
   "outputs": [],
   "source": [
    "person_movie = '''match searchPath=(ms:Movie)<-[*]-()-[*]->(ps:Person) \n",
    "                    WHERE ms.name=\"Episode II: Attack of the Clones\" AND ps.name=\"KI-ADI-MUNDI\" \n",
    "                    return DISTINCT searchPath'''\n",
    "\n",
    "results = session.read_transaction(\n",
    "    lambda tx: tx.run(person_movie).data())\n",
    "results"
   ]
  },
  {
   "cell_type": "code",
   "execution_count": null,
   "id": "1cd54299",
   "metadata": {},
   "outputs": [],
   "source": [
    "person_movie = '''match searchPath=(ms:Movie)<-[*]->(ps:Person) \n",
    "                    WHERE ms.name=\"Episode II: Attack of the Clones\" AND ps.name=\"KI-ADI-MUNDI\" \n",
    "                    return DISTINCT searchPath'''\n",
    "\n",
    "results = session.read_transaction(\n",
    "    lambda tx: tx.run(person_movie).data())\n",
    "results"
   ]
  },
  {
   "cell_type": "code",
   "execution_count": null,
   "id": "93bd9ca8",
   "metadata": {},
   "outputs": [],
   "source": [
    "#Find path between Person and Movie\n",
    "person_movie = '''match (m:Movie) \n",
    "                    where m.name=\"Episode II: Attack of the Clones\" \n",
    "                  match (p:Person) \n",
    "                    where p.name=\"KI-ADI-MUNDI\" \n",
    "                  match searchPath=(Movie)<-[*]-(Person)-[*]->(Movie)-[*]-(Person)-[*]->(Person) \n",
    "                    return searchPath'''\n",
    "results = session.read_transaction(\n",
    "    lambda tx: tx.run(person_movie).data())\n"
   ]
  },
  {
   "cell_type": "code",
   "execution_count": null,
   "id": "0970f3e5",
   "metadata": {},
   "outputs": [],
   "source": [
    "#Find path between Person and Person which are not related at the first glance"
   ]
  },
  {
   "cell_type": "code",
   "execution_count": null,
   "id": "cf80f138",
   "metadata": {},
   "outputs": [],
   "source": [
    "#Find path between Movie and Movie which are not related at the first glance"
   ]
  },
  {
   "cell_type": "markdown",
   "id": "1507f32d",
   "metadata": {},
   "source": [
    "## Closing the connection to the database"
   ]
  },
  {
   "cell_type": "code",
   "execution_count": null,
   "id": "1c76b8f0",
   "metadata": {},
   "outputs": [],
   "source": [
    "#Close all connections\n",
    "driver.close()\n",
    "session.close()\n",
    "drive = None\n",
    "session = None"
   ]
  },
  {
   "cell_type": "code",
   "execution_count": null,
   "id": "d78b89a3",
   "metadata": {},
   "outputs": [],
   "source": []
  }
 ],
 "metadata": {
  "kernelspec": {
   "display_name": "Python 3 (ipykernel)",
   "language": "python",
   "name": "python3"
  },
  "language_info": {
   "codemirror_mode": {
    "name": "ipython",
    "version": 3
   },
   "file_extension": ".py",
   "mimetype": "text/x-python",
   "name": "python",
   "nbconvert_exporter": "python",
   "pygments_lexer": "ipython3",
   "version": "3.9.7"
  }
 },
 "nbformat": 4,
 "nbformat_minor": 5
}
