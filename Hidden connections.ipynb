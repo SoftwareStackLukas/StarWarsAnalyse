{
 "cells": [
  {
   "cell_type": "markdown",
   "id": "89fb8da2",
   "metadata": {},
   "source": [
    "# Pathfinder for Hidden connections \n",
    "\n",
    "Some text"
   ]
  },
  {
   "cell_type": "code",
   "execution_count": 1,
   "id": "cb1feaea",
   "metadata": {},
   "outputs": [],
   "source": [
    "#Imports\n",
    "from neo4j import GraphDatabase, basic_auth\n",
    "import neo4jupyter\n",
    "import pandas as pd"
   ]
  },
  {
   "cell_type": "code",
   "execution_count": 2,
   "id": "60d2a490",
   "metadata": {},
   "outputs": [],
   "source": [
    "#Create db connector\n",
    "login = open(\"Login.txt\", \"r\")\n",
    "uri = login.readline()\n",
    "user = login.readline()\n",
    "password = \"XXX\"\n",
    "login.close()\n",
    "\n",
    "driver = GraphDatabase.driver(uri, auth=basic_auth(user, password))\n",
    "session = driver.session(database=\"neo4j\")"
   ]
  },
  {
   "cell_type": "markdown",
   "id": "c271ce6d",
   "metadata": {},
   "source": [
    "## Finding hidden path"
   ]
  },
  {
   "cell_type": "code",
   "execution_count": null,
   "id": "d8bf2581",
   "metadata": {},
   "outputs": [],
   "source": [
    "#Find path between Person and Movie"
   ]
  },
  {
   "cell_type": "code",
   "execution_count": null,
   "id": "cfe51d1b",
   "metadata": {},
   "outputs": [],
   "source": [
    "#Find path between Person and Person which are not related at the first glance"
   ]
  },
  {
   "cell_type": "code",
   "execution_count": null,
   "id": "f0f19641",
   "metadata": {},
   "outputs": [],
   "source": [
    "#Find path between Movie and Movie which are not related at the first glance"
   ]
  },
  {
   "cell_type": "markdown",
   "id": "b1470af6",
   "metadata": {},
   "source": [
    "## In which movies are n charactes the same"
   ]
  },
  {
   "cell_type": "code",
   "execution_count": null,
   "id": "2975dbfa",
   "metadata": {},
   "outputs": [],
   "source": []
  },
  {
   "cell_type": "code",
   "execution_count": 3,
   "id": "29af01c1",
   "metadata": {},
   "outputs": [],
   "source": [
    "#Close all connections\n",
    "driver.close()\n",
    "session.close()\n",
    "drive = None\n",
    "session = None"
   ]
  }
 ],
 "metadata": {
  "kernelspec": {
   "display_name": "Python 3 (ipykernel)",
   "language": "python",
   "name": "python3"
  },
  "language_info": {
   "codemirror_mode": {
    "name": "ipython",
    "version": 3
   },
   "file_extension": ".py",
   "mimetype": "text/x-python",
   "name": "python",
   "nbconvert_exporter": "python",
   "pygments_lexer": "ipython3",
   "version": "3.9.7"
  }
 },
 "nbformat": 4,
 "nbformat_minor": 5
}
