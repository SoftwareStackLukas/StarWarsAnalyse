{
 "cells": [
  {
   "cell_type": "code",
   "execution_count": 1,
   "id": "69b205a5",
   "metadata": {},
   "outputs": [],
   "source": [
    "#If connector is not installed yet\n",
    "#!pip install neo4j-driver\n",
    "#!pip install neo4jupyter"
   ]
  },
  {
   "cell_type": "code",
   "execution_count": 2,
   "id": "b77fc713",
   "metadata": {},
   "outputs": [],
   "source": [
    "#Imports\n",
    "from neo4j import GraphDatabase, basic_auth\n",
    "import neo4jupyter\n",
    "import pandas as pd\n",
    "from vis_class import vis_class"
   ]
  },
  {
   "cell_type": "code",
   "execution_count": 3,
   "id": "1b4ef265",
   "metadata": {},
   "outputs": [
    {
     "data": {
      "application/javascript": [
       "var link = document.createElement(\"link\");\n",
       "\tlink.ref = \"stylesheet\";\n",
       "\tlink.type = \"text/css\";\n",
       "\tlink.href = \"https://cdnjs.cloudflare.com/ajax/libs/vis/4.8.2/vis.css\";\n",
       "\tdocument.head.appendChild(link);\n",
       "require.config({     paths: {         vis: '//cdnjs.cloudflare.com/ajax/libs/vis/4.8.2/vis.min'     } }); require(['vis'], function(vis) {  window.vis = vis; }); "
      ],
      "text/plain": [
       "<IPython.core.display.Javascript object>"
      ]
     },
     "metadata": {},
     "output_type": "display_data"
    },
    {
     "name": "stdout",
     "output_type": "stream",
     "text": [
      "Vis class was created\n"
     ]
    }
   ],
   "source": [
    "#Create db connector\n",
    "login = open(\"Login.txt\", \"r\")\n",
    "uri = login.readline().strip()\n",
    "user = login.readline().strip()\n",
    "password = login.readline().strip()\n",
    "login.close()\n",
    "\n",
    "driver = GraphDatabase.driver(uri, auth=basic_auth(user, password))\n",
    "session = driver.session(database=\"neo4j\")\n",
    "visualizer = vis_class()"
   ]
  },
  {
   "cell_type": "markdown",
   "id": "7ef51660",
   "metadata": {},
   "source": [
    "# Setup the database"
   ]
  },
  {
   "cell_type": "markdown",
   "id": "d3f8c558",
   "metadata": {},
   "source": [
    "This notebook is for the set up of the database and getting the data into it."
   ]
  },
  {
   "cell_type": "code",
   "execution_count": 4,
   "id": "1fd7d874",
   "metadata": {},
   "outputs": [
    {
     "data": {
      "text/plain": [
       "<neo4j.work.result.Result at 0x2601a2a35e0>"
      ]
     },
     "execution_count": 4,
     "metadata": {},
     "output_type": "execute_result"
    }
   ],
   "source": [
    "#Reset database\n",
    "delete_nodes_with_relationship = \"match (a) -[r] -> () delete a, r\"\n",
    "delete_nodes_without_relationships = \"match (a) delete a\"\n",
    "# All indexes and constraints.\n",
    "delete_all_index = \"CALL apoc.schema.assert({},{},true) YIELD label, key RETURN *\"\n",
    "\n",
    "session.run(delete_nodes_with_relationship)\n",
    "session.run(delete_nodes_without_relationships)\n",
    "session.run(delete_all_index)"
   ]
  },
  {
   "cell_type": "code",
   "execution_count": 5,
   "id": "451bc6ac",
   "metadata": {
    "scrolled": true
   },
   "outputs": [
    {
     "name": "stdout",
     "output_type": "stream",
     "text": [
      "CREATE\n",
      "  (Episode1:Movie {name: 'Episode I: The Phantom Menace'}),\n",
      "  (Episode2:Movie {name: 'Episode II: Attack of the Clones'}),\n",
      "  (Episode3:Movie {name: 'Episode III: Revenge of the Sith'}),\n",
      "  \n"
     ]
    }
   ],
   "source": [
    "#Load nodes and relations from file\n",
    "nodes_relation_open = open(\"nodes_relations.txt\", \"r\")\n",
    "nodes_relations = nodes_relation_open.read()\n",
    "nodes_relation_open.close()\n",
    "print(nodes_relations[:195])"
   ]
  },
  {
   "cell_type": "code",
   "execution_count": 6,
   "id": "4f6fcaa6",
   "metadata": {},
   "outputs": [
    {
     "data": {
      "text/plain": [
       "<neo4j.work.result.Result at 0x2601a2a3dc0>"
      ]
     },
     "execution_count": 6,
     "metadata": {},
     "output_type": "execute_result"
    }
   ],
   "source": [
    "#Filldatabase with nodes and relationships\n",
    "session.run(nodes_relations)"
   ]
  },
  {
   "cell_type": "markdown",
   "id": "0b1a8512",
   "metadata": {},
   "source": [
    "# Get the first informations from the database"
   ]
  },
  {
   "cell_type": "code",
   "execution_count": 7,
   "id": "1b57214e",
   "metadata": {
    "scrolled": true
   },
   "outputs": [
    {
     "data": {
      "text/plain": [
       "[{'nodes': [{'name': 'Movie', 'indexes': [], 'constraints': []},\n",
       "   {'name': 'Person', 'indexes': [], 'constraints': []},\n",
       "   {'name': 'Droid', 'indexes': [], 'constraints': []}],\n",
       "  'relationships': [({'name': 'Person', 'indexes': [], 'constraints': []},\n",
       "    'SPEAKS_WITH',\n",
       "    {'name': 'Person', 'indexes': [], 'constraints': []}),\n",
       "   ({'name': 'Droid', 'indexes': [], 'constraints': []},\n",
       "    'SPEAKS_WITH',\n",
       "    {'name': 'Droid', 'indexes': [], 'constraints': []}),\n",
       "   ({'name': 'Droid', 'indexes': [], 'constraints': []},\n",
       "    'SPEAKS_WITH',\n",
       "    {'name': 'Person', 'indexes': [], 'constraints': []}),\n",
       "   ({'name': 'Person', 'indexes': [], 'constraints': []},\n",
       "    'SPEAKS_WITH',\n",
       "    {'name': 'Droid', 'indexes': [], 'constraints': []}),\n",
       "   ({'name': 'Droid', 'indexes': [], 'constraints': []},\n",
       "    'APPEARS_IN',\n",
       "    {'name': 'Movie', 'indexes': [], 'constraints': []}),\n",
       "   ({'name': 'Person', 'indexes': [], 'constraints': []},\n",
       "    'APPEARS_IN',\n",
       "    {'name': 'Movie', 'indexes': [], 'constraints': []})]}]"
      ]
     },
     "execution_count": 7,
     "metadata": {},
     "output_type": "execute_result"
    }
   ],
   "source": [
    "#Get the graph structure\n",
    "results = session.read_transaction(\n",
    "    lambda tx: tx.run(\"CALL db.schema.visualization()\").data())\n",
    "dic = {\"Movie\": \"title\", \"Person\": \"name\"}\n",
    "results"
   ]
  },
  {
   "cell_type": "code",
   "execution_count": 8,
   "id": "467ddd80",
   "metadata": {},
   "outputs": [
    {
     "data": {
      "image/png": "[encoded data removed]",
      "text/plain": [
       "<Figure size 1008x432 with 1 Axes>"
      ]
     },
     "metadata": {},
     "output_type": "display_data"
    }
   ],
   "source": [
    "vis_class.power_drawGraph(driver, \"CALL db.schema.visualization()\", font_size=8, width=14, height=6)"
   ]
  },
  {
   "cell_type": "markdown",
   "id": "15208586",
   "metadata": {},
   "source": [
    "Diffrent way to visualize from Neo4J\n",
    "\n",
    "![title](img/graphschema.png)"
   ]
  },
  {
   "cell_type": "code",
   "execution_count": 9,
   "id": "e81117b9",
   "metadata": {},
   "outputs": [
    {
     "name": "stdout",
     "output_type": "stream",
     "text": [
      "next dataset: 1\n",
      "[{'n': {'name': 'R2-D2'}}, {'n': {'name': 'BB-8'}}, {'n': {'name': 'C-3PO'}}]\n",
      "\n",
      "next dataset: 2\n",
      "[{'n': {'name': 'Episode I: The Phantom Menace'}}, {'n': {'name': 'Episode II: Attack of the Clones'}}, {'n': {'name': 'Episode III: Revenge of the Sith'}}, {'n': {'name': 'Episode IV: A New Hope'}}, {'n': {'name': 'Episode V: The Empire Strikes Back'}}, {'n': {'name': 'Episode VI: Return of the Jedi'}}, {'n': {'name': 'Episode VII: The Force Awakens'}}]\n",
      "\n",
      "next dataset: 3\n",
      "[{'n': {'name': 'CHEWBACCA'}}, {'n': {'name': 'QUI-GON'}}, {'n': {'name': 'NUTE GUNRAY'}}, {'n': {'name': 'PK-4'}}, {'n': {'name': 'TC-14'}}, {'n': {'name': 'OBI-WAN'}}, {'n': {'name': 'DOFINE'}}, {'n': {'name': 'RUNE'}}, {'n': {'name': 'TEY HOW'}}, {'n': {'name': 'EMPEROR'}}, {'n': {'name': 'CAPTAIN PANAKA'}}, {'n': {'name': 'SIO BIBBLE'}}, {'n': {'name': 'JAR JAR'}}, {'n': {'name': 'TARPALS'}}, {'n': {'name': 'BOSS NASS'}}, {'n': {'name': 'PADME'}}, {'n': {'name': 'RIC OLIE'}}, {'n': {'name': 'WATTO'}}, {'n': {'name': 'ANAKIN'}}, {'n': {'name': 'SEBULBA'}}, {'n': {'name': 'JIRA'}}, {'n': {'name': 'SHMI'}}, {'n': {'name': 'DARTH MAUL'}}, {'n': {'name': 'KITSTER'}}, {'n': {'name': 'WALD'}}]\n",
      "\n"
     ]
    }
   ],
   "source": [
    "#Show nodes of Droid, Movies, Person \n",
    "test_querys = ['''MATCH (n:Droid) RETURN n LIMIT 25''', '''MATCH (n:Movie) RETURN n LIMIT 25''', '''MATCH (n:Person) RETURN n LIMIT 25''']\n",
    "\n",
    "i = 1\n",
    "for test_query in test_querys:\n",
    "    print('next dataset: ' + str(i))\n",
    "    results = session.read_transaction(\n",
    "        lambda tx: tx.run(test_query).data())\n",
    "    print(results) #Change to a visualisation\n",
    "    print('')\n",
    "    i += 1"
   ]
  },
  {
   "cell_type": "code",
   "execution_count": 10,
   "id": "6d7a08a1",
   "metadata": {},
   "outputs": [],
   "source": [
    "test_query_vis_d = \"\"\"MATCH (n:Droid) RETURN n AS source_node, \n",
    "                                id(n) AS source_id,\n",
    "                                null,\n",
    "                                null AS target_node,\n",
    "                                null AS target_id\"\"\""
   ]
  },
  {
   "cell_type": "code",
   "execution_count": 11,
   "id": "4fde8230",
   "metadata": {},
   "outputs": [
    {
     "data": {
      "text/html": [
       "<div id=\"16df0565-c085-4844-b11c-930f4026e194\" style=\"height: 400px;\"></div>\n",
       "\n",
       "<script type=\"text/javascript\">\n",
       "\n",
       "    var nodes = [{\"id\": 7, \"label\": \"R2-D2\", \"group\": \"Droid\", \"title\": \"<Node id=7 labels=frozenset({'Droid'}) properties={'name': 'R2-D2'}>\"}, {\"id\": 9, \"label\": \"BB-8\", \"group\": \"Droid\", \"title\": \"<Node id=9 labels=frozenset({'Droid'}) properties={'name': 'BB-8'}>\"}, {\"id\": 31, \"label\": \"C-3PO\", \"group\": \"Droid\", \"title\": \"<Node id=31 labels=frozenset({'Droid'}) properties={'name': 'C-3PO'}>\"}];\n",
       "    var edges = [];\n",
       "\n",
       "    var container = document.getElementById(\"16df0565-c085-4844-b11c-930f4026e194\");\n",
       "\n",
       "    var data = {\n",
       "        nodes: nodes,\n",
       "        edges: edges\n",
       "    };\n",
       "\n",
       "    var options = {\n",
       "    nodes: {\n",
       "        shape: 'dot',\n",
       "        size: 25,\n",
       "        font: {\n",
       "            size: 14\n",
       "        }\n",
       "    },\n",
       "    edges: {\n",
       "        font: {\n",
       "            size: 14,\n",
       "            align: 'middle'\n",
       "        },\n",
       "        color: 'gray',\n",
       "        arrows: {\n",
       "            to: {\n",
       "                enabled: true,\n",
       "                scaleFactor: 0.5\n",
       "            }\n",
       "        },\n",
       "        smooth: {\n",
       "            enabled: false\n",
       "        }\n",
       "    },\n",
       "    physics: {\n",
       "        enabled: true\n",
       "        }\n",
       "    };\n",
       "\n",
       "    var network = new vis.Network(container, data, options);\n",
       "\n",
       "</script>\n"
      ],
      "text/plain": [
       "<IPython.core.display.HTML object>"
      ]
     },
     "execution_count": 11,
     "metadata": {},
     "output_type": "execute_result"
    }
   ],
   "source": [
    "vis_class.drawGraph(session, {'Droid': 'name'}, test_query_vis_d)  "
   ]
  },
  {
   "cell_type": "code",
   "execution_count": 12,
   "id": "821f6911",
   "metadata": {},
   "outputs": [],
   "source": [
    "test_query_vis_d = \"\"\"MATCH (n:Droid)-[s:SPEAKS_WITH]-(m:Droid) RETURN n AS source_node, \n",
    "                                id(n) AS source_id,\n",
    "                                s,\n",
    "                                m AS target_node,\n",
    "                                id(m) AS target_id\"\"\""
   ]
  },
  {
   "cell_type": "code",
   "execution_count": 13,
   "id": "c1805b5c",
   "metadata": {},
   "outputs": [
    {
     "data": {
      "text/html": [
       "<div id=\"6c9b7f7f-0349-4137-8859-84972373ec21\" style=\"height: 400px;\"></div>\n",
       "\n",
       "<script type=\"text/javascript\">\n",
       "\n",
       "    var nodes = [{\"id\": 31, \"label\": \"C-3PO\", \"group\": \"Droid\", \"title\": \"<Node id=31 labels=frozenset({'Droid'}) properties={'name': 'C-3PO'}>\"}, {\"id\": 7, \"label\": \"R2-D2\", \"group\": \"Droid\", \"title\": \"<Node id=7 labels=frozenset({'Droid'}) properties={'name': 'R2-D2'}>\"}, {\"id\": 9, \"label\": \"BB-8\", \"group\": \"Droid\", \"title\": \"<Node id=9 labels=frozenset({'Droid'}) properties={'name': 'BB-8'}>\"}];\n",
       "    var edges = [{\"from\": 31, \"to\": 7, \"label\": \"SPEAKS_WITH\"}, {\"from\": 9, \"to\": 7, \"label\": \"SPEAKS_WITH\"}, {\"from\": 31, \"to\": 9, \"label\": \"SPEAKS_WITH\"}, {\"from\": 7, \"to\": 9, \"label\": \"SPEAKS_WITH\"}, {\"from\": 9, \"to\": 31, \"label\": \"SPEAKS_WITH\"}, {\"from\": 7, \"to\": 31, \"label\": \"SPEAKS_WITH\"}];\n",
       "\n",
       "    var container = document.getElementById(\"6c9b7f7f-0349-4137-8859-84972373ec21\");\n",
       "\n",
       "    var data = {\n",
       "        nodes: nodes,\n",
       "        edges: edges\n",
       "    };\n",
       "\n",
       "    var options = {\n",
       "    nodes: {\n",
       "        shape: 'dot',\n",
       "        size: 25,\n",
       "        font: {\n",
       "            size: 14\n",
       "        }\n",
       "    },\n",
       "    edges: {\n",
       "        font: {\n",
       "            size: 14,\n",
       "            align: 'middle'\n",
       "        },\n",
       "        color: 'gray',\n",
       "        arrows: {\n",
       "            to: {\n",
       "                enabled: true,\n",
       "                scaleFactor: 0.5\n",
       "            }\n",
       "        },\n",
       "        smooth: {\n",
       "            enabled: false\n",
       "        }\n",
       "    },\n",
       "    physics: {\n",
       "        enabled: true\n",
       "        }\n",
       "    };\n",
       "\n",
       "    var network = new vis.Network(container, data, options);\n",
       "\n",
       "</script>\n"
      ],
      "text/plain": [
       "<IPython.core.display.HTML object>"
      ]
     },
     "execution_count": 13,
     "metadata": {},
     "output_type": "execute_result"
    }
   ],
   "source": [
    "vis_class.drawGraph(session, {'Droid': 'name'}, test_query_vis_d)  "
   ]
  },
  {
   "cell_type": "code",
   "execution_count": 14,
   "id": "05198bce",
   "metadata": {},
   "outputs": [],
   "source": [
    "test_query_vis_m = '''MATCH (n:Movie) RETURN n AS source_node, \n",
    "                                id(n) AS source_id,\n",
    "                                null,\n",
    "                                null AS target_node,\n",
    "                                null AS target_id'''"
   ]
  },
  {
   "cell_type": "code",
   "execution_count": 15,
   "id": "650d8b1e",
   "metadata": {},
   "outputs": [
    {
     "data": {
      "text/html": [
       "<div id=\"afda9d20-e651-4b35-b9b9-6046485450d9\" style=\"height: 400px;\"></div>\n",
       "\n",
       "<script type=\"text/javascript\">\n",
       "\n",
       "    var nodes = [{\"id\": 0, \"label\": \"Episode I: The Phantom Menace\", \"group\": \"Movie\", \"title\": \"<Node id=0 labels=frozenset({'Movie'}) properties={'name': 'Episode I: The Phantom Menace'}>\"}, {\"id\": 1, \"label\": \"Episode II: Attack of the Clones\", \"group\": \"Movie\", \"title\": \"<Node id=1 labels=frozenset({'Movie'}) properties={'name': 'Episode II: Attack of the Clones'}>\"}, {\"id\": 2, \"label\": \"Episode III: Revenge of the Sith\", \"group\": \"Movie\", \"title\": \"<Node id=2 labels=frozenset({'Movie'}) properties={'name': 'Episode III: Revenge of the Sith'}>\"}, {\"id\": 3, \"label\": \"Episode IV: A New Hope\", \"group\": \"Movie\", \"title\": \"<Node id=3 labels=frozenset({'Movie'}) properties={'name': 'Episode IV: A New Hope'}>\"}, {\"id\": 4, \"label\": \"Episode V: The Empire Strikes Back\", \"group\": \"Movie\", \"title\": \"<Node id=4 labels=frozenset({'Movie'}) properties={'name': 'Episode V: The Empire Strikes Back'}>\"}, {\"id\": 5, \"label\": \"Episode VI: Return of the Jedi\", \"group\": \"Movie\", \"title\": \"<Node id=5 labels=frozenset({'Movie'}) properties={'name': 'Episode VI: Return of the Jedi'}>\"}, {\"id\": 6, \"label\": \"Episode VII: The Force Awakens\", \"group\": \"Movie\", \"title\": \"<Node id=6 labels=frozenset({'Movie'}) properties={'name': 'Episode VII: The Force Awakens'}>\"}];\n",
       "    var edges = [];\n",
       "\n",
       "    var container = document.getElementById(\"afda9d20-e651-4b35-b9b9-6046485450d9\");\n",
       "\n",
       "    var data = {\n",
       "        nodes: nodes,\n",
       "        edges: edges\n",
       "    };\n",
       "\n",
       "    var options = {\n",
       "    nodes: {\n",
       "        shape: 'dot',\n",
       "        size: 25,\n",
       "        font: {\n",
       "            size: 14\n",
       "        }\n",
       "    },\n",
       "    edges: {\n",
       "        font: {\n",
       "            size: 14,\n",
       "            align: 'middle'\n",
       "        },\n",
       "        color: 'gray',\n",
       "        arrows: {\n",
       "            to: {\n",
       "                enabled: true,\n",
       "                scaleFactor: 0.5\n",
       "            }\n",
       "        },\n",
       "        smooth: {\n",
       "            enabled: false\n",
       "        }\n",
       "    },\n",
       "    physics: {\n",
       "        enabled: true\n",
       "        }\n",
       "    };\n",
       "\n",
       "    var network = new vis.Network(container, data, options);\n",
       "\n",
       "</script>\n"
      ],
      "text/plain": [
       "<IPython.core.display.HTML object>"
      ]
     },
     "execution_count": 15,
     "metadata": {},
     "output_type": "execute_result"
    }
   ],
   "source": [
    "vis_class.drawGraph(session, {'Movie': 'name'}, test_query_vis_m)  "
   ]
  },
  {
   "cell_type": "code",
   "execution_count": 16,
   "id": "4154041f",
   "metadata": {},
   "outputs": [],
   "source": [
    "test_query_vis_p =  '''MATCH (n:Person) RETURN n AS source_node, \n",
    "                                id(n) AS source_id,\n",
    "                                null,\n",
    "                                null AS target_node,\n",
    "                                null AS target_id'''"
   ]
  },
  {
   "cell_type": "code",
   "execution_count": 17,
   "id": "ecf2c1b0",
   "metadata": {
    "scrolled": true
   },
   "outputs": [
    {
     "data": {
      "text/html": [
       "<div id=\"3507d4b2-e9fb-4eeb-851f-e808ee189fe5\" style=\"height: 400px;\"></div>\n",
       "\n",
       "<script type=\"text/javascript\">\n",
       "\n",
       "    var nodes = [{\"id\": 8, \"label\": \"CHEWBACCA\", \"group\": \"Person\", \"title\": \"<Node id=8 labels=frozenset({'Person'}) properties={'name': 'CHEWBACCA'}>\"}, {\"id\": 10, \"label\": \"QUI-GON\", \"group\": \"Person\", \"title\": \"<Node id=10 labels=frozenset({'Person'}) properties={'name': 'QUI-GON'}>\"}, {\"id\": 11, \"label\": \"NUTE GUNRAY\", \"group\": \"Person\", \"title\": \"<Node id=11 labels=frozenset({'Person'}) properties={'name': 'NUTE GUNRAY'}>\"}, {\"id\": 12, \"label\": \"PK-4\", \"group\": \"Person\", \"title\": \"<Node id=12 labels=frozenset({'Person'}) properties={'name': 'PK-4'}>\"}, {\"id\": 13, \"label\": \"TC-14\", \"group\": \"Person\", \"title\": \"<Node id=13 labels=frozenset({'Person'}) properties={'name': 'TC-14'}>\"}, {\"id\": 14, \"label\": \"OBI-WAN\", \"group\": \"Person\", \"title\": \"<Node id=14 labels=frozenset({'Person'}) properties={'name': 'OBI-WAN'}>\"}, {\"id\": 15, \"label\": \"DOFINE\", \"group\": \"Person\", \"title\": \"<Node id=15 labels=frozenset({'Person'}) properties={'name': 'DOFINE'}>\"}, {\"id\": 16, \"label\": \"RUNE\", \"group\": \"Person\", \"title\": \"<Node id=16 labels=frozenset({'Person'}) properties={'name': 'RUNE'}>\"}, {\"id\": 17, \"label\": \"TEY HOW\", \"group\": \"Person\", \"title\": \"<Node id=17 labels=frozenset({'Person'}) properties={'name': 'TEY HOW'}>\"}, {\"id\": 18, \"label\": \"EMPEROR\", \"group\": \"Person\", \"title\": \"<Node id=18 labels=frozenset({'Person'}) properties={'name': 'EMPEROR'}>\"}, {\"id\": 19, \"label\": \"CAPTAIN PANAKA\", \"group\": \"Person\", \"title\": \"<Node id=19 labels=frozenset({'Person'}) properties={'name': 'CAPTAIN PANAKA'}>\"}, {\"id\": 20, \"label\": \"SIO BIBBLE\", \"group\": \"Person\", \"title\": \"<Node id=20 labels=frozenset({'Person'}) properties={'name': 'SIO BIBBLE'}>\"}, {\"id\": 21, \"label\": \"JAR JAR\", \"group\": \"Person\", \"title\": \"<Node id=21 labels=frozenset({'Person'}) properties={'name': 'JAR JAR'}>\"}, {\"id\": 22, \"label\": \"TARPALS\", \"group\": \"Person\", \"title\": \"<Node id=22 labels=frozenset({'Person'}) properties={'name': 'TARPALS'}>\"}, {\"id\": 23, \"label\": \"BOSS NASS\", \"group\": \"Person\", \"title\": \"<Node id=23 labels=frozenset({'Person'}) properties={'name': 'BOSS NASS'}>\"}, {\"id\": 24, \"label\": \"PADME\", \"group\": \"Person\", \"title\": \"<Node id=24 labels=frozenset({'Person'}) properties={'name': 'PADME'}>\"}, {\"id\": 25, \"label\": \"RIC OLIE\", \"group\": \"Person\", \"title\": \"<Node id=25 labels=frozenset({'Person'}) properties={'name': 'RIC OLIE'}>\"}, {\"id\": 26, \"label\": \"WATTO\", \"group\": \"Person\", \"title\": \"<Node id=26 labels=frozenset({'Person'}) properties={'name': 'WATTO'}>\"}, {\"id\": 27, \"label\": \"ANAKIN\", \"group\": \"Person\", \"title\": \"<Node id=27 labels=frozenset({'Person'}) properties={'name': 'ANAKIN'}>\"}, {\"id\": 28, \"label\": \"SEBULBA\", \"group\": \"Person\", \"title\": \"<Node id=28 labels=frozenset({'Person'}) properties={'name': 'SEBULBA'}>\"}, {\"id\": 29, \"label\": \"JIRA\", \"group\": \"Person\", \"title\": \"<Node id=29 labels=frozenset({'Person'}) properties={'name': 'JIRA'}>\"}, {\"id\": 30, \"label\": \"SHMI\", \"group\": \"Person\", \"title\": \"<Node id=30 labels=frozenset({'Person'}) properties={'name': 'SHMI'}>\"}, {\"id\": 32, \"label\": \"DARTH MAUL\", \"group\": \"Person\", \"title\": \"<Node id=32 labels=frozenset({'Person'}) properties={'name': 'DARTH MAUL'}>\"}, {\"id\": 33, \"label\": \"KITSTER\", \"group\": \"Person\", \"title\": \"<Node id=33 labels=frozenset({'Person'}) properties={'name': 'KITSTER'}>\"}, {\"id\": 34, \"label\": \"WALD\", \"group\": \"Person\", \"title\": \"<Node id=34 labels=frozenset({'Person'}) properties={'name': 'WALD'}>\"}, {\"id\": 35, \"label\": \"FODE/BEED\", \"group\": \"Person\", \"title\": \"<Node id=35 labels=frozenset({'Person'}) properties={'name': 'FODE/BEED'}>\"}, {\"id\": 36, \"label\": \"JABBA\", \"group\": \"Person\", \"title\": \"<Node id=36 labels=frozenset({'Person'}) properties={'name': 'JABBA'}>\"}, {\"id\": 37, \"label\": \"GREEDO\", \"group\": \"Person\", \"title\": \"<Node id=37 labels=frozenset({'Person'}) properties={'name': 'GREEDO'}>\"}, {\"id\": 38, \"label\": \"VALORUM\", \"group\": \"Person\", \"title\": \"<Node id=38 labels=frozenset({'Person'}) properties={'name': 'VALORUM'}>\"}, {\"id\": 39, \"label\": \"MACE WINDU\", \"group\": \"Person\", \"title\": \"<Node id=39 labels=frozenset({'Person'}) properties={'name': 'MACE WINDU'}>\"}, {\"id\": 40, \"label\": \"KI-ADI-MUNDI\", \"group\": \"Person\", \"title\": \"<Node id=40 labels=frozenset({'Person'}) properties={'name': 'KI-ADI-MUNDI'}>\"}, {\"id\": 41, \"label\": \"YODA\", \"group\": \"Person\", \"title\": \"<Node id=41 labels=frozenset({'Person'}) properties={'name': 'YODA'}>\"}, {\"id\": 42, \"label\": \"RABE\", \"group\": \"Person\", \"title\": \"<Node id=42 labels=frozenset({'Person'}) properties={'name': 'RABE'}>\"}, {\"id\": 43, \"label\": \"BAIL ORGANA\", \"group\": \"Person\", \"title\": \"<Node id=43 labels=frozenset({'Person'}) properties={'name': 'BAIL ORGANA'}>\"}, {\"id\": 44, \"label\": \"GENERAL CEEL\", \"group\": \"Person\", \"title\": \"<Node id=44 labels=frozenset({'Person'}) properties={'name': 'GENERAL CEEL'}>\"}, {\"id\": 45, \"label\": \"BRAVO TWO\", \"group\": \"Person\", \"title\": \"<Node id=45 labels=frozenset({'Person'}) properties={'name': 'BRAVO TWO'}>\"}, {\"id\": 46, \"label\": \"BRAVO THREE\", \"group\": \"Person\", \"title\": \"<Node id=46 labels=frozenset({'Person'}) properties={'name': 'BRAVO THREE'}>\"}, {\"id\": 47, \"label\": \"CAPTAIN TYPHO\", \"group\": \"Person\", \"title\": \"<Node id=47 labels=frozenset({'Person'}) properties={'name': 'CAPTAIN TYPHO'}>\"}, {\"id\": 48, \"label\": \"SENATOR ASK AAK\", \"group\": \"Person\", \"title\": \"<Node id=48 labels=frozenset({'Person'}) properties={'name': 'SENATOR ASK AAK'}>\"}, {\"id\": 49, \"label\": \"ORN FREE TAA\", \"group\": \"Person\", \"title\": \"<Node id=49 labels=frozenset({'Person'}) properties={'name': 'ORN FREE TAA'}>\"}, {\"id\": 50, \"label\": \"SOLA\", \"group\": \"Person\", \"title\": \"<Node id=50 labels=frozenset({'Person'}) properties={'name': 'SOLA'}>\"}, {\"id\": 51, \"label\": \"JOBAL\", \"group\": \"Person\", \"title\": \"<Node id=51 labels=frozenset({'Person'}) properties={'name': 'JOBAL'}>\"}, {\"id\": 52, \"label\": \"RUWEE\", \"group\": \"Person\", \"title\": \"<Node id=52 labels=frozenset({'Person'}) properties={'name': 'RUWEE'}>\"}, {\"id\": 53, \"label\": \"TAUN WE\", \"group\": \"Person\", \"title\": \"<Node id=53 labels=frozenset({'Person'}) properties={'name': 'TAUN WE'}>\"}, {\"id\": 54, \"label\": \"LAMA SU\", \"group\": \"Person\", \"title\": \"<Node id=54 labels=frozenset({'Person'}) properties={'name': 'LAMA SU'}>\"}, {\"id\": 55, \"label\": \"BOBA FETT\", \"group\": \"Person\", \"title\": \"<Node id=55 labels=frozenset({'Person'}) properties={'name': 'BOBA FETT'}>\"}, {\"id\": 56, \"label\": \"JANGO FETT\", \"group\": \"Person\", \"title\": \"<Node id=56 labels=frozenset({'Person'}) properties={'name': 'JANGO FETT'}>\"}, {\"id\": 57, \"label\": \"OWEN\", \"group\": \"Person\", \"title\": \"<Node id=57 labels=frozenset({'Person'}) properties={'name': 'OWEN'}>\"}, {\"id\": 58, \"label\": \"BERU\", \"group\": \"Person\", \"title\": \"<Node id=58 labels=frozenset({'Person'}) properties={'name': 'BERU'}>\"}, {\"id\": 59, \"label\": \"CLIEGG\", \"group\": \"Person\", \"title\": \"<Node id=59 labels=frozenset({'Person'}) properties={'name': 'CLIEGG'}>\"}, {\"id\": 60, \"label\": \"COUNT DOOKU\", \"group\": \"Person\", \"title\": \"<Node id=60 labels=frozenset({'Person'}) properties={'name': 'COUNT DOOKU'}>\"}, {\"id\": 61, \"label\": \"SUN RIT\", \"group\": \"Person\", \"title\": \"<Node id=61 labels=frozenset({'Person'}) properties={'name': 'SUN RIT'}>\"}, {\"id\": 62, \"label\": \"POGGLE\", \"group\": \"Person\", \"title\": \"<Node id=62 labels=frozenset({'Person'}) properties={'name': 'POGGLE'}>\"}, {\"id\": 63, \"label\": \"PLO KOON\", \"group\": \"Person\", \"title\": \"<Node id=63 labels=frozenset({'Person'}) properties={'name': 'PLO KOON'}>\"}, {\"id\": 64, \"label\": \"ODD BALL\", \"group\": \"Person\", \"title\": \"<Node id=64 labels=frozenset({'Person'}) properties={'name': 'ODD BALL'}>\"}, {\"id\": 65, \"label\": \"GENERAL GRIEVOUS\", \"group\": \"Person\", \"title\": \"<Node id=65 labels=frozenset({'Person'}) properties={'name': 'GENERAL GRIEVOUS'}>\"}, {\"id\": 66, \"label\": \"FANG ZAR\", \"group\": \"Person\", \"title\": \"<Node id=66 labels=frozenset({'Person'}) properties={'name': 'FANG ZAR'}>\"}, {\"id\": 67, \"label\": \"MON MOTHMA\", \"group\": \"Person\", \"title\": \"<Node id=67 labels=frozenset({'Person'}) properties={'name': 'MON MOTHMA'}>\"}, {\"id\": 68, \"label\": \"GIDDEAN DANU\", \"group\": \"Person\", \"title\": \"<Node id=68 labels=frozenset({'Person'}) properties={'name': 'GIDDEAN DANU'}>\"}, {\"id\": 69, \"label\": \"CLONE COMMANDER GREE\", \"group\": \"Person\", \"title\": \"<Node id=69 labels=frozenset({'Person'}) properties={'name': 'CLONE COMMANDER GREE'}>\"}, {\"id\": 70, \"label\": \"CLONE COMMANDER CODY\", \"group\": \"Person\", \"title\": \"<Node id=70 labels=frozenset({'Person'}) properties={'name': 'CLONE COMMANDER CODY'}>\"}, {\"id\": 71, \"label\": \"TION MEDON\", \"group\": \"Person\", \"title\": \"<Node id=71 labels=frozenset({'Person'}) properties={'name': 'TION MEDON'}>\"}, {\"id\": 72, \"label\": \"CAPTAIN ANTILLES\", \"group\": \"Person\", \"title\": \"<Node id=72 labels=frozenset({'Person'}) properties={'name': 'CAPTAIN ANTILLES'}>\"}, {\"id\": 73, \"label\": \"DARTH VADER\", \"group\": \"Person\", \"title\": \"<Node id=73 labels=frozenset({'Person'}) properties={'name': 'DARTH VADER'}>\"}, {\"id\": 74, \"label\": \"LUKE\", \"group\": \"Person\", \"title\": \"<Node id=74 labels=frozenset({'Person'}) properties={'name': 'LUKE'}>\"}, {\"id\": 75, \"label\": \"CAMIE\", \"group\": \"Person\", \"title\": \"<Node id=75 labels=frozenset({'Person'}) properties={'name': 'CAMIE'}>\"}, {\"id\": 76, \"label\": \"BIGGS\", \"group\": \"Person\", \"title\": \"<Node id=76 labels=frozenset({'Person'}) properties={'name': 'BIGGS'}>\"}, {\"id\": 77, \"label\": \"LEIA\", \"group\": \"Person\", \"title\": \"<Node id=77 labels=frozenset({'Person'}) properties={'name': 'LEIA'}>\"}, {\"id\": 78, \"label\": \"MOTTI\", \"group\": \"Person\", \"title\": \"<Node id=78 labels=frozenset({'Person'}) properties={'name': 'MOTTI'}>\"}, {\"id\": 79, \"label\": \"TARKIN\", \"group\": \"Person\", \"title\": \"<Node id=79 labels=frozenset({'Person'}) properties={'name': 'TARKIN'}>\"}, {\"id\": 80, \"label\": \"HAN\", \"group\": \"Person\", \"title\": \"<Node id=80 labels=frozenset({'Person'}) properties={'name': 'HAN'}>\"}, {\"id\": 81, \"label\": \"DODONNA\", \"group\": \"Person\", \"title\": \"<Node id=81 labels=frozenset({'Person'}) properties={'name': 'DODONNA'}>\"}, {\"id\": 82, \"label\": \"GOLD LEADER\", \"group\": \"Person\", \"title\": \"<Node id=82 labels=frozenset({'Person'}) properties={'name': 'GOLD LEADER'}>\"}, {\"id\": 83, \"label\": \"WEDGE\", \"group\": \"Person\", \"title\": \"<Node id=83 labels=frozenset({'Person'}) properties={'name': 'WEDGE'}>\"}, {\"id\": 84, \"label\": \"RED LEADER\", \"group\": \"Person\", \"title\": \"<Node id=84 labels=frozenset({'Person'}) properties={'name': 'RED LEADER'}>\"}, {\"id\": 85, \"label\": \"RED TEN\", \"group\": \"Person\", \"title\": \"<Node id=85 labels=frozenset({'Person'}) properties={'name': 'RED TEN'}>\"}, {\"id\": 86, \"label\": \"GOLD FIVE\", \"group\": \"Person\", \"title\": \"<Node id=86 labels=frozenset({'Person'}) properties={'name': 'GOLD FIVE'}>\"}, {\"id\": 87, \"label\": \"RIEEKAN\", \"group\": \"Person\", \"title\": \"<Node id=87 labels=frozenset({'Person'}) properties={'name': 'RIEEKAN'}>\"}, {\"id\": 88, \"label\": \"DERLIN\", \"group\": \"Person\", \"title\": \"<Node id=88 labels=frozenset({'Person'}) properties={'name': 'DERLIN'}>\"}, {\"id\": 89, \"label\": \"ZEV\", \"group\": \"Person\", \"title\": \"<Node id=89 labels=frozenset({'Person'}) properties={'name': 'ZEV'}>\"}, {\"id\": 90, \"label\": \"PIETT\", \"group\": \"Person\", \"title\": \"<Node id=90 labels=frozenset({'Person'}) properties={'name': 'PIETT'}>\"}, {\"id\": 91, \"label\": \"OZZEL\", \"group\": \"Person\", \"title\": \"<Node id=91 labels=frozenset({'Person'}) properties={'name': 'OZZEL'}>\"}, {\"id\": 92, \"label\": \"DACK\", \"group\": \"Person\", \"title\": \"<Node id=92 labels=frozenset({'Person'}) properties={'name': 'DACK'}>\"}, {\"id\": 93, \"label\": \"JANSON\", \"group\": \"Person\", \"title\": \"<Node id=93 labels=frozenset({'Person'}) properties={'name': 'JANSON'}>\"}, {\"id\": 94, \"label\": \"NEEDA\", \"group\": \"Person\", \"title\": \"<Node id=94 labels=frozenset({'Person'}) properties={'name': 'NEEDA'}>\"}, {\"id\": 95, \"label\": \"LANDO\", \"group\": \"Person\", \"title\": \"<Node id=95 labels=frozenset({'Person'}) properties={'name': 'LANDO'}>\"}, {\"id\": 96, \"label\": \"JERJERROD\", \"group\": \"Person\", \"title\": \"<Node id=96 labels=frozenset({'Person'}) properties={'name': 'JERJERROD'}>\"}, {\"id\": 97, \"label\": \"BIB FORTUNA\", \"group\": \"Person\", \"title\": \"<Node id=97 labels=frozenset({'Person'}) properties={'name': 'BIB FORTUNA'}>\"}, {\"id\": 98, \"label\": \"BOUSHH\", \"group\": \"Person\", \"title\": \"<Node id=98 labels=frozenset({'Person'}) properties={'name': 'BOUSHH'}>\"}, {\"id\": 99, \"label\": \"ADMIRAL ACKBAR\", \"group\": \"Person\", \"title\": \"<Node id=99 labels=frozenset({'Person'}) properties={'name': 'ADMIRAL ACKBAR'}>\"}, {\"id\": 100, \"label\": \"LOR SAN TEKKA\", \"group\": \"Person\", \"title\": \"<Node id=100 labels=frozenset({'Person'}) properties={'name': 'LOR SAN TEKKA'}>\"}, {\"id\": 101, \"label\": \"POE\", \"group\": \"Person\", \"title\": \"<Node id=101 labels=frozenset({'Person'}) properties={'name': 'POE'}>\"}, {\"id\": 102, \"label\": \"KYLO REN\", \"group\": \"Person\", \"title\": \"<Node id=102 labels=frozenset({'Person'}) properties={'name': 'KYLO REN'}>\"}, {\"id\": 103, \"label\": \"CAPTAIN PHASMA\", \"group\": \"Person\", \"title\": \"<Node id=103 labels=frozenset({'Person'}) properties={'name': 'CAPTAIN PHASMA'}>\"}, {\"id\": 104, \"label\": \"FINN\", \"group\": \"Person\", \"title\": \"<Node id=104 labels=frozenset({'Person'}) properties={'name': 'FINN'}>\"}, {\"id\": 105, \"label\": \"UNKAR PLUTT\", \"group\": \"Person\", \"title\": \"<Node id=105 labels=frozenset({'Person'}) properties={'name': 'UNKAR PLUTT'}>\"}, {\"id\": 106, \"label\": \"REY\", \"group\": \"Person\", \"title\": \"<Node id=106 labels=frozenset({'Person'}) properties={'name': 'REY'}>\"}, {\"id\": 107, \"label\": \"GENERAL HUX\", \"group\": \"Person\", \"title\": \"<Node id=107 labels=frozenset({'Person'}) properties={'name': 'GENERAL HUX'}>\"}, {\"id\": 108, \"label\": \"LIEUTENANT MITAKA\", \"group\": \"Person\", \"title\": \"<Node id=108 labels=frozenset({'Person'}) properties={'name': 'LIEUTENANT MITAKA'}>\"}, {\"id\": 109, \"label\": \"BALA-TIK\", \"group\": \"Person\", \"title\": \"<Node id=109 labels=frozenset({'Person'}) properties={'name': 'BALA-TIK'}>\"}, {\"id\": 110, \"label\": \"SNOKE\", \"group\": \"Person\", \"title\": \"<Node id=110 labels=frozenset({'Person'}) properties={'name': 'SNOKE'}>\"}, {\"id\": 111, \"label\": \"MAZ\", \"group\": \"Person\", \"title\": \"<Node id=111 labels=frozenset({'Person'}) properties={'name': 'MAZ'}>\"}, {\"id\": 112, \"label\": \"SNAP\", \"group\": \"Person\", \"title\": \"<Node id=112 labels=frozenset({'Person'}) properties={'name': 'SNAP'}>\"}, {\"id\": 113, \"label\": \"ADMIRAL STATURA\", \"group\": \"Person\", \"title\": \"<Node id=113 labels=frozenset({'Person'}) properties={'name': 'ADMIRAL STATURA'}>\"}, {\"id\": 114, \"label\": \"YOLO ZIFF\", \"group\": \"Person\", \"title\": \"<Node id=114 labels=frozenset({'Person'}) properties={'name': 'YOLO ZIFF'}>\"}, {\"id\": 115, \"label\": \"COLONEL DATOO\", \"group\": \"Person\", \"title\": \"<Node id=115 labels=frozenset({'Person'}) properties={'name': 'COLONEL DATOO'}>\"}, {\"id\": 116, \"label\": \"ELLO ASTY\", \"group\": \"Person\", \"title\": \"<Node id=116 labels=frozenset({'Person'}) properties={'name': 'ELLO ASTY'}>\"}, {\"id\": 117, \"label\": \"JESS\", \"group\": \"Person\", \"title\": \"<Node id=117 labels=frozenset({'Person'}) properties={'name': 'JESS'}>\"}, {\"id\": 118, \"label\": \"NIV LEK\", \"group\": \"Person\", \"title\": \"<Node id=118 labels=frozenset({'Person'}) properties={'name': 'NIV LEK'}>\"}];\n",
       "    var edges = [];\n",
       "\n",
       "    var container = document.getElementById(\"3507d4b2-e9fb-4eeb-851f-e808ee189fe5\");\n",
       "\n",
       "    var data = {\n",
       "        nodes: nodes,\n",
       "        edges: edges\n",
       "    };\n",
       "\n",
       "    var options = {\n",
       "    nodes: {\n",
       "        shape: 'dot',\n",
       "        size: 25,\n",
       "        font: {\n",
       "            size: 14\n",
       "        }\n",
       "    },\n",
       "    edges: {\n",
       "        font: {\n",
       "            size: 14,\n",
       "            align: 'middle'\n",
       "        },\n",
       "        color: 'gray',\n",
       "        arrows: {\n",
       "            to: {\n",
       "                enabled: true,\n",
       "                scaleFactor: 0.5\n",
       "            }\n",
       "        },\n",
       "        smooth: {\n",
       "            enabled: false\n",
       "        }\n",
       "    },\n",
       "    physics: {\n",
       "        enabled: true\n",
       "        }\n",
       "    };\n",
       "\n",
       "    var network = new vis.Network(container, data, options);\n",
       "\n",
       "</script>\n"
      ],
      "text/plain": [
       "<IPython.core.display.HTML object>"
      ]
     },
     "execution_count": 17,
     "metadata": {},
     "output_type": "execute_result"
    }
   ],
   "source": [
    "vis_class.drawGraph(session, {'Person': 'name'}, test_query_vis_p)  "
   ]
  },
  {
   "cell_type": "code",
   "execution_count": 18,
   "id": "5f96a343",
   "metadata": {},
   "outputs": [],
   "source": [
    "test_query_vis_p =  '''MATCH (n:Person) -[r:SPEAKS_WITH]-(m:Person) \n",
    "                        RETURN n AS source_node, \n",
    "                                id(n) AS source_id,\n",
    "                                r,\n",
    "                                m AS target_node,\n",
    "                                id(m) AS target_id\n",
    "                                LIMIT 100'''"
   ]
  },
  {
   "cell_type": "code",
   "execution_count": 19,
   "id": "5a6267f5",
   "metadata": {},
   "outputs": [
    {
     "data": {
      "text/html": [
       "<div id=\"ae5bfb20-d760-4fe7-99d1-e691353cab0e\" style=\"height: 400px;\"></div>\n",
       "\n",
       "<script type=\"text/javascript\">\n",
       "\n",
       "    var nodes = [{\"id\": 8, \"label\": \"CHEWBACCA\", \"group\": \"Person\", \"title\": \"<Node id=8 labels=frozenset({'Person'}) properties={'name': 'CHEWBACCA'}>\"}, {\"id\": 111, \"label\": \"MAZ\", \"group\": \"Person\", \"title\": \"<Node id=111 labels=frozenset({'Person'}) properties={'name': 'MAZ'}>\"}, {\"id\": 55, \"label\": \"BOBA FETT\", \"group\": \"Person\", \"title\": \"<Node id=55 labels=frozenset({'Person'}) properties={'name': 'BOBA FETT'}>\"}, {\"id\": 104, \"label\": \"FINN\", \"group\": \"Person\", \"title\": \"<Node id=104 labels=frozenset({'Person'}) properties={'name': 'FINN'}>\"}, {\"id\": 106, \"label\": \"REY\", \"group\": \"Person\", \"title\": \"<Node id=106 labels=frozenset({'Person'}) properties={'name': 'REY'}>\"}, {\"id\": 95, \"label\": \"LANDO\", \"group\": \"Person\", \"title\": \"<Node id=95 labels=frozenset({'Person'}) properties={'name': 'LANDO'}>\"}, {\"id\": 109, \"label\": \"BALA-TIK\", \"group\": \"Person\", \"title\": \"<Node id=109 labels=frozenset({'Person'}) properties={'name': 'BALA-TIK'}>\"}, {\"id\": 102, \"label\": \"KYLO REN\", \"group\": \"Person\", \"title\": \"<Node id=102 labels=frozenset({'Person'}) properties={'name': 'KYLO REN'}>\"}, {\"id\": 101, \"label\": \"POE\", \"group\": \"Person\", \"title\": \"<Node id=101 labels=frozenset({'Person'}) properties={'name': 'POE'}>\"}, {\"id\": 103, \"label\": \"CAPTAIN PHASMA\", \"group\": \"Person\", \"title\": \"<Node id=103 labels=frozenset({'Person'}) properties={'name': 'CAPTAIN PHASMA'}>\"}, {\"id\": 87, \"label\": \"RIEEKAN\", \"group\": \"Person\", \"title\": \"<Node id=87 labels=frozenset({'Person'}) properties={'name': 'RIEEKAN'}>\"}, {\"id\": 73, \"label\": \"DARTH VADER\", \"group\": \"Person\", \"title\": \"<Node id=73 labels=frozenset({'Person'}) properties={'name': 'DARTH VADER'}>\"}, {\"id\": 77, \"label\": \"LEIA\", \"group\": \"Person\", \"title\": \"<Node id=77 labels=frozenset({'Person'}) properties={'name': 'LEIA'}>\"}, {\"id\": 36, \"label\": \"JABBA\", \"group\": \"Person\", \"title\": \"<Node id=36 labels=frozenset({'Person'}) properties={'name': 'JABBA'}>\"}, {\"id\": 80, \"label\": \"HAN\", \"group\": \"Person\", \"title\": \"<Node id=80 labels=frozenset({'Person'}) properties={'name': 'HAN'}>\"}, {\"id\": 74, \"label\": \"LUKE\", \"group\": \"Person\", \"title\": \"<Node id=74 labels=frozenset({'Person'}) properties={'name': 'LUKE'}>\"}, {\"id\": 14, \"label\": \"OBI-WAN\", \"group\": \"Person\", \"title\": \"<Node id=14 labels=frozenset({'Person'}) properties={'name': 'OBI-WAN'}>\"}, {\"id\": 10, \"label\": \"QUI-GON\", \"group\": \"Person\", \"title\": \"<Node id=10 labels=frozenset({'Person'}) properties={'name': 'QUI-GON'}>\"}, {\"id\": 29, \"label\": \"JIRA\", \"group\": \"Person\", \"title\": \"<Node id=29 labels=frozenset({'Person'}) properties={'name': 'JIRA'}>\"}, {\"id\": 13, \"label\": \"TC-14\", \"group\": \"Person\", \"title\": \"<Node id=13 labels=frozenset({'Person'}) properties={'name': 'TC-14'}>\"}, {\"id\": 18, \"label\": \"EMPEROR\", \"group\": \"Person\", \"title\": \"<Node id=18 labels=frozenset({'Person'}) properties={'name': 'EMPEROR'}>\"}, {\"id\": 30, \"label\": \"SHMI\", \"group\": \"Person\", \"title\": \"<Node id=30 labels=frozenset({'Person'}) properties={'name': 'SHMI'}>\"}, {\"id\": 40, \"label\": \"KI-ADI-MUNDI\", \"group\": \"Person\", \"title\": \"<Node id=40 labels=frozenset({'Person'}) properties={'name': 'KI-ADI-MUNDI'}>\"}, {\"id\": 19, \"label\": \"CAPTAIN PANAKA\", \"group\": \"Person\", \"title\": \"<Node id=19 labels=frozenset({'Person'}) properties={'name': 'CAPTAIN PANAKA'}>\"}, {\"id\": 41, \"label\": \"YODA\", \"group\": \"Person\", \"title\": \"<Node id=41 labels=frozenset({'Person'}) properties={'name': 'YODA'}>\"}, {\"id\": 34, \"label\": \"WALD\", \"group\": \"Person\", \"title\": \"<Node id=34 labels=frozenset({'Person'}) properties={'name': 'WALD'}>\"}, {\"id\": 21, \"label\": \"JAR JAR\", \"group\": \"Person\", \"title\": \"<Node id=21 labels=frozenset({'Person'}) properties={'name': 'JAR JAR'}>\"}, {\"id\": 37, \"label\": \"GREEDO\", \"group\": \"Person\", \"title\": \"<Node id=37 labels=frozenset({'Person'}) properties={'name': 'GREEDO'}>\"}, {\"id\": 38, \"label\": \"VALORUM\", \"group\": \"Person\", \"title\": \"<Node id=38 labels=frozenset({'Person'}) properties={'name': 'VALORUM'}>\"}, {\"id\": 43, \"label\": \"BAIL ORGANA\", \"group\": \"Person\", \"title\": \"<Node id=43 labels=frozenset({'Person'}) properties={'name': 'BAIL ORGANA'}>\"}, {\"id\": 27, \"label\": \"ANAKIN\", \"group\": \"Person\", \"title\": \"<Node id=27 labels=frozenset({'Person'}) properties={'name': 'ANAKIN'}>\"}, {\"id\": 23, \"label\": \"BOSS NASS\", \"group\": \"Person\", \"title\": \"<Node id=23 labels=frozenset({'Person'}) properties={'name': 'BOSS NASS'}>\"}, {\"id\": 33, \"label\": \"KITSTER\", \"group\": \"Person\", \"title\": \"<Node id=33 labels=frozenset({'Person'}) properties={'name': 'KITSTER'}>\"}, {\"id\": 26, \"label\": \"WATTO\", \"group\": \"Person\", \"title\": \"<Node id=26 labels=frozenset({'Person'}) properties={'name': 'WATTO'}>\"}, {\"id\": 20, \"label\": \"SIO BIBBLE\", \"group\": \"Person\", \"title\": \"<Node id=20 labels=frozenset({'Person'}) properties={'name': 'SIO BIBBLE'}>\"}, {\"id\": 24, \"label\": \"PADME\", \"group\": \"Person\", \"title\": \"<Node id=24 labels=frozenset({'Person'}) properties={'name': 'PADME'}>\"}, {\"id\": 39, \"label\": \"MACE WINDU\", \"group\": \"Person\", \"title\": \"<Node id=39 labels=frozenset({'Person'}) properties={'name': 'MACE WINDU'}>\"}, {\"id\": 11, \"label\": \"NUTE GUNRAY\", \"group\": \"Person\", \"title\": \"<Node id=11 labels=frozenset({'Person'}) properties={'name': 'NUTE GUNRAY'}>\"}, {\"id\": 28, \"label\": \"SEBULBA\", \"group\": \"Person\", \"title\": \"<Node id=28 labels=frozenset({'Person'}) properties={'name': 'SEBULBA'}>\"}, {\"id\": 25, \"label\": \"RIC OLIE\", \"group\": \"Person\", \"title\": \"<Node id=25 labels=frozenset({'Person'}) properties={'name': 'RIC OLIE'}>\"}, {\"id\": 42, \"label\": \"RABE\", \"group\": \"Person\", \"title\": \"<Node id=42 labels=frozenset({'Person'}) properties={'name': 'RABE'}>\"}, {\"id\": 17, \"label\": \"TEY HOW\", \"group\": \"Person\", \"title\": \"<Node id=17 labels=frozenset({'Person'}) properties={'name': 'TEY HOW'}>\"}, {\"id\": 15, \"label\": \"DOFINE\", \"group\": \"Person\", \"title\": \"<Node id=15 labels=frozenset({'Person'}) properties={'name': 'DOFINE'}>\"}, {\"id\": 61, \"label\": \"SUN RIT\", \"group\": \"Person\", \"title\": \"<Node id=61 labels=frozenset({'Person'}) properties={'name': 'SUN RIT'}>\"}, {\"id\": 60, \"label\": \"COUNT DOOKU\", \"group\": \"Person\", \"title\": \"<Node id=60 labels=frozenset({'Person'}) properties={'name': 'COUNT DOOKU'}>\"}, {\"id\": 32, \"label\": \"DARTH MAUL\", \"group\": \"Person\", \"title\": \"<Node id=32 labels=frozenset({'Person'}) properties={'name': 'DARTH MAUL'}>\"}, {\"id\": 16, \"label\": \"RUNE\", \"group\": \"Person\", \"title\": \"<Node id=16 labels=frozenset({'Person'}) properties={'name': 'RUNE'}>\"}, {\"id\": 65, \"label\": \"GENERAL GRIEVOUS\", \"group\": \"Person\", \"title\": \"<Node id=65 labels=frozenset({'Person'}) properties={'name': 'GENERAL GRIEVOUS'}>\"}, {\"id\": 44, \"label\": \"GENERAL CEEL\", \"group\": \"Person\", \"title\": \"<Node id=44 labels=frozenset({'Person'}) properties={'name': 'GENERAL CEEL'}>\"}, {\"id\": 62, \"label\": \"POGGLE\", \"group\": \"Person\", \"title\": \"<Node id=62 labels=frozenset({'Person'}) properties={'name': 'POGGLE'}>\"}, {\"id\": 12, \"label\": \"PK-4\", \"group\": \"Person\", \"title\": \"<Node id=12 labels=frozenset({'Person'}) properties={'name': 'PK-4'}>\"}, {\"id\": 64, \"label\": \"ODD BALL\", \"group\": \"Person\", \"title\": \"<Node id=64 labels=frozenset({'Person'}) properties={'name': 'ODD BALL'}>\"}, {\"id\": 47, \"label\": \"CAPTAIN TYPHO\", \"group\": \"Person\", \"title\": \"<Node id=47 labels=frozenset({'Person'}) properties={'name': 'CAPTAIN TYPHO'}>\"}, {\"id\": 53, \"label\": \"TAUN WE\", \"group\": \"Person\", \"title\": \"<Node id=53 labels=frozenset({'Person'}) properties={'name': 'TAUN WE'}>\"}, {\"id\": 54, \"label\": \"LAMA SU\", \"group\": \"Person\", \"title\": \"<Node id=54 labels=frozenset({'Person'}) properties={'name': 'LAMA SU'}>\"}, {\"id\": 48, \"label\": \"SENATOR ASK AAK\", \"group\": \"Person\", \"title\": \"<Node id=48 labels=frozenset({'Person'}) properties={'name': 'SENATOR ASK AAK'}>\"}, {\"id\": 70, \"label\": \"CLONE COMMANDER CODY\", \"group\": \"Person\", \"title\": \"<Node id=70 labels=frozenset({'Person'}) properties={'name': 'CLONE COMMANDER CODY'}>\"}, {\"id\": 71, \"label\": \"TION MEDON\", \"group\": \"Person\", \"title\": \"<Node id=71 labels=frozenset({'Person'}) properties={'name': 'TION MEDON'}>\"}, {\"id\": 56, \"label\": \"JANGO FETT\", \"group\": \"Person\", \"title\": \"<Node id=56 labels=frozenset({'Person'}) properties={'name': 'JANGO FETT'}>\"}];\n",
       "    var edges = [{\"from\": 8, \"to\": 111, \"label\": \"SPEAKS_WITH\"}, {\"from\": 8, \"to\": 55, \"label\": \"SPEAKS_WITH\"}, {\"from\": 8, \"to\": 104, \"label\": \"SPEAKS_WITH\"}, {\"from\": 8, \"to\": 106, \"label\": \"SPEAKS_WITH\"}, {\"from\": 8, \"to\": 95, \"label\": \"SPEAKS_WITH\"}, {\"from\": 8, \"to\": 109, \"label\": \"SPEAKS_WITH\"}, {\"from\": 8, \"to\": 102, \"label\": \"SPEAKS_WITH\"}, {\"from\": 8, \"to\": 101, \"label\": \"SPEAKS_WITH\"}, {\"from\": 8, \"to\": 103, \"label\": \"SPEAKS_WITH\"}, {\"from\": 8, \"to\": 87, \"label\": \"SPEAKS_WITH\"}, {\"from\": 8, \"to\": 73, \"label\": \"SPEAKS_WITH\"}, {\"from\": 8, \"to\": 77, \"label\": \"SPEAKS_WITH\"}, {\"from\": 8, \"to\": 36, \"label\": \"SPEAKS_WITH\"}, {\"from\": 8, \"to\": 80, \"label\": \"SPEAKS_WITH\"}, {\"from\": 8, \"to\": 74, \"label\": \"SPEAKS_WITH\"}, {\"from\": 8, \"to\": 14, \"label\": \"SPEAKS_WITH\"}, {\"from\": 10, \"to\": 29, \"label\": \"SPEAKS_WITH\"}, {\"from\": 10, \"to\": 13, \"label\": \"SPEAKS_WITH\"}, {\"from\": 10, \"to\": 18, \"label\": \"SPEAKS_WITH\"}, {\"from\": 10, \"to\": 30, \"label\": \"SPEAKS_WITH\"}, {\"from\": 10, \"to\": 36, \"label\": \"SPEAKS_WITH\"}, {\"from\": 10, \"to\": 40, \"label\": \"SPEAKS_WITH\"}, {\"from\": 10, \"to\": 19, \"label\": \"SPEAKS_WITH\"}, {\"from\": 10, \"to\": 41, \"label\": \"SPEAKS_WITH\"}, {\"from\": 10, \"to\": 34, \"label\": \"SPEAKS_WITH\"}, {\"from\": 10, \"to\": 21, \"label\": \"SPEAKS_WITH\"}, {\"from\": 10, \"to\": 37, \"label\": \"SPEAKS_WITH\"}, {\"from\": 10, \"to\": 38, \"label\": \"SPEAKS_WITH\"}, {\"from\": 10, \"to\": 43, \"label\": \"SPEAKS_WITH\"}, {\"from\": 10, \"to\": 27, \"label\": \"SPEAKS_WITH\"}, {\"from\": 10, \"to\": 23, \"label\": \"SPEAKS_WITH\"}, {\"from\": 10, \"to\": 33, \"label\": \"SPEAKS_WITH\"}, {\"from\": 10, \"to\": 26, \"label\": \"SPEAKS_WITH\"}, {\"from\": 10, \"to\": 20, \"label\": \"SPEAKS_WITH\"}, {\"from\": 10, \"to\": 24, \"label\": \"SPEAKS_WITH\"}, {\"from\": 10, \"to\": 39, \"label\": \"SPEAKS_WITH\"}, {\"from\": 10, \"to\": 11, \"label\": \"SPEAKS_WITH\"}, {\"from\": 10, \"to\": 28, \"label\": \"SPEAKS_WITH\"}, {\"from\": 10, \"to\": 25, \"label\": \"SPEAKS_WITH\"}, {\"from\": 10, \"to\": 42, \"label\": \"SPEAKS_WITH\"}, {\"from\": 10, \"to\": 14, \"label\": \"SPEAKS_WITH\"}, {\"from\": 11, \"to\": 17, \"label\": \"SPEAKS_WITH\"}, {\"from\": 11, \"to\": 14, \"label\": \"SPEAKS_WITH\"}, {\"from\": 11, \"to\": 15, \"label\": \"SPEAKS_WITH\"}, {\"from\": 11, \"to\": 61, \"label\": \"SPEAKS_WITH\"}, {\"from\": 11, \"to\": 18, \"label\": \"SPEAKS_WITH\"}, {\"from\": 11, \"to\": 60, \"label\": \"SPEAKS_WITH\"}, {\"from\": 11, \"to\": 32, \"label\": \"SPEAKS_WITH\"}, {\"from\": 11, \"to\": 27, \"label\": \"SPEAKS_WITH\"}, {\"from\": 11, \"to\": 16, \"label\": \"SPEAKS_WITH\"}, {\"from\": 11, \"to\": 13, \"label\": \"SPEAKS_WITH\"}, {\"from\": 11, \"to\": 10, \"label\": \"SPEAKS_WITH\"}, {\"from\": 11, \"to\": 65, \"label\": \"SPEAKS_WITH\"}, {\"from\": 11, \"to\": 20, \"label\": \"SPEAKS_WITH\"}, {\"from\": 11, \"to\": 44, \"label\": \"SPEAKS_WITH\"}, {\"from\": 11, \"to\": 24, \"label\": \"SPEAKS_WITH\"}, {\"from\": 11, \"to\": 62, \"label\": \"SPEAKS_WITH\"}, {\"from\": 12, \"to\": 14, \"label\": \"SPEAKS_WITH\"}, {\"from\": 12, \"to\": 13, \"label\": \"SPEAKS_WITH\"}, {\"from\": 13, \"to\": 15, \"label\": \"SPEAKS_WITH\"}, {\"from\": 13, \"to\": 10, \"label\": \"SPEAKS_WITH\"}, {\"from\": 13, \"to\": 14, \"label\": \"SPEAKS_WITH\"}, {\"from\": 13, \"to\": 12, \"label\": \"SPEAKS_WITH\"}, {\"from\": 13, \"to\": 11, \"label\": \"SPEAKS_WITH\"}, {\"from\": 14, \"to\": 12, \"label\": \"SPEAKS_WITH\"}, {\"from\": 14, \"to\": 77, \"label\": \"SPEAKS_WITH\"}, {\"from\": 14, \"to\": 24, \"label\": \"SPEAKS_WITH\"}, {\"from\": 14, \"to\": 13, \"label\": \"SPEAKS_WITH\"}, {\"from\": 14, \"to\": 21, \"label\": \"SPEAKS_WITH\"}, {\"from\": 14, \"to\": 55, \"label\": \"SPEAKS_WITH\"}, {\"from\": 14, \"to\": 11, \"label\": \"SPEAKS_WITH\"}, {\"from\": 14, \"to\": 60, \"label\": \"SPEAKS_WITH\"}, {\"from\": 14, \"to\": 74, \"label\": \"SPEAKS_WITH\"}, {\"from\": 14, \"to\": 39, \"label\": \"SPEAKS_WITH\"}, {\"from\": 14, \"to\": 25, \"label\": \"SPEAKS_WITH\"}, {\"from\": 14, \"to\": 43, \"label\": \"SPEAKS_WITH\"}, {\"from\": 14, \"to\": 27, \"label\": \"SPEAKS_WITH\"}, {\"from\": 14, \"to\": 18, \"label\": \"SPEAKS_WITH\"}, {\"from\": 14, \"to\": 62, \"label\": \"SPEAKS_WITH\"}, {\"from\": 14, \"to\": 19, \"label\": \"SPEAKS_WITH\"}, {\"from\": 14, \"to\": 23, \"label\": \"SPEAKS_WITH\"}, {\"from\": 14, \"to\": 61, \"label\": \"SPEAKS_WITH\"}, {\"from\": 14, \"to\": 41, \"label\": \"SPEAKS_WITH\"}, {\"from\": 14, \"to\": 64, \"label\": \"SPEAKS_WITH\"}, {\"from\": 14, \"to\": 47, \"label\": \"SPEAKS_WITH\"}, {\"from\": 14, \"to\": 53, \"label\": \"SPEAKS_WITH\"}, {\"from\": 14, \"to\": 54, \"label\": \"SPEAKS_WITH\"}, {\"from\": 14, \"to\": 73, \"label\": \"SPEAKS_WITH\"}, {\"from\": 14, \"to\": 40, \"label\": \"SPEAKS_WITH\"}, {\"from\": 14, \"to\": 48, \"label\": \"SPEAKS_WITH\"}, {\"from\": 14, \"to\": 70, \"label\": \"SPEAKS_WITH\"}, {\"from\": 14, \"to\": 65, \"label\": \"SPEAKS_WITH\"}, {\"from\": 14, \"to\": 20, \"label\": \"SPEAKS_WITH\"}, {\"from\": 14, \"to\": 80, \"label\": \"SPEAKS_WITH\"}, {\"from\": 14, \"to\": 71, \"label\": \"SPEAKS_WITH\"}, {\"from\": 14, \"to\": 56, \"label\": \"SPEAKS_WITH\"}, {\"from\": 14, \"to\": 30, \"label\": \"SPEAKS_WITH\"}, {\"from\": 14, \"to\": 10, \"label\": \"SPEAKS_WITH\"}, {\"from\": 14, \"to\": 8, \"label\": \"SPEAKS_WITH\"}, {\"from\": 15, \"to\": 13, \"label\": \"SPEAKS_WITH\"}];\n",
       "\n",
       "    var container = document.getElementById(\"ae5bfb20-d760-4fe7-99d1-e691353cab0e\");\n",
       "\n",
       "    var data = {\n",
       "        nodes: nodes,\n",
       "        edges: edges\n",
       "    };\n",
       "\n",
       "    var options = {\n",
       "    nodes: {\n",
       "        shape: 'dot',\n",
       "        size: 25,\n",
       "        font: {\n",
       "            size: 14\n",
       "        }\n",
       "    },\n",
       "    edges: {\n",
       "        font: {\n",
       "            size: 14,\n",
       "            align: 'middle'\n",
       "        },\n",
       "        color: 'gray',\n",
       "        arrows: {\n",
       "            to: {\n",
       "                enabled: true,\n",
       "                scaleFactor: 0.5\n",
       "            }\n",
       "        },\n",
       "        smooth: {\n",
       "            enabled: false\n",
       "        }\n",
       "    },\n",
       "    physics: {\n",
       "        enabled: true\n",
       "        }\n",
       "    };\n",
       "\n",
       "    var network = new vis.Network(container, data, options);\n",
       "\n",
       "</script>\n"
      ],
      "text/plain": [
       "<IPython.core.display.HTML object>"
      ]
     },
     "execution_count": 19,
     "metadata": {},
     "output_type": "execute_result"
    }
   ],
   "source": [
    "#Here we already see a Clustering\n",
    "#General are Qui-Gon, Chewbacca, Obi-Wan, Nute Gunray central characters\n",
    "vis_class.drawGraph(session, {'Person': 'name'}, test_query_vis_p)  "
   ]
  },
  {
   "cell_type": "code",
   "execution_count": 20,
   "id": "151eb529",
   "metadata": {},
   "outputs": [
    {
     "data": {
      "text/html": [
       "<div>\n",
       "<style scoped>\n",
       "    .dataframe tbody tr th:only-of-type {\n",
       "        vertical-align: middle;\n",
       "    }\n",
       "\n",
       "    .dataframe tbody tr th {\n",
       "        vertical-align: top;\n",
       "    }\n",
       "\n",
       "    .dataframe thead th {\n",
       "        text-align: right;\n",
       "    }\n",
       "</style>\n",
       "<table border=\"1\" class=\"dataframe\">\n",
       "  <thead>\n",
       "    <tr style=\"text-align: right;\">\n",
       "      <th></th>\n",
       "      <th>ID</th>\n",
       "      <th>label</th>\n",
       "      <th>name</th>\n",
       "    </tr>\n",
       "  </thead>\n",
       "  <tbody>\n",
       "    <tr>\n",
       "      <th>0</th>\n",
       "      <td>7</td>\n",
       "      <td>[Droid]</td>\n",
       "      <td>R2-D2</td>\n",
       "    </tr>\n",
       "    <tr>\n",
       "      <th>1</th>\n",
       "      <td>9</td>\n",
       "      <td>[Droid]</td>\n",
       "      <td>BB-8</td>\n",
       "    </tr>\n",
       "    <tr>\n",
       "      <th>2</th>\n",
       "      <td>31</td>\n",
       "      <td>[Droid]</td>\n",
       "      <td>C-3PO</td>\n",
       "    </tr>\n",
       "    <tr>\n",
       "      <th>3</th>\n",
       "      <td>0</td>\n",
       "      <td>[Movie]</td>\n",
       "      <td>Episode I: The Phantom Menace</td>\n",
       "    </tr>\n",
       "    <tr>\n",
       "      <th>4</th>\n",
       "      <td>1</td>\n",
       "      <td>[Movie]</td>\n",
       "      <td>Episode II: Attack of the Clones</td>\n",
       "    </tr>\n",
       "  </tbody>\n",
       "</table>\n",
       "</div>"
      ],
      "text/plain": [
       "   ID    label                              name\n",
       "0   7  [Droid]                             R2-D2\n",
       "1   9  [Droid]                              BB-8\n",
       "2  31  [Droid]                             C-3PO\n",
       "3   0  [Movie]     Episode I: The Phantom Menace\n",
       "4   1  [Movie]  Episode II: Attack of the Clones"
      ]
     },
     "execution_count": 20,
     "metadata": {},
     "output_type": "execute_result"
    }
   ],
   "source": [
    "get_labels = \"MATCH (n) WHERE EXISTS(n.name) RETURN ID(n) AS ID, labels(n) AS label, n.name AS name ORDER BY labels(n)\"\n",
    "df = pd.DataFrame(session.read_transaction(\n",
    "                    lambda tx: tx.run(get_labels).data()), columns = ['ID','label', 'name'])\n",
    "df.head()"
   ]
  },
  {
   "cell_type": "code",
   "execution_count": 21,
   "id": "eadc07d5",
   "metadata": {},
   "outputs": [
    {
     "data": {
      "text/html": [
       "<div>\n",
       "<style scoped>\n",
       "    .dataframe tbody tr th:only-of-type {\n",
       "        vertical-align: middle;\n",
       "    }\n",
       "\n",
       "    .dataframe tbody tr th {\n",
       "        vertical-align: top;\n",
       "    }\n",
       "\n",
       "    .dataframe thead th {\n",
       "        text-align: right;\n",
       "    }\n",
       "</style>\n",
       "<table border=\"1\" class=\"dataframe\">\n",
       "  <thead>\n",
       "    <tr style=\"text-align: right;\">\n",
       "      <th></th>\n",
       "      <th>relationshipType</th>\n",
       "    </tr>\n",
       "  </thead>\n",
       "  <tbody>\n",
       "    <tr>\n",
       "      <th>0</th>\n",
       "      <td>SPEAKS_WITH</td>\n",
       "    </tr>\n",
       "    <tr>\n",
       "      <th>1</th>\n",
       "      <td>APPEARS_IN</td>\n",
       "    </tr>\n",
       "  </tbody>\n",
       "</table>\n",
       "</div>"
      ],
      "text/plain": [
       "  relationshipType\n",
       "0      SPEAKS_WITH\n",
       "1       APPEARS_IN"
      ]
     },
     "execution_count": 21,
     "metadata": {},
     "output_type": "execute_result"
    }
   ],
   "source": [
    "relationships = \"CALL db.relationshipTypes()\"\n",
    "df = pd.DataFrame(session.read_transaction(\n",
    "            lambda tx: tx.run(relationships).data()), columns = ['relationshipType'])\n",
    "df.head()"
   ]
  },
  {
   "cell_type": "code",
   "execution_count": 22,
   "id": "cf2f83e8",
   "metadata": {},
   "outputs": [
    {
     "name": "stdout",
     "output_type": "stream",
     "text": [
      "[{'Name': 'Episode I: The Phantom Menace'}]\n"
     ]
    }
   ],
   "source": [
    "#Get specific character\n",
    "get_v_one = \"MATCH (n) WHERE n.name=\\\"Episode I: The Phantom Menace\\\" RETURN n.name As Name\"\n",
    "print(session.read_transaction(\n",
    "        lambda tx: tx.run(get_v_one).data()))"
   ]
  },
  {
   "cell_type": "code",
   "execution_count": 23,
   "id": "6096be42",
   "metadata": {},
   "outputs": [
    {
     "name": "stdout",
     "output_type": "stream",
     "text": [
      "[{'name': 'ANAKIN', 'relation': 'SPEAKS_WITH', 'whom': 'PADME'}]\n"
     ]
    }
   ],
   "source": [
    "#First simple connection between characters\n",
    "c_knows_c = '''MATCH (p1:Person)-[r:SPEAKS_WITH]->(p2:Person) WHERE (p1.name = \\\"ANAKIN\\\" AND p2.name = \\\"PADME\\\") \n",
    "                OR (p2.name = \\\"PADME\\\" AND p1.name = \\\"ANAKIN\\\") \n",
    "                RETURN p1.name As name, type(r) As relation, p2.name As whom'''  \n",
    "\n",
    "print(session.read_transaction(\n",
    "        lambda tx: tx.run(c_knows_c).data())) #Change to a visualisation"
   ]
  },
  {
   "cell_type": "code",
   "execution_count": 24,
   "id": "f74e5640",
   "metadata": {},
   "outputs": [],
   "source": [
    "c_knows_c =  '''MATCH (p1:Person)-[r:SPEAKS_WITH]->(p2:Person) \n",
    "                       WHERE (p1.name = \\\"ANAKIN\\\" AND p2.name = \\\"PADME\\\") OR (p2.name = \\\"PADME\\\" AND p1.name = \\\"ANAKIN\\\") \n",
    "                       RETURN p1 AS source_node, \n",
    "                                id(p1) AS source_id,\n",
    "                                r,\n",
    "                                p2 AS target_node,\n",
    "                                id(p2) AS target_id'''"
   ]
  },
  {
   "cell_type": "code",
   "execution_count": 25,
   "id": "1d4e41d3",
   "metadata": {},
   "outputs": [
    {
     "data": {
      "text/html": [
       "<div id=\"fddf26f5-836c-46ea-8769-3fa5c833443a\" style=\"height: 400px;\"></div>\n",
       "\n",
       "<script type=\"text/javascript\">\n",
       "\n",
       "    var nodes = [{\"id\": 27, \"label\": \"ANAKIN\", \"group\": \"Person\", \"title\": \"<Node id=27 labels=frozenset({'Person'}) properties={'name': 'ANAKIN'}>\"}, {\"id\": 24, \"label\": \"PADME\", \"group\": \"Person\", \"title\": \"<Node id=24 labels=frozenset({'Person'}) properties={'name': 'PADME'}>\"}];\n",
       "    var edges = [{\"from\": 27, \"to\": 24, \"label\": \"SPEAKS_WITH\"}];\n",
       "\n",
       "    var container = document.getElementById(\"fddf26f5-836c-46ea-8769-3fa5c833443a\");\n",
       "\n",
       "    var data = {\n",
       "        nodes: nodes,\n",
       "        edges: edges\n",
       "    };\n",
       "\n",
       "    var options = {\n",
       "    nodes: {\n",
       "        shape: 'dot',\n",
       "        size: 25,\n",
       "        font: {\n",
       "            size: 14\n",
       "        }\n",
       "    },\n",
       "    edges: {\n",
       "        font: {\n",
       "            size: 14,\n",
       "            align: 'middle'\n",
       "        },\n",
       "        color: 'gray',\n",
       "        arrows: {\n",
       "            to: {\n",
       "                enabled: true,\n",
       "                scaleFactor: 0.5\n",
       "            }\n",
       "        },\n",
       "        smooth: {\n",
       "            enabled: false\n",
       "        }\n",
       "    },\n",
       "    physics: {\n",
       "        enabled: true\n",
       "        }\n",
       "    };\n",
       "\n",
       "    var network = new vis.Network(container, data, options);\n",
       "\n",
       "</script>\n"
      ],
      "text/plain": [
       "<IPython.core.display.HTML object>"
      ]
     },
     "execution_count": 25,
     "metadata": {},
     "output_type": "execute_result"
    }
   ],
   "source": [
    "vis_class.drawGraph(session, {'Person': 'name'}, c_knows_c)  "
   ]
  },
  {
   "cell_type": "code",
   "execution_count": 26,
   "id": "4224c6c2",
   "metadata": {},
   "outputs": [
    {
     "name": "stdout",
     "output_type": "stream",
     "text": [
      "[{'name': 'YODA', 'relation': 'APPEARS_IN', 'movie': 'Episode I: The Phantom Menace'}]\n"
     ]
    }
   ],
   "source": [
    "#First simple playtime \n",
    "c_plays_in_m = '''MATCH (p:Person)-[r:APPEARS_IN]->(m:Movie) WHERE (p.name = \\\"YODA\\\" AND m.name =~\\\".*Episode I:.*\\\") \n",
    "                RETURN p.name As name, type(r) As relation, m.name As movie''' \n",
    "print(session.read_transaction(\n",
    "        lambda tx: tx.run(c_plays_in_m).data())) #Change to a visualisation"
   ]
  },
  {
   "cell_type": "code",
   "execution_count": 27,
   "id": "001e1a26",
   "metadata": {},
   "outputs": [],
   "source": [
    "c_knows_c =  '''MATCH (p:Person)-[r:APPEARS_IN]->(m:Movie)\n",
    "                WHERE (p.name = \\\"YODA\\\" AND m.name =~\\\".*Episode I:.*\\\") \n",
    "                RETURN p AS source_node, \n",
    "                        id(p) AS source_id,\n",
    "                        r,\n",
    "                        m AS target_node,\n",
    "                        id(m) AS target_id'''"
   ]
  },
  {
   "cell_type": "code",
   "execution_count": 28,
   "id": "e82b67ff",
   "metadata": {
    "scrolled": true
   },
   "outputs": [
    {
     "data": {
      "text/html": [
       "<div id=\"92f28ed1-3c78-487c-aaab-aa6df66f3741\" style=\"height: 400px;\"></div>\n",
       "\n",
       "<script type=\"text/javascript\">\n",
       "\n",
       "    var nodes = [{\"id\": 41, \"label\": \"YODA\", \"group\": \"Person\", \"title\": \"<Node id=41 labels=frozenset({'Person'}) properties={'name': 'YODA'}>\"}, {\"id\": 0, \"label\": \"Episode I: The Phantom Menace\", \"group\": \"Movie\", \"title\": \"<Node id=0 labels=frozenset({'Movie'}) properties={'name': 'Episode I: The Phantom Menace'}>\"}];\n",
       "    var edges = [{\"from\": 41, \"to\": 0, \"label\": \"APPEARS_IN\"}];\n",
       "\n",
       "    var container = document.getElementById(\"92f28ed1-3c78-487c-aaab-aa6df66f3741\");\n",
       "\n",
       "    var data = {\n",
       "        nodes: nodes,\n",
       "        edges: edges\n",
       "    };\n",
       "\n",
       "    var options = {\n",
       "    nodes: {\n",
       "        shape: 'dot',\n",
       "        size: 25,\n",
       "        font: {\n",
       "            size: 14\n",
       "        }\n",
       "    },\n",
       "    edges: {\n",
       "        font: {\n",
       "            size: 14,\n",
       "            align: 'middle'\n",
       "        },\n",
       "        color: 'gray',\n",
       "        arrows: {\n",
       "            to: {\n",
       "                enabled: true,\n",
       "                scaleFactor: 0.5\n",
       "            }\n",
       "        },\n",
       "        smooth: {\n",
       "            enabled: false\n",
       "        }\n",
       "    },\n",
       "    physics: {\n",
       "        enabled: true\n",
       "        }\n",
       "    };\n",
       "\n",
       "    var network = new vis.Network(container, data, options);\n",
       "\n",
       "</script>\n"
      ],
      "text/plain": [
       "<IPython.core.display.HTML object>"
      ]
     },
     "execution_count": 28,
     "metadata": {},
     "output_type": "execute_result"
    }
   ],
   "source": [
    "vis_class.drawGraph(session, {'Movie':'name','Person': 'name'}, c_knows_c)  "
   ]
  },
  {
   "cell_type": "code",
   "execution_count": 29,
   "id": "f625e7f4",
   "metadata": {},
   "outputs": [],
   "source": [
    "#Close all connections\n",
    "driver.close()\n",
    "session.close()\n",
    "drive = None\n",
    "session = None"
   ]
  }
 ],
 "metadata": {
  "kernelspec": {
   "display_name": "Python 3 (ipykernel)",
   "language": "python",
   "name": "python3"
  },
  "language_info": {
   "codemirror_mode": {
    "name": "ipython",
    "version": 3
   },
   "file_extension": ".py",
   "mimetype": "text/x-python",
   "name": "python",
   "nbconvert_exporter": "python",
   "pygments_lexer": "ipython3",
   "version": "3.9.7"
  }
 },
 "nbformat": 4,
 "nbformat_minor": 5
}
