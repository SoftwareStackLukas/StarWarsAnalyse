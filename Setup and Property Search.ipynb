{
 "cells": [
  {
   "cell_type": "code",
   "execution_count": 1,
   "id": "69b205a5",
   "metadata": {},
   "outputs": [],
   "source": [
    "#If connector is not installed yet\n",
    "#!pip install neo4j-driver\n",
    "#!pip install neo4jupyter"
   ]
  },
  {
   "cell_type": "code",
   "execution_count": 2,
   "id": "b77fc713",
   "metadata": {},
   "outputs": [],
   "source": [
    "#Imports\n",
    "from neo4j import GraphDatabase, basic_auth\n",
    "import neo4jupyter\n",
    "import pandas as pd\n",
    "import sys  \n",
    "sys.path.insert(0, '')\n",
    "from vis_class import vis_class"
   ]
  },
  {
   "cell_type": "code",
   "execution_count": 3,
   "id": "1b4ef265",
   "metadata": {},
   "outputs": [
    {
     "data": {
      "application/javascript": [
       "var link = document.createElement(\"link\");\n",
       "\tlink.ref = \"stylesheet\";\n",
       "\tlink.type = \"text/css\";\n",
       "\tlink.href = \"https://cdnjs.cloudflare.com/ajax/libs/vis/4.8.2/vis.css\";\n",
       "\tdocument.head.appendChild(link);\n",
       "require.config({     paths: {         vis: '//cdnjs.cloudflare.com/ajax/libs/vis/4.8.2/vis.min'     } }); require(['vis'], function(vis) {  window.vis = vis; }); "
      ],
      "text/plain": [
       "<IPython.core.display.Javascript object>"
      ]
     },
     "metadata": {},
     "output_type": "display_data"
    },
    {
     "name": "stdout",
     "output_type": "stream",
     "text": [
      "Vis class was created\n"
     ]
    }
   ],
   "source": [
    "#Create db connector\n",
    "login = open(\"Login.txt\", \"r\")\n",
    "uri = login.readline()\n",
    "user = login.readline()\n",
    "password = \"RgC0_tAy1f8T_-_d1FnszgwXo1VafPO7h5gme7fJHlI\"\n",
    "login.close()\n",
    "\n",
    "driver = GraphDatabase.driver(uri, auth=basic_auth(user, password))\n",
    "session = driver.session(database=\"neo4j\")\n",
    "visualizer = vis_class()"
   ]
  },
  {
   "cell_type": "markdown",
   "id": "7ef51660",
   "metadata": {},
   "source": [
    "# Setup the database"
   ]
  },
  {
   "cell_type": "markdown",
   "id": "d3f8c558",
   "metadata": {},
   "source": [
    "This notebook is for the set up of the database and getting the data into it."
   ]
  },
  {
   "cell_type": "code",
   "execution_count": 4,
   "id": "1fd7d874",
   "metadata": {},
   "outputs": [
    {
     "data": {
      "text/plain": [
       "<neo4j.work.result.Result at 0x210a8113100>"
      ]
     },
     "execution_count": 4,
     "metadata": {},
     "output_type": "execute_result"
    }
   ],
   "source": [
    "#Reset database\n",
    "delete_nodes_with_relationship = \"match (a) -[r] -> () delete a, r\"\n",
    "delete_nodes_without_relationships = \"match (a) delete a\"\n",
    "# All indexes and constraints.\n",
    "delete_all_index = \"CALL apoc.schema.assert({},{},true) YIELD label, key RETURN *\"\n",
    "\n",
    "session.run(delete_nodes_with_relationship)\n",
    "session.run(delete_nodes_without_relationships)\n",
    "session.run(delete_all_index)"
   ]
  },
  {
   "cell_type": "code",
   "execution_count": 5,
   "id": "451bc6ac",
   "metadata": {},
   "outputs": [
    {
     "name": "stdout",
     "output_type": "stream",
     "text": [
      "CREATE\n",
      "  (Episode1:Movie {name: 'Episode I: The Phantom Menace'}),\n",
      "  (Episode2:Movie {name: 'Episode II: Attack of the Clones'}),\n",
      "  (Episode3:Movie {name: 'Episode III: Revenge of the Sith'}),\n",
      "  \n"
     ]
    }
   ],
   "source": [
    "#Load nodes and relations from file\n",
    "nodes_relation_open = open(\"nodes_relations.txt\", \"r\")\n",
    "nodes_relations = nodes_relation_open.read()\n",
    "nodes_relation_open.close()\n",
    "print(nodes_relations[:195])"
   ]
  },
  {
   "cell_type": "code",
   "execution_count": 6,
   "id": "4f6fcaa6",
   "metadata": {},
   "outputs": [
    {
     "data": {
      "text/plain": [
       "<neo4j.work.result.Result at 0x210a8113a00>"
      ]
     },
     "execution_count": 6,
     "metadata": {},
     "output_type": "execute_result"
    }
   ],
   "source": [
    "#Filldatabase with nodes and relationships\n",
    "session.run(nodes_relations)"
   ]
  },
  {
   "cell_type": "markdown",
   "id": "0b1a8512",
   "metadata": {},
   "source": [
    "# Get the first informations from the database (test)"
   ]
  },
  {
   "cell_type": "code",
   "execution_count": 7,
   "id": "1b57214e",
   "metadata": {
    "scrolled": true
   },
   "outputs": [
    {
     "data": {
      "text/plain": [
       "[{'nodes': [{'name': 'Movie', 'indexes': [], 'constraints': []},\n",
       "   {'name': 'Person', 'indexes': [], 'constraints': []},\n",
       "   {'name': 'Droid', 'indexes': [], 'constraints': []}],\n",
       "  'relationships': [({'name': 'Person', 'indexes': [], 'constraints': []},\n",
       "    'SPEAKS_WITH',\n",
       "    {'name': 'Droid', 'indexes': [], 'constraints': []}),\n",
       "   ({'name': 'Droid', 'indexes': [], 'constraints': []},\n",
       "    'SPEAKS_WITH',\n",
       "    {'name': 'Person', 'indexes': [], 'constraints': []}),\n",
       "   ({'name': 'Person', 'indexes': [], 'constraints': []},\n",
       "    'SPEAKS_WITH',\n",
       "    {'name': 'Person', 'indexes': [], 'constraints': []}),\n",
       "   ({'name': 'Droid', 'indexes': [], 'constraints': []},\n",
       "    'SPEAKS_WITH',\n",
       "    {'name': 'Droid', 'indexes': [], 'constraints': []}),\n",
       "   ({'name': 'Person', 'indexes': [], 'constraints': []},\n",
       "    'APPEARS_IN',\n",
       "    {'name': 'Movie', 'indexes': [], 'constraints': []}),\n",
       "   ({'name': 'Droid', 'indexes': [], 'constraints': []},\n",
       "    'APPEARS_IN',\n",
       "    {'name': 'Movie', 'indexes': [], 'constraints': []})]}]"
      ]
     },
     "execution_count": 7,
     "metadata": {},
     "output_type": "execute_result"
    }
   ],
   "source": [
    "#Get the graph structure\n",
    "results = session.read_transaction(\n",
    "    lambda tx: tx.run(\"CALL db.schema.visualization()\").data())\n",
    "dic = {\"Movie\": \"title\", \"Person\": \"name\"}\n",
    "results"
   ]
  },
  {
   "cell_type": "markdown",
   "id": "8b1a4db4",
   "metadata": {},
   "source": [
    "![title](img/graphschema.png)"
   ]
  },
  {
   "cell_type": "code",
   "execution_count": 8,
   "id": "e81117b9",
   "metadata": {},
   "outputs": [
    {
     "name": "stdout",
     "output_type": "stream",
     "text": [
      "next dataset: 1\n",
      "[{'n': {'name': 'R2-D2'}}, {'n': {'name': 'BB-8'}}, {'n': {'name': 'C-3PO'}}]\n",
      "\n",
      "next dataset: 2\n",
      "[{'n': {'name': 'Episode I: The Phantom Menace'}}, {'n': {'name': 'Episode II: Attack of the Clones'}}, {'n': {'name': 'Episode III: Revenge of the Sith'}}, {'n': {'name': 'Episode IV: A New Hope'}}, {'n': {'name': 'Episode V: The Empire Strikes Back'}}, {'n': {'name': 'Episode VI: Return of the Jedi'}}, {'n': {'name': 'Episode VII: The Force Awakens'}}]\n",
      "\n",
      "next dataset: 3\n",
      "[{'n': {'name': 'CHEWBACCA'}}, {'n': {'name': 'QUI-GON'}}, {'n': {'name': 'NUTE GUNRAY'}}, {'n': {'name': 'PK-4'}}, {'n': {'name': 'TC-14'}}, {'n': {'name': 'OBI-WAN'}}, {'n': {'name': 'DOFINE'}}, {'n': {'name': 'RUNE'}}, {'n': {'name': 'TEY HOW'}}, {'n': {'name': 'EMPEROR'}}, {'n': {'name': 'CAPTAIN PANAKA'}}, {'n': {'name': 'SIO BIBBLE'}}, {'n': {'name': 'JAR JAR'}}, {'n': {'name': 'TARPALS'}}, {'n': {'name': 'BOSS NASS'}}, {'n': {'name': 'PADME'}}, {'n': {'name': 'RIC OLIE'}}, {'n': {'name': 'WATTO'}}, {'n': {'name': 'ANAKIN'}}, {'n': {'name': 'SEBULBA'}}, {'n': {'name': 'JIRA'}}, {'n': {'name': 'SHMI'}}, {'n': {'name': 'DARTH MAUL'}}, {'n': {'name': 'KITSTER'}}, {'n': {'name': 'WALD'}}]\n",
      "\n"
     ]
    }
   ],
   "source": [
    "#Show nodes of Droid, Movies, Person \n",
    "test_querys = ['''MATCH (n:Droid) RETURN n LIMIT 25''', '''MATCH (n:Movie) RETURN n LIMIT 25''', '''MATCH (n:Person) RETURN n LIMIT 25''']\n",
    "\n",
    "i = 1\n",
    "for test_query in test_querys:\n",
    "    print('next dataset: ' + str(i))\n",
    "    results = session.read_transaction(\n",
    "        lambda tx: tx.run(test_query).data())\n",
    "    print(results) #Change to a visualisation\n",
    "    print('')\n",
    "    i += 1"
   ]
  },
  {
   "cell_type": "code",
   "execution_count": 9,
   "id": "370211e4",
   "metadata": {},
   "outputs": [],
   "source": [
    "test_query_vis_d = \"\"\"MATCH (n:Droid) RETURN n AS source_node, \n",
    "                                id(n) AS source_id,\n",
    "                                null,\n",
    "                                null AS target_node,\n",
    "                                null AS target_id\"\"\""
   ]
  },
  {
   "cell_type": "code",
   "execution_count": 10,
   "id": "f8deee2c",
   "metadata": {},
   "outputs": [
    {
     "data": {
      "text/html": [
       "<div id=\"eeeaacc3-815e-4bb9-a9bc-ba6d6c1e4d77\" style=\"height: 400px;\"></div>\n",
       "\n",
       "<script type=\"text/javascript\">\n",
       "\n",
       "    var nodes = [{\"id\": 126, \"label\": \"R2-D2\", \"group\": \"Droid\", \"title\": \"<Node id=126 labels=frozenset({'Droid'}) properties={'name': 'R2-D2'}>\"}, {\"id\": 128, \"label\": \"BB-8\", \"group\": \"Droid\", \"title\": \"<Node id=128 labels=frozenset({'Droid'}) properties={'name': 'BB-8'}>\"}, {\"id\": 150, \"label\": \"C-3PO\", \"group\": \"Droid\", \"title\": \"<Node id=150 labels=frozenset({'Droid'}) properties={'name': 'C-3PO'}>\"}];\n",
       "    var edges = [];\n",
       "\n",
       "    var container = document.getElementById(\"eeeaacc3-815e-4bb9-a9bc-ba6d6c1e4d77\");\n",
       "\n",
       "    var data = {\n",
       "        nodes: nodes,\n",
       "        edges: edges\n",
       "    };\n",
       "\n",
       "    var options = {\n",
       "    nodes: {\n",
       "        shape: 'dot',\n",
       "        size: 25,\n",
       "        font: {\n",
       "            size: 14\n",
       "        }\n",
       "    },\n",
       "    edges: {\n",
       "        font: {\n",
       "            size: 14,\n",
       "            align: 'middle'\n",
       "        },\n",
       "        color: 'gray',\n",
       "        arrows: {\n",
       "            to: {\n",
       "                enabled: true,\n",
       "                scaleFactor: 0.5\n",
       "            }\n",
       "        },\n",
       "        smooth: {\n",
       "            enabled: false\n",
       "        }\n",
       "    },\n",
       "    physics: {\n",
       "        enabled: true\n",
       "        }\n",
       "    };\n",
       "\n",
       "    var network = new vis.Network(container, data, options);\n",
       "\n",
       "</script>\n"
      ],
      "text/plain": [
       "<IPython.core.display.HTML object>"
      ]
     },
     "execution_count": 10,
     "metadata": {},
     "output_type": "execute_result"
    }
   ],
   "source": [
    "vis_class.drawGraph(session, {'Droid': 'name'}, test_query_vis_d)  "
   ]
  },
  {
   "cell_type": "code",
   "execution_count": 11,
   "id": "86241d31",
   "metadata": {},
   "outputs": [],
   "source": [
    "test_query_vis_d = \"\"\"MATCH (n:Droid)-[s:SPEAKS_WITH]-(m:Droid) RETURN n AS source_node, \n",
    "                                id(n) AS source_id,\n",
    "                                s,\n",
    "                                m AS target_node,\n",
    "                                id(m) AS target_id\"\"\""
   ]
  },
  {
   "cell_type": "code",
   "execution_count": 12,
   "id": "0201bfb7",
   "metadata": {},
   "outputs": [
    {
     "data": {
      "text/html": [
       "<div id=\"d80a4500-2b65-4bac-aed6-f96c62f4a186\" style=\"height: 400px;\"></div>\n",
       "\n",
       "<script type=\"text/javascript\">\n",
       "\n",
       "    var nodes = [{\"id\": 150, \"label\": \"C-3PO\", \"group\": \"Droid\", \"title\": \"<Node id=150 labels=frozenset({'Droid'}) properties={'name': 'C-3PO'}>\"}, {\"id\": 126, \"label\": \"R2-D2\", \"group\": \"Droid\", \"title\": \"<Node id=126 labels=frozenset({'Droid'}) properties={'name': 'R2-D2'}>\"}, {\"id\": 128, \"label\": \"BB-8\", \"group\": \"Droid\", \"title\": \"<Node id=128 labels=frozenset({'Droid'}) properties={'name': 'BB-8'}>\"}];\n",
       "    var edges = [{\"from\": 150, \"to\": 126, \"label\": \"SPEAKS_WITH\"}, {\"from\": 128, \"to\": 126, \"label\": \"SPEAKS_WITH\"}, {\"from\": 126, \"to\": 128, \"label\": \"SPEAKS_WITH\"}, {\"from\": 150, \"to\": 128, \"label\": \"SPEAKS_WITH\"}, {\"from\": 126, \"to\": 150, \"label\": \"SPEAKS_WITH\"}, {\"from\": 128, \"to\": 150, \"label\": \"SPEAKS_WITH\"}];\n",
       "\n",
       "    var container = document.getElementById(\"d80a4500-2b65-4bac-aed6-f96c62f4a186\");\n",
       "\n",
       "    var data = {\n",
       "        nodes: nodes,\n",
       "        edges: edges\n",
       "    };\n",
       "\n",
       "    var options = {\n",
       "    nodes: {\n",
       "        shape: 'dot',\n",
       "        size: 25,\n",
       "        font: {\n",
       "            size: 14\n",
       "        }\n",
       "    },\n",
       "    edges: {\n",
       "        font: {\n",
       "            size: 14,\n",
       "            align: 'middle'\n",
       "        },\n",
       "        color: 'gray',\n",
       "        arrows: {\n",
       "            to: {\n",
       "                enabled: true,\n",
       "                scaleFactor: 0.5\n",
       "            }\n",
       "        },\n",
       "        smooth: {\n",
       "            enabled: false\n",
       "        }\n",
       "    },\n",
       "    physics: {\n",
       "        enabled: true\n",
       "        }\n",
       "    };\n",
       "\n",
       "    var network = new vis.Network(container, data, options);\n",
       "\n",
       "</script>\n"
      ],
      "text/plain": [
       "<IPython.core.display.HTML object>"
      ]
     },
     "execution_count": 12,
     "metadata": {},
     "output_type": "execute_result"
    }
   ],
   "source": [
    "vis_class.drawGraph(session, {'Droid': 'name'}, test_query_vis_d)  "
   ]
  },
  {
   "cell_type": "code",
   "execution_count": 13,
   "id": "d3c57d48",
   "metadata": {},
   "outputs": [],
   "source": [
    "test_query_vis_m = '''MATCH (n:Movie) RETURN n AS source_node, \n",
    "                                id(n) AS source_id,\n",
    "                                null,\n",
    "                                null AS target_node,\n",
    "                                null AS target_id'''"
   ]
  },
  {
   "cell_type": "code",
   "execution_count": 14,
   "id": "46d7c885",
   "metadata": {},
   "outputs": [
    {
     "data": {
      "text/html": [
       "<div id=\"77794581-7518-41d7-81cd-3220bed631be\" style=\"height: 400px;\"></div>\n",
       "\n",
       "<script type=\"text/javascript\">\n",
       "\n",
       "    var nodes = [{\"id\": 119, \"label\": \"Episode I: The Phantom Menace\", \"group\": \"Movie\", \"title\": \"<Node id=119 labels=frozenset({'Movie'}) properties={'name': 'Episode I: The Phantom Menace'}>\"}, {\"id\": 120, \"label\": \"Episode II: Attack of the Clones\", \"group\": \"Movie\", \"title\": \"<Node id=120 labels=frozenset({'Movie'}) properties={'name': 'Episode II: Attack of the Clones'}>\"}, {\"id\": 121, \"label\": \"Episode III: Revenge of the Sith\", \"group\": \"Movie\", \"title\": \"<Node id=121 labels=frozenset({'Movie'}) properties={'name': 'Episode III: Revenge of the Sith'}>\"}, {\"id\": 122, \"label\": \"Episode IV: A New Hope\", \"group\": \"Movie\", \"title\": \"<Node id=122 labels=frozenset({'Movie'}) properties={'name': 'Episode IV: A New Hope'}>\"}, {\"id\": 123, \"label\": \"Episode V: The Empire Strikes Back\", \"group\": \"Movie\", \"title\": \"<Node id=123 labels=frozenset({'Movie'}) properties={'name': 'Episode V: The Empire Strikes Back'}>\"}, {\"id\": 124, \"label\": \"Episode VI: Return of the Jedi\", \"group\": \"Movie\", \"title\": \"<Node id=124 labels=frozenset({'Movie'}) properties={'name': 'Episode VI: Return of the Jedi'}>\"}, {\"id\": 125, \"label\": \"Episode VII: The Force Awakens\", \"group\": \"Movie\", \"title\": \"<Node id=125 labels=frozenset({'Movie'}) properties={'name': 'Episode VII: The Force Awakens'}>\"}];\n",
       "    var edges = [];\n",
       "\n",
       "    var container = document.getElementById(\"77794581-7518-41d7-81cd-3220bed631be\");\n",
       "\n",
       "    var data = {\n",
       "        nodes: nodes,\n",
       "        edges: edges\n",
       "    };\n",
       "\n",
       "    var options = {\n",
       "    nodes: {\n",
       "        shape: 'dot',\n",
       "        size: 25,\n",
       "        font: {\n",
       "            size: 14\n",
       "        }\n",
       "    },\n",
       "    edges: {\n",
       "        font: {\n",
       "            size: 14,\n",
       "            align: 'middle'\n",
       "        },\n",
       "        color: 'gray',\n",
       "        arrows: {\n",
       "            to: {\n",
       "                enabled: true,\n",
       "                scaleFactor: 0.5\n",
       "            }\n",
       "        },\n",
       "        smooth: {\n",
       "            enabled: false\n",
       "        }\n",
       "    },\n",
       "    physics: {\n",
       "        enabled: true\n",
       "        }\n",
       "    };\n",
       "\n",
       "    var network = new vis.Network(container, data, options);\n",
       "\n",
       "</script>\n"
      ],
      "text/plain": [
       "<IPython.core.display.HTML object>"
      ]
     },
     "execution_count": 14,
     "metadata": {},
     "output_type": "execute_result"
    }
   ],
   "source": [
    "vis_class.drawGraph(session, {'Movie': 'name'}, test_query_vis_m)  "
   ]
  },
  {
   "cell_type": "code",
   "execution_count": 15,
   "id": "a48f6b4d",
   "metadata": {},
   "outputs": [],
   "source": [
    "test_query_vis_p =  '''MATCH (n:Person) RETURN n AS source_node, \n",
    "                                id(n) AS source_id,\n",
    "                                null,\n",
    "                                null AS target_node,\n",
    "                                null AS target_id'''"
   ]
  },
  {
   "cell_type": "code",
   "execution_count": 16,
   "id": "07d20e37",
   "metadata": {},
   "outputs": [
    {
     "data": {
      "text/html": [
       "<div id=\"c983b571-9771-4037-8a68-fe26c313a821\" style=\"height: 400px;\"></div>\n",
       "\n",
       "<script type=\"text/javascript\">\n",
       "\n",
       "    var nodes = [{\"id\": 127, \"label\": \"CHEWBACCA\", \"group\": \"Person\", \"title\": \"<Node id=127 labels=frozenset({'Person'}) properties={'name': 'CHEWBACCA'}>\"}, {\"id\": 129, \"label\": \"QUI-GON\", \"group\": \"Person\", \"title\": \"<Node id=129 labels=frozenset({'Person'}) properties={'name': 'QUI-GON'}>\"}, {\"id\": 130, \"label\": \"NUTE GUNRAY\", \"group\": \"Person\", \"title\": \"<Node id=130 labels=frozenset({'Person'}) properties={'name': 'NUTE GUNRAY'}>\"}, {\"id\": 131, \"label\": \"PK-4\", \"group\": \"Person\", \"title\": \"<Node id=131 labels=frozenset({'Person'}) properties={'name': 'PK-4'}>\"}, {\"id\": 132, \"label\": \"TC-14\", \"group\": \"Person\", \"title\": \"<Node id=132 labels=frozenset({'Person'}) properties={'name': 'TC-14'}>\"}, {\"id\": 133, \"label\": \"OBI-WAN\", \"group\": \"Person\", \"title\": \"<Node id=133 labels=frozenset({'Person'}) properties={'name': 'OBI-WAN'}>\"}, {\"id\": 134, \"label\": \"DOFINE\", \"group\": \"Person\", \"title\": \"<Node id=134 labels=frozenset({'Person'}) properties={'name': 'DOFINE'}>\"}, {\"id\": 135, \"label\": \"RUNE\", \"group\": \"Person\", \"title\": \"<Node id=135 labels=frozenset({'Person'}) properties={'name': 'RUNE'}>\"}, {\"id\": 136, \"label\": \"TEY HOW\", \"group\": \"Person\", \"title\": \"<Node id=136 labels=frozenset({'Person'}) properties={'name': 'TEY HOW'}>\"}, {\"id\": 137, \"label\": \"EMPEROR\", \"group\": \"Person\", \"title\": \"<Node id=137 labels=frozenset({'Person'}) properties={'name': 'EMPEROR'}>\"}, {\"id\": 138, \"label\": \"CAPTAIN PANAKA\", \"group\": \"Person\", \"title\": \"<Node id=138 labels=frozenset({'Person'}) properties={'name': 'CAPTAIN PANAKA'}>\"}, {\"id\": 139, \"label\": \"SIO BIBBLE\", \"group\": \"Person\", \"title\": \"<Node id=139 labels=frozenset({'Person'}) properties={'name': 'SIO BIBBLE'}>\"}, {\"id\": 140, \"label\": \"JAR JAR\", \"group\": \"Person\", \"title\": \"<Node id=140 labels=frozenset({'Person'}) properties={'name': 'JAR JAR'}>\"}, {\"id\": 141, \"label\": \"TARPALS\", \"group\": \"Person\", \"title\": \"<Node id=141 labels=frozenset({'Person'}) properties={'name': 'TARPALS'}>\"}, {\"id\": 142, \"label\": \"BOSS NASS\", \"group\": \"Person\", \"title\": \"<Node id=142 labels=frozenset({'Person'}) properties={'name': 'BOSS NASS'}>\"}, {\"id\": 143, \"label\": \"PADME\", \"group\": \"Person\", \"title\": \"<Node id=143 labels=frozenset({'Person'}) properties={'name': 'PADME'}>\"}, {\"id\": 144, \"label\": \"RIC OLIE\", \"group\": \"Person\", \"title\": \"<Node id=144 labels=frozenset({'Person'}) properties={'name': 'RIC OLIE'}>\"}, {\"id\": 145, \"label\": \"WATTO\", \"group\": \"Person\", \"title\": \"<Node id=145 labels=frozenset({'Person'}) properties={'name': 'WATTO'}>\"}, {\"id\": 146, \"label\": \"ANAKIN\", \"group\": \"Person\", \"title\": \"<Node id=146 labels=frozenset({'Person'}) properties={'name': 'ANAKIN'}>\"}, {\"id\": 147, \"label\": \"SEBULBA\", \"group\": \"Person\", \"title\": \"<Node id=147 labels=frozenset({'Person'}) properties={'name': 'SEBULBA'}>\"}, {\"id\": 148, \"label\": \"JIRA\", \"group\": \"Person\", \"title\": \"<Node id=148 labels=frozenset({'Person'}) properties={'name': 'JIRA'}>\"}, {\"id\": 149, \"label\": \"SHMI\", \"group\": \"Person\", \"title\": \"<Node id=149 labels=frozenset({'Person'}) properties={'name': 'SHMI'}>\"}, {\"id\": 151, \"label\": \"DARTH MAUL\", \"group\": \"Person\", \"title\": \"<Node id=151 labels=frozenset({'Person'}) properties={'name': 'DARTH MAUL'}>\"}, {\"id\": 152, \"label\": \"KITSTER\", \"group\": \"Person\", \"title\": \"<Node id=152 labels=frozenset({'Person'}) properties={'name': 'KITSTER'}>\"}, {\"id\": 153, \"label\": \"WALD\", \"group\": \"Person\", \"title\": \"<Node id=153 labels=frozenset({'Person'}) properties={'name': 'WALD'}>\"}, {\"id\": 154, \"label\": \"FODE/BEED\", \"group\": \"Person\", \"title\": \"<Node id=154 labels=frozenset({'Person'}) properties={'name': 'FODE/BEED'}>\"}, {\"id\": 155, \"label\": \"JABBA\", \"group\": \"Person\", \"title\": \"<Node id=155 labels=frozenset({'Person'}) properties={'name': 'JABBA'}>\"}, {\"id\": 156, \"label\": \"GREEDO\", \"group\": \"Person\", \"title\": \"<Node id=156 labels=frozenset({'Person'}) properties={'name': 'GREEDO'}>\"}, {\"id\": 157, \"label\": \"VALORUM\", \"group\": \"Person\", \"title\": \"<Node id=157 labels=frozenset({'Person'}) properties={'name': 'VALORUM'}>\"}, {\"id\": 158, \"label\": \"MACE WINDU\", \"group\": \"Person\", \"title\": \"<Node id=158 labels=frozenset({'Person'}) properties={'name': 'MACE WINDU'}>\"}, {\"id\": 159, \"label\": \"KI-ADI-MUNDI\", \"group\": \"Person\", \"title\": \"<Node id=159 labels=frozenset({'Person'}) properties={'name': 'KI-ADI-MUNDI'}>\"}, {\"id\": 160, \"label\": \"YODA\", \"group\": \"Person\", \"title\": \"<Node id=160 labels=frozenset({'Person'}) properties={'name': 'YODA'}>\"}, {\"id\": 161, \"label\": \"RABE\", \"group\": \"Person\", \"title\": \"<Node id=161 labels=frozenset({'Person'}) properties={'name': 'RABE'}>\"}, {\"id\": 162, \"label\": \"BAIL ORGANA\", \"group\": \"Person\", \"title\": \"<Node id=162 labels=frozenset({'Person'}) properties={'name': 'BAIL ORGANA'}>\"}, {\"id\": 163, \"label\": \"GENERAL CEEL\", \"group\": \"Person\", \"title\": \"<Node id=163 labels=frozenset({'Person'}) properties={'name': 'GENERAL CEEL'}>\"}, {\"id\": 164, \"label\": \"BRAVO TWO\", \"group\": \"Person\", \"title\": \"<Node id=164 labels=frozenset({'Person'}) properties={'name': 'BRAVO TWO'}>\"}, {\"id\": 165, \"label\": \"BRAVO THREE\", \"group\": \"Person\", \"title\": \"<Node id=165 labels=frozenset({'Person'}) properties={'name': 'BRAVO THREE'}>\"}, {\"id\": 166, \"label\": \"CAPTAIN TYPHO\", \"group\": \"Person\", \"title\": \"<Node id=166 labels=frozenset({'Person'}) properties={'name': 'CAPTAIN TYPHO'}>\"}, {\"id\": 167, \"label\": \"SENATOR ASK AAK\", \"group\": \"Person\", \"title\": \"<Node id=167 labels=frozenset({'Person'}) properties={'name': 'SENATOR ASK AAK'}>\"}, {\"id\": 168, \"label\": \"ORN FREE TAA\", \"group\": \"Person\", \"title\": \"<Node id=168 labels=frozenset({'Person'}) properties={'name': 'ORN FREE TAA'}>\"}, {\"id\": 169, \"label\": \"SOLA\", \"group\": \"Person\", \"title\": \"<Node id=169 labels=frozenset({'Person'}) properties={'name': 'SOLA'}>\"}, {\"id\": 170, \"label\": \"JOBAL\", \"group\": \"Person\", \"title\": \"<Node id=170 labels=frozenset({'Person'}) properties={'name': 'JOBAL'}>\"}, {\"id\": 171, \"label\": \"RUWEE\", \"group\": \"Person\", \"title\": \"<Node id=171 labels=frozenset({'Person'}) properties={'name': 'RUWEE'}>\"}, {\"id\": 172, \"label\": \"TAUN WE\", \"group\": \"Person\", \"title\": \"<Node id=172 labels=frozenset({'Person'}) properties={'name': 'TAUN WE'}>\"}, {\"id\": 173, \"label\": \"LAMA SU\", \"group\": \"Person\", \"title\": \"<Node id=173 labels=frozenset({'Person'}) properties={'name': 'LAMA SU'}>\"}, {\"id\": 174, \"label\": \"BOBA FETT\", \"group\": \"Person\", \"title\": \"<Node id=174 labels=frozenset({'Person'}) properties={'name': 'BOBA FETT'}>\"}, {\"id\": 175, \"label\": \"JANGO FETT\", \"group\": \"Person\", \"title\": \"<Node id=175 labels=frozenset({'Person'}) properties={'name': 'JANGO FETT'}>\"}, {\"id\": 176, \"label\": \"OWEN\", \"group\": \"Person\", \"title\": \"<Node id=176 labels=frozenset({'Person'}) properties={'name': 'OWEN'}>\"}, {\"id\": 177, \"label\": \"BERU\", \"group\": \"Person\", \"title\": \"<Node id=177 labels=frozenset({'Person'}) properties={'name': 'BERU'}>\"}, {\"id\": 178, \"label\": \"CLIEGG\", \"group\": \"Person\", \"title\": \"<Node id=178 labels=frozenset({'Person'}) properties={'name': 'CLIEGG'}>\"}, {\"id\": 179, \"label\": \"COUNT DOOKU\", \"group\": \"Person\", \"title\": \"<Node id=179 labels=frozenset({'Person'}) properties={'name': 'COUNT DOOKU'}>\"}, {\"id\": 180, \"label\": \"SUN RIT\", \"group\": \"Person\", \"title\": \"<Node id=180 labels=frozenset({'Person'}) properties={'name': 'SUN RIT'}>\"}, {\"id\": 181, \"label\": \"POGGLE\", \"group\": \"Person\", \"title\": \"<Node id=181 labels=frozenset({'Person'}) properties={'name': 'POGGLE'}>\"}, {\"id\": 182, \"label\": \"PLO KOON\", \"group\": \"Person\", \"title\": \"<Node id=182 labels=frozenset({'Person'}) properties={'name': 'PLO KOON'}>\"}, {\"id\": 183, \"label\": \"ODD BALL\", \"group\": \"Person\", \"title\": \"<Node id=183 labels=frozenset({'Person'}) properties={'name': 'ODD BALL'}>\"}, {\"id\": 184, \"label\": \"GENERAL GRIEVOUS\", \"group\": \"Person\", \"title\": \"<Node id=184 labels=frozenset({'Person'}) properties={'name': 'GENERAL GRIEVOUS'}>\"}, {\"id\": 185, \"label\": \"FANG ZAR\", \"group\": \"Person\", \"title\": \"<Node id=185 labels=frozenset({'Person'}) properties={'name': 'FANG ZAR'}>\"}, {\"id\": 186, \"label\": \"MON MOTHMA\", \"group\": \"Person\", \"title\": \"<Node id=186 labels=frozenset({'Person'}) properties={'name': 'MON MOTHMA'}>\"}, {\"id\": 187, \"label\": \"GIDDEAN DANU\", \"group\": \"Person\", \"title\": \"<Node id=187 labels=frozenset({'Person'}) properties={'name': 'GIDDEAN DANU'}>\"}, {\"id\": 188, \"label\": \"CLONE COMMANDER GREE\", \"group\": \"Person\", \"title\": \"<Node id=188 labels=frozenset({'Person'}) properties={'name': 'CLONE COMMANDER GREE'}>\"}, {\"id\": 189, \"label\": \"CLONE COMMANDER CODY\", \"group\": \"Person\", \"title\": \"<Node id=189 labels=frozenset({'Person'}) properties={'name': 'CLONE COMMANDER CODY'}>\"}, {\"id\": 190, \"label\": \"TION MEDON\", \"group\": \"Person\", \"title\": \"<Node id=190 labels=frozenset({'Person'}) properties={'name': 'TION MEDON'}>\"}, {\"id\": 191, \"label\": \"CAPTAIN ANTILLES\", \"group\": \"Person\", \"title\": \"<Node id=191 labels=frozenset({'Person'}) properties={'name': 'CAPTAIN ANTILLES'}>\"}, {\"id\": 192, \"label\": \"DARTH VADER\", \"group\": \"Person\", \"title\": \"<Node id=192 labels=frozenset({'Person'}) properties={'name': 'DARTH VADER'}>\"}, {\"id\": 193, \"label\": \"LUKE\", \"group\": \"Person\", \"title\": \"<Node id=193 labels=frozenset({'Person'}) properties={'name': 'LUKE'}>\"}, {\"id\": 194, \"label\": \"CAMIE\", \"group\": \"Person\", \"title\": \"<Node id=194 labels=frozenset({'Person'}) properties={'name': 'CAMIE'}>\"}, {\"id\": 195, \"label\": \"BIGGS\", \"group\": \"Person\", \"title\": \"<Node id=195 labels=frozenset({'Person'}) properties={'name': 'BIGGS'}>\"}, {\"id\": 196, \"label\": \"LEIA\", \"group\": \"Person\", \"title\": \"<Node id=196 labels=frozenset({'Person'}) properties={'name': 'LEIA'}>\"}, {\"id\": 197, \"label\": \"MOTTI\", \"group\": \"Person\", \"title\": \"<Node id=197 labels=frozenset({'Person'}) properties={'name': 'MOTTI'}>\"}, {\"id\": 198, \"label\": \"TARKIN\", \"group\": \"Person\", \"title\": \"<Node id=198 labels=frozenset({'Person'}) properties={'name': 'TARKIN'}>\"}, {\"id\": 199, \"label\": \"HAN\", \"group\": \"Person\", \"title\": \"<Node id=199 labels=frozenset({'Person'}) properties={'name': 'HAN'}>\"}, {\"id\": 200, \"label\": \"DODONNA\", \"group\": \"Person\", \"title\": \"<Node id=200 labels=frozenset({'Person'}) properties={'name': 'DODONNA'}>\"}, {\"id\": 201, \"label\": \"GOLD LEADER\", \"group\": \"Person\", \"title\": \"<Node id=201 labels=frozenset({'Person'}) properties={'name': 'GOLD LEADER'}>\"}, {\"id\": 202, \"label\": \"WEDGE\", \"group\": \"Person\", \"title\": \"<Node id=202 labels=frozenset({'Person'}) properties={'name': 'WEDGE'}>\"}, {\"id\": 203, \"label\": \"RED LEADER\", \"group\": \"Person\", \"title\": \"<Node id=203 labels=frozenset({'Person'}) properties={'name': 'RED LEADER'}>\"}, {\"id\": 204, \"label\": \"RED TEN\", \"group\": \"Person\", \"title\": \"<Node id=204 labels=frozenset({'Person'}) properties={'name': 'RED TEN'}>\"}, {\"id\": 205, \"label\": \"GOLD FIVE\", \"group\": \"Person\", \"title\": \"<Node id=205 labels=frozenset({'Person'}) properties={'name': 'GOLD FIVE'}>\"}, {\"id\": 206, \"label\": \"RIEEKAN\", \"group\": \"Person\", \"title\": \"<Node id=206 labels=frozenset({'Person'}) properties={'name': 'RIEEKAN'}>\"}, {\"id\": 207, \"label\": \"DERLIN\", \"group\": \"Person\", \"title\": \"<Node id=207 labels=frozenset({'Person'}) properties={'name': 'DERLIN'}>\"}, {\"id\": 208, \"label\": \"ZEV\", \"group\": \"Person\", \"title\": \"<Node id=208 labels=frozenset({'Person'}) properties={'name': 'ZEV'}>\"}, {\"id\": 209, \"label\": \"PIETT\", \"group\": \"Person\", \"title\": \"<Node id=209 labels=frozenset({'Person'}) properties={'name': 'PIETT'}>\"}, {\"id\": 210, \"label\": \"OZZEL\", \"group\": \"Person\", \"title\": \"<Node id=210 labels=frozenset({'Person'}) properties={'name': 'OZZEL'}>\"}, {\"id\": 211, \"label\": \"DACK\", \"group\": \"Person\", \"title\": \"<Node id=211 labels=frozenset({'Person'}) properties={'name': 'DACK'}>\"}, {\"id\": 212, \"label\": \"JANSON\", \"group\": \"Person\", \"title\": \"<Node id=212 labels=frozenset({'Person'}) properties={'name': 'JANSON'}>\"}, {\"id\": 213, \"label\": \"NEEDA\", \"group\": \"Person\", \"title\": \"<Node id=213 labels=frozenset({'Person'}) properties={'name': 'NEEDA'}>\"}, {\"id\": 214, \"label\": \"LANDO\", \"group\": \"Person\", \"title\": \"<Node id=214 labels=frozenset({'Person'}) properties={'name': 'LANDO'}>\"}, {\"id\": 215, \"label\": \"JERJERROD\", \"group\": \"Person\", \"title\": \"<Node id=215 labels=frozenset({'Person'}) properties={'name': 'JERJERROD'}>\"}, {\"id\": 216, \"label\": \"BIB FORTUNA\", \"group\": \"Person\", \"title\": \"<Node id=216 labels=frozenset({'Person'}) properties={'name': 'BIB FORTUNA'}>\"}, {\"id\": 217, \"label\": \"BOUSHH\", \"group\": \"Person\", \"title\": \"<Node id=217 labels=frozenset({'Person'}) properties={'name': 'BOUSHH'}>\"}, {\"id\": 218, \"label\": \"ADMIRAL ACKBAR\", \"group\": \"Person\", \"title\": \"<Node id=218 labels=frozenset({'Person'}) properties={'name': 'ADMIRAL ACKBAR'}>\"}, {\"id\": 219, \"label\": \"LOR SAN TEKKA\", \"group\": \"Person\", \"title\": \"<Node id=219 labels=frozenset({'Person'}) properties={'name': 'LOR SAN TEKKA'}>\"}, {\"id\": 220, \"label\": \"POE\", \"group\": \"Person\", \"title\": \"<Node id=220 labels=frozenset({'Person'}) properties={'name': 'POE'}>\"}, {\"id\": 221, \"label\": \"KYLO REN\", \"group\": \"Person\", \"title\": \"<Node id=221 labels=frozenset({'Person'}) properties={'name': 'KYLO REN'}>\"}, {\"id\": 222, \"label\": \"CAPTAIN PHASMA\", \"group\": \"Person\", \"title\": \"<Node id=222 labels=frozenset({'Person'}) properties={'name': 'CAPTAIN PHASMA'}>\"}, {\"id\": 223, \"label\": \"FINN\", \"group\": \"Person\", \"title\": \"<Node id=223 labels=frozenset({'Person'}) properties={'name': 'FINN'}>\"}, {\"id\": 224, \"label\": \"UNKAR PLUTT\", \"group\": \"Person\", \"title\": \"<Node id=224 labels=frozenset({'Person'}) properties={'name': 'UNKAR PLUTT'}>\"}, {\"id\": 225, \"label\": \"REY\", \"group\": \"Person\", \"title\": \"<Node id=225 labels=frozenset({'Person'}) properties={'name': 'REY'}>\"}, {\"id\": 226, \"label\": \"GENERAL HUX\", \"group\": \"Person\", \"title\": \"<Node id=226 labels=frozenset({'Person'}) properties={'name': 'GENERAL HUX'}>\"}, {\"id\": 227, \"label\": \"LIEUTENANT MITAKA\", \"group\": \"Person\", \"title\": \"<Node id=227 labels=frozenset({'Person'}) properties={'name': 'LIEUTENANT MITAKA'}>\"}, {\"id\": 228, \"label\": \"BALA-TIK\", \"group\": \"Person\", \"title\": \"<Node id=228 labels=frozenset({'Person'}) properties={'name': 'BALA-TIK'}>\"}, {\"id\": 229, \"label\": \"SNOKE\", \"group\": \"Person\", \"title\": \"<Node id=229 labels=frozenset({'Person'}) properties={'name': 'SNOKE'}>\"}, {\"id\": 230, \"label\": \"MAZ\", \"group\": \"Person\", \"title\": \"<Node id=230 labels=frozenset({'Person'}) properties={'name': 'MAZ'}>\"}, {\"id\": 231, \"label\": \"SNAP\", \"group\": \"Person\", \"title\": \"<Node id=231 labels=frozenset({'Person'}) properties={'name': 'SNAP'}>\"}, {\"id\": 232, \"label\": \"ADMIRAL STATURA\", \"group\": \"Person\", \"title\": \"<Node id=232 labels=frozenset({'Person'}) properties={'name': 'ADMIRAL STATURA'}>\"}, {\"id\": 233, \"label\": \"YOLO ZIFF\", \"group\": \"Person\", \"title\": \"<Node id=233 labels=frozenset({'Person'}) properties={'name': 'YOLO ZIFF'}>\"}, {\"id\": 234, \"label\": \"COLONEL DATOO\", \"group\": \"Person\", \"title\": \"<Node id=234 labels=frozenset({'Person'}) properties={'name': 'COLONEL DATOO'}>\"}, {\"id\": 235, \"label\": \"ELLO ASTY\", \"group\": \"Person\", \"title\": \"<Node id=235 labels=frozenset({'Person'}) properties={'name': 'ELLO ASTY'}>\"}, {\"id\": 236, \"label\": \"JESS\", \"group\": \"Person\", \"title\": \"<Node id=236 labels=frozenset({'Person'}) properties={'name': 'JESS'}>\"}, {\"id\": 237, \"label\": \"NIV LEK\", \"group\": \"Person\", \"title\": \"<Node id=237 labels=frozenset({'Person'}) properties={'name': 'NIV LEK'}>\"}];\n",
       "    var edges = [];\n",
       "\n",
       "    var container = document.getElementById(\"c983b571-9771-4037-8a68-fe26c313a821\");\n",
       "\n",
       "    var data = {\n",
       "        nodes: nodes,\n",
       "        edges: edges\n",
       "    };\n",
       "\n",
       "    var options = {\n",
       "    nodes: {\n",
       "        shape: 'dot',\n",
       "        size: 25,\n",
       "        font: {\n",
       "            size: 14\n",
       "        }\n",
       "    },\n",
       "    edges: {\n",
       "        font: {\n",
       "            size: 14,\n",
       "            align: 'middle'\n",
       "        },\n",
       "        color: 'gray',\n",
       "        arrows: {\n",
       "            to: {\n",
       "                enabled: true,\n",
       "                scaleFactor: 0.5\n",
       "            }\n",
       "        },\n",
       "        smooth: {\n",
       "            enabled: false\n",
       "        }\n",
       "    },\n",
       "    physics: {\n",
       "        enabled: true\n",
       "        }\n",
       "    };\n",
       "\n",
       "    var network = new vis.Network(container, data, options);\n",
       "\n",
       "</script>\n"
      ],
      "text/plain": [
       "<IPython.core.display.HTML object>"
      ]
     },
     "execution_count": 16,
     "metadata": {},
     "output_type": "execute_result"
    }
   ],
   "source": [
    "vis_class.drawGraph(session, {'Person': 'name'}, test_query_vis_p)  "
   ]
  },
  {
   "cell_type": "code",
   "execution_count": 17,
   "id": "9d6bfe1f",
   "metadata": {},
   "outputs": [],
   "source": [
    "test_query_vis_p =  '''MATCH (n:Person) -[r:SPEAKS_WITH]-(m:Person) \n",
    "                        RETURN n AS source_node, \n",
    "                                id(n) AS source_id,\n",
    "                                r,\n",
    "                                m AS target_node,\n",
    "                                id(m) AS target_id\n",
    "                                LIMIT 100'''"
   ]
  },
  {
   "cell_type": "code",
   "execution_count": 18,
   "id": "af2bebb8",
   "metadata": {},
   "outputs": [
    {
     "data": {
      "text/html": [
       "<div id=\"a464ad46-4731-4f80-bf44-ef047d5e9e9f\" style=\"height: 400px;\"></div>\n",
       "\n",
       "<script type=\"text/javascript\">\n",
       "\n",
       "    var nodes = [{\"id\": 127, \"label\": \"CHEWBACCA\", \"group\": \"Person\", \"title\": \"<Node id=127 labels=frozenset({'Person'}) properties={'name': 'CHEWBACCA'}>\"}, {\"id\": 222, \"label\": \"CAPTAIN PHASMA\", \"group\": \"Person\", \"title\": \"<Node id=222 labels=frozenset({'Person'}) properties={'name': 'CAPTAIN PHASMA'}>\"}, {\"id\": 214, \"label\": \"LANDO\", \"group\": \"Person\", \"title\": \"<Node id=214 labels=frozenset({'Person'}) properties={'name': 'LANDO'}>\"}, {\"id\": 228, \"label\": \"BALA-TIK\", \"group\": \"Person\", \"title\": \"<Node id=228 labels=frozenset({'Person'}) properties={'name': 'BALA-TIK'}>\"}, {\"id\": 225, \"label\": \"REY\", \"group\": \"Person\", \"title\": \"<Node id=225 labels=frozenset({'Person'}) properties={'name': 'REY'}>\"}, {\"id\": 174, \"label\": \"BOBA FETT\", \"group\": \"Person\", \"title\": \"<Node id=174 labels=frozenset({'Person'}) properties={'name': 'BOBA FETT'}>\"}, {\"id\": 223, \"label\": \"FINN\", \"group\": \"Person\", \"title\": \"<Node id=223 labels=frozenset({'Person'}) properties={'name': 'FINN'}>\"}, {\"id\": 230, \"label\": \"MAZ\", \"group\": \"Person\", \"title\": \"<Node id=230 labels=frozenset({'Person'}) properties={'name': 'MAZ'}>\"}, {\"id\": 221, \"label\": \"KYLO REN\", \"group\": \"Person\", \"title\": \"<Node id=221 labels=frozenset({'Person'}) properties={'name': 'KYLO REN'}>\"}, {\"id\": 193, \"label\": \"LUKE\", \"group\": \"Person\", \"title\": \"<Node id=193 labels=frozenset({'Person'}) properties={'name': 'LUKE'}>\"}, {\"id\": 220, \"label\": \"POE\", \"group\": \"Person\", \"title\": \"<Node id=220 labels=frozenset({'Person'}) properties={'name': 'POE'}>\"}, {\"id\": 155, \"label\": \"JABBA\", \"group\": \"Person\", \"title\": \"<Node id=155 labels=frozenset({'Person'}) properties={'name': 'JABBA'}>\"}, {\"id\": 133, \"label\": \"OBI-WAN\", \"group\": \"Person\", \"title\": \"<Node id=133 labels=frozenset({'Person'}) properties={'name': 'OBI-WAN'}>\"}, {\"id\": 199, \"label\": \"HAN\", \"group\": \"Person\", \"title\": \"<Node id=199 labels=frozenset({'Person'}) properties={'name': 'HAN'}>\"}, {\"id\": 196, \"label\": \"LEIA\", \"group\": \"Person\", \"title\": \"<Node id=196 labels=frozenset({'Person'}) properties={'name': 'LEIA'}>\"}, {\"id\": 206, \"label\": \"RIEEKAN\", \"group\": \"Person\", \"title\": \"<Node id=206 labels=frozenset({'Person'}) properties={'name': 'RIEEKAN'}>\"}, {\"id\": 192, \"label\": \"DARTH VADER\", \"group\": \"Person\", \"title\": \"<Node id=192 labels=frozenset({'Person'}) properties={'name': 'DARTH VADER'}>\"}, {\"id\": 129, \"label\": \"QUI-GON\", \"group\": \"Person\", \"title\": \"<Node id=129 labels=frozenset({'Person'}) properties={'name': 'QUI-GON'}>\"}, {\"id\": 153, \"label\": \"WALD\", \"group\": \"Person\", \"title\": \"<Node id=153 labels=frozenset({'Person'}) properties={'name': 'WALD'}>\"}, {\"id\": 161, \"label\": \"RABE\", \"group\": \"Person\", \"title\": \"<Node id=161 labels=frozenset({'Person'}) properties={'name': 'RABE'}>\"}, {\"id\": 147, \"label\": \"SEBULBA\", \"group\": \"Person\", \"title\": \"<Node id=147 labels=frozenset({'Person'}) properties={'name': 'SEBULBA'}>\"}, {\"id\": 160, \"label\": \"YODA\", \"group\": \"Person\", \"title\": \"<Node id=160 labels=frozenset({'Person'}) properties={'name': 'YODA'}>\"}, {\"id\": 143, \"label\": \"PADME\", \"group\": \"Person\", \"title\": \"<Node id=143 labels=frozenset({'Person'}) properties={'name': 'PADME'}>\"}, {\"id\": 149, \"label\": \"SHMI\", \"group\": \"Person\", \"title\": \"<Node id=149 labels=frozenset({'Person'}) properties={'name': 'SHMI'}>\"}, {\"id\": 132, \"label\": \"TC-14\", \"group\": \"Person\", \"title\": \"<Node id=132 labels=frozenset({'Person'}) properties={'name': 'TC-14'}>\"}, {\"id\": 139, \"label\": \"SIO BIBBLE\", \"group\": \"Person\", \"title\": \"<Node id=139 labels=frozenset({'Person'}) properties={'name': 'SIO BIBBLE'}>\"}, {\"id\": 157, \"label\": \"VALORUM\", \"group\": \"Person\", \"title\": \"<Node id=157 labels=frozenset({'Person'}) properties={'name': 'VALORUM'}>\"}, {\"id\": 144, \"label\": \"RIC OLIE\", \"group\": \"Person\", \"title\": \"<Node id=144 labels=frozenset({'Person'}) properties={'name': 'RIC OLIE'}>\"}, {\"id\": 137, \"label\": \"EMPEROR\", \"group\": \"Person\", \"title\": \"<Node id=137 labels=frozenset({'Person'}) properties={'name': 'EMPEROR'}>\"}, {\"id\": 158, \"label\": \"MACE WINDU\", \"group\": \"Person\", \"title\": \"<Node id=158 labels=frozenset({'Person'}) properties={'name': 'MACE WINDU'}>\"}, {\"id\": 130, \"label\": \"NUTE GUNRAY\", \"group\": \"Person\", \"title\": \"<Node id=130 labels=frozenset({'Person'}) properties={'name': 'NUTE GUNRAY'}>\"}, {\"id\": 145, \"label\": \"WATTO\", \"group\": \"Person\", \"title\": \"<Node id=145 labels=frozenset({'Person'}) properties={'name': 'WATTO'}>\"}, {\"id\": 156, \"label\": \"GREEDO\", \"group\": \"Person\", \"title\": \"<Node id=156 labels=frozenset({'Person'}) properties={'name': 'GREEDO'}>\"}, {\"id\": 142, \"label\": \"BOSS NASS\", \"group\": \"Person\", \"title\": \"<Node id=142 labels=frozenset({'Person'}) properties={'name': 'BOSS NASS'}>\"}, {\"id\": 148, \"label\": \"JIRA\", \"group\": \"Person\", \"title\": \"<Node id=148 labels=frozenset({'Person'}) properties={'name': 'JIRA'}>\"}, {\"id\": 138, \"label\": \"CAPTAIN PANAKA\", \"group\": \"Person\", \"title\": \"<Node id=138 labels=frozenset({'Person'}) properties={'name': 'CAPTAIN PANAKA'}>\"}, {\"id\": 152, \"label\": \"KITSTER\", \"group\": \"Person\", \"title\": \"<Node id=152 labels=frozenset({'Person'}) properties={'name': 'KITSTER'}>\"}, {\"id\": 159, \"label\": \"KI-ADI-MUNDI\", \"group\": \"Person\", \"title\": \"<Node id=159 labels=frozenset({'Person'}) properties={'name': 'KI-ADI-MUNDI'}>\"}, {\"id\": 140, \"label\": \"JAR JAR\", \"group\": \"Person\", \"title\": \"<Node id=140 labels=frozenset({'Person'}) properties={'name': 'JAR JAR'}>\"}, {\"id\": 162, \"label\": \"BAIL ORGANA\", \"group\": \"Person\", \"title\": \"<Node id=162 labels=frozenset({'Person'}) properties={'name': 'BAIL ORGANA'}>\"}, {\"id\": 146, \"label\": \"ANAKIN\", \"group\": \"Person\", \"title\": \"<Node id=146 labels=frozenset({'Person'}) properties={'name': 'ANAKIN'}>\"}, {\"id\": 151, \"label\": \"DARTH MAUL\", \"group\": \"Person\", \"title\": \"<Node id=151 labels=frozenset({'Person'}) properties={'name': 'DARTH MAUL'}>\"}, {\"id\": 181, \"label\": \"POGGLE\", \"group\": \"Person\", \"title\": \"<Node id=181 labels=frozenset({'Person'}) properties={'name': 'POGGLE'}>\"}, {\"id\": 184, \"label\": \"GENERAL GRIEVOUS\", \"group\": \"Person\", \"title\": \"<Node id=184 labels=frozenset({'Person'}) properties={'name': 'GENERAL GRIEVOUS'}>\"}, {\"id\": 135, \"label\": \"RUNE\", \"group\": \"Person\", \"title\": \"<Node id=135 labels=frozenset({'Person'}) properties={'name': 'RUNE'}>\"}, {\"id\": 136, \"label\": \"TEY HOW\", \"group\": \"Person\", \"title\": \"<Node id=136 labels=frozenset({'Person'}) properties={'name': 'TEY HOW'}>\"}, {\"id\": 134, \"label\": \"DOFINE\", \"group\": \"Person\", \"title\": \"<Node id=134 labels=frozenset({'Person'}) properties={'name': 'DOFINE'}>\"}, {\"id\": 163, \"label\": \"GENERAL CEEL\", \"group\": \"Person\", \"title\": \"<Node id=163 labels=frozenset({'Person'}) properties={'name': 'GENERAL CEEL'}>\"}, {\"id\": 180, \"label\": \"SUN RIT\", \"group\": \"Person\", \"title\": \"<Node id=180 labels=frozenset({'Person'}) properties={'name': 'SUN RIT'}>\"}, {\"id\": 179, \"label\": \"COUNT DOOKU\", \"group\": \"Person\", \"title\": \"<Node id=179 labels=frozenset({'Person'}) properties={'name': 'COUNT DOOKU'}>\"}, {\"id\": 131, \"label\": \"PK-4\", \"group\": \"Person\", \"title\": \"<Node id=131 labels=frozenset({'Person'}) properties={'name': 'PK-4'}>\"}, {\"id\": 183, \"label\": \"ODD BALL\", \"group\": \"Person\", \"title\": \"<Node id=183 labels=frozenset({'Person'}) properties={'name': 'ODD BALL'}>\"}, {\"id\": 190, \"label\": \"TION MEDON\", \"group\": \"Person\", \"title\": \"<Node id=190 labels=frozenset({'Person'}) properties={'name': 'TION MEDON'}>\"}, {\"id\": 172, \"label\": \"TAUN WE\", \"group\": \"Person\", \"title\": \"<Node id=172 labels=frozenset({'Person'}) properties={'name': 'TAUN WE'}>\"}, {\"id\": 167, \"label\": \"SENATOR ASK AAK\", \"group\": \"Person\", \"title\": \"<Node id=167 labels=frozenset({'Person'}) properties={'name': 'SENATOR ASK AAK'}>\"}, {\"id\": 173, \"label\": \"LAMA SU\", \"group\": \"Person\", \"title\": \"<Node id=173 labels=frozenset({'Person'}) properties={'name': 'LAMA SU'}>\"}, {\"id\": 189, \"label\": \"CLONE COMMANDER CODY\", \"group\": \"Person\", \"title\": \"<Node id=189 labels=frozenset({'Person'}) properties={'name': 'CLONE COMMANDER CODY'}>\"}, {\"id\": 166, \"label\": \"CAPTAIN TYPHO\", \"group\": \"Person\", \"title\": \"<Node id=166 labels=frozenset({'Person'}) properties={'name': 'CAPTAIN TYPHO'}>\"}, {\"id\": 175, \"label\": \"JANGO FETT\", \"group\": \"Person\", \"title\": \"<Node id=175 labels=frozenset({'Person'}) properties={'name': 'JANGO FETT'}>\"}];\n",
       "    var edges = [{\"from\": 127, \"to\": 222, \"label\": \"SPEAKS_WITH\"}, {\"from\": 127, \"to\": 214, \"label\": \"SPEAKS_WITH\"}, {\"from\": 127, \"to\": 228, \"label\": \"SPEAKS_WITH\"}, {\"from\": 127, \"to\": 225, \"label\": \"SPEAKS_WITH\"}, {\"from\": 127, \"to\": 174, \"label\": \"SPEAKS_WITH\"}, {\"from\": 127, \"to\": 223, \"label\": \"SPEAKS_WITH\"}, {\"from\": 127, \"to\": 230, \"label\": \"SPEAKS_WITH\"}, {\"from\": 127, \"to\": 221, \"label\": \"SPEAKS_WITH\"}, {\"from\": 127, \"to\": 193, \"label\": \"SPEAKS_WITH\"}, {\"from\": 127, \"to\": 220, \"label\": \"SPEAKS_WITH\"}, {\"from\": 127, \"to\": 155, \"label\": \"SPEAKS_WITH\"}, {\"from\": 127, \"to\": 133, \"label\": \"SPEAKS_WITH\"}, {\"from\": 127, \"to\": 199, \"label\": \"SPEAKS_WITH\"}, {\"from\": 127, \"to\": 196, \"label\": \"SPEAKS_WITH\"}, {\"from\": 127, \"to\": 206, \"label\": \"SPEAKS_WITH\"}, {\"from\": 127, \"to\": 192, \"label\": \"SPEAKS_WITH\"}, {\"from\": 129, \"to\": 153, \"label\": \"SPEAKS_WITH\"}, {\"from\": 129, \"to\": 161, \"label\": \"SPEAKS_WITH\"}, {\"from\": 129, \"to\": 147, \"label\": \"SPEAKS_WITH\"}, {\"from\": 129, \"to\": 133, \"label\": \"SPEAKS_WITH\"}, {\"from\": 129, \"to\": 160, \"label\": \"SPEAKS_WITH\"}, {\"from\": 129, \"to\": 143, \"label\": \"SPEAKS_WITH\"}, {\"from\": 129, \"to\": 149, \"label\": \"SPEAKS_WITH\"}, {\"from\": 129, \"to\": 132, \"label\": \"SPEAKS_WITH\"}, {\"from\": 129, \"to\": 139, \"label\": \"SPEAKS_WITH\"}, {\"from\": 129, \"to\": 157, \"label\": \"SPEAKS_WITH\"}, {\"from\": 129, \"to\": 144, \"label\": \"SPEAKS_WITH\"}, {\"from\": 129, \"to\": 137, \"label\": \"SPEAKS_WITH\"}, {\"from\": 129, \"to\": 158, \"label\": \"SPEAKS_WITH\"}, {\"from\": 129, \"to\": 130, \"label\": \"SPEAKS_WITH\"}, {\"from\": 129, \"to\": 145, \"label\": \"SPEAKS_WITH\"}, {\"from\": 129, \"to\": 156, \"label\": \"SPEAKS_WITH\"}, {\"from\": 129, \"to\": 142, \"label\": \"SPEAKS_WITH\"}, {\"from\": 129, \"to\": 148, \"label\": \"SPEAKS_WITH\"}, {\"from\": 129, \"to\": 138, \"label\": \"SPEAKS_WITH\"}, {\"from\": 129, \"to\": 152, \"label\": \"SPEAKS_WITH\"}, {\"from\": 129, \"to\": 155, \"label\": \"SPEAKS_WITH\"}, {\"from\": 129, \"to\": 159, \"label\": \"SPEAKS_WITH\"}, {\"from\": 129, \"to\": 140, \"label\": \"SPEAKS_WITH\"}, {\"from\": 129, \"to\": 162, \"label\": \"SPEAKS_WITH\"}, {\"from\": 129, \"to\": 146, \"label\": \"SPEAKS_WITH\"}, {\"from\": 130, \"to\": 151, \"label\": \"SPEAKS_WITH\"}, {\"from\": 130, \"to\": 181, \"label\": \"SPEAKS_WITH\"}, {\"from\": 130, \"to\": 139, \"label\": \"SPEAKS_WITH\"}, {\"from\": 130, \"to\": 184, \"label\": \"SPEAKS_WITH\"}, {\"from\": 130, \"to\": 135, \"label\": \"SPEAKS_WITH\"}, {\"from\": 130, \"to\": 129, \"label\": \"SPEAKS_WITH\"}, {\"from\": 130, \"to\": 136, \"label\": \"SPEAKS_WITH\"}, {\"from\": 130, \"to\": 132, \"label\": \"SPEAKS_WITH\"}, {\"from\": 130, \"to\": 143, \"label\": \"SPEAKS_WITH\"}, {\"from\": 130, \"to\": 134, \"label\": \"SPEAKS_WITH\"}, {\"from\": 130, \"to\": 163, \"label\": \"SPEAKS_WITH\"}, {\"from\": 130, \"to\": 180, \"label\": \"SPEAKS_WITH\"}, {\"from\": 130, \"to\": 137, \"label\": \"SPEAKS_WITH\"}, {\"from\": 130, \"to\": 179, \"label\": \"SPEAKS_WITH\"}, {\"from\": 130, \"to\": 146, \"label\": \"SPEAKS_WITH\"}, {\"from\": 130, \"to\": 133, \"label\": \"SPEAKS_WITH\"}, {\"from\": 131, \"to\": 133, \"label\": \"SPEAKS_WITH\"}, {\"from\": 131, \"to\": 132, \"label\": \"SPEAKS_WITH\"}, {\"from\": 132, \"to\": 129, \"label\": \"SPEAKS_WITH\"}, {\"from\": 132, \"to\": 130, \"label\": \"SPEAKS_WITH\"}, {\"from\": 132, \"to\": 133, \"label\": \"SPEAKS_WITH\"}, {\"from\": 132, \"to\": 131, \"label\": \"SPEAKS_WITH\"}, {\"from\": 132, \"to\": 134, \"label\": \"SPEAKS_WITH\"}, {\"from\": 133, \"to\": 183, \"label\": \"SPEAKS_WITH\"}, {\"from\": 133, \"to\": 174, \"label\": \"SPEAKS_WITH\"}, {\"from\": 133, \"to\": 149, \"label\": \"SPEAKS_WITH\"}, {\"from\": 133, \"to\": 129, \"label\": \"SPEAKS_WITH\"}, {\"from\": 133, \"to\": 180, \"label\": \"SPEAKS_WITH\"}, {\"from\": 133, \"to\": 196, \"label\": \"SPEAKS_WITH\"}, {\"from\": 133, \"to\": 190, \"label\": \"SPEAKS_WITH\"}, {\"from\": 133, \"to\": 162, \"label\": \"SPEAKS_WITH\"}, {\"from\": 133, \"to\": 172, \"label\": \"SPEAKS_WITH\"}, {\"from\": 133, \"to\": 140, \"label\": \"SPEAKS_WITH\"}, {\"from\": 133, \"to\": 199, \"label\": \"SPEAKS_WITH\"}, {\"from\": 133, \"to\": 167, \"label\": \"SPEAKS_WITH\"}, {\"from\": 133, \"to\": 173, \"label\": \"SPEAKS_WITH\"}, {\"from\": 133, \"to\": 189, \"label\": \"SPEAKS_WITH\"}, {\"from\": 133, \"to\": 166, \"label\": \"SPEAKS_WITH\"}, {\"from\": 133, \"to\": 179, \"label\": \"SPEAKS_WITH\"}, {\"from\": 133, \"to\": 131, \"label\": \"SPEAKS_WITH\"}, {\"from\": 133, \"to\": 159, \"label\": \"SPEAKS_WITH\"}, {\"from\": 133, \"to\": 143, \"label\": \"SPEAKS_WITH\"}, {\"from\": 133, \"to\": 192, \"label\": \"SPEAKS_WITH\"}, {\"from\": 133, \"to\": 146, \"label\": \"SPEAKS_WITH\"}, {\"from\": 133, \"to\": 175, \"label\": \"SPEAKS_WITH\"}, {\"from\": 133, \"to\": 160, \"label\": \"SPEAKS_WITH\"}, {\"from\": 133, \"to\": 144, \"label\": \"SPEAKS_WITH\"}, {\"from\": 133, \"to\": 181, \"label\": \"SPEAKS_WITH\"}, {\"from\": 133, \"to\": 142, \"label\": \"SPEAKS_WITH\"}, {\"from\": 133, \"to\": 127, \"label\": \"SPEAKS_WITH\"}, {\"from\": 133, \"to\": 137, \"label\": \"SPEAKS_WITH\"}, {\"from\": 133, \"to\": 132, \"label\": \"SPEAKS_WITH\"}, {\"from\": 133, \"to\": 193, \"label\": \"SPEAKS_WITH\"}, {\"from\": 133, \"to\": 184, \"label\": \"SPEAKS_WITH\"}, {\"from\": 133, \"to\": 139, \"label\": \"SPEAKS_WITH\"}, {\"from\": 133, \"to\": 138, \"label\": \"SPEAKS_WITH\"}, {\"from\": 133, \"to\": 158, \"label\": \"SPEAKS_WITH\"}, {\"from\": 133, \"to\": 130, \"label\": \"SPEAKS_WITH\"}, {\"from\": 134, \"to\": 130, \"label\": \"SPEAKS_WITH\"}];\n",
       "\n",
       "    var container = document.getElementById(\"a464ad46-4731-4f80-bf44-ef047d5e9e9f\");\n",
       "\n",
       "    var data = {\n",
       "        nodes: nodes,\n",
       "        edges: edges\n",
       "    };\n",
       "\n",
       "    var options = {\n",
       "    nodes: {\n",
       "        shape: 'dot',\n",
       "        size: 25,\n",
       "        font: {\n",
       "            size: 14\n",
       "        }\n",
       "    },\n",
       "    edges: {\n",
       "        font: {\n",
       "            size: 14,\n",
       "            align: 'middle'\n",
       "        },\n",
       "        color: 'gray',\n",
       "        arrows: {\n",
       "            to: {\n",
       "                enabled: true,\n",
       "                scaleFactor: 0.5\n",
       "            }\n",
       "        },\n",
       "        smooth: {\n",
       "            enabled: false\n",
       "        }\n",
       "    },\n",
       "    physics: {\n",
       "        enabled: true\n",
       "        }\n",
       "    };\n",
       "\n",
       "    var network = new vis.Network(container, data, options);\n",
       "\n",
       "</script>\n"
      ],
      "text/plain": [
       "<IPython.core.display.HTML object>"
      ]
     },
     "execution_count": 18,
     "metadata": {},
     "output_type": "execute_result"
    }
   ],
   "source": [
    "#Here we already see a Clustering\n",
    "#Ceneral are Qui-Gon, Chewbacca, Obi-Wan, Nute Gunray\n",
    "vis_class.drawGraph(session, {'Person': 'name'}, test_query_vis_p)  "
   ]
  },
  {
   "cell_type": "code",
   "execution_count": 19,
   "id": "151eb529",
   "metadata": {},
   "outputs": [
    {
     "data": {
      "text/html": [
       "<div>\n",
       "<style scoped>\n",
       "    .dataframe tbody tr th:only-of-type {\n",
       "        vertical-align: middle;\n",
       "    }\n",
       "\n",
       "    .dataframe tbody tr th {\n",
       "        vertical-align: top;\n",
       "    }\n",
       "\n",
       "    .dataframe thead th {\n",
       "        text-align: right;\n",
       "    }\n",
       "</style>\n",
       "<table border=\"1\" class=\"dataframe\">\n",
       "  <thead>\n",
       "    <tr style=\"text-align: right;\">\n",
       "      <th></th>\n",
       "      <th>ID</th>\n",
       "      <th>label</th>\n",
       "      <th>name</th>\n",
       "    </tr>\n",
       "  </thead>\n",
       "  <tbody>\n",
       "    <tr>\n",
       "      <th>0</th>\n",
       "      <td>126</td>\n",
       "      <td>[Droid]</td>\n",
       "      <td>R2-D2</td>\n",
       "    </tr>\n",
       "    <tr>\n",
       "      <th>1</th>\n",
       "      <td>128</td>\n",
       "      <td>[Droid]</td>\n",
       "      <td>BB-8</td>\n",
       "    </tr>\n",
       "    <tr>\n",
       "      <th>2</th>\n",
       "      <td>150</td>\n",
       "      <td>[Droid]</td>\n",
       "      <td>C-3PO</td>\n",
       "    </tr>\n",
       "    <tr>\n",
       "      <th>3</th>\n",
       "      <td>119</td>\n",
       "      <td>[Movie]</td>\n",
       "      <td>Episode I: The Phantom Menace</td>\n",
       "    </tr>\n",
       "    <tr>\n",
       "      <th>4</th>\n",
       "      <td>120</td>\n",
       "      <td>[Movie]</td>\n",
       "      <td>Episode II: Attack of the Clones</td>\n",
       "    </tr>\n",
       "    <tr>\n",
       "      <th>...</th>\n",
       "      <td>...</td>\n",
       "      <td>...</td>\n",
       "      <td>...</td>\n",
       "    </tr>\n",
       "    <tr>\n",
       "      <th>114</th>\n",
       "      <td>233</td>\n",
       "      <td>[Person]</td>\n",
       "      <td>YOLO ZIFF</td>\n",
       "    </tr>\n",
       "    <tr>\n",
       "      <th>115</th>\n",
       "      <td>234</td>\n",
       "      <td>[Person]</td>\n",
       "      <td>COLONEL DATOO</td>\n",
       "    </tr>\n",
       "    <tr>\n",
       "      <th>116</th>\n",
       "      <td>235</td>\n",
       "      <td>[Person]</td>\n",
       "      <td>ELLO ASTY</td>\n",
       "    </tr>\n",
       "    <tr>\n",
       "      <th>117</th>\n",
       "      <td>236</td>\n",
       "      <td>[Person]</td>\n",
       "      <td>JESS</td>\n",
       "    </tr>\n",
       "    <tr>\n",
       "      <th>118</th>\n",
       "      <td>237</td>\n",
       "      <td>[Person]</td>\n",
       "      <td>NIV LEK</td>\n",
       "    </tr>\n",
       "  </tbody>\n",
       "</table>\n",
       "<p>119 rows × 3 columns</p>\n",
       "</div>"
      ],
      "text/plain": [
       "      ID     label                              name\n",
       "0    126   [Droid]                             R2-D2\n",
       "1    128   [Droid]                              BB-8\n",
       "2    150   [Droid]                             C-3PO\n",
       "3    119   [Movie]     Episode I: The Phantom Menace\n",
       "4    120   [Movie]  Episode II: Attack of the Clones\n",
       "..   ...       ...                               ...\n",
       "114  233  [Person]                         YOLO ZIFF\n",
       "115  234  [Person]                     COLONEL DATOO\n",
       "116  235  [Person]                         ELLO ASTY\n",
       "117  236  [Person]                              JESS\n",
       "118  237  [Person]                           NIV LEK\n",
       "\n",
       "[119 rows x 3 columns]"
      ]
     },
     "execution_count": 19,
     "metadata": {},
     "output_type": "execute_result"
    }
   ],
   "source": [
    "get_labels = \"MATCH (n) WHERE EXISTS(n.name) RETURN ID(n) AS ID, labels(n) AS label, n.name AS name ORDER BY labels(n)\"\n",
    "df = pd.DataFrame (session.read_transaction(\n",
    "                    lambda tx: tx.run(get_labels).data()), columns = ['ID','label', 'name'])\n",
    "df"
   ]
  },
  {
   "cell_type": "code",
   "execution_count": 20,
   "id": "eadc07d5",
   "metadata": {},
   "outputs": [
    {
     "data": {
      "text/html": [
       "<div>\n",
       "<style scoped>\n",
       "    .dataframe tbody tr th:only-of-type {\n",
       "        vertical-align: middle;\n",
       "    }\n",
       "\n",
       "    .dataframe tbody tr th {\n",
       "        vertical-align: top;\n",
       "    }\n",
       "\n",
       "    .dataframe thead th {\n",
       "        text-align: right;\n",
       "    }\n",
       "</style>\n",
       "<table border=\"1\" class=\"dataframe\">\n",
       "  <thead>\n",
       "    <tr style=\"text-align: right;\">\n",
       "      <th></th>\n",
       "      <th>relationshipType</th>\n",
       "    </tr>\n",
       "  </thead>\n",
       "  <tbody>\n",
       "    <tr>\n",
       "      <th>0</th>\n",
       "      <td>SPEAKS_WITH</td>\n",
       "    </tr>\n",
       "    <tr>\n",
       "      <th>1</th>\n",
       "      <td>APPEARS_IN</td>\n",
       "    </tr>\n",
       "  </tbody>\n",
       "</table>\n",
       "</div>"
      ],
      "text/plain": [
       "  relationshipType\n",
       "0      SPEAKS_WITH\n",
       "1       APPEARS_IN"
      ]
     },
     "execution_count": 20,
     "metadata": {},
     "output_type": "execute_result"
    }
   ],
   "source": [
    "relationships = \"CALL db.relationshipTypes()\"\n",
    "df = pd.DataFrame(session.read_transaction(\n",
    "            lambda tx: tx.run(relationships).data()), columns = ['relationshipType'])\n",
    "df"
   ]
  },
  {
   "cell_type": "code",
   "execution_count": 21,
   "id": "cf2f83e8",
   "metadata": {},
   "outputs": [
    {
     "name": "stdout",
     "output_type": "stream",
     "text": [
      "[{'Name': 'Episode I: The Phantom Menace'}]\n"
     ]
    }
   ],
   "source": [
    "#Get specific character\n",
    "get_v_one = \"MATCH (n) WHERE n.name=\\\"Episode I: The Phantom Menace\\\" RETURN n.name As Name\"\n",
    "print(session.read_transaction(\n",
    "        lambda tx: tx.run(get_v_one).data()))"
   ]
  },
  {
   "cell_type": "code",
   "execution_count": 22,
   "id": "6096be42",
   "metadata": {},
   "outputs": [
    {
     "name": "stdout",
     "output_type": "stream",
     "text": [
      "[{'name': 'ANAKIN', 'relation': 'SPEAKS_WITH', 'whom': 'PADME'}]\n"
     ]
    }
   ],
   "source": [
    "#First simple connection between characters\n",
    "c_knows_c = '''MATCH (p1:Person)-[r:SPEAKS_WITH]->(p2:Person) WHERE (p1.name = \\\"ANAKIN\\\" AND p2.name = \\\"PADME\\\") \n",
    "                OR (p2.name = \\\"PADME\\\" AND p1.name = \\\"ANAKIN\\\") \n",
    "                RETURN p1.name As name, type(r) As relation, p2.name As whom'''  \n",
    "\n",
    "print(session.read_transaction(\n",
    "        lambda tx: tx.run(c_knows_c).data())) #Change to a visualisation"
   ]
  },
  {
   "cell_type": "code",
   "execution_count": 23,
   "id": "1ca12446",
   "metadata": {},
   "outputs": [],
   "source": [
    "c_knows_c =  '''MATCH (p1:Person)-[r:SPEAKS_WITH]->(p2:Person) \n",
    "                       WHERE (p1.name = \\\"ANAKIN\\\" AND p2.name = \\\"PADME\\\") OR (p2.name = \\\"PADME\\\" AND p1.name = \\\"ANAKIN\\\") \n",
    "                       RETURN p1 AS source_node, \n",
    "                                id(p1) AS source_id,\n",
    "                                r,\n",
    "                                p2 AS target_node,\n",
    "                                id(p2) AS target_id'''"
   ]
  },
  {
   "cell_type": "code",
   "execution_count": 24,
   "id": "8c7405b5",
   "metadata": {},
   "outputs": [
    {
     "data": {
      "text/html": [
       "<div id=\"4d564b14-0b9d-4f69-bc95-677bdfbeced4\" style=\"height: 400px;\"></div>\n",
       "\n",
       "<script type=\"text/javascript\">\n",
       "\n",
       "    var nodes = [{\"id\": 146, \"label\": \"ANAKIN\", \"group\": \"Person\", \"title\": \"<Node id=146 labels=frozenset({'Person'}) properties={'name': 'ANAKIN'}>\"}, {\"id\": 143, \"label\": \"PADME\", \"group\": \"Person\", \"title\": \"<Node id=143 labels=frozenset({'Person'}) properties={'name': 'PADME'}>\"}];\n",
       "    var edges = [{\"from\": 146, \"to\": 143, \"label\": \"SPEAKS_WITH\"}];\n",
       "\n",
       "    var container = document.getElementById(\"4d564b14-0b9d-4f69-bc95-677bdfbeced4\");\n",
       "\n",
       "    var data = {\n",
       "        nodes: nodes,\n",
       "        edges: edges\n",
       "    };\n",
       "\n",
       "    var options = {\n",
       "    nodes: {\n",
       "        shape: 'dot',\n",
       "        size: 25,\n",
       "        font: {\n",
       "            size: 14\n",
       "        }\n",
       "    },\n",
       "    edges: {\n",
       "        font: {\n",
       "            size: 14,\n",
       "            align: 'middle'\n",
       "        },\n",
       "        color: 'gray',\n",
       "        arrows: {\n",
       "            to: {\n",
       "                enabled: true,\n",
       "                scaleFactor: 0.5\n",
       "            }\n",
       "        },\n",
       "        smooth: {\n",
       "            enabled: false\n",
       "        }\n",
       "    },\n",
       "    physics: {\n",
       "        enabled: true\n",
       "        }\n",
       "    };\n",
       "\n",
       "    var network = new vis.Network(container, data, options);\n",
       "\n",
       "</script>\n"
      ],
      "text/plain": [
       "<IPython.core.display.HTML object>"
      ]
     },
     "execution_count": 24,
     "metadata": {},
     "output_type": "execute_result"
    }
   ],
   "source": [
    "vis_class.drawGraph(session, {'Person': 'name'}, c_knows_c)  "
   ]
  },
  {
   "cell_type": "code",
   "execution_count": 25,
   "id": "4224c6c2",
   "metadata": {},
   "outputs": [
    {
     "name": "stdout",
     "output_type": "stream",
     "text": [
      "[{'name': 'YODA', 'relation': 'APPEARS_IN', 'movie': 'Episode I: The Phantom Menace'}]\n"
     ]
    }
   ],
   "source": [
    "#First simple playtime \n",
    "c_plays_in_m = '''MATCH (p:Person)-[r:APPEARS_IN]->(m:Movie) WHERE (p.name = \\\"YODA\\\" AND m.name =~\\\".*Episode I:.*\\\") \n",
    "                RETURN p.name As name, type(r) As relation, m.name As movie''' \n",
    "print(session.read_transaction(\n",
    "        lambda tx: tx.run(c_plays_in_m).data())) #Change to a visualisation"
   ]
  },
  {
   "cell_type": "code",
   "execution_count": 26,
   "id": "09b90092",
   "metadata": {},
   "outputs": [],
   "source": [
    "c_knows_c =  '''MATCH (p:Person)-[r:APPEARS_IN]->(m:Movie)\n",
    "                WHERE (p.name = \\\"YODA\\\" AND m.name =~\\\".*Episode I:.*\\\") \n",
    "                RETURN p AS source_node, \n",
    "                        id(p) AS source_id,\n",
    "                        r,\n",
    "                        m AS target_node,\n",
    "                        id(m) AS target_id'''"
   ]
  },
  {
   "cell_type": "code",
   "execution_count": 27,
   "id": "cd6e0d34",
   "metadata": {
    "scrolled": true
   },
   "outputs": [
    {
     "data": {
      "text/html": [
       "<div id=\"484779d1-2187-48a8-ad8a-8877d9310b20\" style=\"height: 400px;\"></div>\n",
       "\n",
       "<script type=\"text/javascript\">\n",
       "\n",
       "    var nodes = [{\"id\": 160, \"label\": \"YODA\", \"group\": \"Person\", \"title\": \"<Node id=160 labels=frozenset({'Person'}) properties={'name': 'YODA'}>\"}, {\"id\": 119, \"label\": \"\", \"group\": \"Movie\", \"title\": \"<Node id=119 labels=frozenset({'Movie'}) properties={'name': 'Episode I: The Phantom Menace'}>\"}];\n",
       "    var edges = [{\"from\": 160, \"to\": 119, \"label\": \"APPEARS_IN\"}];\n",
       "\n",
       "    var container = document.getElementById(\"484779d1-2187-48a8-ad8a-8877d9310b20\");\n",
       "\n",
       "    var data = {\n",
       "        nodes: nodes,\n",
       "        edges: edges\n",
       "    };\n",
       "\n",
       "    var options = {\n",
       "    nodes: {\n",
       "        shape: 'dot',\n",
       "        size: 25,\n",
       "        font: {\n",
       "            size: 14\n",
       "        }\n",
       "    },\n",
       "    edges: {\n",
       "        font: {\n",
       "            size: 14,\n",
       "            align: 'middle'\n",
       "        },\n",
       "        color: 'gray',\n",
       "        arrows: {\n",
       "            to: {\n",
       "                enabled: true,\n",
       "                scaleFactor: 0.5\n",
       "            }\n",
       "        },\n",
       "        smooth: {\n",
       "            enabled: false\n",
       "        }\n",
       "    },\n",
       "    physics: {\n",
       "        enabled: true\n",
       "        }\n",
       "    };\n",
       "\n",
       "    var network = new vis.Network(container, data, options);\n",
       "\n",
       "</script>\n"
      ],
      "text/plain": [
       "<IPython.core.display.HTML object>"
      ]
     },
     "execution_count": 27,
     "metadata": {},
     "output_type": "execute_result"
    }
   ],
   "source": [
    "vis_class.drawGraph(session, {'Movie':'movie','Person': 'name'}, c_knows_c)  "
   ]
  },
  {
   "cell_type": "code",
   "execution_count": 28,
   "id": "f625e7f4",
   "metadata": {},
   "outputs": [],
   "source": [
    "#Close all connections\n",
    "driver.close()\n",
    "session.close()\n",
    "drive = None\n",
    "session = None"
   ]
  }
 ],
 "metadata": {
  "kernelspec": {
   "display_name": "Python 3 (ipykernel)",
   "language": "python",
   "name": "python3"
  },
  "language_info": {
   "codemirror_mode": {
    "name": "ipython",
    "version": 3
   },
   "file_extension": ".py",
   "mimetype": "text/x-python",
   "name": "python",
   "nbconvert_exporter": "python",
   "pygments_lexer": "ipython3",
   "version": "3.9.7"
  }
 },
 "nbformat": 4,
 "nbformat_minor": 5
}
