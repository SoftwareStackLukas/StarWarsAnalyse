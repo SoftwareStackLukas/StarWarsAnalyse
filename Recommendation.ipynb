{
 "cells": [
  {
   "cell_type": "markdown",
   "id": "d29039b3",
   "metadata": {},
   "source": [
    "# Recommendation\n",
    "Here we will extract some information that will help to recommend certain movies to see, based on the characters you like; which characters are most relevant and if they are good connected to others. The analyse consists of determine:\n",
    "- Is peson \"a\" good connect to other characters\n",
    "- In which movies is my favorte character\n",
    "- Most important character"
   ]
  },
  {
   "cell_type": "code",
   "execution_count": 1,
   "id": "0d2a7f1d",
   "metadata": {},
   "outputs": [],
   "source": [
    "# Impotts\n",
    "from neo4j import GraphDatabase, basic_auth\n",
    "import pandas as pd"
   ]
  },
  {
   "cell_type": "code",
   "execution_count": 2,
   "id": "219b76b0",
   "metadata": {},
   "outputs": [],
   "source": [
    "# DB connection\n",
    "uri = \"bolt://localhost:7687\"\n",
    "user = \"neo4j\"\n",
    "password = \"neo4j\"\n",
    "\n",
    "driver = GraphDatabase.driver(uri, auth=basic_auth(user, password))\n",
    "session = driver.session(database=\"neo4j\")"
   ]
  },
  {
   "cell_type": "markdown",
   "id": "bcce4618",
   "metadata": {},
   "source": [
    "## Is peson \"a\" good connect to other characters"
   ]
  },
  {
   "cell_type": "code",
   "execution_count": null,
   "id": "80341253",
   "metadata": {},
   "outputs": [],
   "source": []
  },
  {
   "cell_type": "markdown",
   "id": "93d1d896",
   "metadata": {},
   "source": [
    "## In which movies is my favorte character"
   ]
  },
  {
   "cell_type": "code",
   "execution_count": 3,
   "id": "5f701e9a",
   "metadata": {},
   "outputs": [
    {
     "data": {
      "text/html": [
       "<div>\n",
       "<style scoped>\n",
       "    .dataframe tbody tr th:only-of-type {\n",
       "        vertical-align: middle;\n",
       "    }\n",
       "\n",
       "    .dataframe tbody tr th {\n",
       "        vertical-align: top;\n",
       "    }\n",
       "\n",
       "    .dataframe thead th {\n",
       "        text-align: right;\n",
       "    }\n",
       "</style>\n",
       "<table border=\"1\" class=\"dataframe\">\n",
       "  <thead>\n",
       "    <tr style=\"text-align: right;\">\n",
       "      <th></th>\n",
       "      <th>Title</th>\n",
       "    </tr>\n",
       "  </thead>\n",
       "  <tbody>\n",
       "    <tr>\n",
       "      <th>0</th>\n",
       "      <td>Episode I: The Phantom Menace</td>\n",
       "    </tr>\n",
       "    <tr>\n",
       "      <th>1</th>\n",
       "      <td>Episode II: Attack of the Clones</td>\n",
       "    </tr>\n",
       "    <tr>\n",
       "      <th>2</th>\n",
       "      <td>Episode III: Revenge of the Sith</td>\n",
       "    </tr>\n",
       "    <tr>\n",
       "      <th>3</th>\n",
       "      <td>Episode VI: Return of the Jedi</td>\n",
       "    </tr>\n",
       "  </tbody>\n",
       "</table>\n",
       "</div>"
      ],
      "text/plain": [
       "                              Title\n",
       "0     Episode I: The Phantom Menace\n",
       "1  Episode II: Attack of the Clones\n",
       "2  Episode III: Revenge of the Sith\n",
       "3    Episode VI: Return of the Jedi"
      ]
     },
     "execution_count": 3,
     "metadata": {},
     "output_type": "execute_result"
    }
   ],
   "source": [
    "myFavChar = 'ANAKIN'\n",
    "\n",
    "movies = \"MATCH (n)-[:APPEARS_IN]->(m:Movie) WHERE n.name='\" + myFavChar + \"'RETURN m.name AS Title\"\n",
    "results = session.read_transaction(\n",
    "        lambda tx: tx.run(movies).data())\n",
    "df = pd.DataFrame(results)\n",
    "df"
   ]
  },
  {
   "cell_type": "markdown",
   "id": "221f65d0",
   "metadata": {},
   "source": [
    "## Who is the most important character"
   ]
  },
  {
   "cell_type": "code",
   "execution_count": null,
   "id": "1f6f67c0",
   "metadata": {},
   "outputs": [],
   "source": []
  },
  {
   "cell_type": "code",
   "execution_count": 4,
   "id": "b60c1b27",
   "metadata": {},
   "outputs": [],
   "source": [
    "# Close all connections\n",
    "driver.close()\n",
    "session.close()\n",
    "drive = None\n",
    "session = None"
   ]
  }
 ],
 "metadata": {
  "kernelspec": {
   "display_name": "Python 3 (ipykernel)",
   "language": "python",
   "name": "python3"
  },
  "language_info": {
   "codemirror_mode": {
    "name": "ipython",
    "version": 3
   },
   "file_extension": ".py",
   "mimetype": "text/x-python",
   "name": "python",
   "nbconvert_exporter": "python",
   "pygments_lexer": "ipython3",
   "version": "3.9.7"
  }
 },
 "nbformat": 4,
 "nbformat_minor": 5
}
