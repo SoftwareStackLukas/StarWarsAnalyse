{
 "cells": [
  {
   "cell_type": "markdown",
   "id": "3d6c0be4",
   "metadata": {},
   "source": [
    "# Clustering of diffrent nodes \n",
    "\n",
    "We used the power of Neo4J do cluster a selected range of diffrent features in the dataset"
   ]
  },
  {
   "cell_type": "code",
   "execution_count": 1,
   "id": "69a653ef",
   "metadata": {},
   "outputs": [],
   "source": [
    "#Imports\n",
    "from neo4j import GraphDatabase, basic_auth\n",
    "from py2neo import Graph\n",
    "import neo4jupyter\n",
    "import pandas as pd\n",
    "import sys  \n",
    "sys.path.insert(0, '')\n",
    "from vis_class import vis_class"
   ]
  },
  {
   "cell_type": "code",
   "execution_count": 2,
   "id": "2a0dcf23",
   "metadata": {},
   "outputs": [
    {
     "data": {
      "application/javascript": [
       "var link = document.createElement(\"link\");\n",
       "\tlink.ref = \"stylesheet\";\n",
       "\tlink.type = \"text/css\";\n",
       "\tlink.href = \"https://cdnjs.cloudflare.com/ajax/libs/vis/4.8.2/vis.css\";\n",
       "\tdocument.head.appendChild(link);\n",
       "require.config({     paths: {         vis: '//cdnjs.cloudflare.com/ajax/libs/vis/4.8.2/vis.min'     } }); require(['vis'], function(vis) {  window.vis = vis; }); "
      ],
      "text/plain": [
       "<IPython.core.display.Javascript object>"
      ]
     },
     "metadata": {},
     "output_type": "display_data"
    },
    {
     "name": "stdout",
     "output_type": "stream",
     "text": [
      "Vis class was created\n"
     ]
    }
   ],
   "source": [
    "#Create db connector\n",
    "login = open(\"Login.txt\", \"r\")\n",
    "uri = login.readline()\n",
    "user = login.readline()\n",
    "password = \"\"\n",
    "login.close()\n",
    "\n",
    "driver = GraphDatabase.driver(uri, auth=basic_auth(user, password))\n",
    "session = driver.session(database=\"neo4j\")\n",
    "visualizer = vis_class()"
   ]
  },
  {
   "cell_type": "markdown",
   "id": "2b840319",
   "metadata": {},
   "source": [
    "## Starting clustering"
   ]
  },
  {
   "cell_type": "markdown",
   "id": "f6463b39",
   "metadata": {},
   "source": [
    "We start simple and cluster each character each movie they played in. It the name and a list with their movies will be returned"
   ]
  },
  {
   "cell_type": "code",
   "execution_count": 3,
   "id": "1d7d3be6",
   "metadata": {
    "scrolled": true
   },
   "outputs": [
    {
     "data": {
      "text/html": [
       "<div>\n",
       "<style scoped>\n",
       "    .dataframe tbody tr th:only-of-type {\n",
       "        vertical-align: middle;\n",
       "    }\n",
       "\n",
       "    .dataframe tbody tr th {\n",
       "        vertical-align: top;\n",
       "    }\n",
       "\n",
       "    .dataframe thead th {\n",
       "        text-align: right;\n",
       "    }\n",
       "</style>\n",
       "<table border=\"1\" class=\"dataframe\">\n",
       "  <thead>\n",
       "    <tr style=\"text-align: right;\">\n",
       "      <th></th>\n",
       "      <th>Name character</th>\n",
       "      <th>Movies</th>\n",
       "    </tr>\n",
       "  </thead>\n",
       "  <tbody>\n",
       "    <tr>\n",
       "      <th>0</th>\n",
       "      <td>JAR JAR</td>\n",
       "      <td>[Episode I: The Phantom Menace, Episode II: At...</td>\n",
       "    </tr>\n",
       "    <tr>\n",
       "      <th>1</th>\n",
       "      <td>BRAVO THREE</td>\n",
       "      <td>[Episode I: The Phantom Menace]</td>\n",
       "    </tr>\n",
       "    <tr>\n",
       "      <th>2</th>\n",
       "      <td>FODE/BEED</td>\n",
       "      <td>[Episode I: The Phantom Menace]</td>\n",
       "    </tr>\n",
       "    <tr>\n",
       "      <th>3</th>\n",
       "      <td>GREEDO</td>\n",
       "      <td>[Episode I: The Phantom Menace, Episode IV: A ...</td>\n",
       "    </tr>\n",
       "    <tr>\n",
       "      <th>4</th>\n",
       "      <td>OBI-WAN</td>\n",
       "      <td>[Episode I: The Phantom Menace, Episode II: At...</td>\n",
       "    </tr>\n",
       "  </tbody>\n",
       "</table>\n",
       "</div>"
      ],
      "text/plain": [
       "  Name character                                             Movies\n",
       "0        JAR JAR  [Episode I: The Phantom Menace, Episode II: At...\n",
       "1    BRAVO THREE                    [Episode I: The Phantom Menace]\n",
       "2      FODE/BEED                    [Episode I: The Phantom Menace]\n",
       "3         GREEDO  [Episode I: The Phantom Menace, Episode IV: A ...\n",
       "4        OBI-WAN  [Episode I: The Phantom Menace, Episode II: At..."
      ]
     },
     "execution_count": 3,
     "metadata": {},
     "output_type": "execute_result"
    }
   ],
   "source": [
    "cluster_each = \"\"\"MATCH (p:Person)-[:APPEARS_IN]->(m:Movie) \n",
    "                Return DISTINCT p.name AS `Name character`, collect(m.name) As Movies\"\"\"\n",
    "df = pd.DataFrame (session.read_transaction(\n",
    "                    lambda tx: tx.run(cluster_each).data()), columns = ['Name character','Movies'])\n",
    "df.head()"
   ]
  },
  {
   "cell_type": "code",
   "execution_count": 4,
   "id": "4bc18e98",
   "metadata": {},
   "outputs": [],
   "source": [
    "cluster_each = \"\"\"MATCH (p:Person)-[a:APPEARS_IN]->(m:Movie) \n",
    "                Return DISTINCT p AS source_node, \n",
    "                                id(p) AS source_id,\n",
    "                                a,\n",
    "                                m AS target_node,\n",
    "                                id(m) As target_id \n",
    "                LIMIT 20\"\"\""
   ]
  },
  {
   "cell_type": "code",
   "execution_count": 5,
   "id": "be4dcdb3",
   "metadata": {
    "scrolled": true
   },
   "outputs": [
    {
     "data": {
      "text/html": [
       "<div id=\"7091506d-80be-4951-9afc-0c396d7f66bc\" style=\"height: 400px;\"></div>\n",
       "\n",
       "<script type=\"text/javascript\">\n",
       "\n",
       "    var nodes = [{\"id\": 140, \"label\": \"JAR JAR\", \"group\": \"Person\", \"title\": \"<Node id=140 labels=frozenset({'Person'}) properties={'name': 'JAR JAR'}>\"}, {\"id\": 119, \"label\": \"Episode I: The Phantom Menace\", \"group\": \"Movie\", \"title\": \"<Node id=119 labels=frozenset({'Movie'}) properties={'name': 'Episode I: The Phantom Menace'}>\"}, {\"id\": 165, \"label\": \"BRAVO THREE\", \"group\": \"Person\", \"title\": \"<Node id=165 labels=frozenset({'Person'}) properties={'name': 'BRAVO THREE'}>\"}, {\"id\": 154, \"label\": \"FODE/BEED\", \"group\": \"Person\", \"title\": \"<Node id=154 labels=frozenset({'Person'}) properties={'name': 'FODE/BEED'}>\"}, {\"id\": 156, \"label\": \"GREEDO\", \"group\": \"Person\", \"title\": \"<Node id=156 labels=frozenset({'Person'}) properties={'name': 'GREEDO'}>\"}, {\"id\": 133, \"label\": \"OBI-WAN\", \"group\": \"Person\", \"title\": \"<Node id=133 labels=frozenset({'Person'}) properties={'name': 'OBI-WAN'}>\"}, {\"id\": 137, \"label\": \"EMPEROR\", \"group\": \"Person\", \"title\": \"<Node id=137 labels=frozenset({'Person'}) properties={'name': 'EMPEROR'}>\"}, {\"id\": 162, \"label\": \"BAIL ORGANA\", \"group\": \"Person\", \"title\": \"<Node id=162 labels=frozenset({'Person'}) properties={'name': 'BAIL ORGANA'}>\"}, {\"id\": 134, \"label\": \"DOFINE\", \"group\": \"Person\", \"title\": \"<Node id=134 labels=frozenset({'Person'}) properties={'name': 'DOFINE'}>\"}, {\"id\": 135, \"label\": \"RUNE\", \"group\": \"Person\", \"title\": \"<Node id=135 labels=frozenset({'Person'}) properties={'name': 'RUNE'}>\"}, {\"id\": 148, \"label\": \"JIRA\", \"group\": \"Person\", \"title\": \"<Node id=148 labels=frozenset({'Person'}) properties={'name': 'JIRA'}>\"}, {\"id\": 129, \"label\": \"QUI-GON\", \"group\": \"Person\", \"title\": \"<Node id=129 labels=frozenset({'Person'}) properties={'name': 'QUI-GON'}>\"}, {\"id\": 155, \"label\": \"JABBA\", \"group\": \"Person\", \"title\": \"<Node id=155 labels=frozenset({'Person'}) properties={'name': 'JABBA'}>\"}, {\"id\": 144, \"label\": \"RIC OLIE\", \"group\": \"Person\", \"title\": \"<Node id=144 labels=frozenset({'Person'}) properties={'name': 'RIC OLIE'}>\"}, {\"id\": 149, \"label\": \"SHMI\", \"group\": \"Person\", \"title\": \"<Node id=149 labels=frozenset({'Person'}) properties={'name': 'SHMI'}>\"}, {\"id\": 153, \"label\": \"WALD\", \"group\": \"Person\", \"title\": \"<Node id=153 labels=frozenset({'Person'}) properties={'name': 'WALD'}>\"}, {\"id\": 159, \"label\": \"KI-ADI-MUNDI\", \"group\": \"Person\", \"title\": \"<Node id=159 labels=frozenset({'Person'}) properties={'name': 'KI-ADI-MUNDI'}>\"}, {\"id\": 158, \"label\": \"MACE WINDU\", \"group\": \"Person\", \"title\": \"<Node id=158 labels=frozenset({'Person'}) properties={'name': 'MACE WINDU'}>\"}, {\"id\": 145, \"label\": \"WATTO\", \"group\": \"Person\", \"title\": \"<Node id=145 labels=frozenset({'Person'}) properties={'name': 'WATTO'}>\"}, {\"id\": 136, \"label\": \"TEY HOW\", \"group\": \"Person\", \"title\": \"<Node id=136 labels=frozenset({'Person'}) properties={'name': 'TEY HOW'}>\"}, {\"id\": 130, \"label\": \"NUTE GUNRAY\", \"group\": \"Person\", \"title\": \"<Node id=130 labels=frozenset({'Person'}) properties={'name': 'NUTE GUNRAY'}>\"}];\n",
       "    var edges = [{\"from\": 140, \"to\": 119, \"label\": \"APPEARS_IN\"}, {\"from\": 165, \"to\": 119, \"label\": \"APPEARS_IN\"}, {\"from\": 154, \"to\": 119, \"label\": \"APPEARS_IN\"}, {\"from\": 156, \"to\": 119, \"label\": \"APPEARS_IN\"}, {\"from\": 133, \"to\": 119, \"label\": \"APPEARS_IN\"}, {\"from\": 137, \"to\": 119, \"label\": \"APPEARS_IN\"}, {\"from\": 162, \"to\": 119, \"label\": \"APPEARS_IN\"}, {\"from\": 134, \"to\": 119, \"label\": \"APPEARS_IN\"}, {\"from\": 135, \"to\": 119, \"label\": \"APPEARS_IN\"}, {\"from\": 148, \"to\": 119, \"label\": \"APPEARS_IN\"}, {\"from\": 129, \"to\": 119, \"label\": \"APPEARS_IN\"}, {\"from\": 155, \"to\": 119, \"label\": \"APPEARS_IN\"}, {\"from\": 144, \"to\": 119, \"label\": \"APPEARS_IN\"}, {\"from\": 149, \"to\": 119, \"label\": \"APPEARS_IN\"}, {\"from\": 153, \"to\": 119, \"label\": \"APPEARS_IN\"}, {\"from\": 159, \"to\": 119, \"label\": \"APPEARS_IN\"}, {\"from\": 158, \"to\": 119, \"label\": \"APPEARS_IN\"}, {\"from\": 145, \"to\": 119, \"label\": \"APPEARS_IN\"}, {\"from\": 136, \"to\": 119, \"label\": \"APPEARS_IN\"}, {\"from\": 130, \"to\": 119, \"label\": \"APPEARS_IN\"}];\n",
       "\n",
       "    var container = document.getElementById(\"7091506d-80be-4951-9afc-0c396d7f66bc\");\n",
       "\n",
       "    var data = {\n",
       "        nodes: nodes,\n",
       "        edges: edges\n",
       "    };\n",
       "\n",
       "    var options = {\n",
       "    nodes: {\n",
       "        shape: 'dot',\n",
       "        size: 25,\n",
       "        font: {\n",
       "            size: 14\n",
       "        }\n",
       "    },\n",
       "    edges: {\n",
       "        font: {\n",
       "            size: 14,\n",
       "            align: 'middle'\n",
       "        },\n",
       "        color: 'gray',\n",
       "        arrows: {\n",
       "            to: {\n",
       "                enabled: true,\n",
       "                scaleFactor: 0.5\n",
       "            }\n",
       "        },\n",
       "        smooth: {\n",
       "            enabled: false\n",
       "        }\n",
       "    },\n",
       "    physics: {\n",
       "        enabled: true\n",
       "        }\n",
       "    };\n",
       "\n",
       "    var network = new vis.Network(container, data, options);\n",
       "\n",
       "</script>\n"
      ],
      "text/plain": [
       "<IPython.core.display.HTML object>"
      ]
     },
     "execution_count": 5,
     "metadata": {},
     "output_type": "execute_result"
    }
   ],
   "source": [
    "vis_class.drawGraph(session, {'Person':'name', 'Movie':'name'}, cluster_each)"
   ]
  },
  {
   "cell_type": "markdown",
   "id": "e24f7f0e",
   "metadata": {},
   "source": [
    "Here we get the number of characters in each movie and cluster them if they have more then 20 characters"
   ]
  },
  {
   "cell_type": "code",
   "execution_count": 6,
   "id": "e06ed8e6",
   "metadata": {
    "scrolled": true
   },
   "outputs": [
    {
     "data": {
      "text/html": [
       "<div>\n",
       "<style scoped>\n",
       "    .dataframe tbody tr th:only-of-type {\n",
       "        vertical-align: middle;\n",
       "    }\n",
       "\n",
       "    .dataframe tbody tr th {\n",
       "        vertical-align: top;\n",
       "    }\n",
       "\n",
       "    .dataframe thead th {\n",
       "        text-align: right;\n",
       "    }\n",
       "</style>\n",
       "<table border=\"1\" class=\"dataframe\">\n",
       "  <thead>\n",
       "    <tr style=\"text-align: right;\">\n",
       "      <th></th>\n",
       "      <th>Movie</th>\n",
       "      <th>Characters</th>\n",
       "    </tr>\n",
       "  </thead>\n",
       "  <tbody>\n",
       "    <tr>\n",
       "      <th>0</th>\n",
       "      <td>Episode I: The Phantom Menace</td>\n",
       "      <td>36</td>\n",
       "    </tr>\n",
       "    <tr>\n",
       "      <th>1</th>\n",
       "      <td>Episode II: Attack of the Clones</td>\n",
       "      <td>31</td>\n",
       "    </tr>\n",
       "    <tr>\n",
       "      <th>2</th>\n",
       "      <td>Episode III: Revenge of the Sith</td>\n",
       "      <td>23</td>\n",
       "    </tr>\n",
       "    <tr>\n",
       "      <th>3</th>\n",
       "      <td>Episode VII: The Force Awakens</td>\n",
       "      <td>24</td>\n",
       "    </tr>\n",
       "  </tbody>\n",
       "</table>\n",
       "</div>"
      ],
      "text/plain": [
       "                              Movie  Characters\n",
       "0     Episode I: The Phantom Menace          36\n",
       "1  Episode II: Attack of the Clones          31\n",
       "2  Episode III: Revenge of the Sith          23\n",
       "3    Episode VII: The Force Awakens          24"
      ]
     },
     "execution_count": 6,
     "metadata": {},
     "output_type": "execute_result"
    }
   ],
   "source": [
    "cluster_by_count = \"\"\"MATCH pattern=((m:Movie)-[a:APPEARS_IN]-(p:Person)) \n",
    "                    with count(pattern) as connections, m\n",
    "                    Where connections > 20\n",
    "                    Return m.name AS Movie, connections As Characters\"\"\"\n",
    "df = pd.DataFrame (session.read_transaction(\n",
    "                            lambda tx: tx.run(cluster_by_count).data()), columns = ['Movie','Characters'])\n",
    "\n",
    "df.head()"
   ]
  },
  {
   "cell_type": "markdown",
   "id": "a8dcab16",
   "metadata": {},
   "source": [
    "We group the data in three diffrent groups depending on the count of characters"
   ]
  },
  {
   "cell_type": "code",
   "execution_count": 7,
   "id": "3c5f8768",
   "metadata": {
    "scrolled": false
   },
   "outputs": [
    {
     "data": {
      "text/html": [
       "<div>\n",
       "<style scoped>\n",
       "    .dataframe tbody tr th:only-of-type {\n",
       "        vertical-align: middle;\n",
       "    }\n",
       "\n",
       "    .dataframe tbody tr th {\n",
       "        vertical-align: top;\n",
       "    }\n",
       "\n",
       "    .dataframe thead th {\n",
       "        text-align: right;\n",
       "    }\n",
       "</style>\n",
       "<table border=\"1\" class=\"dataframe\">\n",
       "  <thead>\n",
       "    <tr style=\"text-align: right;\">\n",
       "      <th></th>\n",
       "      <th>Clusters</th>\n",
       "    </tr>\n",
       "  </thead>\n",
       "  <tbody>\n",
       "    <tr>\n",
       "      <th>0</th>\n",
       "      <td>Group 1: Episode VI: Return of the Jedi</td>\n",
       "    </tr>\n",
       "    <tr>\n",
       "      <th>1</th>\n",
       "      <td>Group 1: Episode V: The Empire Strikes Back</td>\n",
       "    </tr>\n",
       "    <tr>\n",
       "      <th>2</th>\n",
       "      <td>Group 1: Episode IV: A New Hope</td>\n",
       "    </tr>\n",
       "    <tr>\n",
       "      <th>3</th>\n",
       "      <td>Groupe 2: Episode III: Revenge of the Sith</td>\n",
       "    </tr>\n",
       "    <tr>\n",
       "      <th>4</th>\n",
       "      <td>Groupe 2: Episode VII: The Force Awakens</td>\n",
       "    </tr>\n",
       "  </tbody>\n",
       "</table>\n",
       "</div>"
      ],
      "text/plain": [
       "                                      Clusters\n",
       "0      Group 1: Episode VI: Return of the Jedi\n",
       "1  Group 1: Episode V: The Empire Strikes Back\n",
       "2              Group 1: Episode IV: A New Hope\n",
       "3   Groupe 2: Episode III: Revenge of the Sith\n",
       "4     Groupe 2: Episode VII: The Force Awakens"
      ]
     },
     "execution_count": 7,
     "metadata": {},
     "output_type": "execute_result"
    }
   ],
   "source": [
    "#With cases \n",
    "cluster_by_count_categories = \"\"\"MATCH pattern=((m:Movie)-[a:APPEARS_IN]-(p:Person)) \n",
    "                                with count(pattern=((m:Movie)-[a:APPEARS_IN]-(p:Person))) as connections, m\n",
    "                                Return \n",
    "                                CASE\n",
    "                                  WHEN connections <= 20 THEN \"Group 1: \" + m.name\n",
    "                                  WHEN connections <= 30      THEN \"Groupe 2: \" + m.name\n",
    "                                  ELSE \"Group 3: \" + m.name\n",
    "                                END AS Clusters\n",
    "                                Order by connections\"\"\"\n",
    "df = pd.DataFrame (session.read_transaction(\n",
    "                            lambda tx: tx.run(cluster_by_count_categories).data()), columns = ['Clusters'])\n",
    "\n",
    "df.head()"
   ]
  },
  {
   "cell_type": "markdown",
   "id": "a3969409",
   "metadata": {},
   "source": [
    "We cluster characters which interact with other characters in two diffrent movies"
   ]
  },
  {
   "cell_type": "code",
   "execution_count": 8,
   "id": "98b736fb",
   "metadata": {},
   "outputs": [
    {
     "data": {
      "text/html": [
       "<div>\n",
       "<style scoped>\n",
       "    .dataframe tbody tr th:only-of-type {\n",
       "        vertical-align: middle;\n",
       "    }\n",
       "\n",
       "    .dataframe tbody tr th {\n",
       "        vertical-align: top;\n",
       "    }\n",
       "\n",
       "    .dataframe thead th {\n",
       "        text-align: right;\n",
       "    }\n",
       "</style>\n",
       "<table border=\"1\" class=\"dataframe\">\n",
       "  <thead>\n",
       "    <tr style=\"text-align: right;\">\n",
       "      <th></th>\n",
       "      <th>Characters</th>\n",
       "      <th>CharacterConnected</th>\n",
       "      <th>ViaMovie</th>\n",
       "    </tr>\n",
       "  </thead>\n",
       "  <tbody>\n",
       "    <tr>\n",
       "      <th>0</th>\n",
       "      <td>JAR JAR</td>\n",
       "      <td>MACE WINDU</td>\n",
       "      <td>Episode III: Revenge of the Sith</td>\n",
       "    </tr>\n",
       "    <tr>\n",
       "      <th>1</th>\n",
       "      <td>JAR JAR</td>\n",
       "      <td>ODD BALL</td>\n",
       "      <td>Episode III: Revenge of the Sith</td>\n",
       "    </tr>\n",
       "    <tr>\n",
       "      <th>2</th>\n",
       "      <td>JAR JAR</td>\n",
       "      <td>DARTH VADER</td>\n",
       "      <td>Episode III: Revenge of the Sith</td>\n",
       "    </tr>\n",
       "    <tr>\n",
       "      <th>3</th>\n",
       "      <td>JAR JAR</td>\n",
       "      <td>PLO KOON</td>\n",
       "      <td>Episode III: Revenge of the Sith</td>\n",
       "    </tr>\n",
       "    <tr>\n",
       "      <th>4</th>\n",
       "      <td>JAR JAR</td>\n",
       "      <td>GIDDEAN DANU</td>\n",
       "      <td>Episode III: Revenge of the Sith</td>\n",
       "    </tr>\n",
       "  </tbody>\n",
       "</table>\n",
       "</div>"
      ],
      "text/plain": [
       "  Characters CharacterConnected                          ViaMovie\n",
       "0    JAR JAR         MACE WINDU  Episode III: Revenge of the Sith\n",
       "1    JAR JAR           ODD BALL  Episode III: Revenge of the Sith\n",
       "2    JAR JAR        DARTH VADER  Episode III: Revenge of the Sith\n",
       "3    JAR JAR           PLO KOON  Episode III: Revenge of the Sith\n",
       "4    JAR JAR       GIDDEAN DANU  Episode III: Revenge of the Sith"
      ]
     },
     "execution_count": 8,
     "metadata": {},
     "output_type": "execute_result"
    }
   ],
   "source": [
    "cluster_by_characters_interact_in_diffrent_movies = \"\"\"MATCH (p1:Person)-[a1:APPEARS_IN]-(m1:Movie)-[a2:APPEARS_IN]-(p2:Person)-[a3:APPEARS_IN]-(m2:Movie)\n",
    "                                WHERE m1.name <> m2.name\n",
    "                                RETURN p2.name as Characters, p1.name as CharacterConnected, m1.name as ViaMovie\"\"\"\n",
    "df = pd.DataFrame (session.read_transaction(\n",
    "                            lambda tx: tx.run(cluster_by_characters_interact_in_diffrent_movies).data()), columns = ['Characters', 'CharacterConnected', 'ViaMovie'])\n",
    "\n",
    "df.head()"
   ]
  },
  {
   "cell_type": "code",
   "execution_count": 9,
   "id": "515a055d",
   "metadata": {},
   "outputs": [],
   "source": [
    "cluster_by_characters_interact_in_diffrent_movies = \"\"\"MATCH (p1:Person)-[a1:APPEARS_IN]-(m1:Movie)-[a2:APPEARS_IN]-(p2:Person)-[a3:APPEARS_IN]-(m2:Movie)\n",
    "                                WHERE m1.name <> m2.name\n",
    "                                RETURN p1 AS source_node, \n",
    "                                id(p1) AS source_id,\n",
    "                                a1,\n",
    "                                p2 AS target_node,\n",
    "                                id(p2) As target_id \n",
    "                                LIMIT 20\"\"\""
   ]
  },
  {
   "cell_type": "code",
   "execution_count": 10,
   "id": "bf2a11cb",
   "metadata": {
    "scrolled": true
   },
   "outputs": [
    {
     "data": {
      "text/html": [
       "<div id=\"e0181c25-0e7c-4ee8-ab4e-31e1d037765d\" style=\"height: 400px;\"></div>\n",
       "\n",
       "<script type=\"text/javascript\">\n",
       "\n",
       "    var nodes = [{\"id\": 140, \"label\": \"JAR JAR\", \"group\": \"Person\", \"title\": \"<Node id=140 labels=frozenset({'Person'}) properties={'name': 'JAR JAR'}>\"}, {\"id\": 119, \"label\": \"\", \"group\": \"Movie\", \"title\": \"<Node id=119 labels=frozenset({'Movie'}) properties={'name': 'Episode I: The Phantom Menace'}>\"}, {\"id\": 165, \"label\": \"BRAVO THREE\", \"group\": \"Person\", \"title\": \"<Node id=165 labels=frozenset({'Person'}) properties={'name': 'BRAVO THREE'}>\"}, {\"id\": 154, \"label\": \"FODE/BEED\", \"group\": \"Person\", \"title\": \"<Node id=154 labels=frozenset({'Person'}) properties={'name': 'FODE/BEED'}>\"}, {\"id\": 156, \"label\": \"GREEDO\", \"group\": \"Person\", \"title\": \"<Node id=156 labels=frozenset({'Person'}) properties={'name': 'GREEDO'}>\"}, {\"id\": 133, \"label\": \"OBI-WAN\", \"group\": \"Person\", \"title\": \"<Node id=133 labels=frozenset({'Person'}) properties={'name': 'OBI-WAN'}>\"}, {\"id\": 137, \"label\": \"EMPEROR\", \"group\": \"Person\", \"title\": \"<Node id=137 labels=frozenset({'Person'}) properties={'name': 'EMPEROR'}>\"}, {\"id\": 162, \"label\": \"BAIL ORGANA\", \"group\": \"Person\", \"title\": \"<Node id=162 labels=frozenset({'Person'}) properties={'name': 'BAIL ORGANA'}>\"}, {\"id\": 134, \"label\": \"DOFINE\", \"group\": \"Person\", \"title\": \"<Node id=134 labels=frozenset({'Person'}) properties={'name': 'DOFINE'}>\"}, {\"id\": 135, \"label\": \"RUNE\", \"group\": \"Person\", \"title\": \"<Node id=135 labels=frozenset({'Person'}) properties={'name': 'RUNE'}>\"}, {\"id\": 148, \"label\": \"JIRA\", \"group\": \"Person\", \"title\": \"<Node id=148 labels=frozenset({'Person'}) properties={'name': 'JIRA'}>\"}, {\"id\": 129, \"label\": \"QUI-GON\", \"group\": \"Person\", \"title\": \"<Node id=129 labels=frozenset({'Person'}) properties={'name': 'QUI-GON'}>\"}, {\"id\": 155, \"label\": \"JABBA\", \"group\": \"Person\", \"title\": \"<Node id=155 labels=frozenset({'Person'}) properties={'name': 'JABBA'}>\"}, {\"id\": 144, \"label\": \"RIC OLIE\", \"group\": \"Person\", \"title\": \"<Node id=144 labels=frozenset({'Person'}) properties={'name': 'RIC OLIE'}>\"}, {\"id\": 149, \"label\": \"SHMI\", \"group\": \"Person\", \"title\": \"<Node id=149 labels=frozenset({'Person'}) properties={'name': 'SHMI'}>\"}, {\"id\": 153, \"label\": \"WALD\", \"group\": \"Person\", \"title\": \"<Node id=153 labels=frozenset({'Person'}) properties={'name': 'WALD'}>\"}, {\"id\": 159, \"label\": \"KI-ADI-MUNDI\", \"group\": \"Person\", \"title\": \"<Node id=159 labels=frozenset({'Person'}) properties={'name': 'KI-ADI-MUNDI'}>\"}, {\"id\": 158, \"label\": \"MACE WINDU\", \"group\": \"Person\", \"title\": \"<Node id=158 labels=frozenset({'Person'}) properties={'name': 'MACE WINDU'}>\"}, {\"id\": 145, \"label\": \"WATTO\", \"group\": \"Person\", \"title\": \"<Node id=145 labels=frozenset({'Person'}) properties={'name': 'WATTO'}>\"}, {\"id\": 136, \"label\": \"TEY HOW\", \"group\": \"Person\", \"title\": \"<Node id=136 labels=frozenset({'Person'}) properties={'name': 'TEY HOW'}>\"}, {\"id\": 130, \"label\": \"NUTE GUNRAY\", \"group\": \"Person\", \"title\": \"<Node id=130 labels=frozenset({'Person'}) properties={'name': 'NUTE GUNRAY'}>\"}];\n",
       "    var edges = [{\"from\": 140, \"to\": 119, \"label\": \"APPEARS_IN\"}, {\"from\": 165, \"to\": 119, \"label\": \"APPEARS_IN\"}, {\"from\": 154, \"to\": 119, \"label\": \"APPEARS_IN\"}, {\"from\": 156, \"to\": 119, \"label\": \"APPEARS_IN\"}, {\"from\": 133, \"to\": 119, \"label\": \"APPEARS_IN\"}, {\"from\": 137, \"to\": 119, \"label\": \"APPEARS_IN\"}, {\"from\": 162, \"to\": 119, \"label\": \"APPEARS_IN\"}, {\"from\": 134, \"to\": 119, \"label\": \"APPEARS_IN\"}, {\"from\": 135, \"to\": 119, \"label\": \"APPEARS_IN\"}, {\"from\": 148, \"to\": 119, \"label\": \"APPEARS_IN\"}, {\"from\": 129, \"to\": 119, \"label\": \"APPEARS_IN\"}, {\"from\": 155, \"to\": 119, \"label\": \"APPEARS_IN\"}, {\"from\": 144, \"to\": 119, \"label\": \"APPEARS_IN\"}, {\"from\": 149, \"to\": 119, \"label\": \"APPEARS_IN\"}, {\"from\": 153, \"to\": 119, \"label\": \"APPEARS_IN\"}, {\"from\": 159, \"to\": 119, \"label\": \"APPEARS_IN\"}, {\"from\": 158, \"to\": 119, \"label\": \"APPEARS_IN\"}, {\"from\": 145, \"to\": 119, \"label\": \"APPEARS_IN\"}, {\"from\": 136, \"to\": 119, \"label\": \"APPEARS_IN\"}, {\"from\": 130, \"to\": 119, \"label\": \"APPEARS_IN\"}];\n",
       "\n",
       "    var container = document.getElementById(\"e0181c25-0e7c-4ee8-ab4e-31e1d037765d\");\n",
       "\n",
       "    var data = {\n",
       "        nodes: nodes,\n",
       "        edges: edges\n",
       "    };\n",
       "\n",
       "    var options = {\n",
       "    nodes: {\n",
       "        shape: 'dot',\n",
       "        size: 25,\n",
       "        font: {\n",
       "            size: 14\n",
       "        }\n",
       "    },\n",
       "    edges: {\n",
       "        font: {\n",
       "            size: 14,\n",
       "            align: 'middle'\n",
       "        },\n",
       "        color: 'gray',\n",
       "        arrows: {\n",
       "            to: {\n",
       "                enabled: true,\n",
       "                scaleFactor: 0.5\n",
       "            }\n",
       "        },\n",
       "        smooth: {\n",
       "            enabled: false\n",
       "        }\n",
       "    },\n",
       "    physics: {\n",
       "        enabled: true\n",
       "        }\n",
       "    };\n",
       "\n",
       "    var network = new vis.Network(container, data, options);\n",
       "\n",
       "</script>\n"
      ],
      "text/plain": [
       "<IPython.core.display.HTML object>"
      ]
     },
     "execution_count": 10,
     "metadata": {},
     "output_type": "execute_result"
    }
   ],
   "source": [
    "vis_class.drawGraph(session, {'Person':'name', 'target_node':'connected'}, cluster_each)"
   ]
  },
  {
   "cell_type": "markdown",
   "id": "d95a891b",
   "metadata": {},
   "source": [
    "![title](img/ConnectedWithOthers.png)"
   ]
  },
  {
   "cell_type": "markdown",
   "id": "19cb71f3",
   "metadata": {},
   "source": [
    "## Close the connection"
   ]
  },
  {
   "cell_type": "code",
   "execution_count": 11,
   "id": "b3ca6010",
   "metadata": {},
   "outputs": [],
   "source": [
    "#Close all connections\n",
    "driver.close()\n",
    "session.close()\n",
    "drive = None\n",
    "session = None"
   ]
  }
 ],
 "metadata": {
  "kernelspec": {
   "display_name": "Python 3 (ipykernel)",
   "language": "python",
   "name": "python3"
  },
  "language_info": {
   "codemirror_mode": {
    "name": "ipython",
    "version": 3
   },
   "file_extension": ".py",
   "mimetype": "text/x-python",
   "name": "python",
   "nbconvert_exporter": "python",
   "pygments_lexer": "ipython3",
   "version": "3.9.7"
  }
 },
 "nbformat": 4,
 "nbformat_minor": 5
}
