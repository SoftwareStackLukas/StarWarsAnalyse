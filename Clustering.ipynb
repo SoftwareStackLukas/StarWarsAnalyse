{
 "cells": [
  {
   "cell_type": "markdown",
   "id": "3d6c0be4",
   "metadata": {},
   "source": [
    "# Clustering of diffrent nodes \n",
    "\n",
    "We used the power of Neo4J do cluster a selected range of diffrent features in the dataset"
   ]
  },
  {
   "cell_type": "code",
   "execution_count": 13,
   "id": "69a653ef",
   "metadata": {},
   "outputs": [],
   "source": [
    "#Imports\n",
    "from neo4j import GraphDatabase, basic_auth\n",
    "from py2neo import Graph\n",
    "import neo4jupyter\n",
    "import pandas as pd\n",
    "from vis_class import vis_class"
   ]
  },
  {
   "cell_type": "code",
   "execution_count": 21,
   "id": "2a0dcf23",
   "metadata": {},
   "outputs": [
    {
     "data": {
      "application/javascript": [
       "var link = document.createElement(\"link\");\n",
       "\tlink.ref = \"stylesheet\";\n",
       "\tlink.type = \"text/css\";\n",
       "\tlink.href = \"https://cdnjs.cloudflare.com/ajax/libs/vis/4.8.2/vis.css\";\n",
       "\tdocument.head.appendChild(link);\n",
       "require.config({     paths: {         vis: '//cdnjs.cloudflare.com/ajax/libs/vis/4.8.2/vis.min'     } }); require(['vis'], function(vis) {  window.vis = vis; }); "
      ],
      "text/plain": [
       "<IPython.core.display.Javascript object>"
      ]
     },
     "metadata": {},
     "output_type": "display_data"
    },
    {
     "name": "stdout",
     "output_type": "stream",
     "text": [
      "Vis class was created\n"
     ]
    }
   ],
   "source": [
    "#Create db connector\n",
    "login = open(\"Login.txt\", \"r\")\n",
    "uri = login.readline()\n",
    "user = login.readline()\n",
    "password = login.readline()\n",
    "login.close()\n",
    "\n",
    "driver = GraphDatabase.driver(uri, auth=basic_auth(user, password))\n",
    "session = driver.session(database=\"neo4j\")\n",
    "visualizer = vis_class()"
   ]
  },
  {
   "cell_type": "markdown",
   "id": "2b840319",
   "metadata": {},
   "source": [
    "## Starting clustering"
   ]
  },
  {
   "cell_type": "markdown",
   "id": "f6463b39",
   "metadata": {},
   "source": [
    "We start simple and cluster each character each movie they played in. It the name and a list with their movies will be returned"
   ]
  },
  {
   "cell_type": "code",
   "execution_count": 22,
   "id": "1d7d3be6",
   "metadata": {
    "scrolled": true
   },
   "outputs": [
    {
     "ename": "AuthError",
     "evalue": "{code: Neo.ClientError.Security.Unauthorized} {message: The client is unauthorized due to authentication failure.}",
     "output_type": "error",
     "traceback": [
      "\u001b[1;31m---------------------------------------------------------------------------\u001b[0m",
      "\u001b[1;31mAuthError\u001b[0m                                 Traceback (most recent call last)",
      "\u001b[1;32m~\\AppData\\Local\\Temp/ipykernel_17276/3407546309.py\u001b[0m in \u001b[0;36m<module>\u001b[1;34m\u001b[0m\n\u001b[0;32m      1\u001b[0m cluster_each = \"\"\"MATCH (p:Person)-[:APPEARS_IN]->(m:Movie) \n\u001b[0;32m      2\u001b[0m                 Return DISTINCT p.name AS `Name character`, collect(m.name) As Movies\"\"\"\n\u001b[1;32m----> 3\u001b[1;33m df = pd.DataFrame (session.read_transaction(\n\u001b[0m\u001b[0;32m      4\u001b[0m                     lambda tx: tx.run(cluster_each).data()), columns = ['Name character','Movies'])\n\u001b[0;32m      5\u001b[0m \u001b[0mdf\u001b[0m\u001b[1;33m.\u001b[0m\u001b[0mhead\u001b[0m\u001b[1;33m(\u001b[0m\u001b[1;33m)\u001b[0m\u001b[1;33m\u001b[0m\u001b[1;33m\u001b[0m\u001b[0m\n",
      "\u001b[1;32m~\\anaconda3\\lib\\site-packages\\neo4j\\work\\simple.py\u001b[0m in \u001b[0;36mread_transaction\u001b[1;34m(self, transaction_function, *args, **kwargs)\u001b[0m\n\u001b[0;32m    394\u001b[0m         \u001b[1;33m:\u001b[0m\u001b[1;32mreturn\u001b[0m\u001b[1;33m:\u001b[0m \u001b[0ma\u001b[0m \u001b[0mresult\u001b[0m \u001b[1;32mas\u001b[0m \u001b[0mreturned\u001b[0m \u001b[0mby\u001b[0m \u001b[0mthe\u001b[0m \u001b[0mgiven\u001b[0m \u001b[0munit\u001b[0m \u001b[0mof\u001b[0m \u001b[0mwork\u001b[0m\u001b[1;33m\u001b[0m\u001b[1;33m\u001b[0m\u001b[0m\n\u001b[0;32m    395\u001b[0m         \"\"\"\n\u001b[1;32m--> 396\u001b[1;33m         \u001b[1;32mreturn\u001b[0m \u001b[0mself\u001b[0m\u001b[1;33m.\u001b[0m\u001b[0m_run_transaction\u001b[0m\u001b[1;33m(\u001b[0m\u001b[0mREAD_ACCESS\u001b[0m\u001b[1;33m,\u001b[0m \u001b[0mtransaction_function\u001b[0m\u001b[1;33m,\u001b[0m \u001b[1;33m*\u001b[0m\u001b[0margs\u001b[0m\u001b[1;33m,\u001b[0m \u001b[1;33m**\u001b[0m\u001b[0mkwargs\u001b[0m\u001b[1;33m)\u001b[0m\u001b[1;33m\u001b[0m\u001b[1;33m\u001b[0m\u001b[0m\n\u001b[0m\u001b[0;32m    397\u001b[0m \u001b[1;33m\u001b[0m\u001b[0m\n\u001b[0;32m    398\u001b[0m     \u001b[1;32mdef\u001b[0m \u001b[0mwrite_transaction\u001b[0m\u001b[1;33m(\u001b[0m\u001b[0mself\u001b[0m\u001b[1;33m,\u001b[0m \u001b[0mtransaction_function\u001b[0m\u001b[1;33m,\u001b[0m \u001b[1;33m*\u001b[0m\u001b[0margs\u001b[0m\u001b[1;33m,\u001b[0m \u001b[1;33m**\u001b[0m\u001b[0mkwargs\u001b[0m\u001b[1;33m)\u001b[0m\u001b[1;33m:\u001b[0m\u001b[1;33m\u001b[0m\u001b[1;33m\u001b[0m\u001b[0m\n",
      "\u001b[1;32m~\\anaconda3\\lib\\site-packages\\neo4j\\work\\simple.py\u001b[0m in \u001b[0;36m_run_transaction\u001b[1;34m(self, access_mode, transaction_function, *args, **kwargs)\u001b[0m\n\u001b[0;32m    320\u001b[0m         \u001b[1;32mwhile\u001b[0m \u001b[1;32mTrue\u001b[0m\u001b[1;33m:\u001b[0m\u001b[1;33m\u001b[0m\u001b[1;33m\u001b[0m\u001b[0m\n\u001b[0;32m    321\u001b[0m             \u001b[1;32mtry\u001b[0m\u001b[1;33m:\u001b[0m\u001b[1;33m\u001b[0m\u001b[1;33m\u001b[0m\u001b[0m\n\u001b[1;32m--> 322\u001b[1;33m                 \u001b[0mself\u001b[0m\u001b[1;33m.\u001b[0m\u001b[0m_open_transaction\u001b[0m\u001b[1;33m(\u001b[0m\u001b[0maccess_mode\u001b[0m\u001b[1;33m=\u001b[0m\u001b[0maccess_mode\u001b[0m\u001b[1;33m,\u001b[0m \u001b[0mmetadata\u001b[0m\u001b[1;33m=\u001b[0m\u001b[0mmetadata\u001b[0m\u001b[1;33m,\u001b[0m \u001b[0mtimeout\u001b[0m\u001b[1;33m=\u001b[0m\u001b[0mtimeout\u001b[0m\u001b[1;33m)\u001b[0m\u001b[1;33m\u001b[0m\u001b[1;33m\u001b[0m\u001b[0m\n\u001b[0m\u001b[0;32m    323\u001b[0m                 \u001b[0mtx\u001b[0m \u001b[1;33m=\u001b[0m \u001b[0mself\u001b[0m\u001b[1;33m.\u001b[0m\u001b[0m_transaction\u001b[0m\u001b[1;33m\u001b[0m\u001b[1;33m\u001b[0m\u001b[0m\n\u001b[0;32m    324\u001b[0m                 \u001b[1;32mtry\u001b[0m\u001b[1;33m:\u001b[0m\u001b[1;33m\u001b[0m\u001b[1;33m\u001b[0m\u001b[0m\n",
      "\u001b[1;32m~\\anaconda3\\lib\\site-packages\\neo4j\\work\\simple.py\u001b[0m in \u001b[0;36m_open_transaction\u001b[1;34m(self, access_mode, metadata, timeout)\u001b[0m\n\u001b[0;32m    253\u001b[0m     def _open_transaction(self, *, access_mode, metadata=None,\n\u001b[0;32m    254\u001b[0m                           timeout=None):\n\u001b[1;32m--> 255\u001b[1;33m         \u001b[0mself\u001b[0m\u001b[1;33m.\u001b[0m\u001b[0m_connect\u001b[0m\u001b[1;33m(\u001b[0m\u001b[0maccess_mode\u001b[0m\u001b[1;33m=\u001b[0m\u001b[0maccess_mode\u001b[0m\u001b[1;33m)\u001b[0m\u001b[1;33m\u001b[0m\u001b[1;33m\u001b[0m\u001b[0m\n\u001b[0m\u001b[0;32m    256\u001b[0m         self._transaction = Transaction(\n\u001b[0;32m    257\u001b[0m             \u001b[0mself\u001b[0m\u001b[1;33m.\u001b[0m\u001b[0m_connection\u001b[0m\u001b[1;33m,\u001b[0m \u001b[0mself\u001b[0m\u001b[1;33m.\u001b[0m\u001b[0m_config\u001b[0m\u001b[1;33m.\u001b[0m\u001b[0mfetch_size\u001b[0m\u001b[1;33m,\u001b[0m\u001b[1;33m\u001b[0m\u001b[1;33m\u001b[0m\u001b[0m\n",
      "\u001b[1;32m~\\anaconda3\\lib\\site-packages\\neo4j\\work\\simple.py\u001b[0m in \u001b[0;36m_connect\u001b[1;34m(self, access_mode)\u001b[0m\n\u001b[0;32m    106\u001b[0m         \u001b[1;32mif\u001b[0m \u001b[0maccess_mode\u001b[0m \u001b[1;32mis\u001b[0m \u001b[1;32mNone\u001b[0m\u001b[1;33m:\u001b[0m\u001b[1;33m\u001b[0m\u001b[1;33m\u001b[0m\u001b[0m\n\u001b[0;32m    107\u001b[0m             \u001b[0maccess_mode\u001b[0m \u001b[1;33m=\u001b[0m \u001b[0mself\u001b[0m\u001b[1;33m.\u001b[0m\u001b[0m_config\u001b[0m\u001b[1;33m.\u001b[0m\u001b[0mdefault_access_mode\u001b[0m\u001b[1;33m\u001b[0m\u001b[1;33m\u001b[0m\u001b[0m\n\u001b[1;32m--> 108\u001b[1;33m         \u001b[0msuper\u001b[0m\u001b[1;33m(\u001b[0m\u001b[1;33m)\u001b[0m\u001b[1;33m.\u001b[0m\u001b[0m_connect\u001b[0m\u001b[1;33m(\u001b[0m\u001b[0maccess_mode\u001b[0m\u001b[1;33m)\u001b[0m\u001b[1;33m\u001b[0m\u001b[1;33m\u001b[0m\u001b[0m\n\u001b[0m\u001b[0;32m    109\u001b[0m \u001b[1;33m\u001b[0m\u001b[0m\n\u001b[0;32m    110\u001b[0m     \u001b[1;32mdef\u001b[0m \u001b[0m_collect_bookmark\u001b[0m\u001b[1;33m(\u001b[0m\u001b[0mself\u001b[0m\u001b[1;33m,\u001b[0m \u001b[0mbookmark\u001b[0m\u001b[1;33m)\u001b[0m\u001b[1;33m:\u001b[0m\u001b[1;33m\u001b[0m\u001b[1;33m\u001b[0m\u001b[0m\n",
      "\u001b[1;32m~\\anaconda3\\lib\\site-packages\\neo4j\\work\\__init__.py\u001b[0m in \u001b[0;36m_connect\u001b[1;34m(self, access_mode)\u001b[0m\n\u001b[0;32m     77\u001b[0m                     \u001b[0mdatabase_callback\u001b[0m\u001b[1;33m=\u001b[0m\u001b[0mself\u001b[0m\u001b[1;33m.\u001b[0m\u001b[0m_set_cached_database\u001b[0m\u001b[1;33m\u001b[0m\u001b[1;33m\u001b[0m\u001b[0m\n\u001b[0;32m     78\u001b[0m                 )\n\u001b[1;32m---> 79\u001b[1;33m         self._connection = self._pool.acquire(\n\u001b[0m\u001b[0;32m     80\u001b[0m             \u001b[0maccess_mode\u001b[0m\u001b[1;33m=\u001b[0m\u001b[0maccess_mode\u001b[0m\u001b[1;33m,\u001b[0m\u001b[1;33m\u001b[0m\u001b[1;33m\u001b[0m\u001b[0m\n\u001b[0;32m     81\u001b[0m             \u001b[0mtimeout\u001b[0m\u001b[1;33m=\u001b[0m\u001b[0mself\u001b[0m\u001b[1;33m.\u001b[0m\u001b[0m_config\u001b[0m\u001b[1;33m.\u001b[0m\u001b[0mconnection_acquisition_timeout\u001b[0m\u001b[1;33m,\u001b[0m\u001b[1;33m\u001b[0m\u001b[1;33m\u001b[0m\u001b[0m\n",
      "\u001b[1;32m~\\anaconda3\\lib\\site-packages\\neo4j\\io\\__init__.py\u001b[0m in \u001b[0;36macquire\u001b[1;34m(self, access_mode, timeout, database, bookmarks)\u001b[0m\n\u001b[0;32m   1184\u001b[0m             log.debug(\"[#0000]  C: <ROUTING TABLE ENSURE FRESH> %r\",\n\u001b[0;32m   1185\u001b[0m                       self.routing_tables)\n\u001b[1;32m-> 1186\u001b[1;33m             self.ensure_routing_table_is_fresh(\n\u001b[0m\u001b[0;32m   1187\u001b[0m                 \u001b[0maccess_mode\u001b[0m\u001b[1;33m=\u001b[0m\u001b[0maccess_mode\u001b[0m\u001b[1;33m,\u001b[0m \u001b[0mdatabase\u001b[0m\u001b[1;33m=\u001b[0m\u001b[0mdatabase\u001b[0m\u001b[1;33m,\u001b[0m \u001b[0mimp_user\u001b[0m\u001b[1;33m=\u001b[0m\u001b[1;32mNone\u001b[0m\u001b[1;33m,\u001b[0m\u001b[1;33m\u001b[0m\u001b[1;33m\u001b[0m\u001b[0m\n\u001b[0;32m   1188\u001b[0m                 \u001b[0mbookmarks\u001b[0m\u001b[1;33m=\u001b[0m\u001b[0mbookmarks\u001b[0m\u001b[1;33m\u001b[0m\u001b[1;33m\u001b[0m\u001b[0m\n",
      "\u001b[1;32m~\\anaconda3\\lib\\site-packages\\neo4j\\io\\__init__.py\u001b[0m in \u001b[0;36mensure_routing_table_is_fresh\u001b[1;34m(self, access_mode, database, imp_user, bookmarks, database_callback)\u001b[0m\n\u001b[0;32m   1130\u001b[0m                 \u001b[1;32mreturn\u001b[0m \u001b[1;32mFalse\u001b[0m\u001b[1;33m\u001b[0m\u001b[1;33m\u001b[0m\u001b[0m\n\u001b[0;32m   1131\u001b[0m \u001b[1;33m\u001b[0m\u001b[0m\n\u001b[1;32m-> 1132\u001b[1;33m             self.update_routing_table(\n\u001b[0m\u001b[0;32m   1133\u001b[0m                 \u001b[0mdatabase\u001b[0m\u001b[1;33m=\u001b[0m\u001b[0mdatabase\u001b[0m\u001b[1;33m,\u001b[0m \u001b[0mimp_user\u001b[0m\u001b[1;33m=\u001b[0m\u001b[0mimp_user\u001b[0m\u001b[1;33m,\u001b[0m \u001b[0mbookmarks\u001b[0m\u001b[1;33m=\u001b[0m\u001b[0mbookmarks\u001b[0m\u001b[1;33m,\u001b[0m\u001b[1;33m\u001b[0m\u001b[1;33m\u001b[0m\u001b[0m\n\u001b[0;32m   1134\u001b[0m                 \u001b[0mdatabase_callback\u001b[0m\u001b[1;33m=\u001b[0m\u001b[0mdatabase_callback\u001b[0m\u001b[1;33m\u001b[0m\u001b[1;33m\u001b[0m\u001b[0m\n",
      "\u001b[1;32m~\\anaconda3\\lib\\site-packages\\neo4j\\io\\__init__.py\u001b[0m in \u001b[0;36mupdate_routing_table\u001b[1;34m(self, database, imp_user, bookmarks, database_callback)\u001b[0m\n\u001b[0;32m   1076\u001b[0m             \u001b[1;32mif\u001b[0m \u001b[0mprefer_initial_routing_address\u001b[0m\u001b[1;33m:\u001b[0m\u001b[1;33m\u001b[0m\u001b[1;33m\u001b[0m\u001b[0m\n\u001b[0;32m   1077\u001b[0m                 \u001b[1;31m# TODO: Test this state\u001b[0m\u001b[1;33m\u001b[0m\u001b[1;33m\u001b[0m\u001b[0m\n\u001b[1;32m-> 1078\u001b[1;33m                 if self._update_routing_table_from(\n\u001b[0m\u001b[0;32m   1079\u001b[0m                         \u001b[0mself\u001b[0m\u001b[1;33m.\u001b[0m\u001b[0mfirst_initial_routing_address\u001b[0m\u001b[1;33m,\u001b[0m \u001b[0mdatabase\u001b[0m\u001b[1;33m=\u001b[0m\u001b[0mdatabase\u001b[0m\u001b[1;33m,\u001b[0m\u001b[1;33m\u001b[0m\u001b[1;33m\u001b[0m\u001b[0m\n\u001b[0;32m   1080\u001b[0m                         \u001b[0mimp_user\u001b[0m\u001b[1;33m=\u001b[0m\u001b[0mimp_user\u001b[0m\u001b[1;33m,\u001b[0m \u001b[0mbookmarks\u001b[0m\u001b[1;33m=\u001b[0m\u001b[0mbookmarks\u001b[0m\u001b[1;33m,\u001b[0m\u001b[1;33m\u001b[0m\u001b[1;33m\u001b[0m\u001b[0m\n",
      "\u001b[1;32m~\\anaconda3\\lib\\site-packages\\neo4j\\io\\__init__.py\u001b[0m in \u001b[0;36m_update_routing_table_from\u001b[1;34m(self, database, imp_user, bookmarks, database_callback, *routers)\u001b[0m\n\u001b[0;32m   1028\u001b[0m         \u001b[1;32mfor\u001b[0m \u001b[0mrouter\u001b[0m \u001b[1;32min\u001b[0m \u001b[0mrouters\u001b[0m\u001b[1;33m:\u001b[0m\u001b[1;33m\u001b[0m\u001b[1;33m\u001b[0m\u001b[0m\n\u001b[0;32m   1029\u001b[0m             \u001b[1;32mfor\u001b[0m \u001b[0maddress\u001b[0m \u001b[1;32min\u001b[0m \u001b[0mrouter\u001b[0m\u001b[1;33m.\u001b[0m\u001b[0mresolve\u001b[0m\u001b[1;33m(\u001b[0m\u001b[0mresolver\u001b[0m\u001b[1;33m=\u001b[0m\u001b[0mself\u001b[0m\u001b[1;33m.\u001b[0m\u001b[0mpool_config\u001b[0m\u001b[1;33m.\u001b[0m\u001b[0mresolver\u001b[0m\u001b[1;33m)\u001b[0m\u001b[1;33m:\u001b[0m\u001b[1;33m\u001b[0m\u001b[1;33m\u001b[0m\u001b[0m\n\u001b[1;32m-> 1030\u001b[1;33m                 new_routing_table = self.fetch_routing_table(\n\u001b[0m\u001b[0;32m   1031\u001b[0m                     \u001b[0maddress\u001b[0m\u001b[1;33m=\u001b[0m\u001b[0maddress\u001b[0m\u001b[1;33m,\u001b[0m\u001b[1;33m\u001b[0m\u001b[1;33m\u001b[0m\u001b[0m\n\u001b[0;32m   1032\u001b[0m                     \u001b[0mtimeout\u001b[0m\u001b[1;33m=\u001b[0m\u001b[0mself\u001b[0m\u001b[1;33m.\u001b[0m\u001b[0mpool_config\u001b[0m\u001b[1;33m.\u001b[0m\u001b[0mconnection_timeout\u001b[0m\u001b[1;33m,\u001b[0m\u001b[1;33m\u001b[0m\u001b[1;33m\u001b[0m\u001b[0m\n",
      "\u001b[1;32m~\\anaconda3\\lib\\site-packages\\neo4j\\io\\__init__.py\u001b[0m in \u001b[0;36mfetch_routing_table\u001b[1;34m(self, address, timeout, database, imp_user, bookmarks)\u001b[0m\n\u001b[0;32m    975\u001b[0m         \u001b[0mnew_routing_info\u001b[0m \u001b[1;33m=\u001b[0m \u001b[1;32mNone\u001b[0m\u001b[1;33m\u001b[0m\u001b[1;33m\u001b[0m\u001b[0m\n\u001b[0;32m    976\u001b[0m         \u001b[1;32mtry\u001b[0m\u001b[1;33m:\u001b[0m\u001b[1;33m\u001b[0m\u001b[1;33m\u001b[0m\u001b[0m\n\u001b[1;32m--> 977\u001b[1;33m             new_routing_info = self.fetch_routing_info(\n\u001b[0m\u001b[0;32m    978\u001b[0m                 \u001b[0maddress\u001b[0m\u001b[1;33m,\u001b[0m \u001b[0mdatabase\u001b[0m\u001b[1;33m,\u001b[0m \u001b[0mimp_user\u001b[0m\u001b[1;33m,\u001b[0m \u001b[0mbookmarks\u001b[0m\u001b[1;33m,\u001b[0m \u001b[0mtimeout\u001b[0m\u001b[1;33m\u001b[0m\u001b[1;33m\u001b[0m\u001b[0m\n\u001b[0;32m    979\u001b[0m             )\n",
      "\u001b[1;32m~\\anaconda3\\lib\\site-packages\\neo4j\\io\\__init__.py\u001b[0m in \u001b[0;36mfetch_routing_info\u001b[1;34m(self, address, database, imp_user, bookmarks, timeout)\u001b[0m\n\u001b[0;32m    946\u001b[0m             \u001b[0mrouting\u001b[0m\u001b[1;33m,\u001b[0m \u001b[1;32mor\u001b[0m \u001b[1;32mif\u001b[0m \u001b[0mrouting\u001b[0m \u001b[0msupport\u001b[0m \u001b[1;32mis\u001b[0m \u001b[0mbroken\u001b[0m \u001b[1;32mor\u001b[0m \u001b[0moutdated\u001b[0m\u001b[1;33m\u001b[0m\u001b[1;33m\u001b[0m\u001b[0m\n\u001b[0;32m    947\u001b[0m         \"\"\"\n\u001b[1;32m--> 948\u001b[1;33m         \u001b[0mcx\u001b[0m \u001b[1;33m=\u001b[0m \u001b[0mself\u001b[0m\u001b[1;33m.\u001b[0m\u001b[0m_acquire\u001b[0m\u001b[1;33m(\u001b[0m\u001b[0maddress\u001b[0m\u001b[1;33m,\u001b[0m \u001b[0mtimeout\u001b[0m\u001b[1;33m)\u001b[0m\u001b[1;33m\u001b[0m\u001b[1;33m\u001b[0m\u001b[0m\n\u001b[0m\u001b[0;32m    949\u001b[0m         \u001b[1;32mtry\u001b[0m\u001b[1;33m:\u001b[0m\u001b[1;33m\u001b[0m\u001b[1;33m\u001b[0m\u001b[0m\n\u001b[0;32m    950\u001b[0m             routing_table = cx.route(\n",
      "\u001b[1;32m~\\anaconda3\\lib\\site-packages\\neo4j\\io\\__init__.py\u001b[0m in \u001b[0;36m_acquire\u001b[1;34m(self, address, timeout)\u001b[0m\n\u001b[0;32m    694\u001b[0m                                   time_remaining())\n\u001b[0;32m    695\u001b[0m                     \u001b[1;32mtry\u001b[0m\u001b[1;33m:\u001b[0m\u001b[1;33m\u001b[0m\u001b[1;33m\u001b[0m\u001b[0m\n\u001b[1;32m--> 696\u001b[1;33m                         \u001b[0mconnection\u001b[0m \u001b[1;33m=\u001b[0m \u001b[0mself\u001b[0m\u001b[1;33m.\u001b[0m\u001b[0mopener\u001b[0m\u001b[1;33m(\u001b[0m\u001b[0maddress\u001b[0m\u001b[1;33m,\u001b[0m \u001b[0mtimeout\u001b[0m\u001b[1;33m)\u001b[0m\u001b[1;33m\u001b[0m\u001b[1;33m\u001b[0m\u001b[0m\n\u001b[0m\u001b[0;32m    697\u001b[0m                     \u001b[1;32mexcept\u001b[0m \u001b[0mServiceUnavailable\u001b[0m\u001b[1;33m:\u001b[0m\u001b[1;33m\u001b[0m\u001b[1;33m\u001b[0m\u001b[0m\n\u001b[0;32m    698\u001b[0m                         \u001b[0mself\u001b[0m\u001b[1;33m.\u001b[0m\u001b[0mremove\u001b[0m\u001b[1;33m(\u001b[0m\u001b[0maddress\u001b[0m\u001b[1;33m)\u001b[0m\u001b[1;33m\u001b[0m\u001b[1;33m\u001b[0m\u001b[0m\n",
      "\u001b[1;32m~\\anaconda3\\lib\\site-packages\\neo4j\\io\\__init__.py\u001b[0m in \u001b[0;36mopener\u001b[1;34m(addr, timeout)\u001b[0m\n\u001b[0;32m    867\u001b[0m \u001b[1;33m\u001b[0m\u001b[0m\n\u001b[0;32m    868\u001b[0m         \u001b[1;32mdef\u001b[0m \u001b[0mopener\u001b[0m\u001b[1;33m(\u001b[0m\u001b[0maddr\u001b[0m\u001b[1;33m,\u001b[0m \u001b[0mtimeout\u001b[0m\u001b[1;33m)\u001b[0m\u001b[1;33m:\u001b[0m\u001b[1;33m\u001b[0m\u001b[1;33m\u001b[0m\u001b[0m\n\u001b[1;32m--> 869\u001b[1;33m             return Bolt.open(addr, auth=auth, timeout=timeout,\n\u001b[0m\u001b[0;32m    870\u001b[0m                              routing_context=routing_context, **pool_config)\n\u001b[0;32m    871\u001b[0m \u001b[1;33m\u001b[0m\u001b[0m\n",
      "\u001b[1;32m~\\anaconda3\\lib\\site-packages\\neo4j\\io\\__init__.py\u001b[0m in \u001b[0;36mopen\u001b[1;34m(cls, address, auth, timeout, routing_context, **pool_config)\u001b[0m\n\u001b[0;32m    357\u001b[0m \u001b[1;33m\u001b[0m\u001b[0m\n\u001b[0;32m    358\u001b[0m         \u001b[1;32mtry\u001b[0m\u001b[1;33m:\u001b[0m\u001b[1;33m\u001b[0m\u001b[1;33m\u001b[0m\u001b[0m\n\u001b[1;32m--> 359\u001b[1;33m             \u001b[0mconnection\u001b[0m\u001b[1;33m.\u001b[0m\u001b[0mhello\u001b[0m\u001b[1;33m(\u001b[0m\u001b[1;33m)\u001b[0m\u001b[1;33m\u001b[0m\u001b[1;33m\u001b[0m\u001b[0m\n\u001b[0m\u001b[0;32m    360\u001b[0m         \u001b[1;32mexcept\u001b[0m \u001b[0mException\u001b[0m\u001b[1;33m:\u001b[0m\u001b[1;33m\u001b[0m\u001b[1;33m\u001b[0m\u001b[0m\n\u001b[0;32m    361\u001b[0m             \u001b[0mconnection\u001b[0m\u001b[1;33m.\u001b[0m\u001b[0mclose\u001b[0m\u001b[1;33m(\u001b[0m\u001b[1;33m)\u001b[0m\u001b[1;33m\u001b[0m\u001b[1;33m\u001b[0m\u001b[0m\n",
      "\u001b[1;32m~\\anaconda3\\lib\\site-packages\\neo4j\\io\\_bolt4.py\u001b[0m in \u001b[0;36mhello\u001b[1;34m(self)\u001b[0m\n\u001b[0;32m    441\u001b[0m                                            on_success=on_success))\n\u001b[0;32m    442\u001b[0m         \u001b[0mself\u001b[0m\u001b[1;33m.\u001b[0m\u001b[0msend_all\u001b[0m\u001b[1;33m(\u001b[0m\u001b[1;33m)\u001b[0m\u001b[1;33m\u001b[0m\u001b[1;33m\u001b[0m\u001b[0m\n\u001b[1;32m--> 443\u001b[1;33m         \u001b[0mself\u001b[0m\u001b[1;33m.\u001b[0m\u001b[0mfetch_all\u001b[0m\u001b[1;33m(\u001b[0m\u001b[1;33m)\u001b[0m\u001b[1;33m\u001b[0m\u001b[1;33m\u001b[0m\u001b[0m\n\u001b[0m\u001b[0;32m    444\u001b[0m         \u001b[0mcheck_supported_server_product\u001b[0m\u001b[1;33m(\u001b[0m\u001b[0mself\u001b[0m\u001b[1;33m.\u001b[0m\u001b[0mserver_info\u001b[0m\u001b[1;33m.\u001b[0m\u001b[0magent\u001b[0m\u001b[1;33m)\u001b[0m\u001b[1;33m\u001b[0m\u001b[1;33m\u001b[0m\u001b[0m\n\u001b[0;32m    445\u001b[0m \u001b[1;33m\u001b[0m\u001b[0m\n",
      "\u001b[1;32m~\\anaconda3\\lib\\site-packages\\neo4j\\io\\__init__.py\u001b[0m in \u001b[0;36mfetch_all\u001b[1;34m(self)\u001b[0m\n\u001b[0;32m    534\u001b[0m             \u001b[0mresponse\u001b[0m \u001b[1;33m=\u001b[0m \u001b[0mself\u001b[0m\u001b[1;33m.\u001b[0m\u001b[0mresponses\u001b[0m\u001b[1;33m[\u001b[0m\u001b[1;36m0\u001b[0m\u001b[1;33m]\u001b[0m\u001b[1;33m\u001b[0m\u001b[1;33m\u001b[0m\u001b[0m\n\u001b[0;32m    535\u001b[0m             \u001b[1;32mwhile\u001b[0m \u001b[1;32mnot\u001b[0m \u001b[0mresponse\u001b[0m\u001b[1;33m.\u001b[0m\u001b[0mcomplete\u001b[0m\u001b[1;33m:\u001b[0m\u001b[1;33m\u001b[0m\u001b[1;33m\u001b[0m\u001b[0m\n\u001b[1;32m--> 536\u001b[1;33m                 \u001b[0mdetail_delta\u001b[0m\u001b[1;33m,\u001b[0m \u001b[0msummary_delta\u001b[0m \u001b[1;33m=\u001b[0m \u001b[0mself\u001b[0m\u001b[1;33m.\u001b[0m\u001b[0mfetch_message\u001b[0m\u001b[1;33m(\u001b[0m\u001b[1;33m)\u001b[0m\u001b[1;33m\u001b[0m\u001b[1;33m\u001b[0m\u001b[0m\n\u001b[0m\u001b[0;32m    537\u001b[0m                 \u001b[0mdetail_count\u001b[0m \u001b[1;33m+=\u001b[0m \u001b[0mdetail_delta\u001b[0m\u001b[1;33m\u001b[0m\u001b[1;33m\u001b[0m\u001b[0m\n\u001b[0;32m    538\u001b[0m                 \u001b[0msummary_count\u001b[0m \u001b[1;33m+=\u001b[0m \u001b[0msummary_delta\u001b[0m\u001b[1;33m\u001b[0m\u001b[1;33m\u001b[0m\u001b[0m\n",
      "\u001b[1;32m~\\anaconda3\\lib\\site-packages\\neo4j\\io\\_bolt4.py\u001b[0m in \u001b[0;36mfetch_message\u001b[1;34m(self)\u001b[0m\n\u001b[0;32m    307\u001b[0m             \u001b[0mself\u001b[0m\u001b[1;33m.\u001b[0m\u001b[0m_server_state_manager\u001b[0m\u001b[1;33m.\u001b[0m\u001b[0mstate\u001b[0m \u001b[1;33m=\u001b[0m \u001b[0mServerStates\u001b[0m\u001b[1;33m.\u001b[0m\u001b[0mFAILED\u001b[0m\u001b[1;33m\u001b[0m\u001b[1;33m\u001b[0m\u001b[0m\n\u001b[0;32m    308\u001b[0m             \u001b[1;32mtry\u001b[0m\u001b[1;33m:\u001b[0m\u001b[1;33m\u001b[0m\u001b[1;33m\u001b[0m\u001b[0m\n\u001b[1;32m--> 309\u001b[1;33m                 \u001b[0mresponse\u001b[0m\u001b[1;33m.\u001b[0m\u001b[0mon_failure\u001b[0m\u001b[1;33m(\u001b[0m\u001b[0msummary_metadata\u001b[0m \u001b[1;32mor\u001b[0m \u001b[1;33m{\u001b[0m\u001b[1;33m}\u001b[0m\u001b[1;33m)\u001b[0m\u001b[1;33m\u001b[0m\u001b[1;33m\u001b[0m\u001b[0m\n\u001b[0m\u001b[0;32m    310\u001b[0m             \u001b[1;32mexcept\u001b[0m \u001b[1;33m(\u001b[0m\u001b[0mServiceUnavailable\u001b[0m\u001b[1;33m,\u001b[0m \u001b[0mDatabaseUnavailable\u001b[0m\u001b[1;33m)\u001b[0m\u001b[1;33m:\u001b[0m\u001b[1;33m\u001b[0m\u001b[1;33m\u001b[0m\u001b[0m\n\u001b[0;32m    311\u001b[0m                 \u001b[1;32mif\u001b[0m \u001b[0mself\u001b[0m\u001b[1;33m.\u001b[0m\u001b[0mpool\u001b[0m\u001b[1;33m:\u001b[0m\u001b[1;33m\u001b[0m\u001b[1;33m\u001b[0m\u001b[0m\n",
      "\u001b[1;32m~\\anaconda3\\lib\\site-packages\\neo4j\\io\\_common.py\u001b[0m in \u001b[0;36mon_failure\u001b[1;34m(self, metadata)\u001b[0m\n\u001b[0;32m    260\u001b[0m         \u001b[0mcode\u001b[0m \u001b[1;33m=\u001b[0m \u001b[0mmetadata\u001b[0m\u001b[1;33m.\u001b[0m\u001b[0mget\u001b[0m\u001b[1;33m(\u001b[0m\u001b[1;34m\"code\"\u001b[0m\u001b[1;33m)\u001b[0m\u001b[1;33m\u001b[0m\u001b[1;33m\u001b[0m\u001b[0m\n\u001b[0;32m    261\u001b[0m         \u001b[1;32mif\u001b[0m \u001b[0mcode\u001b[0m \u001b[1;33m==\u001b[0m \u001b[1;34m\"Neo.ClientError.Security.Unauthorized\"\u001b[0m\u001b[1;33m:\u001b[0m\u001b[1;33m\u001b[0m\u001b[1;33m\u001b[0m\u001b[0m\n\u001b[1;32m--> 262\u001b[1;33m             \u001b[1;32mraise\u001b[0m \u001b[0mNeo4jError\u001b[0m\u001b[1;33m.\u001b[0m\u001b[0mhydrate\u001b[0m\u001b[1;33m(\u001b[0m\u001b[1;33m**\u001b[0m\u001b[0mmetadata\u001b[0m\u001b[1;33m)\u001b[0m\u001b[1;33m\u001b[0m\u001b[1;33m\u001b[0m\u001b[0m\n\u001b[0m\u001b[0;32m    263\u001b[0m         \u001b[1;32melse\u001b[0m\u001b[1;33m:\u001b[0m\u001b[1;33m\u001b[0m\u001b[1;33m\u001b[0m\u001b[0m\n\u001b[0;32m    264\u001b[0m             raise ServiceUnavailable(\n",
      "\u001b[1;31mAuthError\u001b[0m: {code: Neo.ClientError.Security.Unauthorized} {message: The client is unauthorized due to authentication failure.}"
     ]
    }
   ],
   "source": [
    "cluster_each = \"\"\"MATCH (p:Person)-[:APPEARS_IN]->(m:Movie) \n",
    "                Return DISTINCT p.name AS `Name character`, collect(m.name) As Movies\"\"\"\n",
    "df = pd.DataFrame (session.read_transaction(\n",
    "                    lambda tx: tx.run(cluster_each).data()), columns = ['Name character','Movies'])\n",
    "df.head()"
   ]
  },
  {
   "cell_type": "code",
   "execution_count": 16,
   "id": "4bc18e98",
   "metadata": {},
   "outputs": [],
   "source": [
    "cluster_each = \"\"\"MATCH (p:Person)-[a:APPEARS_IN]->(m:Movie) \n",
    "                Return DISTINCT p AS source_node, \n",
    "                                id(p) AS source_id,\n",
    "                                a,\n",
    "                                m AS target_node,\n",
    "                                id(m) As target_id \n",
    "                LIMIT 20\"\"\""
   ]
  },
  {
   "cell_type": "code",
   "execution_count": 17,
   "id": "be4dcdb3",
   "metadata": {
    "scrolled": true
   },
   "outputs": [
    {
     "ename": "AuthError",
     "evalue": "{code: Neo.ClientError.Security.Unauthorized} {message: The client is unauthorized due to authentication failure.}",
     "output_type": "error",
     "traceback": [
      "\u001b[1;31m---------------------------------------------------------------------------\u001b[0m",
      "\u001b[1;31mAuthError\u001b[0m                                 Traceback (most recent call last)",
      "\u001b[1;32m~\\AppData\\Local\\Temp/ipykernel_17276/4146000325.py\u001b[0m in \u001b[0;36m<module>\u001b[1;34m\u001b[0m\n\u001b[1;32m----> 1\u001b[1;33m \u001b[0mvis_class\u001b[0m\u001b[1;33m.\u001b[0m\u001b[0mdrawGraph\u001b[0m\u001b[1;33m(\u001b[0m\u001b[0msession\u001b[0m\u001b[1;33m,\u001b[0m \u001b[1;33m{\u001b[0m\u001b[1;34m'Person'\u001b[0m\u001b[1;33m:\u001b[0m\u001b[1;34m'name'\u001b[0m\u001b[1;33m,\u001b[0m \u001b[1;34m'Movie'\u001b[0m\u001b[1;33m:\u001b[0m\u001b[1;34m'name'\u001b[0m\u001b[1;33m}\u001b[0m\u001b[1;33m,\u001b[0m \u001b[0mcluster_each\u001b[0m\u001b[1;33m)\u001b[0m\u001b[1;33m\u001b[0m\u001b[1;33m\u001b[0m\u001b[0m\n\u001b[0m",
      "\u001b[1;32mE:\\Hessenbox\\Spanien\\_Classes\\BD\\StarWarsAnalyse\\vis_class.py\u001b[0m in \u001b[0;36mdrawGraph\u001b[1;34m(graph, options, query, physics)\u001b[0m\n\u001b[0;32m     61\u001b[0m         \"\"\"\n\u001b[0;32m     62\u001b[0m \u001b[1;33m\u001b[0m\u001b[0m\n\u001b[1;32m---> 63\u001b[1;33m         \u001b[0mdata\u001b[0m \u001b[1;33m=\u001b[0m \u001b[0mgraph\u001b[0m\u001b[1;33m.\u001b[0m\u001b[0mrun\u001b[0m\u001b[1;33m(\u001b[0m\u001b[0mquery\u001b[0m\u001b[1;33m)\u001b[0m\u001b[1;31m#, limit=limit)\u001b[0m\u001b[1;33m\u001b[0m\u001b[1;33m\u001b[0m\u001b[0m\n\u001b[0m\u001b[0;32m     64\u001b[0m \u001b[1;33m\u001b[0m\u001b[0m\n\u001b[0;32m     65\u001b[0m         \u001b[0mnodes\u001b[0m \u001b[1;33m=\u001b[0m \u001b[1;33m[\u001b[0m\u001b[1;33m]\u001b[0m\u001b[1;33m\u001b[0m\u001b[1;33m\u001b[0m\u001b[0m\n",
      "\u001b[1;32m~\\anaconda3\\lib\\site-packages\\neo4j\\work\\simple.py\u001b[0m in \u001b[0;36mrun\u001b[1;34m(self, query, parameters, **kwparameters)\u001b[0m\n\u001b[0;32m    202\u001b[0m \u001b[1;33m\u001b[0m\u001b[0m\n\u001b[0;32m    203\u001b[0m         \u001b[1;32mif\u001b[0m \u001b[1;32mnot\u001b[0m \u001b[0mself\u001b[0m\u001b[1;33m.\u001b[0m\u001b[0m_connection\u001b[0m\u001b[1;33m:\u001b[0m\u001b[1;33m\u001b[0m\u001b[1;33m\u001b[0m\u001b[0m\n\u001b[1;32m--> 204\u001b[1;33m             \u001b[0mself\u001b[0m\u001b[1;33m.\u001b[0m\u001b[0m_connect\u001b[0m\u001b[1;33m(\u001b[0m\u001b[0mself\u001b[0m\u001b[1;33m.\u001b[0m\u001b[0m_config\u001b[0m\u001b[1;33m.\u001b[0m\u001b[0mdefault_access_mode\u001b[0m\u001b[1;33m)\u001b[0m\u001b[1;33m\u001b[0m\u001b[1;33m\u001b[0m\u001b[0m\n\u001b[0m\u001b[0;32m    205\u001b[0m         \u001b[0mcx\u001b[0m \u001b[1;33m=\u001b[0m \u001b[0mself\u001b[0m\u001b[1;33m.\u001b[0m\u001b[0m_connection\u001b[0m\u001b[1;33m\u001b[0m\u001b[1;33m\u001b[0m\u001b[0m\n\u001b[0;32m    206\u001b[0m         \u001b[0mprotocol_version\u001b[0m \u001b[1;33m=\u001b[0m \u001b[0mcx\u001b[0m\u001b[1;33m.\u001b[0m\u001b[0mPROTOCOL_VERSION\u001b[0m\u001b[1;33m\u001b[0m\u001b[1;33m\u001b[0m\u001b[0m\n",
      "\u001b[1;32m~\\anaconda3\\lib\\site-packages\\neo4j\\work\\simple.py\u001b[0m in \u001b[0;36m_connect\u001b[1;34m(self, access_mode)\u001b[0m\n\u001b[0;32m    106\u001b[0m         \u001b[1;32mif\u001b[0m \u001b[0maccess_mode\u001b[0m \u001b[1;32mis\u001b[0m \u001b[1;32mNone\u001b[0m\u001b[1;33m:\u001b[0m\u001b[1;33m\u001b[0m\u001b[1;33m\u001b[0m\u001b[0m\n\u001b[0;32m    107\u001b[0m             \u001b[0maccess_mode\u001b[0m \u001b[1;33m=\u001b[0m \u001b[0mself\u001b[0m\u001b[1;33m.\u001b[0m\u001b[0m_config\u001b[0m\u001b[1;33m.\u001b[0m\u001b[0mdefault_access_mode\u001b[0m\u001b[1;33m\u001b[0m\u001b[1;33m\u001b[0m\u001b[0m\n\u001b[1;32m--> 108\u001b[1;33m         \u001b[0msuper\u001b[0m\u001b[1;33m(\u001b[0m\u001b[1;33m)\u001b[0m\u001b[1;33m.\u001b[0m\u001b[0m_connect\u001b[0m\u001b[1;33m(\u001b[0m\u001b[0maccess_mode\u001b[0m\u001b[1;33m)\u001b[0m\u001b[1;33m\u001b[0m\u001b[1;33m\u001b[0m\u001b[0m\n\u001b[0m\u001b[0;32m    109\u001b[0m \u001b[1;33m\u001b[0m\u001b[0m\n\u001b[0;32m    110\u001b[0m     \u001b[1;32mdef\u001b[0m \u001b[0m_collect_bookmark\u001b[0m\u001b[1;33m(\u001b[0m\u001b[0mself\u001b[0m\u001b[1;33m,\u001b[0m \u001b[0mbookmark\u001b[0m\u001b[1;33m)\u001b[0m\u001b[1;33m:\u001b[0m\u001b[1;33m\u001b[0m\u001b[1;33m\u001b[0m\u001b[0m\n",
      "\u001b[1;32m~\\anaconda3\\lib\\site-packages\\neo4j\\work\\__init__.py\u001b[0m in \u001b[0;36m_connect\u001b[1;34m(self, access_mode)\u001b[0m\n\u001b[0;32m     77\u001b[0m                     \u001b[0mdatabase_callback\u001b[0m\u001b[1;33m=\u001b[0m\u001b[0mself\u001b[0m\u001b[1;33m.\u001b[0m\u001b[0m_set_cached_database\u001b[0m\u001b[1;33m\u001b[0m\u001b[1;33m\u001b[0m\u001b[0m\n\u001b[0;32m     78\u001b[0m                 )\n\u001b[1;32m---> 79\u001b[1;33m         self._connection = self._pool.acquire(\n\u001b[0m\u001b[0;32m     80\u001b[0m             \u001b[0maccess_mode\u001b[0m\u001b[1;33m=\u001b[0m\u001b[0maccess_mode\u001b[0m\u001b[1;33m,\u001b[0m\u001b[1;33m\u001b[0m\u001b[1;33m\u001b[0m\u001b[0m\n\u001b[0;32m     81\u001b[0m             \u001b[0mtimeout\u001b[0m\u001b[1;33m=\u001b[0m\u001b[0mself\u001b[0m\u001b[1;33m.\u001b[0m\u001b[0m_config\u001b[0m\u001b[1;33m.\u001b[0m\u001b[0mconnection_acquisition_timeout\u001b[0m\u001b[1;33m,\u001b[0m\u001b[1;33m\u001b[0m\u001b[1;33m\u001b[0m\u001b[0m\n",
      "\u001b[1;32m~\\anaconda3\\lib\\site-packages\\neo4j\\io\\__init__.py\u001b[0m in \u001b[0;36macquire\u001b[1;34m(self, access_mode, timeout, database, bookmarks)\u001b[0m\n\u001b[0;32m   1184\u001b[0m             log.debug(\"[#0000]  C: <ROUTING TABLE ENSURE FRESH> %r\",\n\u001b[0;32m   1185\u001b[0m                       self.routing_tables)\n\u001b[1;32m-> 1186\u001b[1;33m             self.ensure_routing_table_is_fresh(\n\u001b[0m\u001b[0;32m   1187\u001b[0m                 \u001b[0maccess_mode\u001b[0m\u001b[1;33m=\u001b[0m\u001b[0maccess_mode\u001b[0m\u001b[1;33m,\u001b[0m \u001b[0mdatabase\u001b[0m\u001b[1;33m=\u001b[0m\u001b[0mdatabase\u001b[0m\u001b[1;33m,\u001b[0m \u001b[0mimp_user\u001b[0m\u001b[1;33m=\u001b[0m\u001b[1;32mNone\u001b[0m\u001b[1;33m,\u001b[0m\u001b[1;33m\u001b[0m\u001b[1;33m\u001b[0m\u001b[0m\n\u001b[0;32m   1188\u001b[0m                 \u001b[0mbookmarks\u001b[0m\u001b[1;33m=\u001b[0m\u001b[0mbookmarks\u001b[0m\u001b[1;33m\u001b[0m\u001b[1;33m\u001b[0m\u001b[0m\n",
      "\u001b[1;32m~\\anaconda3\\lib\\site-packages\\neo4j\\io\\__init__.py\u001b[0m in \u001b[0;36mensure_routing_table_is_fresh\u001b[1;34m(self, access_mode, database, imp_user, bookmarks, database_callback)\u001b[0m\n\u001b[0;32m   1130\u001b[0m                 \u001b[1;32mreturn\u001b[0m \u001b[1;32mFalse\u001b[0m\u001b[1;33m\u001b[0m\u001b[1;33m\u001b[0m\u001b[0m\n\u001b[0;32m   1131\u001b[0m \u001b[1;33m\u001b[0m\u001b[0m\n\u001b[1;32m-> 1132\u001b[1;33m             self.update_routing_table(\n\u001b[0m\u001b[0;32m   1133\u001b[0m                 \u001b[0mdatabase\u001b[0m\u001b[1;33m=\u001b[0m\u001b[0mdatabase\u001b[0m\u001b[1;33m,\u001b[0m \u001b[0mimp_user\u001b[0m\u001b[1;33m=\u001b[0m\u001b[0mimp_user\u001b[0m\u001b[1;33m,\u001b[0m \u001b[0mbookmarks\u001b[0m\u001b[1;33m=\u001b[0m\u001b[0mbookmarks\u001b[0m\u001b[1;33m,\u001b[0m\u001b[1;33m\u001b[0m\u001b[1;33m\u001b[0m\u001b[0m\n\u001b[0;32m   1134\u001b[0m                 \u001b[0mdatabase_callback\u001b[0m\u001b[1;33m=\u001b[0m\u001b[0mdatabase_callback\u001b[0m\u001b[1;33m\u001b[0m\u001b[1;33m\u001b[0m\u001b[0m\n",
      "\u001b[1;32m~\\anaconda3\\lib\\site-packages\\neo4j\\io\\__init__.py\u001b[0m in \u001b[0;36mupdate_routing_table\u001b[1;34m(self, database, imp_user, bookmarks, database_callback)\u001b[0m\n\u001b[0;32m   1076\u001b[0m             \u001b[1;32mif\u001b[0m \u001b[0mprefer_initial_routing_address\u001b[0m\u001b[1;33m:\u001b[0m\u001b[1;33m\u001b[0m\u001b[1;33m\u001b[0m\u001b[0m\n\u001b[0;32m   1077\u001b[0m                 \u001b[1;31m# TODO: Test this state\u001b[0m\u001b[1;33m\u001b[0m\u001b[1;33m\u001b[0m\u001b[0m\n\u001b[1;32m-> 1078\u001b[1;33m                 if self._update_routing_table_from(\n\u001b[0m\u001b[0;32m   1079\u001b[0m                         \u001b[0mself\u001b[0m\u001b[1;33m.\u001b[0m\u001b[0mfirst_initial_routing_address\u001b[0m\u001b[1;33m,\u001b[0m \u001b[0mdatabase\u001b[0m\u001b[1;33m=\u001b[0m\u001b[0mdatabase\u001b[0m\u001b[1;33m,\u001b[0m\u001b[1;33m\u001b[0m\u001b[1;33m\u001b[0m\u001b[0m\n\u001b[0;32m   1080\u001b[0m                         \u001b[0mimp_user\u001b[0m\u001b[1;33m=\u001b[0m\u001b[0mimp_user\u001b[0m\u001b[1;33m,\u001b[0m \u001b[0mbookmarks\u001b[0m\u001b[1;33m=\u001b[0m\u001b[0mbookmarks\u001b[0m\u001b[1;33m,\u001b[0m\u001b[1;33m\u001b[0m\u001b[1;33m\u001b[0m\u001b[0m\n",
      "\u001b[1;32m~\\anaconda3\\lib\\site-packages\\neo4j\\io\\__init__.py\u001b[0m in \u001b[0;36m_update_routing_table_from\u001b[1;34m(self, database, imp_user, bookmarks, database_callback, *routers)\u001b[0m\n\u001b[0;32m   1028\u001b[0m         \u001b[1;32mfor\u001b[0m \u001b[0mrouter\u001b[0m \u001b[1;32min\u001b[0m \u001b[0mrouters\u001b[0m\u001b[1;33m:\u001b[0m\u001b[1;33m\u001b[0m\u001b[1;33m\u001b[0m\u001b[0m\n\u001b[0;32m   1029\u001b[0m             \u001b[1;32mfor\u001b[0m \u001b[0maddress\u001b[0m \u001b[1;32min\u001b[0m \u001b[0mrouter\u001b[0m\u001b[1;33m.\u001b[0m\u001b[0mresolve\u001b[0m\u001b[1;33m(\u001b[0m\u001b[0mresolver\u001b[0m\u001b[1;33m=\u001b[0m\u001b[0mself\u001b[0m\u001b[1;33m.\u001b[0m\u001b[0mpool_config\u001b[0m\u001b[1;33m.\u001b[0m\u001b[0mresolver\u001b[0m\u001b[1;33m)\u001b[0m\u001b[1;33m:\u001b[0m\u001b[1;33m\u001b[0m\u001b[1;33m\u001b[0m\u001b[0m\n\u001b[1;32m-> 1030\u001b[1;33m                 new_routing_table = self.fetch_routing_table(\n\u001b[0m\u001b[0;32m   1031\u001b[0m                     \u001b[0maddress\u001b[0m\u001b[1;33m=\u001b[0m\u001b[0maddress\u001b[0m\u001b[1;33m,\u001b[0m\u001b[1;33m\u001b[0m\u001b[1;33m\u001b[0m\u001b[0m\n\u001b[0;32m   1032\u001b[0m                     \u001b[0mtimeout\u001b[0m\u001b[1;33m=\u001b[0m\u001b[0mself\u001b[0m\u001b[1;33m.\u001b[0m\u001b[0mpool_config\u001b[0m\u001b[1;33m.\u001b[0m\u001b[0mconnection_timeout\u001b[0m\u001b[1;33m,\u001b[0m\u001b[1;33m\u001b[0m\u001b[1;33m\u001b[0m\u001b[0m\n",
      "\u001b[1;32m~\\anaconda3\\lib\\site-packages\\neo4j\\io\\__init__.py\u001b[0m in \u001b[0;36mfetch_routing_table\u001b[1;34m(self, address, timeout, database, imp_user, bookmarks)\u001b[0m\n\u001b[0;32m    975\u001b[0m         \u001b[0mnew_routing_info\u001b[0m \u001b[1;33m=\u001b[0m \u001b[1;32mNone\u001b[0m\u001b[1;33m\u001b[0m\u001b[1;33m\u001b[0m\u001b[0m\n\u001b[0;32m    976\u001b[0m         \u001b[1;32mtry\u001b[0m\u001b[1;33m:\u001b[0m\u001b[1;33m\u001b[0m\u001b[1;33m\u001b[0m\u001b[0m\n\u001b[1;32m--> 977\u001b[1;33m             new_routing_info = self.fetch_routing_info(\n\u001b[0m\u001b[0;32m    978\u001b[0m                 \u001b[0maddress\u001b[0m\u001b[1;33m,\u001b[0m \u001b[0mdatabase\u001b[0m\u001b[1;33m,\u001b[0m \u001b[0mimp_user\u001b[0m\u001b[1;33m,\u001b[0m \u001b[0mbookmarks\u001b[0m\u001b[1;33m,\u001b[0m \u001b[0mtimeout\u001b[0m\u001b[1;33m\u001b[0m\u001b[1;33m\u001b[0m\u001b[0m\n\u001b[0;32m    979\u001b[0m             )\n",
      "\u001b[1;32m~\\anaconda3\\lib\\site-packages\\neo4j\\io\\__init__.py\u001b[0m in \u001b[0;36mfetch_routing_info\u001b[1;34m(self, address, database, imp_user, bookmarks, timeout)\u001b[0m\n\u001b[0;32m    946\u001b[0m             \u001b[0mrouting\u001b[0m\u001b[1;33m,\u001b[0m \u001b[1;32mor\u001b[0m \u001b[1;32mif\u001b[0m \u001b[0mrouting\u001b[0m \u001b[0msupport\u001b[0m \u001b[1;32mis\u001b[0m \u001b[0mbroken\u001b[0m \u001b[1;32mor\u001b[0m \u001b[0moutdated\u001b[0m\u001b[1;33m\u001b[0m\u001b[1;33m\u001b[0m\u001b[0m\n\u001b[0;32m    947\u001b[0m         \"\"\"\n\u001b[1;32m--> 948\u001b[1;33m         \u001b[0mcx\u001b[0m \u001b[1;33m=\u001b[0m \u001b[0mself\u001b[0m\u001b[1;33m.\u001b[0m\u001b[0m_acquire\u001b[0m\u001b[1;33m(\u001b[0m\u001b[0maddress\u001b[0m\u001b[1;33m,\u001b[0m \u001b[0mtimeout\u001b[0m\u001b[1;33m)\u001b[0m\u001b[1;33m\u001b[0m\u001b[1;33m\u001b[0m\u001b[0m\n\u001b[0m\u001b[0;32m    949\u001b[0m         \u001b[1;32mtry\u001b[0m\u001b[1;33m:\u001b[0m\u001b[1;33m\u001b[0m\u001b[1;33m\u001b[0m\u001b[0m\n\u001b[0;32m    950\u001b[0m             routing_table = cx.route(\n",
      "\u001b[1;32m~\\anaconda3\\lib\\site-packages\\neo4j\\io\\__init__.py\u001b[0m in \u001b[0;36m_acquire\u001b[1;34m(self, address, timeout)\u001b[0m\n\u001b[0;32m    694\u001b[0m                                   time_remaining())\n\u001b[0;32m    695\u001b[0m                     \u001b[1;32mtry\u001b[0m\u001b[1;33m:\u001b[0m\u001b[1;33m\u001b[0m\u001b[1;33m\u001b[0m\u001b[0m\n\u001b[1;32m--> 696\u001b[1;33m                         \u001b[0mconnection\u001b[0m \u001b[1;33m=\u001b[0m \u001b[0mself\u001b[0m\u001b[1;33m.\u001b[0m\u001b[0mopener\u001b[0m\u001b[1;33m(\u001b[0m\u001b[0maddress\u001b[0m\u001b[1;33m,\u001b[0m \u001b[0mtimeout\u001b[0m\u001b[1;33m)\u001b[0m\u001b[1;33m\u001b[0m\u001b[1;33m\u001b[0m\u001b[0m\n\u001b[0m\u001b[0;32m    697\u001b[0m                     \u001b[1;32mexcept\u001b[0m \u001b[0mServiceUnavailable\u001b[0m\u001b[1;33m:\u001b[0m\u001b[1;33m\u001b[0m\u001b[1;33m\u001b[0m\u001b[0m\n\u001b[0;32m    698\u001b[0m                         \u001b[0mself\u001b[0m\u001b[1;33m.\u001b[0m\u001b[0mremove\u001b[0m\u001b[1;33m(\u001b[0m\u001b[0maddress\u001b[0m\u001b[1;33m)\u001b[0m\u001b[1;33m\u001b[0m\u001b[1;33m\u001b[0m\u001b[0m\n",
      "\u001b[1;32m~\\anaconda3\\lib\\site-packages\\neo4j\\io\\__init__.py\u001b[0m in \u001b[0;36mopener\u001b[1;34m(addr, timeout)\u001b[0m\n\u001b[0;32m    867\u001b[0m \u001b[1;33m\u001b[0m\u001b[0m\n\u001b[0;32m    868\u001b[0m         \u001b[1;32mdef\u001b[0m \u001b[0mopener\u001b[0m\u001b[1;33m(\u001b[0m\u001b[0maddr\u001b[0m\u001b[1;33m,\u001b[0m \u001b[0mtimeout\u001b[0m\u001b[1;33m)\u001b[0m\u001b[1;33m:\u001b[0m\u001b[1;33m\u001b[0m\u001b[1;33m\u001b[0m\u001b[0m\n\u001b[1;32m--> 869\u001b[1;33m             return Bolt.open(addr, auth=auth, timeout=timeout,\n\u001b[0m\u001b[0;32m    870\u001b[0m                              routing_context=routing_context, **pool_config)\n\u001b[0;32m    871\u001b[0m \u001b[1;33m\u001b[0m\u001b[0m\n",
      "\u001b[1;32m~\\anaconda3\\lib\\site-packages\\neo4j\\io\\__init__.py\u001b[0m in \u001b[0;36mopen\u001b[1;34m(cls, address, auth, timeout, routing_context, **pool_config)\u001b[0m\n\u001b[0;32m    357\u001b[0m \u001b[1;33m\u001b[0m\u001b[0m\n\u001b[0;32m    358\u001b[0m         \u001b[1;32mtry\u001b[0m\u001b[1;33m:\u001b[0m\u001b[1;33m\u001b[0m\u001b[1;33m\u001b[0m\u001b[0m\n\u001b[1;32m--> 359\u001b[1;33m             \u001b[0mconnection\u001b[0m\u001b[1;33m.\u001b[0m\u001b[0mhello\u001b[0m\u001b[1;33m(\u001b[0m\u001b[1;33m)\u001b[0m\u001b[1;33m\u001b[0m\u001b[1;33m\u001b[0m\u001b[0m\n\u001b[0m\u001b[0;32m    360\u001b[0m         \u001b[1;32mexcept\u001b[0m \u001b[0mException\u001b[0m\u001b[1;33m:\u001b[0m\u001b[1;33m\u001b[0m\u001b[1;33m\u001b[0m\u001b[0m\n\u001b[0;32m    361\u001b[0m             \u001b[0mconnection\u001b[0m\u001b[1;33m.\u001b[0m\u001b[0mclose\u001b[0m\u001b[1;33m(\u001b[0m\u001b[1;33m)\u001b[0m\u001b[1;33m\u001b[0m\u001b[1;33m\u001b[0m\u001b[0m\n",
      "\u001b[1;32m~\\anaconda3\\lib\\site-packages\\neo4j\\io\\_bolt4.py\u001b[0m in \u001b[0;36mhello\u001b[1;34m(self)\u001b[0m\n\u001b[0;32m    441\u001b[0m                                            on_success=on_success))\n\u001b[0;32m    442\u001b[0m         \u001b[0mself\u001b[0m\u001b[1;33m.\u001b[0m\u001b[0msend_all\u001b[0m\u001b[1;33m(\u001b[0m\u001b[1;33m)\u001b[0m\u001b[1;33m\u001b[0m\u001b[1;33m\u001b[0m\u001b[0m\n\u001b[1;32m--> 443\u001b[1;33m         \u001b[0mself\u001b[0m\u001b[1;33m.\u001b[0m\u001b[0mfetch_all\u001b[0m\u001b[1;33m(\u001b[0m\u001b[1;33m)\u001b[0m\u001b[1;33m\u001b[0m\u001b[1;33m\u001b[0m\u001b[0m\n\u001b[0m\u001b[0;32m    444\u001b[0m         \u001b[0mcheck_supported_server_product\u001b[0m\u001b[1;33m(\u001b[0m\u001b[0mself\u001b[0m\u001b[1;33m.\u001b[0m\u001b[0mserver_info\u001b[0m\u001b[1;33m.\u001b[0m\u001b[0magent\u001b[0m\u001b[1;33m)\u001b[0m\u001b[1;33m\u001b[0m\u001b[1;33m\u001b[0m\u001b[0m\n\u001b[0;32m    445\u001b[0m \u001b[1;33m\u001b[0m\u001b[0m\n",
      "\u001b[1;32m~\\anaconda3\\lib\\site-packages\\neo4j\\io\\__init__.py\u001b[0m in \u001b[0;36mfetch_all\u001b[1;34m(self)\u001b[0m\n\u001b[0;32m    534\u001b[0m             \u001b[0mresponse\u001b[0m \u001b[1;33m=\u001b[0m \u001b[0mself\u001b[0m\u001b[1;33m.\u001b[0m\u001b[0mresponses\u001b[0m\u001b[1;33m[\u001b[0m\u001b[1;36m0\u001b[0m\u001b[1;33m]\u001b[0m\u001b[1;33m\u001b[0m\u001b[1;33m\u001b[0m\u001b[0m\n\u001b[0;32m    535\u001b[0m             \u001b[1;32mwhile\u001b[0m \u001b[1;32mnot\u001b[0m \u001b[0mresponse\u001b[0m\u001b[1;33m.\u001b[0m\u001b[0mcomplete\u001b[0m\u001b[1;33m:\u001b[0m\u001b[1;33m\u001b[0m\u001b[1;33m\u001b[0m\u001b[0m\n\u001b[1;32m--> 536\u001b[1;33m                 \u001b[0mdetail_delta\u001b[0m\u001b[1;33m,\u001b[0m \u001b[0msummary_delta\u001b[0m \u001b[1;33m=\u001b[0m \u001b[0mself\u001b[0m\u001b[1;33m.\u001b[0m\u001b[0mfetch_message\u001b[0m\u001b[1;33m(\u001b[0m\u001b[1;33m)\u001b[0m\u001b[1;33m\u001b[0m\u001b[1;33m\u001b[0m\u001b[0m\n\u001b[0m\u001b[0;32m    537\u001b[0m                 \u001b[0mdetail_count\u001b[0m \u001b[1;33m+=\u001b[0m \u001b[0mdetail_delta\u001b[0m\u001b[1;33m\u001b[0m\u001b[1;33m\u001b[0m\u001b[0m\n\u001b[0;32m    538\u001b[0m                 \u001b[0msummary_count\u001b[0m \u001b[1;33m+=\u001b[0m \u001b[0msummary_delta\u001b[0m\u001b[1;33m\u001b[0m\u001b[1;33m\u001b[0m\u001b[0m\n",
      "\u001b[1;32m~\\anaconda3\\lib\\site-packages\\neo4j\\io\\_bolt4.py\u001b[0m in \u001b[0;36mfetch_message\u001b[1;34m(self)\u001b[0m\n\u001b[0;32m    307\u001b[0m             \u001b[0mself\u001b[0m\u001b[1;33m.\u001b[0m\u001b[0m_server_state_manager\u001b[0m\u001b[1;33m.\u001b[0m\u001b[0mstate\u001b[0m \u001b[1;33m=\u001b[0m \u001b[0mServerStates\u001b[0m\u001b[1;33m.\u001b[0m\u001b[0mFAILED\u001b[0m\u001b[1;33m\u001b[0m\u001b[1;33m\u001b[0m\u001b[0m\n\u001b[0;32m    308\u001b[0m             \u001b[1;32mtry\u001b[0m\u001b[1;33m:\u001b[0m\u001b[1;33m\u001b[0m\u001b[1;33m\u001b[0m\u001b[0m\n\u001b[1;32m--> 309\u001b[1;33m                 \u001b[0mresponse\u001b[0m\u001b[1;33m.\u001b[0m\u001b[0mon_failure\u001b[0m\u001b[1;33m(\u001b[0m\u001b[0msummary_metadata\u001b[0m \u001b[1;32mor\u001b[0m \u001b[1;33m{\u001b[0m\u001b[1;33m}\u001b[0m\u001b[1;33m)\u001b[0m\u001b[1;33m\u001b[0m\u001b[1;33m\u001b[0m\u001b[0m\n\u001b[0m\u001b[0;32m    310\u001b[0m             \u001b[1;32mexcept\u001b[0m \u001b[1;33m(\u001b[0m\u001b[0mServiceUnavailable\u001b[0m\u001b[1;33m,\u001b[0m \u001b[0mDatabaseUnavailable\u001b[0m\u001b[1;33m)\u001b[0m\u001b[1;33m:\u001b[0m\u001b[1;33m\u001b[0m\u001b[1;33m\u001b[0m\u001b[0m\n\u001b[0;32m    311\u001b[0m                 \u001b[1;32mif\u001b[0m \u001b[0mself\u001b[0m\u001b[1;33m.\u001b[0m\u001b[0mpool\u001b[0m\u001b[1;33m:\u001b[0m\u001b[1;33m\u001b[0m\u001b[1;33m\u001b[0m\u001b[0m\n",
      "\u001b[1;32m~\\anaconda3\\lib\\site-packages\\neo4j\\io\\_common.py\u001b[0m in \u001b[0;36mon_failure\u001b[1;34m(self, metadata)\u001b[0m\n\u001b[0;32m    260\u001b[0m         \u001b[0mcode\u001b[0m \u001b[1;33m=\u001b[0m \u001b[0mmetadata\u001b[0m\u001b[1;33m.\u001b[0m\u001b[0mget\u001b[0m\u001b[1;33m(\u001b[0m\u001b[1;34m\"code\"\u001b[0m\u001b[1;33m)\u001b[0m\u001b[1;33m\u001b[0m\u001b[1;33m\u001b[0m\u001b[0m\n\u001b[0;32m    261\u001b[0m         \u001b[1;32mif\u001b[0m \u001b[0mcode\u001b[0m \u001b[1;33m==\u001b[0m \u001b[1;34m\"Neo.ClientError.Security.Unauthorized\"\u001b[0m\u001b[1;33m:\u001b[0m\u001b[1;33m\u001b[0m\u001b[1;33m\u001b[0m\u001b[0m\n\u001b[1;32m--> 262\u001b[1;33m             \u001b[1;32mraise\u001b[0m \u001b[0mNeo4jError\u001b[0m\u001b[1;33m.\u001b[0m\u001b[0mhydrate\u001b[0m\u001b[1;33m(\u001b[0m\u001b[1;33m**\u001b[0m\u001b[0mmetadata\u001b[0m\u001b[1;33m)\u001b[0m\u001b[1;33m\u001b[0m\u001b[1;33m\u001b[0m\u001b[0m\n\u001b[0m\u001b[0;32m    263\u001b[0m         \u001b[1;32melse\u001b[0m\u001b[1;33m:\u001b[0m\u001b[1;33m\u001b[0m\u001b[1;33m\u001b[0m\u001b[0m\n\u001b[0;32m    264\u001b[0m             raise ServiceUnavailable(\n",
      "\u001b[1;31mAuthError\u001b[0m: {code: Neo.ClientError.Security.Unauthorized} {message: The client is unauthorized due to authentication failure.}"
     ]
    }
   ],
   "source": [
    "vis_class.drawGraph(session, {'Person':'name', 'Movie':'name'}, cluster_each)"
   ]
  },
  {
   "cell_type": "markdown",
   "id": "e24f7f0e",
   "metadata": {},
   "source": [
    "Here we get the number of characters in each movie and cluster them if they have more then 20 characters"
   ]
  },
  {
   "cell_type": "code",
   "execution_count": null,
   "id": "e06ed8e6",
   "metadata": {
    "scrolled": true
   },
   "outputs": [],
   "source": [
    "cluster_by_count = \"\"\"MATCH pattern=((m:Movie)-[a:APPEARS_IN]-(p:Person)) \n",
    "                    with count(pattern) as connections, m\n",
    "                    Where connections > 20\n",
    "                    Return m.name AS Movie, connections As Characters\"\"\"\n",
    "df = pd.DataFrame (session.read_transaction(\n",
    "                            lambda tx: tx.run(cluster_by_count).data()), columns = ['Movie','Characters'])\n",
    "\n",
    "df.head()"
   ]
  },
  {
   "cell_type": "markdown",
   "id": "a8dcab16",
   "metadata": {},
   "source": [
    "We group the data in three diffrent groups depending on the count of characters"
   ]
  },
  {
   "cell_type": "code",
   "execution_count": null,
   "id": "3c5f8768",
   "metadata": {
    "scrolled": false
   },
   "outputs": [],
   "source": [
    "#With cases \n",
    "cluster_by_count_categories = \"\"\"MATCH pattern=((m:Movie)-[a:APPEARS_IN]-(p:Person)) \n",
    "                                with count(pattern=((m:Movie)-[a:APPEARS_IN]-(p:Person))) as connections, m\n",
    "                                Return \n",
    "                                CASE\n",
    "                                  WHEN connections <= 20 THEN \"Group 1: \" + m.name\n",
    "                                  WHEN connections <= 30      THEN \"Groupe 2: \" + m.name\n",
    "                                  ELSE \"Group 3: \" + m.name\n",
    "                                END AS Clusters\n",
    "                                Order by connections\"\"\"\n",
    "df = pd.DataFrame (session.read_transaction(\n",
    "                            lambda tx: tx.run(cluster_by_count_categories).data()), columns = ['Clusters'])\n",
    "\n",
    "df.head()"
   ]
  },
  {
   "cell_type": "markdown",
   "id": "a3969409",
   "metadata": {},
   "source": [
    "We cluster characters which are in in two diffrent movies"
   ]
  },
  {
   "cell_type": "code",
   "execution_count": null,
   "id": "98b736fb",
   "metadata": {},
   "outputs": [],
   "source": [
    "cluster_by_characters_interact_in_diffrent_movies = \"\"\"MATCH (p1:Person)-[a1:APPEARS_IN]-(m1:Movie)-[a2:APPEARS_IN]-(p2:Person)-[a3:APPEARS_IN]-(m2:Movie)\n",
    "                                WHERE m1.name <> m2.name\n",
    "                                RETURN p2.name as Characters, p1.name as CharacterConnected, m1.name as ViaMovie\"\"\"\n",
    "df = pd.DataFrame (session.read_transaction(\n",
    "                            lambda tx: tx.run(cluster_by_characters_interact_in_diffrent_movies).data()), columns = ['Characters', 'CharacterConnected', 'ViaMovie'])\n",
    "\n",
    "df.head()"
   ]
  },
  {
   "cell_type": "code",
   "execution_count": null,
   "id": "515a055d",
   "metadata": {},
   "outputs": [],
   "source": [
    "cluster_by_characters_interact_in_diffrent_movies = \"\"\"MATCH (p1:Person)-[a1:APPEARS_IN]-(m1:Movie)-[a2:APPEARS_IN]-(p2:Person)-[a3:APPEARS_IN]-(m2:Movie)\n",
    "                                WHERE m1.name <> m2.name\n",
    "                                RETURN p1 AS source_node, \n",
    "                                id(p1) AS source_id,\n",
    "                                a1,\n",
    "                                p2 AS target_node,\n",
    "                                id(p2) As target_id \n",
    "                                LIMIT 20\"\"\""
   ]
  },
  {
   "cell_type": "code",
   "execution_count": null,
   "id": "bf2a11cb",
   "metadata": {
    "scrolled": true
   },
   "outputs": [],
   "source": [
    "vis_class.drawGraph(session, {'Person':'name', 'Person':'name'}, cluster_each)"
   ]
  },
  {
   "cell_type": "markdown",
   "id": "d95a891b",
   "metadata": {},
   "source": [
    "![title](img/ConnectedWithOthers.png)"
   ]
  },
  {
   "cell_type": "markdown",
   "id": "19cb71f3",
   "metadata": {},
   "source": [
    "## Close the connection"
   ]
  },
  {
   "cell_type": "code",
   "execution_count": null,
   "id": "b3ca6010",
   "metadata": {},
   "outputs": [],
   "source": [
    "#Close all connections\n",
    "driver.close()\n",
    "session.close()\n",
    "drive = None\n",
    "session = None"
   ]
  }
 ],
 "metadata": {
  "kernelspec": {
   "display_name": "Python 3 (ipykernel)",
   "language": "python",
   "name": "python3"
  },
  "language_info": {
   "codemirror_mode": {
    "name": "ipython",
    "version": 3
   },
   "file_extension": ".py",
   "mimetype": "text/x-python",
   "name": "python",
   "nbconvert_exporter": "python",
   "pygments_lexer": "ipython3",
   "version": "3.9.7"
  }
 },
 "nbformat": 4,
 "nbformat_minor": 5
}
