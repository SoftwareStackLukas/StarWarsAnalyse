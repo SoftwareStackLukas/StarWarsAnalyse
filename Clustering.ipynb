{
 "cells": [
  {
   "cell_type": "markdown",
   "id": "3d6c0be4",
   "metadata": {},
   "source": [
    "# Clustering of diffrent nodes \n",
    "\n",
    "Some text"
   ]
  },
  {
   "cell_type": "code",
   "execution_count": 33,
   "id": "69a653ef",
   "metadata": {},
   "outputs": [],
   "source": [
    "#Imports\n",
    "from neo4j import GraphDatabase, basic_auth\n",
    "from py2neo import Graph\n",
    "import neo4jupyter\n",
    "import pandas as pd\n",
    "import sys  \n",
    "sys.path.insert(0, '')\n",
    "import vis_class"
   ]
  },
  {
   "cell_type": "code",
   "execution_count": 34,
   "id": "2a0dcf23",
   "metadata": {},
   "outputs": [],
   "source": [
    "#Create db connector\n",
    "login = open(\"Login.txt\", \"r\")\n",
    "uri = login.readline()\n",
    "user = login.readline()\n",
    "password = \"RgC0_tAy1f8T_-_d1FnszgwXo1VafPO7h5gme7fJHlI\"\n",
    "login.close()\n",
    "\n",
    "driver = GraphDatabase.driver(uri, auth=basic_auth(user, password))\n",
    "session = driver.session(database=\"neo4j\")\n",
    "visualizer = vis_class"
   ]
  },
  {
   "cell_type": "markdown",
   "id": "2b840319",
   "metadata": {},
   "source": [
    "## Starting clustering"
   ]
  },
  {
   "cell_type": "markdown",
   "id": "f6463b39",
   "metadata": {},
   "source": [
    "text"
   ]
  },
  {
   "cell_type": "code",
   "execution_count": 23,
   "id": "1d7d3be6",
   "metadata": {
    "scrolled": true
   },
   "outputs": [
    {
     "data": {
      "text/html": [
       "<div>\n",
       "<style scoped>\n",
       "    .dataframe tbody tr th:only-of-type {\n",
       "        vertical-align: middle;\n",
       "    }\n",
       "\n",
       "    .dataframe tbody tr th {\n",
       "        vertical-align: top;\n",
       "    }\n",
       "\n",
       "    .dataframe thead th {\n",
       "        text-align: right;\n",
       "    }\n",
       "</style>\n",
       "<table border=\"1\" class=\"dataframe\">\n",
       "  <thead>\n",
       "    <tr style=\"text-align: right;\">\n",
       "      <th></th>\n",
       "      <th>Name character</th>\n",
       "      <th>Movie</th>\n",
       "    </tr>\n",
       "  </thead>\n",
       "  <tbody>\n",
       "    <tr>\n",
       "      <th>0</th>\n",
       "      <td>JAR JAR</td>\n",
       "      <td>Episode I: The Phantom Menace</td>\n",
       "    </tr>\n",
       "    <tr>\n",
       "      <th>1</th>\n",
       "      <td>BRAVO THREE</td>\n",
       "      <td>Episode I: The Phantom Menace</td>\n",
       "    </tr>\n",
       "    <tr>\n",
       "      <th>2</th>\n",
       "      <td>FODE/BEED</td>\n",
       "      <td>Episode I: The Phantom Menace</td>\n",
       "    </tr>\n",
       "    <tr>\n",
       "      <th>3</th>\n",
       "      <td>GREEDO</td>\n",
       "      <td>Episode I: The Phantom Menace</td>\n",
       "    </tr>\n",
       "    <tr>\n",
       "      <th>4</th>\n",
       "      <td>OBI-WAN</td>\n",
       "      <td>Episode I: The Phantom Menace</td>\n",
       "    </tr>\n",
       "  </tbody>\n",
       "</table>\n",
       "</div>"
      ],
      "text/plain": [
       "  Name character                          Movie\n",
       "0        JAR JAR  Episode I: The Phantom Menace\n",
       "1    BRAVO THREE  Episode I: The Phantom Menace\n",
       "2      FODE/BEED  Episode I: The Phantom Menace\n",
       "3         GREEDO  Episode I: The Phantom Menace\n",
       "4        OBI-WAN  Episode I: The Phantom Menace"
      ]
     },
     "execution_count": 23,
     "metadata": {},
     "output_type": "execute_result"
    }
   ],
   "source": [
    "cluster_each = \"\"\"MATCH (p:Person)-[:APPEARS_IN]->(m:Movie) \n",
    "                Return DISTINCT p.name AS `Name character`, m.name As Movie\"\"\"\n",
    "df = pd.DataFrame (session.read_transaction(\n",
    "                    lambda tx: tx.run(cluster_each).data()), columns = ['Name character','Movie'])\n",
    "df.head()"
   ]
  },
  {
   "cell_type": "code",
   "execution_count": 30,
   "id": "4bc18e98",
   "metadata": {},
   "outputs": [],
   "source": [
    "cluster_each = \"\"\"MATCH (p:Person)-[a:APPEARS_IN]->(m:Movie) \n",
    "                Return DISTINCT p AS source_node, \n",
    "                                id(p) AS source_id,\n",
    "                                a,\n",
    "                                m AS target_node,\n",
    "                                id(m) As target_id \n",
    "                LIMIT 20\"\"\""
   ]
  },
  {
   "cell_type": "code",
   "execution_count": 36,
   "id": "be4dcdb3",
   "metadata": {},
   "outputs": [
    {
     "ename": "AttributeError",
     "evalue": "module 'vis_class' has no attribute 'drawGraph'",
     "output_type": "error",
     "traceback": [
      "\u001b[1;31m---------------------------------------------------------------------------\u001b[0m",
      "\u001b[1;31mAttributeError\u001b[0m                            Traceback (most recent call last)",
      "\u001b[1;32m~\\AppData\\Local\\Temp/ipykernel_1940/4146000325.py\u001b[0m in \u001b[0;36m<module>\u001b[1;34m\u001b[0m\n\u001b[1;32m----> 1\u001b[1;33m \u001b[0mvis_class\u001b[0m\u001b[1;33m.\u001b[0m\u001b[0mdrawGraph\u001b[0m\u001b[1;33m(\u001b[0m\u001b[0msession\u001b[0m\u001b[1;33m,\u001b[0m \u001b[1;33m{\u001b[0m\u001b[1;34m'Person'\u001b[0m\u001b[1;33m:\u001b[0m\u001b[1;34m'name'\u001b[0m\u001b[1;33m,\u001b[0m \u001b[1;34m'Movie'\u001b[0m\u001b[1;33m:\u001b[0m\u001b[1;34m'name'\u001b[0m\u001b[1;33m}\u001b[0m\u001b[1;33m,\u001b[0m \u001b[0mcluster_each\u001b[0m\u001b[1;33m)\u001b[0m\u001b[1;33m\u001b[0m\u001b[1;33m\u001b[0m\u001b[0m\n\u001b[0m",
      "\u001b[1;31mAttributeError\u001b[0m: module 'vis_class' has no attribute 'drawGraph'"
     ]
    }
   ],
   "source": [
    "vis_class.drawGraph(session, {'Person':'name', 'Movie':'name'}, cluster_each)"
   ]
  },
  {
   "cell_type": "code",
   "execution_count": 9,
   "id": "e06ed8e6",
   "metadata": {
    "scrolled": true
   },
   "outputs": [
    {
     "data": {
      "text/html": [
       "<div>\n",
       "<style scoped>\n",
       "    .dataframe tbody tr th:only-of-type {\n",
       "        vertical-align: middle;\n",
       "    }\n",
       "\n",
       "    .dataframe tbody tr th {\n",
       "        vertical-align: top;\n",
       "    }\n",
       "\n",
       "    .dataframe thead th {\n",
       "        text-align: right;\n",
       "    }\n",
       "</style>\n",
       "<table border=\"1\" class=\"dataframe\">\n",
       "  <thead>\n",
       "    <tr style=\"text-align: right;\">\n",
       "      <th></th>\n",
       "      <th>Movie</th>\n",
       "      <th>Characters</th>\n",
       "    </tr>\n",
       "  </thead>\n",
       "  <tbody>\n",
       "    <tr>\n",
       "      <th>0</th>\n",
       "      <td>Episode I: The Phantom Menace</td>\n",
       "      <td>36</td>\n",
       "    </tr>\n",
       "    <tr>\n",
       "      <th>1</th>\n",
       "      <td>Episode II: Attack of the Clones</td>\n",
       "      <td>31</td>\n",
       "    </tr>\n",
       "    <tr>\n",
       "      <th>2</th>\n",
       "      <td>Episode III: Revenge of the Sith</td>\n",
       "      <td>23</td>\n",
       "    </tr>\n",
       "    <tr>\n",
       "      <th>3</th>\n",
       "      <td>Episode VII: The Force Awakens</td>\n",
       "      <td>24</td>\n",
       "    </tr>\n",
       "  </tbody>\n",
       "</table>\n",
       "</div>"
      ],
      "text/plain": [
       "                              Movie  Characters\n",
       "0     Episode I: The Phantom Menace          36\n",
       "1  Episode II: Attack of the Clones          31\n",
       "2  Episode III: Revenge of the Sith          23\n",
       "3    Episode VII: The Force Awakens          24"
      ]
     },
     "execution_count": 9,
     "metadata": {},
     "output_type": "execute_result"
    }
   ],
   "source": [
    "cluster_by_count = \"\"\"MATCH pattern=((m:Movie)-[a:APPEARS_IN]-(p:Person)) \n",
    "                    with count(pattern) as connections, m\n",
    "                    Where connections > 20\n",
    "                    Return m.name AS Movie, connections As Characters\"\"\"\n",
    "df = pd.DataFrame (session.read_transaction(\n",
    "                            lambda tx: tx.run(cluster_by_count).data()), columns = ['Movie','Characters'])\n",
    "\n",
    "df.head()"
   ]
  },
  {
   "cell_type": "code",
   "execution_count": null,
   "id": "3c5f8768",
   "metadata": {
    "scrolled": false
   },
   "outputs": [],
   "source": [
    "#With cases \n",
    "cluster_by_count_categories = \"\"\"MATCH pattern=((m:Movie)-[a:APPEARS_IN]-(p:Person)) \n",
    "                                with count(pattern=((m:Movie)-[a:APPEARS_IN]-(p:Person))) as connections, m\n",
    "                                Return \n",
    "                                CASE\n",
    "                                  WHEN connections <= 20 THEN \"Group 1: \" + m.name\n",
    "                                  WHEN connections <= 30      THEN \"Groupe 2: \" + m.name\n",
    "                                  ELSE \"Group 3: \" + m.name\n",
    "                                END AS Clusters\n",
    "                                Order by connections\"\"\"\n",
    "df = pd.DataFrame (session.read_transaction(\n",
    "                            lambda tx: tx.run(cluster_by_count_categories).data()), columns = ['Clusters'])\n",
    "\n",
    "df.head()"
   ]
  },
  {
   "cell_type": "markdown",
   "id": "a3969409",
   "metadata": {},
   "source": [
    "text"
   ]
  },
  {
   "cell_type": "code",
   "execution_count": null,
   "id": "98b736fb",
   "metadata": {},
   "outputs": [],
   "source": [
    "cluster_by_characters_interact_in_diffrent_movies = \"\"\"MATCH (p1:Person)-[a1:APPEARS_IN]-(m1:Movie)-[a2:APPEARS_IN]-(p2:Person)-[a3:APPEARS_IN]-(m2:Movie)\n",
    "                                WHERE m1.name <> m2.name\n",
    "                                RETURN p2.name as Characters, p1.name as CharacterConnected, m1.name as ViaMovie\"\"\"\n",
    "df = pd.DataFrame (session.read_transaction(\n",
    "                            lambda tx: tx.run(cluster_by_characters_interact_in_diffrent_movies).data()), columns = ['Characters', 'CharacterConnected', 'ViaMovie'])\n",
    "\n",
    "df.head()"
   ]
  },
  {
   "cell_type": "code",
   "execution_count": 11,
   "id": "515a055d",
   "metadata": {},
   "outputs": [],
   "source": [
    "cluster_by_characters_interact_in_diffrent_movies = \"\"\"MATCH (p1:Person)-[a1:APPEARS_IN]-(m1:Movie)-[a2:APPEARS_IN]-(p2:Person)-[a3:APPEARS_IN]-(m2:Movie)\n",
    "                                WHERE m1.name <> m2.name\n",
    "                                RETURN p1 AS source_node, \n",
    "                                id(p1) AS source_id,\n",
    "                                a1,\n",
    "                                p2 AS target_node,\n",
    "                                id(p2) As target_id \n",
    "                                LIMIT 20\"\"\""
   ]
  },
  {
   "cell_type": "code",
   "execution_count": 12,
   "id": "bf2a11cb",
   "metadata": {
    "scrolled": true
   },
   "outputs": [
    {
     "ename": "AttributeError",
     "evalue": "module 'vis_class' has no attribute 'drawGraph'",
     "output_type": "error",
     "traceback": [
      "\u001b[1;31m---------------------------------------------------------------------------\u001b[0m",
      "\u001b[1;31mAttributeError\u001b[0m                            Traceback (most recent call last)",
      "\u001b[1;32m~\\AppData\\Local\\Temp/ipykernel_1940/830584158.py\u001b[0m in \u001b[0;36m<module>\u001b[1;34m\u001b[0m\n\u001b[1;32m----> 1\u001b[1;33m \u001b[0mvis_class\u001b[0m\u001b[1;33m.\u001b[0m\u001b[0mdrawGraph\u001b[0m\u001b[1;33m(\u001b[0m\u001b[0msession\u001b[0m\u001b[1;33m,\u001b[0m \u001b[1;33m{\u001b[0m\u001b[1;34m'Person'\u001b[0m\u001b[1;33m:\u001b[0m\u001b[1;34m'name'\u001b[0m\u001b[1;33m,\u001b[0m \u001b[1;34m'target_node'\u001b[0m\u001b[1;33m:\u001b[0m\u001b[1;34m'connected'\u001b[0m\u001b[1;33m}\u001b[0m\u001b[1;33m,\u001b[0m \u001b[0mcluster_each\u001b[0m\u001b[1;33m)\u001b[0m\u001b[1;33m\u001b[0m\u001b[1;33m\u001b[0m\u001b[0m\n\u001b[0m",
      "\u001b[1;31mAttributeError\u001b[0m: module 'vis_class' has no attribute 'drawGraph'"
     ]
    }
   ],
   "source": [
    "vis_class.drawGraph(session, {'Person':'name', 'target_node':'connected'}, cluster_each)"
   ]
  },
  {
   "cell_type": "markdown",
   "id": "d95a891b",
   "metadata": {},
   "source": [
    "![title](img/ConnectedWithOthers.png)"
   ]
  },
  {
   "cell_type": "markdown",
   "id": "19cb71f3",
   "metadata": {},
   "source": [
    "## Close the connection"
   ]
  },
  {
   "cell_type": "code",
   "execution_count": null,
   "id": "b3ca6010",
   "metadata": {},
   "outputs": [],
   "source": [
    "#Close all connections\n",
    "driver.close()\n",
    "session.close()\n",
    "drive = None\n",
    "session = None"
   ]
  }
 ],
 "metadata": {
  "kernelspec": {
   "display_name": "Python 3 (ipykernel)",
   "language": "python",
   "name": "python3"
  },
  "language_info": {
   "codemirror_mode": {
    "name": "ipython",
    "version": 3
   },
   "file_extension": ".py",
   "mimetype": "text/x-python",
   "name": "python",
   "nbconvert_exporter": "python",
   "pygments_lexer": "ipython3",
   "version": "3.9.7"
  }
 },
 "nbformat": 4,
 "nbformat_minor": 5
}
