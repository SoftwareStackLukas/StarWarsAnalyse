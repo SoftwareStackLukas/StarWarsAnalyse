{
 "cells": [
  {
   "cell_type": "markdown",
   "id": "3d6c0be4",
   "metadata": {},
   "source": [
    "# Clustering of diffrent nodes \n",
    "\n",
    "Some text"
   ]
  },
  {
   "cell_type": "code",
   "execution_count": 1,
   "id": "69a653ef",
   "metadata": {},
   "outputs": [],
   "source": [
    "#Imports\n",
    "from neo4j import GraphDatabase, basic_auth\n",
    "from py2neo import Graph\n",
    "import neo4jupyter\n",
    "import pandas as pd\n",
    "import sys  \n",
    "sys.path.insert(0, '')\n",
    "from vis_class import vis_class"
   ]
  },
  {
   "cell_type": "code",
   "execution_count": 2,
   "id": "2a0dcf23",
   "metadata": {},
   "outputs": [
    {
     "data": {
      "application/javascript": [
       "var link = document.createElement(\"link\");\n",
       "\tlink.ref = \"stylesheet\";\n",
       "\tlink.type = \"text/css\";\n",
       "\tlink.href = \"https://cdnjs.cloudflare.com/ajax/libs/vis/4.8.2/vis.css\";\n",
       "\tdocument.head.appendChild(link);\n",
       "require.config({     paths: {         vis: '//cdnjs.cloudflare.com/ajax/libs/vis/4.8.2/vis.min'     } }); require(['vis'], function(vis) {  window.vis = vis; }); "
      ],
      "text/plain": [
       "<IPython.core.display.Javascript object>"
      ]
     },
     "metadata": {},
     "output_type": "display_data"
    },
    {
     "name": "stdout",
     "output_type": "stream",
     "text": [
      "Vis class was created\n"
     ]
    }
   ],
   "source": [
    "#Create db connector\n",
    "login = open(\"Login.txt\", \"r\")\n",
    "uri = login.readline()\n",
    "user = login.readline()\n",
    "password = \"RgC0_tAy1f8T_-_d1FnszgwXo1VafPO7h5gme7fJHlI\"\n",
    "login.close()\n",
    "\n",
    "driver = GraphDatabase.driver(uri, auth=basic_auth(user, password))\n",
    "session = driver.session(database=\"neo4j\")\n",
    "visualizer = vis_class()"
   ]
  },
  {
   "cell_type": "markdown",
   "id": "2b840319",
   "metadata": {},
   "source": [
    "## Starting clustering"
   ]
  },
  {
   "cell_type": "markdown",
   "id": "f6463b39",
   "metadata": {},
   "source": [
    "text"
   ]
  },
  {
   "cell_type": "code",
   "execution_count": 3,
   "id": "1d7d3be6",
   "metadata": {
    "scrolled": true
   },
   "outputs": [
    {
     "data": {
      "text/html": [
       "<div>\n",
       "<style scoped>\n",
       "    .dataframe tbody tr th:only-of-type {\n",
       "        vertical-align: middle;\n",
       "    }\n",
       "\n",
       "    .dataframe tbody tr th {\n",
       "        vertical-align: top;\n",
       "    }\n",
       "\n",
       "    .dataframe thead th {\n",
       "        text-align: right;\n",
       "    }\n",
       "</style>\n",
       "<table border=\"1\" class=\"dataframe\">\n",
       "  <thead>\n",
       "    <tr style=\"text-align: right;\">\n",
       "      <th></th>\n",
       "      <th>Name character</th>\n",
       "      <th>Movie</th>\n",
       "    </tr>\n",
       "  </thead>\n",
       "  <tbody>\n",
       "    <tr>\n",
       "      <th>0</th>\n",
       "      <td>SIO BIBBLE</td>\n",
       "      <td>Episode I: The Phantom Menace</td>\n",
       "    </tr>\n",
       "    <tr>\n",
       "      <th>1</th>\n",
       "      <td>WATTO</td>\n",
       "      <td>Episode I: The Phantom Menace</td>\n",
       "    </tr>\n",
       "    <tr>\n",
       "      <th>2</th>\n",
       "      <td>DARTH MAUL</td>\n",
       "      <td>Episode I: The Phantom Menace</td>\n",
       "    </tr>\n",
       "    <tr>\n",
       "      <th>3</th>\n",
       "      <td>QUI-GON</td>\n",
       "      <td>Episode I: The Phantom Menace</td>\n",
       "    </tr>\n",
       "    <tr>\n",
       "      <th>4</th>\n",
       "      <td>PADME</td>\n",
       "      <td>Episode I: The Phantom Menace</td>\n",
       "    </tr>\n",
       "  </tbody>\n",
       "</table>\n",
       "</div>"
      ],
      "text/plain": [
       "  Name character                          Movie\n",
       "0     SIO BIBBLE  Episode I: The Phantom Menace\n",
       "1          WATTO  Episode I: The Phantom Menace\n",
       "2     DARTH MAUL  Episode I: The Phantom Menace\n",
       "3        QUI-GON  Episode I: The Phantom Menace\n",
       "4          PADME  Episode I: The Phantom Menace"
      ]
     },
     "execution_count": 3,
     "metadata": {},
     "output_type": "execute_result"
    }
   ],
   "source": [
    "cluster_each = \"\"\"MATCH (p:Person)-[:APPEARS_IN]->(m:Movie) \n",
    "                Return DISTINCT p.name AS `Name character`, m.name As Movie\"\"\"\n",
    "df = pd.DataFrame (session.read_transaction(\n",
    "                    lambda tx: tx.run(cluster_each).data()), columns = ['Name character','Movie'])\n",
    "df.head()"
   ]
  },
  {
   "cell_type": "code",
   "execution_count": 4,
   "id": "4bc18e98",
   "metadata": {},
   "outputs": [],
   "source": [
    "cluster_each = \"\"\"MATCH (p:Person)-[a:APPEARS_IN]->(m:Movie) \n",
    "                Return DISTINCT p AS source_node, \n",
    "                                id(p) AS source_id,\n",
    "                                a,\n",
    "                                m AS target_node,\n",
    "                                id(m) As target_id \n",
    "                LIMIT 20\"\"\""
   ]
  },
  {
   "cell_type": "code",
   "execution_count": 5,
   "id": "be4dcdb3",
   "metadata": {
    "scrolled": true
   },
   "outputs": [
    {
     "data": {
      "text/html": [
       "<div id=\"8dcb7b93-5bd5-4cec-8c57-b21ff6f7058c\" style=\"height: 400px;\"></div>\n",
       "\n",
       "<script type=\"text/javascript\">\n",
       "\n",
       "    var nodes = [{\"id\": 20, \"label\": \"SIO BIBBLE\", \"group\": \"Person\", \"title\": \"<Node id=20 labels=frozenset({'Person'}) properties={'name': 'SIO BIBBLE'}>\"}, {\"id\": 0, \"label\": \"Episode I: The Phantom Menace\", \"group\": \"Movie\", \"title\": \"<Node id=0 labels=frozenset({'Movie'}) properties={'name': 'Episode I: The Phantom Menace'}>\"}, {\"id\": 26, \"label\": \"WATTO\", \"group\": \"Person\", \"title\": \"<Node id=26 labels=frozenset({'Person'}) properties={'name': 'WATTO'}>\"}, {\"id\": 32, \"label\": \"DARTH MAUL\", \"group\": \"Person\", \"title\": \"<Node id=32 labels=frozenset({'Person'}) properties={'name': 'DARTH MAUL'}>\"}, {\"id\": 10, \"label\": \"QUI-GON\", \"group\": \"Person\", \"title\": \"<Node id=10 labels=frozenset({'Person'}) properties={'name': 'QUI-GON'}>\"}, {\"id\": 24, \"label\": \"PADME\", \"group\": \"Person\", \"title\": \"<Node id=24 labels=frozenset({'Person'}) properties={'name': 'PADME'}>\"}, {\"id\": 28, \"label\": \"SEBULBA\", \"group\": \"Person\", \"title\": \"<Node id=28 labels=frozenset({'Person'}) properties={'name': 'SEBULBA'}>\"}, {\"id\": 41, \"label\": \"YODA\", \"group\": \"Person\", \"title\": \"<Node id=41 labels=frozenset({'Person'}) properties={'name': 'YODA'}>\"}, {\"id\": 30, \"label\": \"SHMI\", \"group\": \"Person\", \"title\": \"<Node id=30 labels=frozenset({'Person'}) properties={'name': 'SHMI'}>\"}, {\"id\": 35, \"label\": \"FODE/BEED\", \"group\": \"Person\", \"title\": \"<Node id=35 labels=frozenset({'Person'}) properties={'name': 'FODE/BEED'}>\"}, {\"id\": 38, \"label\": \"VALORUM\", \"group\": \"Person\", \"title\": \"<Node id=38 labels=frozenset({'Person'}) properties={'name': 'VALORUM'}>\"}, {\"id\": 46, \"label\": \"BRAVO THREE\", \"group\": \"Person\", \"title\": \"<Node id=46 labels=frozenset({'Person'}) properties={'name': 'BRAVO THREE'}>\"}, {\"id\": 39, \"label\": \"MACE WINDU\", \"group\": \"Person\", \"title\": \"<Node id=39 labels=frozenset({'Person'}) properties={'name': 'MACE WINDU'}>\"}, {\"id\": 43, \"label\": \"BAIL ORGANA\", \"group\": \"Person\", \"title\": \"<Node id=43 labels=frozenset({'Person'}) properties={'name': 'BAIL ORGANA'}>\"}, {\"id\": 15, \"label\": \"DOFINE\", \"group\": \"Person\", \"title\": \"<Node id=15 labels=frozenset({'Person'}) properties={'name': 'DOFINE'}>\"}, {\"id\": 18, \"label\": \"EMPEROR\", \"group\": \"Person\", \"title\": \"<Node id=18 labels=frozenset({'Person'}) properties={'name': 'EMPEROR'}>\"}, {\"id\": 33, \"label\": \"KITSTER\", \"group\": \"Person\", \"title\": \"<Node id=33 labels=frozenset({'Person'}) properties={'name': 'KITSTER'}>\"}, {\"id\": 29, \"label\": \"JIRA\", \"group\": \"Person\", \"title\": \"<Node id=29 labels=frozenset({'Person'}) properties={'name': 'JIRA'}>\"}, {\"id\": 13, \"label\": \"TC-14\", \"group\": \"Person\", \"title\": \"<Node id=13 labels=frozenset({'Person'}) properties={'name': 'TC-14'}>\"}, {\"id\": 19, \"label\": \"CAPTAIN PANAKA\", \"group\": \"Person\", \"title\": \"<Node id=19 labels=frozenset({'Person'}) properties={'name': 'CAPTAIN PANAKA'}>\"}, {\"id\": 23, \"label\": \"BOSS NASS\", \"group\": \"Person\", \"title\": \"<Node id=23 labels=frozenset({'Person'}) properties={'name': 'BOSS NASS'}>\"}];\n",
       "    var edges = [{\"from\": 20, \"to\": 0, \"label\": \"APPEARS_IN\"}, {\"from\": 26, \"to\": 0, \"label\": \"APPEARS_IN\"}, {\"from\": 32, \"to\": 0, \"label\": \"APPEARS_IN\"}, {\"from\": 10, \"to\": 0, \"label\": \"APPEARS_IN\"}, {\"from\": 24, \"to\": 0, \"label\": \"APPEARS_IN\"}, {\"from\": 28, \"to\": 0, \"label\": \"APPEARS_IN\"}, {\"from\": 41, \"to\": 0, \"label\": \"APPEARS_IN\"}, {\"from\": 30, \"to\": 0, \"label\": \"APPEARS_IN\"}, {\"from\": 35, \"to\": 0, \"label\": \"APPEARS_IN\"}, {\"from\": 38, \"to\": 0, \"label\": \"APPEARS_IN\"}, {\"from\": 46, \"to\": 0, \"label\": \"APPEARS_IN\"}, {\"from\": 39, \"to\": 0, \"label\": \"APPEARS_IN\"}, {\"from\": 43, \"to\": 0, \"label\": \"APPEARS_IN\"}, {\"from\": 15, \"to\": 0, \"label\": \"APPEARS_IN\"}, {\"from\": 18, \"to\": 0, \"label\": \"APPEARS_IN\"}, {\"from\": 33, \"to\": 0, \"label\": \"APPEARS_IN\"}, {\"from\": 29, \"to\": 0, \"label\": \"APPEARS_IN\"}, {\"from\": 13, \"to\": 0, \"label\": \"APPEARS_IN\"}, {\"from\": 19, \"to\": 0, \"label\": \"APPEARS_IN\"}, {\"from\": 23, \"to\": 0, \"label\": \"APPEARS_IN\"}];\n",
       "\n",
       "    var container = document.getElementById(\"8dcb7b93-5bd5-4cec-8c57-b21ff6f7058c\");\n",
       "\n",
       "    var data = {\n",
       "        nodes: nodes,\n",
       "        edges: edges\n",
       "    };\n",
       "\n",
       "    var options = {\n",
       "    nodes: {\n",
       "        shape: 'dot',\n",
       "        size: 25,\n",
       "        font: {\n",
       "            size: 14\n",
       "        }\n",
       "    },\n",
       "    edges: {\n",
       "        font: {\n",
       "            size: 14,\n",
       "            align: 'middle'\n",
       "        },\n",
       "        color: 'gray',\n",
       "        arrows: {\n",
       "            to: {\n",
       "                enabled: true,\n",
       "                scaleFactor: 0.5\n",
       "            }\n",
       "        },\n",
       "        smooth: {\n",
       "            enabled: false\n",
       "        }\n",
       "    },\n",
       "    physics: {\n",
       "        enabled: true\n",
       "        }\n",
       "    };\n",
       "\n",
       "    var network = new vis.Network(container, data, options);\n",
       "\n",
       "</script>\n"
      ],
      "text/plain": [
       "<IPython.core.display.HTML object>"
      ]
     },
     "execution_count": 5,
     "metadata": {},
     "output_type": "execute_result"
    }
   ],
   "source": [
    "vis_class.drawGraph(session, {'Person':'name', 'Movie':'name'}, cluster_each)"
   ]
  },
  {
   "cell_type": "code",
   "execution_count": 6,
   "id": "e06ed8e6",
   "metadata": {
    "scrolled": true
   },
   "outputs": [
    {
     "data": {
      "text/html": [
       "<div>\n",
       "<style scoped>\n",
       "    .dataframe tbody tr th:only-of-type {\n",
       "        vertical-align: middle;\n",
       "    }\n",
       "\n",
       "    .dataframe tbody tr th {\n",
       "        vertical-align: top;\n",
       "    }\n",
       "\n",
       "    .dataframe thead th {\n",
       "        text-align: right;\n",
       "    }\n",
       "</style>\n",
       "<table border=\"1\" class=\"dataframe\">\n",
       "  <thead>\n",
       "    <tr style=\"text-align: right;\">\n",
       "      <th></th>\n",
       "      <th>Movie</th>\n",
       "      <th>Characters</th>\n",
       "    </tr>\n",
       "  </thead>\n",
       "  <tbody>\n",
       "    <tr>\n",
       "      <th>0</th>\n",
       "      <td>Episode I: The Phantom Menace</td>\n",
       "      <td>36</td>\n",
       "    </tr>\n",
       "    <tr>\n",
       "      <th>1</th>\n",
       "      <td>Episode II: Attack of the Clones</td>\n",
       "      <td>31</td>\n",
       "    </tr>\n",
       "    <tr>\n",
       "      <th>2</th>\n",
       "      <td>Episode III: Revenge of the Sith</td>\n",
       "      <td>23</td>\n",
       "    </tr>\n",
       "    <tr>\n",
       "      <th>3</th>\n",
       "      <td>Episode VII: The Force Awakens</td>\n",
       "      <td>24</td>\n",
       "    </tr>\n",
       "  </tbody>\n",
       "</table>\n",
       "</div>"
      ],
      "text/plain": [
       "                              Movie  Characters\n",
       "0     Episode I: The Phantom Menace          36\n",
       "1  Episode II: Attack of the Clones          31\n",
       "2  Episode III: Revenge of the Sith          23\n",
       "3    Episode VII: The Force Awakens          24"
      ]
     },
     "execution_count": 6,
     "metadata": {},
     "output_type": "execute_result"
    }
   ],
   "source": [
    "cluster_by_count = \"\"\"MATCH pattern=((m:Movie)-[a:APPEARS_IN]-(p:Person)) \n",
    "                    with count(pattern) as connections, m\n",
    "                    Where connections > 20\n",
    "                    Return m.name AS Movie, connections As Characters\"\"\"\n",
    "df = pd.DataFrame (session.read_transaction(\n",
    "                            lambda tx: tx.run(cluster_by_count).data()), columns = ['Movie','Characters'])\n",
    "\n",
    "df.head()"
   ]
  },
  {
   "cell_type": "code",
   "execution_count": 7,
   "id": "3c5f8768",
   "metadata": {
    "scrolled": false
   },
   "outputs": [
    {
     "data": {
      "text/html": [
       "<div>\n",
       "<style scoped>\n",
       "    .dataframe tbody tr th:only-of-type {\n",
       "        vertical-align: middle;\n",
       "    }\n",
       "\n",
       "    .dataframe tbody tr th {\n",
       "        vertical-align: top;\n",
       "    }\n",
       "\n",
       "    .dataframe thead th {\n",
       "        text-align: right;\n",
       "    }\n",
       "</style>\n",
       "<table border=\"1\" class=\"dataframe\">\n",
       "  <thead>\n",
       "    <tr style=\"text-align: right;\">\n",
       "      <th></th>\n",
       "      <th>Clusters</th>\n",
       "    </tr>\n",
       "  </thead>\n",
       "  <tbody>\n",
       "    <tr>\n",
       "      <th>0</th>\n",
       "      <td>Group 1: Episode VI: Return of the Jedi</td>\n",
       "    </tr>\n",
       "    <tr>\n",
       "      <th>1</th>\n",
       "      <td>Group 1: Episode V: The Empire Strikes Back</td>\n",
       "    </tr>\n",
       "    <tr>\n",
       "      <th>2</th>\n",
       "      <td>Group 1: Episode IV: A New Hope</td>\n",
       "    </tr>\n",
       "    <tr>\n",
       "      <th>3</th>\n",
       "      <td>Groupe 2: Episode III: Revenge of the Sith</td>\n",
       "    </tr>\n",
       "    <tr>\n",
       "      <th>4</th>\n",
       "      <td>Groupe 2: Episode VII: The Force Awakens</td>\n",
       "    </tr>\n",
       "  </tbody>\n",
       "</table>\n",
       "</div>"
      ],
      "text/plain": [
       "                                      Clusters\n",
       "0      Group 1: Episode VI: Return of the Jedi\n",
       "1  Group 1: Episode V: The Empire Strikes Back\n",
       "2              Group 1: Episode IV: A New Hope\n",
       "3   Groupe 2: Episode III: Revenge of the Sith\n",
       "4     Groupe 2: Episode VII: The Force Awakens"
      ]
     },
     "execution_count": 7,
     "metadata": {},
     "output_type": "execute_result"
    }
   ],
   "source": [
    "#With cases \n",
    "cluster_by_count_categories = \"\"\"MATCH pattern=((m:Movie)-[a:APPEARS_IN]-(p:Person)) \n",
    "                                with count(pattern=((m:Movie)-[a:APPEARS_IN]-(p:Person))) as connections, m\n",
    "                                Return \n",
    "                                CASE\n",
    "                                  WHEN connections <= 20 THEN \"Group 1: \" + m.name\n",
    "                                  WHEN connections <= 30      THEN \"Groupe 2: \" + m.name\n",
    "                                  ELSE \"Group 3: \" + m.name\n",
    "                                END AS Clusters\n",
    "                                Order by connections\"\"\"\n",
    "df = pd.DataFrame (session.read_transaction(\n",
    "                            lambda tx: tx.run(cluster_by_count_categories).data()), columns = ['Clusters'])\n",
    "\n",
    "df.head()"
   ]
  },
  {
   "cell_type": "markdown",
   "id": "a3969409",
   "metadata": {},
   "source": [
    "text"
   ]
  },
  {
   "cell_type": "code",
   "execution_count": 8,
   "id": "98b736fb",
   "metadata": {},
   "outputs": [
    {
     "data": {
      "text/html": [
       "<div>\n",
       "<style scoped>\n",
       "    .dataframe tbody tr th:only-of-type {\n",
       "        vertical-align: middle;\n",
       "    }\n",
       "\n",
       "    .dataframe tbody tr th {\n",
       "        vertical-align: top;\n",
       "    }\n",
       "\n",
       "    .dataframe thead th {\n",
       "        text-align: right;\n",
       "    }\n",
       "</style>\n",
       "<table border=\"1\" class=\"dataframe\">\n",
       "  <thead>\n",
       "    <tr style=\"text-align: right;\">\n",
       "      <th></th>\n",
       "      <th>Characters</th>\n",
       "      <th>CharacterConnected</th>\n",
       "      <th>ViaMovie</th>\n",
       "    </tr>\n",
       "  </thead>\n",
       "  <tbody>\n",
       "    <tr>\n",
       "      <th>0</th>\n",
       "      <td>SIO BIBBLE</td>\n",
       "      <td>BAIL ORGANA</td>\n",
       "      <td>Episode II: Attack of the Clones</td>\n",
       "    </tr>\n",
       "    <tr>\n",
       "      <th>1</th>\n",
       "      <td>SIO BIBBLE</td>\n",
       "      <td>RUWEE</td>\n",
       "      <td>Episode II: Attack of the Clones</td>\n",
       "    </tr>\n",
       "    <tr>\n",
       "      <th>2</th>\n",
       "      <td>SIO BIBBLE</td>\n",
       "      <td>SENATOR ASK AAK</td>\n",
       "      <td>Episode II: Attack of the Clones</td>\n",
       "    </tr>\n",
       "    <tr>\n",
       "      <th>3</th>\n",
       "      <td>SIO BIBBLE</td>\n",
       "      <td>LAMA SU</td>\n",
       "      <td>Episode II: Attack of the Clones</td>\n",
       "    </tr>\n",
       "    <tr>\n",
       "      <th>4</th>\n",
       "      <td>SIO BIBBLE</td>\n",
       "      <td>OWEN</td>\n",
       "      <td>Episode II: Attack of the Clones</td>\n",
       "    </tr>\n",
       "  </tbody>\n",
       "</table>\n",
       "</div>"
      ],
      "text/plain": [
       "   Characters CharacterConnected                          ViaMovie\n",
       "0  SIO BIBBLE        BAIL ORGANA  Episode II: Attack of the Clones\n",
       "1  SIO BIBBLE              RUWEE  Episode II: Attack of the Clones\n",
       "2  SIO BIBBLE    SENATOR ASK AAK  Episode II: Attack of the Clones\n",
       "3  SIO BIBBLE            LAMA SU  Episode II: Attack of the Clones\n",
       "4  SIO BIBBLE               OWEN  Episode II: Attack of the Clones"
      ]
     },
     "execution_count": 8,
     "metadata": {},
     "output_type": "execute_result"
    }
   ],
   "source": [
    "cluster_by_characters_interact_in_diffrent_movies = \"\"\"MATCH (p1:Person)-[a1:APPEARS_IN]-(m1:Movie)-[a2:APPEARS_IN]-(p2:Person)-[a3:APPEARS_IN]-(m2:Movie)\n",
    "                                WHERE m1.name <> m2.name\n",
    "                                RETURN p2.name as Characters, p1.name as CharacterConnected, m1.name as ViaMovie\"\"\"\n",
    "df = pd.DataFrame (session.read_transaction(\n",
    "                            lambda tx: tx.run(cluster_by_characters_interact_in_diffrent_movies).data()), columns = ['Characters', 'CharacterConnected', 'ViaMovie'])\n",
    "\n",
    "df.head()"
   ]
  },
  {
   "cell_type": "code",
   "execution_count": 9,
   "id": "515a055d",
   "metadata": {},
   "outputs": [],
   "source": [
    "cluster_by_characters_interact_in_diffrent_movies = \"\"\"MATCH (p1:Person)-[a1:APPEARS_IN]-(m1:Movie)-[a2:APPEARS_IN]-(p2:Person)-[a3:APPEARS_IN]-(m2:Movie)\n",
    "                                WHERE m1.name <> m2.name\n",
    "                                RETURN p1 AS source_node, \n",
    "                                id(p1) AS source_id,\n",
    "                                a1,\n",
    "                                p2 AS target_node,\n",
    "                                id(p2) As target_id \n",
    "                                LIMIT 20\"\"\""
   ]
  },
  {
   "cell_type": "code",
   "execution_count": 10,
   "id": "bf2a11cb",
   "metadata": {
    "scrolled": true
   },
   "outputs": [
    {
     "data": {
      "text/html": [
       "<div id=\"610bb7e6-9ea7-4a9f-81cb-4e9e45985f7a\" style=\"height: 400px;\"></div>\n",
       "\n",
       "<script type=\"text/javascript\">\n",
       "\n",
       "    var nodes = [{\"id\": 20, \"label\": \"SIO BIBBLE\", \"group\": \"Person\", \"title\": \"<Node id=20 labels=frozenset({'Person'}) properties={'name': 'SIO BIBBLE'}>\"}, {\"id\": 0, \"label\": \"\", \"group\": \"Movie\", \"title\": \"<Node id=0 labels=frozenset({'Movie'}) properties={'name': 'Episode I: The Phantom Menace'}>\"}, {\"id\": 26, \"label\": \"WATTO\", \"group\": \"Person\", \"title\": \"<Node id=26 labels=frozenset({'Person'}) properties={'name': 'WATTO'}>\"}, {\"id\": 32, \"label\": \"DARTH MAUL\", \"group\": \"Person\", \"title\": \"<Node id=32 labels=frozenset({'Person'}) properties={'name': 'DARTH MAUL'}>\"}, {\"id\": 10, \"label\": \"QUI-GON\", \"group\": \"Person\", \"title\": \"<Node id=10 labels=frozenset({'Person'}) properties={'name': 'QUI-GON'}>\"}, {\"id\": 24, \"label\": \"PADME\", \"group\": \"Person\", \"title\": \"<Node id=24 labels=frozenset({'Person'}) properties={'name': 'PADME'}>\"}, {\"id\": 28, \"label\": \"SEBULBA\", \"group\": \"Person\", \"title\": \"<Node id=28 labels=frozenset({'Person'}) properties={'name': 'SEBULBA'}>\"}, {\"id\": 41, \"label\": \"YODA\", \"group\": \"Person\", \"title\": \"<Node id=41 labels=frozenset({'Person'}) properties={'name': 'YODA'}>\"}, {\"id\": 30, \"label\": \"SHMI\", \"group\": \"Person\", \"title\": \"<Node id=30 labels=frozenset({'Person'}) properties={'name': 'SHMI'}>\"}, {\"id\": 35, \"label\": \"FODE/BEED\", \"group\": \"Person\", \"title\": \"<Node id=35 labels=frozenset({'Person'}) properties={'name': 'FODE/BEED'}>\"}, {\"id\": 38, \"label\": \"VALORUM\", \"group\": \"Person\", \"title\": \"<Node id=38 labels=frozenset({'Person'}) properties={'name': 'VALORUM'}>\"}, {\"id\": 46, \"label\": \"BRAVO THREE\", \"group\": \"Person\", \"title\": \"<Node id=46 labels=frozenset({'Person'}) properties={'name': 'BRAVO THREE'}>\"}, {\"id\": 39, \"label\": \"MACE WINDU\", \"group\": \"Person\", \"title\": \"<Node id=39 labels=frozenset({'Person'}) properties={'name': 'MACE WINDU'}>\"}, {\"id\": 43, \"label\": \"BAIL ORGANA\", \"group\": \"Person\", \"title\": \"<Node id=43 labels=frozenset({'Person'}) properties={'name': 'BAIL ORGANA'}>\"}, {\"id\": 15, \"label\": \"DOFINE\", \"group\": \"Person\", \"title\": \"<Node id=15 labels=frozenset({'Person'}) properties={'name': 'DOFINE'}>\"}, {\"id\": 18, \"label\": \"EMPEROR\", \"group\": \"Person\", \"title\": \"<Node id=18 labels=frozenset({'Person'}) properties={'name': 'EMPEROR'}>\"}, {\"id\": 33, \"label\": \"KITSTER\", \"group\": \"Person\", \"title\": \"<Node id=33 labels=frozenset({'Person'}) properties={'name': 'KITSTER'}>\"}, {\"id\": 29, \"label\": \"JIRA\", \"group\": \"Person\", \"title\": \"<Node id=29 labels=frozenset({'Person'}) properties={'name': 'JIRA'}>\"}, {\"id\": 13, \"label\": \"TC-14\", \"group\": \"Person\", \"title\": \"<Node id=13 labels=frozenset({'Person'}) properties={'name': 'TC-14'}>\"}, {\"id\": 19, \"label\": \"CAPTAIN PANAKA\", \"group\": \"Person\", \"title\": \"<Node id=19 labels=frozenset({'Person'}) properties={'name': 'CAPTAIN PANAKA'}>\"}, {\"id\": 23, \"label\": \"BOSS NASS\", \"group\": \"Person\", \"title\": \"<Node id=23 labels=frozenset({'Person'}) properties={'name': 'BOSS NASS'}>\"}];\n",
       "    var edges = [{\"from\": 20, \"to\": 0, \"label\": \"APPEARS_IN\"}, {\"from\": 26, \"to\": 0, \"label\": \"APPEARS_IN\"}, {\"from\": 32, \"to\": 0, \"label\": \"APPEARS_IN\"}, {\"from\": 10, \"to\": 0, \"label\": \"APPEARS_IN\"}, {\"from\": 24, \"to\": 0, \"label\": \"APPEARS_IN\"}, {\"from\": 28, \"to\": 0, \"label\": \"APPEARS_IN\"}, {\"from\": 41, \"to\": 0, \"label\": \"APPEARS_IN\"}, {\"from\": 30, \"to\": 0, \"label\": \"APPEARS_IN\"}, {\"from\": 35, \"to\": 0, \"label\": \"APPEARS_IN\"}, {\"from\": 38, \"to\": 0, \"label\": \"APPEARS_IN\"}, {\"from\": 46, \"to\": 0, \"label\": \"APPEARS_IN\"}, {\"from\": 39, \"to\": 0, \"label\": \"APPEARS_IN\"}, {\"from\": 43, \"to\": 0, \"label\": \"APPEARS_IN\"}, {\"from\": 15, \"to\": 0, \"label\": \"APPEARS_IN\"}, {\"from\": 18, \"to\": 0, \"label\": \"APPEARS_IN\"}, {\"from\": 33, \"to\": 0, \"label\": \"APPEARS_IN\"}, {\"from\": 29, \"to\": 0, \"label\": \"APPEARS_IN\"}, {\"from\": 13, \"to\": 0, \"label\": \"APPEARS_IN\"}, {\"from\": 19, \"to\": 0, \"label\": \"APPEARS_IN\"}, {\"from\": 23, \"to\": 0, \"label\": \"APPEARS_IN\"}];\n",
       "\n",
       "    var container = document.getElementById(\"610bb7e6-9ea7-4a9f-81cb-4e9e45985f7a\");\n",
       "\n",
       "    var data = {\n",
       "        nodes: nodes,\n",
       "        edges: edges\n",
       "    };\n",
       "\n",
       "    var options = {\n",
       "    nodes: {\n",
       "        shape: 'dot',\n",
       "        size: 25,\n",
       "        font: {\n",
       "            size: 14\n",
       "        }\n",
       "    },\n",
       "    edges: {\n",
       "        font: {\n",
       "            size: 14,\n",
       "            align: 'middle'\n",
       "        },\n",
       "        color: 'gray',\n",
       "        arrows: {\n",
       "            to: {\n",
       "                enabled: true,\n",
       "                scaleFactor: 0.5\n",
       "            }\n",
       "        },\n",
       "        smooth: {\n",
       "            enabled: false\n",
       "        }\n",
       "    },\n",
       "    physics: {\n",
       "        enabled: true\n",
       "        }\n",
       "    };\n",
       "\n",
       "    var network = new vis.Network(container, data, options);\n",
       "\n",
       "</script>\n"
      ],
      "text/plain": [
       "<IPython.core.display.HTML object>"
      ]
     },
     "execution_count": 10,
     "metadata": {},
     "output_type": "execute_result"
    }
   ],
   "source": [
    "vis_class.drawGraph(session, {'Person':'name', 'target_node':'connected'}, cluster_each)"
   ]
  },
  {
   "cell_type": "markdown",
   "id": "d95a891b",
   "metadata": {},
   "source": [
    "![title](img/ConnectedWithOthers.png)"
   ]
  },
  {
   "cell_type": "markdown",
   "id": "19cb71f3",
   "metadata": {},
   "source": [
    "## Close the connection"
   ]
  },
  {
   "cell_type": "code",
   "execution_count": 11,
   "id": "b3ca6010",
   "metadata": {},
   "outputs": [],
   "source": [
    "#Close all connections\n",
    "driver.close()\n",
    "session.close()\n",
    "drive = None\n",
    "session = None"
   ]
  }
 ],
 "metadata": {
  "kernelspec": {
   "display_name": "Python 3 (ipykernel)",
   "language": "python",
   "name": "python3"
  },
  "language_info": {
   "codemirror_mode": {
    "name": "ipython",
    "version": 3
   },
   "file_extension": ".py",
   "mimetype": "text/x-python",
   "name": "python",
   "nbconvert_exporter": "python",
   "pygments_lexer": "ipython3",
   "version": "3.9.7"
  }
 },
 "nbformat": 4,
 "nbformat_minor": 5
}
