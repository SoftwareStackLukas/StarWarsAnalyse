{
 "cells": [
  {
   "cell_type": "markdown",
   "id": "99b29f0d",
   "metadata": {},
   "source": [
    "# Visualization tests"
   ]
  },
  {
   "cell_type": "code",
   "execution_count": 1,
   "id": "3b15048b",
   "metadata": {},
   "outputs": [],
   "source": [
    "from py2neo import Graph"
   ]
  },
  {
   "cell_type": "code",
   "execution_count": 2,
   "id": "7ad1d5a1",
   "metadata": {},
   "outputs": [],
   "source": [
    "graph = Graph(\"neo4j://localhost:7687\", auth=(\"neo4j\", \"neo4j\"))"
   ]
  },
  {
   "cell_type": "code",
   "execution_count": 3,
   "id": "d6738d2f",
   "metadata": {},
   "outputs": [
    {
     "data": {
      "application/javascript": [
       "var link = document.createElement(\"link\");\n",
       "\tlink.ref = \"stylesheet\";\n",
       "\tlink.type = \"text/css\";\n",
       "\tlink.href = \"https://cdnjs.cloudflare.com/ajax/libs/vis/4.8.2/vis.css\";\n",
       "\tdocument.head.appendChild(link);\n",
       "require.config({     paths: {         vis: '//cdnjs.cloudflare.com/ajax/libs/vis/4.8.2/vis.min'     } }); require(['vis'], function(vis) {  window.vis = vis; }); "
      ],
      "text/plain": [
       "<IPython.core.display.Javascript object>"
      ]
     },
     "metadata": {},
     "output_type": "display_data"
    }
   ],
   "source": [
    "import neo4jupyter as n4j\n",
    "n4j.init_notebook_mode()\n",
    "#sg = graph.run('MATCH (m:Movie) RETURN m.name')\n",
    "#n4j.draw(graph, {'Movie':'name'})"
   ]
  },
  {
   "cell_type": "markdown",
   "id": "4d680c97",
   "metadata": {},
   "source": [
    "drawGraph() is based on draw() function from the package [neo4jupyter](https://github.com/merqurio/neo4jupyter) just passing the query as a parameter to run it on the graph and visualize the result."
   ]
  },
  {
   "cell_type": "code",
   "execution_count": 4,
   "id": "d0b854b9",
   "metadata": {
    "scrolled": true
   },
   "outputs": [
    {
     "data": {
      "application/javascript": [
       "var link = document.createElement(\"link\");\n",
       "\tlink.ref = \"stylesheet\";\n",
       "\tlink.type = \"text/css\";\n",
       "\tlink.href = \"https://cdnjs.cloudflare.com/ajax/libs/vis/4.8.2/vis.css\";\n",
       "\tdocument.head.appendChild(link);\n",
       "require.config({     paths: {         vis: '//cdnjs.cloudflare.com/ajax/libs/vis/4.8.2/vis.min'     } }); require(['vis'], function(vis) {  window.vis = vis; }); "
      ],
      "text/plain": [
       "<IPython.core.display.Javascript object>"
      ]
     },
     "metadata": {},
     "output_type": "display_data"
    }
   ],
   "source": [
    "import neo4jupyter as n4j\n",
    "n4j.init_notebook_mode()\n",
    "# Based on function draw() from neo4jupyter (https://github.com/merqurio/neo4jupyter)\n",
    "def drawGraph(graph, options, query, physics=True):\n",
    "    \"\"\"\n",
    "    The options argument should be a dictionary of node labels and property keys; it determines which property\n",
    "    is displayed for the node label. For example, in the movie graph, options = {\"Movie\": \"title\", \"Person\": \"name\"}.\n",
    "    Omitting a node label from the options dict will leave the node unlabeled in the visualization.\n",
    "    Setting physics = True makes the nodes bounce around when you touch them!\n",
    "    :param graph: Connection to the DB where the query will be executed.\n",
    "    :param options: Options for the Nodes.\n",
    "    :param physics: Physics of the vis.js visualization.\n",
    "    :param limit: Maximum number of Nodes or Edges.\n",
    "    :return: IPython.display.HTML\n",
    "    \"\"\"\n",
    "\n",
    "#     query = \"\"\"\n",
    "#     MATCH (n)\n",
    "#     WITH n, rand() AS random\n",
    "#     ORDER BY random\n",
    "#     LIMIT $limit\n",
    "#     OPTIONAL MATCH (n)-[r]->(m)\n",
    "#     RETURN n AS source_node,\n",
    "#            id(n) AS source_id,\n",
    "#            r,\n",
    "#            m AS target_node,\n",
    "#            id(m) AS target_id\n",
    "#     \"\"\"\n",
    "\n",
    "    data = graph.run(query)#, limit=limit)\n",
    "\n",
    "    nodes = []\n",
    "    edges = []\n",
    "\n",
    "    def get_vis_info(node, id):\n",
    "        node_label = list(node.labels)[0]\n",
    "        prop_key = options.get(node_label)\n",
    "        vis_label = node.get(prop_key, \"\")\n",
    "\n",
    "        return {\"id\": id, \"label\": vis_label, \"group\": node_label, \"title\": repr(node)}\n",
    "\n",
    "    for row in data:\n",
    "        source_node = row[0]\n",
    "        source_id = row[1]\n",
    "        rel = row[2]\n",
    "        target_node = row[3]\n",
    "        target_id = row[4]\n",
    "\n",
    "        source_info = get_vis_info(source_node, source_id)\n",
    "\n",
    "        if source_info not in nodes:\n",
    "            nodes.append(source_info)\n",
    "\n",
    "        if rel is not None:\n",
    "            target_info = get_vis_info(target_node, target_id)\n",
    "\n",
    "            if target_info not in nodes:\n",
    "                nodes.append(target_info)\n",
    "\n",
    "            edges.append({\"from\": source_info[\"id\"], \"to\": target_info[\"id\"], \"label\": rel.__class__.__name__})\n",
    "\n",
    "    return n4j.vis_network(nodes, edges, physics=physics)\n",
    "\n"
   ]
  },
  {
   "cell_type": "code",
   "execution_count": 5,
   "id": "c6f2628a",
   "metadata": {
    "collapsed": true
   },
   "outputs": [
    {
     "data": {
      "text/html": [
       "<div id=\"9de195fa-7173-4e75-9f28-9b46e77ce565\" style=\"height: 400px;\"></div>\n",
       "\n",
       "<script type=\"text/javascript\">\n",
       "\n",
       "    var nodes = [{\"id\": 7, \"label\": \"Episode I: The Phantom Menace\", \"group\": \"Movie\", \"title\": \"Node('Movie', name='Episode I: The Phantom Menace')\"}, {\"id\": 27, \"label\": \"SIO BIBBLE\", \"group\": \"Person\", \"title\": \"Node('Person', name='SIO BIBBLE')\"}, {\"id\": 33, \"label\": \"WATTO\", \"group\": \"Person\", \"title\": \"Node('Person', name='WATTO')\"}, {\"id\": 39, \"label\": \"DARTH MAUL\", \"group\": \"Person\", \"title\": \"Node('Person', name='DARTH MAUL')\"}, {\"id\": 17, \"label\": \"QUI-GON\", \"group\": \"Person\", \"title\": \"Node('Person', name='QUI-GON')\"}, {\"id\": 31, \"label\": \"PADME\", \"group\": \"Person\", \"title\": \"Node('Person', name='PADME')\"}, {\"id\": 35, \"label\": \"SEBULBA\", \"group\": \"Person\", \"title\": \"Node('Person', name='SEBULBA')\"}, {\"id\": 48, \"label\": \"YODA\", \"group\": \"Person\", \"title\": \"Node('Person', name='YODA')\"}, {\"id\": 37, \"label\": \"SHMI\", \"group\": \"Person\", \"title\": \"Node('Person', name='SHMI')\"}, {\"id\": 42, \"label\": \"FODE/BEED\", \"group\": \"Person\", \"title\": \"Node('Person', name='FODE/BEED')\"}, {\"id\": 45, \"label\": \"VALORUM\", \"group\": \"Person\", \"title\": \"Node('Person', name='VALORUM')\"}];\n",
       "    var edges = [{\"from\": 7, \"to\": 27, \"label\": \"APPEARS_IN\"}, {\"from\": 7, \"to\": 33, \"label\": \"APPEARS_IN\"}, {\"from\": 7, \"to\": 39, \"label\": \"APPEARS_IN\"}, {\"from\": 7, \"to\": 17, \"label\": \"APPEARS_IN\"}, {\"from\": 7, \"to\": 31, \"label\": \"APPEARS_IN\"}, {\"from\": 7, \"to\": 35, \"label\": \"APPEARS_IN\"}, {\"from\": 7, \"to\": 48, \"label\": \"APPEARS_IN\"}, {\"from\": 7, \"to\": 37, \"label\": \"APPEARS_IN\"}, {\"from\": 7, \"to\": 42, \"label\": \"APPEARS_IN\"}, {\"from\": 7, \"to\": 45, \"label\": \"APPEARS_IN\"}];\n",
       "\n",
       "    var container = document.getElementById(\"9de195fa-7173-4e75-9f28-9b46e77ce565\");\n",
       "\n",
       "    var data = {\n",
       "        nodes: nodes,\n",
       "        edges: edges\n",
       "    };\n",
       "\n",
       "    var options = {\n",
       "    nodes: {\n",
       "        shape: 'dot',\n",
       "        size: 25,\n",
       "        font: {\n",
       "            size: 14\n",
       "        }\n",
       "    },\n",
       "    edges: {\n",
       "        font: {\n",
       "            size: 14,\n",
       "            align: 'middle'\n",
       "        },\n",
       "        color: 'gray',\n",
       "        arrows: {\n",
       "            to: {\n",
       "                enabled: true,\n",
       "                scaleFactor: 0.5\n",
       "            }\n",
       "        },\n",
       "        smooth: {\n",
       "            enabled: false\n",
       "        }\n",
       "    },\n",
       "    physics: {\n",
       "        enabled: true\n",
       "        }\n",
       "    };\n",
       "\n",
       "    var network = new vis.Network(container, data, options);\n",
       "\n",
       "</script>\n"
      ],
      "text/plain": [
       "<IPython.core.display.HTML object>"
      ]
     },
     "execution_count": 5,
     "metadata": {},
     "output_type": "execute_result"
    }
   ],
   "source": [
    "query = \"\"\"\n",
    "    MATCH (p:Person)-[r:APPEARS_IN]->(m:Movie)\n",
    "    WHERE m.name='Episode I: The Phantom Menace'\n",
    "    RETURN m AS source_node,\n",
    "           id(m) AS source_id,\n",
    "           r,\n",
    "           p AS target_node,\n",
    "           id(p) AS target_id\n",
    "    LIMIT 10\n",
    "    \"\"\"\n",
    "drawGraph(graph, {'Movie':'name', 'Person':'name'}, query)"
   ]
  },
  {
   "cell_type": "code",
   "execution_count": 6,
   "id": "9d7e4aa6",
   "metadata": {
    "collapsed": true
   },
   "outputs": [
    {
     "data": {
      "text/html": [
       "<div id=\"0d3cdf2a-a96d-4093-89d3-12119066685b\" style=\"height: 400px;\"></div>\n",
       "\n",
       "<script type=\"text/javascript\">\n",
       "\n",
       "    var nodes = [{\"id\": 7, \"label\": \"Episode I: The Phantom Menace\", \"group\": \"Movie\", \"title\": \"Node('Movie', name='Episode I: The Phantom Menace')\"}, {\"id\": 8, \"label\": \"Episode II: Attack of the Clones\", \"group\": \"Movie\", \"title\": \"Node('Movie', name='Episode II: Attack of the Clones')\"}, {\"id\": 9, \"label\": \"Episode III: Revenge of the Sith\", \"group\": \"Movie\", \"title\": \"Node('Movie', name='Episode III: Revenge of the Sith')\"}, {\"id\": 10, \"label\": \"Episode IV: A New Hope\", \"group\": \"Movie\", \"title\": \"Node('Movie', name='Episode IV: A New Hope')\"}, {\"id\": 11, \"label\": \"Episode V: The Empire Strikes Back\", \"group\": \"Movie\", \"title\": \"Node('Movie', name='Episode V: The Empire Strikes Back')\"}, {\"id\": 12, \"label\": \"Episode VI: Return of the Jedi\", \"group\": \"Movie\", \"title\": \"Node('Movie', name='Episode VI: Return of the Jedi')\"}, {\"id\": 13, \"label\": \"Episode VII: The Force Awakens\", \"group\": \"Movie\", \"title\": \"Node('Movie', name='Episode VII: The Force Awakens')\"}];\n",
       "    var edges = [];\n",
       "\n",
       "    var container = document.getElementById(\"0d3cdf2a-a96d-4093-89d3-12119066685b\");\n",
       "\n",
       "    var data = {\n",
       "        nodes: nodes,\n",
       "        edges: edges\n",
       "    };\n",
       "\n",
       "    var options = {\n",
       "    nodes: {\n",
       "        shape: 'dot',\n",
       "        size: 25,\n",
       "        font: {\n",
       "            size: 14\n",
       "        }\n",
       "    },\n",
       "    edges: {\n",
       "        font: {\n",
       "            size: 14,\n",
       "            align: 'middle'\n",
       "        },\n",
       "        color: 'gray',\n",
       "        arrows: {\n",
       "            to: {\n",
       "                enabled: true,\n",
       "                scaleFactor: 0.5\n",
       "            }\n",
       "        },\n",
       "        smooth: {\n",
       "            enabled: false\n",
       "        }\n",
       "    },\n",
       "    physics: {\n",
       "        enabled: true\n",
       "        }\n",
       "    };\n",
       "\n",
       "    var network = new vis.Network(container, data, options);\n",
       "\n",
       "</script>\n"
      ],
      "text/plain": [
       "<IPython.core.display.HTML object>"
      ]
     },
     "execution_count": 6,
     "metadata": {},
     "output_type": "execute_result"
    }
   ],
   "source": [
    "query = \"\"\"\n",
    "    MATCH (m:Movie)\n",
    "    RETURN m AS source_node,\n",
    "           id(m) AS source_id,\n",
    "           Null,\n",
    "           Null AS target_node,\n",
    "           Null AS target_id\n",
    "\"\"\"\n",
    "drawGraph(graph, {'Movie':'name'}, query)"
   ]
  },
  {
   "cell_type": "code",
   "execution_count": 7,
   "id": "56ef2427",
   "metadata": {
    "collapsed": true
   },
   "outputs": [
    {
     "data": {
      "text/html": [
       "<div id=\"fa72ad87-b839-4d7b-a551-641fcfca354a\" style=\"height: 400px;\"></div>\n",
       "\n",
       "<script type=\"text/javascript\">\n",
       "\n",
       "    var nodes = [{\"id\": 102, \"label\": \"LANDO\", \"group\": \"Person\", \"title\": \"Node('Person', name='LANDO')\"}, {\"id\": 14, \"label\": \"R2-D2\", \"group\": \"Droid\", \"title\": \"Node('Droid', name='R2-D2')\"}, {\"id\": 87, \"label\": \"HAN\", \"group\": \"Person\", \"title\": \"Node('Person', name='HAN')\"}, {\"id\": 80, \"label\": \"DARTH VADER\", \"group\": \"Person\", \"title\": \"Node('Person', name='DARTH VADER')\"}, {\"id\": 83, \"label\": \"BIGGS\", \"group\": \"Person\", \"title\": \"Node('Person', name='BIGGS')\"}, {\"id\": 79, \"label\": \"CAPTAIN ANTILLES\", \"group\": \"Person\", \"title\": \"Node('Person', name='CAPTAIN ANTILLES')\"}, {\"id\": 84, \"label\": \"LEIA\", \"group\": \"Person\", \"title\": \"Node('Person', name='LEIA')\"}, {\"id\": 81, \"label\": \"LUKE\", \"group\": \"Person\", \"title\": \"Node('Person', name='LUKE')\"}, {\"id\": 50, \"label\": \"BAIL ORGANA\", \"group\": \"Person\", \"title\": \"Node('Person', name='BAIL ORGANA')\"}, {\"id\": 64, \"label\": \"OWEN\", \"group\": \"Person\", \"title\": \"Node('Person', name='OWEN')\"}, {\"id\": 65, \"label\": \"BERU\", \"group\": \"Person\", \"title\": \"Node('Person', name='BERU')\"}, {\"id\": 54, \"label\": \"CAPTAIN TYPHO\", \"group\": \"Person\", \"title\": \"Node('Person', name='CAPTAIN TYPHO')\"}, {\"id\": 25, \"label\": \"EMPEROR\", \"group\": \"Person\", \"title\": \"Node('Person', name='EMPEROR')\"}, {\"id\": 43, \"label\": \"JABBA\", \"group\": \"Person\", \"title\": \"Node('Person', name='JABBA')\"}, {\"id\": 40, \"label\": \"KITSTER\", \"group\": \"Person\", \"title\": \"Node('Person', name='KITSTER')\"}, {\"id\": 34, \"label\": \"ANAKIN\", \"group\": \"Person\", \"title\": \"Node('Person', name='ANAKIN')\"}, {\"id\": 17, \"label\": \"QUI-GON\", \"group\": \"Person\", \"title\": \"Node('Person', name='QUI-GON')\"}, {\"id\": 31, \"label\": \"PADME\", \"group\": \"Person\", \"title\": \"Node('Person', name='PADME')\"}, {\"id\": 21, \"label\": \"OBI-WAN\", \"group\": \"Person\", \"title\": \"Node('Person', name='OBI-WAN')\"}, {\"id\": 15, \"label\": \"CHEWBACCA\", \"group\": \"Person\", \"title\": \"Node('Person', name='CHEWBACCA')\"}, {\"id\": 116, \"label\": \"BALA-TIK\", \"group\": \"Person\", \"title\": \"Node('Person', name='BALA-TIK')\"}, {\"id\": 16, \"label\": \"BB-8\", \"group\": \"Droid\", \"title\": \"Node('Droid', name='BB-8')\"}, {\"id\": 1, \"label\": \"ADMIRAL STATURA\", \"group\": \"Person\", \"title\": \"Node('Person', name='ADMIRAL STATURA')\"}, {\"id\": 38, \"label\": \"C-3PO\", \"group\": \"Droid\", \"title\": \"Node('Droid', name='C-3PO')\"}, {\"id\": 106, \"label\": \"ADMIRAL ACKBAR\", \"group\": \"Person\", \"title\": \"Node('Person', name='ADMIRAL ACKBAR')\"}, {\"id\": 104, \"label\": \"BIB FORTUNA\", \"group\": \"Person\", \"title\": \"Node('Person', name='BIB FORTUNA')\"}, {\"id\": 105, \"label\": \"BOUSHH\", \"group\": \"Person\", \"title\": \"Node('Person', name='BOUSHH')\"}, {\"id\": 62, \"label\": \"BOBA FETT\", \"group\": \"Person\", \"title\": \"Node('Person', name='BOBA FETT')\"}];\n",
       "    var edges = [{\"from\": 102, \"to\": 14, \"label\": \"SPEAKS_WITH\"}, {\"from\": 87, \"to\": 14, \"label\": \"SPEAKS_WITH\"}, {\"from\": 80, \"to\": 14, \"label\": \"SPEAKS_WITH\"}, {\"from\": 83, \"to\": 14, \"label\": \"SPEAKS_WITH\"}, {\"from\": 79, \"to\": 14, \"label\": \"SPEAKS_WITH\"}, {\"from\": 84, \"to\": 14, \"label\": \"SPEAKS_WITH\"}, {\"from\": 81, \"to\": 14, \"label\": \"SPEAKS_WITH\"}, {\"from\": 50, \"to\": 14, \"label\": \"SPEAKS_WITH\"}, {\"from\": 64, \"to\": 14, \"label\": \"SPEAKS_WITH\"}, {\"from\": 65, \"to\": 14, \"label\": \"SPEAKS_WITH\"}, {\"from\": 54, \"to\": 14, \"label\": \"SPEAKS_WITH\"}, {\"from\": 25, \"to\": 14, \"label\": \"SPEAKS_WITH\"}, {\"from\": 43, \"to\": 14, \"label\": \"SPEAKS_WITH\"}, {\"from\": 40, \"to\": 14, \"label\": \"SPEAKS_WITH\"}, {\"from\": 34, \"to\": 14, \"label\": \"SPEAKS_WITH\"}, {\"from\": 17, \"to\": 14, \"label\": \"SPEAKS_WITH\"}, {\"from\": 31, \"to\": 14, \"label\": \"SPEAKS_WITH\"}, {\"from\": 21, \"to\": 14, \"label\": \"SPEAKS_WITH\"}, {\"from\": 15, \"to\": 14, \"label\": \"SPEAKS_WITH\"}, {\"from\": 116, \"to\": 16, \"label\": \"SPEAKS_WITH\"}, {\"from\": 1, \"to\": 38, \"label\": \"SPEAKS_WITH\"}, {\"from\": 34, \"to\": 38, \"label\": \"SPEAKS_WITH\"}, {\"from\": 106, \"to\": 38, \"label\": \"SPEAKS_WITH\"}, {\"from\": 83, \"to\": 38, \"label\": \"SPEAKS_WITH\"}, {\"from\": 104, \"to\": 38, \"label\": \"SPEAKS_WITH\"}, {\"from\": 65, \"to\": 38, \"label\": \"SPEAKS_WITH\"}, {\"from\": 105, \"to\": 38, \"label\": \"SPEAKS_WITH\"}, {\"from\": 50, \"to\": 38, \"label\": \"SPEAKS_WITH\"}, {\"from\": 62, \"to\": 38, \"label\": \"SPEAKS_WITH\"}];\n",
       "\n",
       "    var container = document.getElementById(\"fa72ad87-b839-4d7b-a551-641fcfca354a\");\n",
       "\n",
       "    var data = {\n",
       "        nodes: nodes,\n",
       "        edges: edges\n",
       "    };\n",
       "\n",
       "    var options = {\n",
       "    nodes: {\n",
       "        shape: 'dot',\n",
       "        size: 25,\n",
       "        font: {\n",
       "            size: 14\n",
       "        }\n",
       "    },\n",
       "    edges: {\n",
       "        font: {\n",
       "            size: 14,\n",
       "            align: 'middle'\n",
       "        },\n",
       "        color: 'gray',\n",
       "        arrows: {\n",
       "            to: {\n",
       "                enabled: true,\n",
       "                scaleFactor: 0.5\n",
       "            }\n",
       "        },\n",
       "        smooth: {\n",
       "            enabled: false\n",
       "        }\n",
       "    },\n",
       "    physics: {\n",
       "        enabled: true\n",
       "        }\n",
       "    };\n",
       "\n",
       "    var network = new vis.Network(container, data, options);\n",
       "\n",
       "</script>\n"
      ],
      "text/plain": [
       "<IPython.core.display.HTML object>"
      ]
     },
     "execution_count": 7,
     "metadata": {},
     "output_type": "execute_result"
    }
   ],
   "source": [
    "query = \"\"\"\n",
    "    MATCH (p:Person)-[r:SPEAKS_WITH]->(d:Droid)\n",
    "    OPTIONAL MATCH (n)-[r]->(m)\n",
    "    RETURN n AS source_node,\n",
    "           id(n) AS source_id,\n",
    "           r,\n",
    "           m AS target_node,\n",
    "           id(m) AS target_id\n",
    "    LIMIT 100\n",
    "\"\"\"           \n",
    "drawGraph(graph, {'Movie':'name','Person':'name','Droid':'name'}, query)"
   ]
  },
  {
   "cell_type": "code",
   "execution_count": 8,
   "id": "380ba9e9",
   "metadata": {},
   "outputs": [],
   "source": [
    "from neo4j import GraphDatabase, basic_auth"
   ]
  },
  {
   "cell_type": "code",
   "execution_count": 9,
   "id": "14302831",
   "metadata": {},
   "outputs": [],
   "source": [
    "uri = \"bolt://localhost:7687\"\n",
    "user = \"neo4j\"\n",
    "password = \"neo4j\"\n",
    "\n",
    "driver = GraphDatabase.driver(uri, auth=basic_auth(user, password))\n",
    "session = driver.session(database=\"neo4j\")"
   ]
  },
  {
   "cell_type": "code",
   "execution_count": 10,
   "id": "2cff50d9",
   "metadata": {},
   "outputs": [],
   "source": [
    " #pip install git+https://github.com/ybaktir/networkx-neo4j"
   ]
  },
  {
   "cell_type": "markdown",
   "id": "90565c87",
   "metadata": {},
   "source": [
    "Testing with package [nxneo4j](https://github.com/ybaktir/networkx-neo4j), that provides networkx functions to use in neo4j. One of that functions is draw, which prints the nodes and connections of the graph."
   ]
  },
  {
   "cell_type": "code",
   "execution_count": 11,
   "id": "90355a1d",
   "metadata": {},
   "outputs": [],
   "source": [
    "import nxneo4j as nx"
   ]
  },
  {
   "cell_type": "code",
   "execution_count": 12,
   "id": "21fa901a",
   "metadata": {},
   "outputs": [],
   "source": [
    "config = {\n",
    "    \"node_label\": None,\n",
    "    \"relationship_type\": None,\n",
    "    \"identifier_property\": 'name'\n",
    "}"
   ]
  },
  {
   "cell_type": "code",
   "execution_count": 13,
   "id": "f06d8add",
   "metadata": {
    "collapsed": true
   },
   "outputs": [
    {
     "data": {
      "text/html": [
       "\n",
       "        <iframe\n",
       "            width=\"100%\"\n",
       "            height=\"500\"\n",
       "            src=\"vis.html\"\n",
       "            frameborder=\"0\"\n",
       "            allowfullscreen\n",
       "            \n",
       "        ></iframe>\n",
       "        "
      ],
      "text/plain": [
       "<IPython.lib.display.IFrame at 0x16aee1c3280>"
      ]
     },
     "execution_count": 13,
     "metadata": {},
     "output_type": "execute_result"
    }
   ],
   "source": [
    "'''Same problem as neo4jupyter it draws the whole database graph, because you pass the driver for conection\n",
    "     as parameter, and inside function draw() it makes a query that returns all the nodes and connections.\n",
    "'''\n",
    "G = nx.DiGraph(driver, config)\n",
    "nx.draw(G)"
   ]
  },
  {
   "cell_type": "markdown",
   "id": "37a7ebf2",
   "metadata": {},
   "source": [
    "This is a solution I found in [this Stack Overflow question](https://stackoverflow.com/questions/59289134/constructing-networkx-graph-from-neo4j-query-result#:~:text=Here%20is%20a%20more%20compact%20code%3A). It uses networkx to draw the graph and the logic is basically transforming a query to our database into a MultiDiGraph object, which can be read by the function draw()."
   ]
  },
  {
   "cell_type": "code",
   "execution_count": 118,
   "id": "559cb295",
   "metadata": {
    "scrolled": true
   },
   "outputs": [],
   "source": [
    "# Maybe we could change a little bit this code in order to show also the names of the nodes and edges\n",
    "from neo4j import GraphDatabase\n",
    "import networkx as nx\n",
    "from matplotlib import pyplot as plt\n",
    "\n",
    "driver = GraphDatabase.driver('bolt://localhost:7687', auth=(\"neo4j\", \"neo4j\"))\n",
    "# test query\n",
    "query = \"\"\"\n",
    "    MATCH p=()-[]-(m)\n",
    "    WHERE m:Person OR m:Droid\n",
    "    RETURN p\n",
    "    LIMIT 20\n",
    "\"\"\"\n",
    "\n",
    "results = driver.session().run(query)\n",
    "\n",
    "G = nx.MultiDiGraph()\n",
    "\n",
    "nodes = list(results.graph()._nodes.values())\n",
    "# color map to put color in each node depending on the label\n",
    "color_map = []\n",
    "labels={}\n",
    "for node in nodes:\n",
    "    G.add_node(node.id, labels=node._labels, properties=node._properties)\n",
    "    if 'Movie' in node._labels:\n",
    "        color_map.append('orange')\n",
    "    elif 'Droid' in node._labels:\n",
    "        color_map.append('blue')\n",
    "    else:\n",
    "        color_map.append('red')\n",
    "    labels[node.id] = node._properties['name']\n",
    "\n",
    "rels = list(results.graph()._relationships.values())\n",
    "for rel in rels:\n",
    "    # Dark orange for APPEARS_IN, dark red for SPEAKS_WITH\n",
    "    color = 'darkorange'\n",
    "    if 'SPEAKS_WITH' in rel.type:\n",
    "        color= 'darkred'\n",
    "    G.add_edge(rel.start_node.id, rel.end_node.id, key=rel.id, color = color, type=rel.type, properties=rel._properties)"
   ]
  },
  {
   "cell_type": "code",
   "execution_count": 119,
   "id": "36e974b4",
   "metadata": {},
   "outputs": [
    {
     "data": {
      "image/png": "[encoded data removed]",
      "text/plain": [
       "<Figure size 864x864 with 1 Axes>"
      ]
     },
     "metadata": {},
     "output_type": "display_data"
    }
   ],
   "source": [
    "legend_elements = [plt.Line2D([0], [0], marker='o', color='w', label='Movie',\n",
    "                          markerfacecolor='orange', markersize=15),\n",
    "                   plt.Line2D([0], [0], marker='o', color='w', label='Droid',\n",
    "                          markerfacecolor='blue', markersize=15),\n",
    "                   plt.Line2D([0], [0], marker='o', color='w', label='Person',\n",
    "                          markerfacecolor='r', markersize=15),\n",
    "                   plt.Line2D([0], [0],color='darkorange', label='APPEARS_IN'),\n",
    "                   plt.Line2D([0], [0],color='darkred', label='SPEAKS_WITH')]\n",
    "edge_colors = nx.get_edge_attributes(G,'color').values()\n",
    "plt.figure(3,figsize=(12,12))\n",
    "plt.legend(handles=legend_elements)\n",
    "nx.draw(G, node_size=2000, node_color=color_map, edge_color=edge_colors, labels=labels, with_labels=True)"
   ]
  },
  {
   "cell_type": "code",
   "execution_count": 16,
   "id": "897df149",
   "metadata": {},
   "outputs": [],
   "source": [
    "#Close all connections\n",
    "driver.close()\n",
    "session.close()\n",
    "drive = None\n",
    "session = None"
   ]
  }
 ],
 "metadata": {
  "kernelspec": {
   "display_name": "Python 3 (ipykernel)",
   "language": "python",
   "name": "python3"
  },
  "language_info": {
   "codemirror_mode": {
    "name": "ipython",
    "version": 3
   },
   "file_extension": ".py",
   "mimetype": "text/x-python",
   "name": "python",
   "nbconvert_exporter": "python",
   "pygments_lexer": "ipython3",
   "version": "3.9.7"
  }
 },
 "nbformat": 4,
 "nbformat_minor": 5
}
